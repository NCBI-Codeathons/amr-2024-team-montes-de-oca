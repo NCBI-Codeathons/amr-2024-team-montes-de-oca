{
  "nbformat": 4,
  "nbformat_minor": 0,
  "metadata": {
    "colab": {
      "provenance": [],
      "collapsed_sections": [
        "OBDwe1Afc7Tl"
      ]
    },
    "kernelspec": {
      "name": "python3",
      "display_name": "Python 3"
    },
    "language_info": {
      "name": "python"
    }
  },
  "cells": [
    {
      "cell_type": "markdown",
      "source": [
        "## Tools installation"
      ],
      "metadata": {
        "id": "N6KcBVQnd9dg"
      }
    },
    {
      "cell_type": "markdown",
      "source": [
        "#### Biopython"
      ],
      "metadata": {
        "id": "RQD6ytSrX8W8"
      }
    },
    {
      "cell_type": "code",
      "source": [
        "try:\n",
        "    import google.colab\n",
        "    # Running on Google Colab, so install Biopython first\n",
        "    !pip install biopython\n",
        "except ImportError:\n",
        "    pass"
      ],
      "metadata": {
        "colab": {
          "base_uri": "https://localhost:8080/"
        },
        "id": "CyhfRBwazMyY",
        "outputId": "418a65ea-a977-4f95-9069-613fdfe79a1c"
      },
      "execution_count": null,
      "outputs": [
        {
          "output_type": "stream",
          "name": "stdout",
          "text": [
            "Collecting biopython\n",
            "  Downloading biopython-1.84-cp310-cp310-manylinux_2_17_x86_64.manylinux2014_x86_64.whl.metadata (12 kB)\n",
            "Requirement already satisfied: numpy in /usr/local/lib/python3.10/dist-packages (from biopython) (1.26.4)\n",
            "Downloading biopython-1.84-cp310-cp310-manylinux_2_17_x86_64.manylinux2014_x86_64.whl (3.2 MB)\n",
            "\u001b[?25l   \u001b[90m━━━━━━━━━━━━━━━━━━━━━━━━━━━━━━━━━━━━━━━━\u001b[0m \u001b[32m0.0/3.2 MB\u001b[0m \u001b[31m?\u001b[0m eta \u001b[36m-:--:--\u001b[0m\r\u001b[2K   \u001b[91m━━━━━━━━━━━━━━━━━━━━━━━━━━━━━\u001b[0m\u001b[91m╸\u001b[0m\u001b[90m━━━━━━━━━━\u001b[0m \u001b[32m2.4/3.2 MB\u001b[0m \u001b[31m71.2 MB/s\u001b[0m eta \u001b[36m0:00:01\u001b[0m\r\u001b[2K   \u001b[91m━━━━━━━━━━━━━━━━━━━━━━━━━━━━━━━━━━━━━━━\u001b[0m\u001b[91m╸\u001b[0m \u001b[32m3.2/3.2 MB\u001b[0m \u001b[31m73.8 MB/s\u001b[0m eta \u001b[36m0:00:01\u001b[0m\r\u001b[2K   \u001b[90m━━━━━━━━━━━━━━━━━━━━━━━━━━━━━━━━━━━━━━━━\u001b[0m \u001b[32m3.2/3.2 MB\u001b[0m \u001b[31m43.5 MB/s\u001b[0m eta \u001b[36m0:00:00\u001b[0m\n",
            "\u001b[?25hInstalling collected packages: biopython\n",
            "Successfully installed biopython-1.84\n"
          ]
        }
      ]
    },
    {
      "cell_type": "markdown",
      "source": [
        "#### Conda"
      ],
      "metadata": {
        "id": "B1Og3DfHeGvP"
      }
    },
    {
      "cell_type": "code",
      "source": [
        "!wget https://repo.anaconda.com/miniconda/Miniconda3-latest-Linux-x86_64.sh"
      ],
      "metadata": {
        "colab": {
          "base_uri": "https://localhost:8080/"
        },
        "id": "hQGi6NSUCFiA",
        "outputId": "a3a3999c-6db5-4593-a5de-3a1cd7c83e14"
      },
      "execution_count": null,
      "outputs": [
        {
          "output_type": "stream",
          "name": "stdout",
          "text": [
            "--2024-09-25 16:26:06--  https://repo.anaconda.com/miniconda/Miniconda3-latest-Linux-x86_64.sh\n",
            "Resolving repo.anaconda.com (repo.anaconda.com)... 104.16.32.241, 104.16.191.158, 2606:4700::6810:20f1, ...\n",
            "Connecting to repo.anaconda.com (repo.anaconda.com)|104.16.32.241|:443... connected.\n",
            "HTTP request sent, awaiting response... 200 OK\n",
            "Length: 148981743 (142M) [application/octet-stream]\n",
            "Saving to: ‘Miniconda3-latest-Linux-x86_64.sh’\n",
            "\n",
            "Miniconda3-latest-L 100%[===================>] 142.08M   103MB/s    in 1.4s    \n",
            "\n",
            "2024-09-25 16:26:08 (103 MB/s) - ‘Miniconda3-latest-Linux-x86_64.sh’ saved [148981743/148981743]\n",
            "\n"
          ]
        }
      ]
    },
    {
      "cell_type": "code",
      "source": [
        "!bash Miniconda3-latest-Linux-x86_64.sh -bfp /usr/local"
      ],
      "metadata": {
        "colab": {
          "base_uri": "https://localhost:8080/"
        },
        "id": "tZWhTlzACgqP",
        "outputId": "2c363179-9046-4989-8608-f95cad3ff08e"
      },
      "execution_count": null,
      "outputs": [
        {
          "output_type": "stream",
          "name": "stdout",
          "text": [
            "PREFIX=/usr/local\n",
            "Unpacking payload ...\n",
            "\n",
            "Installing base environment...\n",
            "\n",
            "Preparing transaction: ...working... done\n",
            "Executing transaction: ...working... done\n",
            "installation finished.\n",
            "WARNING:\n",
            "    You currently have a PYTHONPATH environment variable set. This may cause\n",
            "    unexpected behavior when running the Python interpreter in Miniconda3.\n",
            "    For best results, please verify that your PYTHONPATH only points to\n",
            "    directories of packages that are compatible with the Python interpreter\n",
            "    in Miniconda3: /usr/local\n"
          ]
        }
      ]
    },
    {
      "cell_type": "code",
      "source": [
        "!conda update conda -y -q\n",
        "!source /usr/local/etc/profile.d/conda.sh\n",
        "!conda init\n",
        "!conda install -n root _license -y -q"
      ],
      "metadata": {
        "colab": {
          "base_uri": "https://localhost:8080/"
        },
        "id": "U10-NqNSCyAu",
        "outputId": "757edde9-9155-418b-fed7-2ff11213a25e"
      },
      "execution_count": null,
      "outputs": [
        {
          "output_type": "stream",
          "name": "stdout",
          "text": [
            "Channels:\n",
            " - defaults\n",
            "Platform: linux-64\n",
            "Collecting package metadata (repodata.json): ...working... done\n",
            "Solving environment: ...working... done\n",
            "\n",
            "## Package Plan ##\n",
            "\n",
            "  environment location: /usr/local\n",
            "\n",
            "  added / updated specs:\n",
            "    - conda\n",
            "\n",
            "\n",
            "The following packages will be downloaded:\n",
            "\n",
            "    package                    |            build\n",
            "    ---------------------------|-----------------\n",
            "    certifi-2024.8.30          |  py312h06a4308_0         163 KB\n",
            "    openssl-3.0.15             |       h5eee18b_0         5.2 MB\n",
            "    ------------------------------------------------------------\n",
            "                                           Total:         5.4 MB\n",
            "\n",
            "The following packages will be UPDATED:\n",
            "\n",
            "  certifi                          2024.7.4-py312h06a4308_0 --> 2024.8.30-py312h06a4308_0 \n",
            "  openssl                                 3.0.14-h5eee18b_0 --> 3.0.15-h5eee18b_0 \n",
            "\n",
            "\n",
            "Preparing transaction: ...working... done\n",
            "Verifying transaction: ...working... done\n",
            "Executing transaction: ...working... done\n",
            "no change     /usr/local/condabin/conda\n",
            "no change     /usr/local/bin/conda\n",
            "no change     /usr/local/bin/conda-env\n",
            "no change     /usr/local/bin/activate\n",
            "no change     /usr/local/bin/deactivate\n",
            "no change     /usr/local/etc/profile.d/conda.sh\n",
            "no change     /usr/local/etc/fish/conf.d/conda.fish\n",
            "no change     /usr/local/shell/condabin/Conda.psm1\n",
            "no change     /usr/local/shell/condabin/conda-hook.ps1\n",
            "no change     /usr/local/lib/python3.12/site-packages/xontrib/conda.xsh\n",
            "no change     /usr/local/etc/profile.d/conda.csh\n",
            "modified      /root/.bashrc\n",
            "\n",
            "==> For changes to take effect, close and re-open your current shell. <==\n",
            "\n",
            "Channels:\n",
            " - defaults\n",
            "Platform: linux-64\n",
            "Collecting package metadata (repodata.json): ...working... done\n",
            "Solving environment: ...working... failed\n",
            "\n",
            "PackagesNotFoundError: The following packages are not available from current channels:\n",
            "\n",
            "  - _license\n",
            "\n",
            "Current channels:\n",
            "\n",
            "  - defaults\n",
            "\n",
            "To search for alternate channels that may provide the conda package you're\n",
            "looking for, navigate to\n",
            "\n",
            "    https://anaconda.org\n",
            "\n",
            "and use the search bar at the top of the page.\n",
            "\n",
            "\n"
          ]
        }
      ]
    },
    {
      "cell_type": "code",
      "source": [
        "!conda --version"
      ],
      "metadata": {
        "colab": {
          "base_uri": "https://localhost:8080/"
        },
        "id": "MtyHWO1rBhrr",
        "outputId": "0b1ed849-c39d-4766-8bd4-714a8bfd6769"
      },
      "execution_count": null,
      "outputs": [
        {
          "output_type": "stream",
          "name": "stdout",
          "text": [
            "conda 24.7.1\n"
          ]
        }
      ]
    },
    {
      "cell_type": "markdown",
      "source": [
        "#### NCBI-CLI"
      ],
      "metadata": {
        "id": "qz7Q9j2-rVLH"
      }
    },
    {
      "cell_type": "code",
      "source": [
        "! conda install -c conda-forge ncbi-datasets-cli -y"
      ],
      "metadata": {
        "id": "IXcSUgkYp-IZ",
        "colab": {
          "base_uri": "https://localhost:8080/"
        },
        "outputId": "61909abf-b0d1-4945-a26a-921203c56054"
      },
      "execution_count": null,
      "outputs": [
        {
          "output_type": "stream",
          "name": "stdout",
          "text": [
            "Channels:\n",
            " - conda-forge\n",
            " - defaults\n",
            "Platform: linux-64\n",
            "Collecting package metadata (repodata.json): - \b\b\\ \b\b| \b\b/ \b\b- \b\b\\ \b\b| \b\b/ \b\b- \b\b\\ \b\b| \b\b/ \b\b- \b\b\\ \b\b| \b\b/ \b\b- \b\b\\ \b\b| \b\b/ \b\b- \b\b\\ \b\b| \b\b/ \b\b- \b\b\\ \b\b| \b\b/ \b\b- \b\b\\ \b\b| \b\b/ \b\b- \b\b\\ \b\b| \b\b/ \b\b- \b\b\\ \b\b| \b\b/ \b\b- \b\b\\ \b\b| \b\b/ \b\b- \b\b\\ \b\b| \b\b/ \b\b- \b\b\\ \b\b| \b\b/ \b\b- \b\b\\ \b\b| \b\b/ \b\b- \b\b\\ \b\b| \b\b/ \b\b- \b\b\\ \b\bdone\n",
            "Solving environment: / \b\b- \b\b\\ \b\bdone\n",
            "\n",
            "## Package Plan ##\n",
            "\n",
            "  environment location: /usr/local\n",
            "\n",
            "  added / updated specs:\n",
            "    - ncbi-datasets-cli\n",
            "\n",
            "\n",
            "The following packages will be downloaded:\n",
            "\n",
            "    package                    |            build\n",
            "    ---------------------------|-----------------\n",
            "    _libgcc_mutex-0.1          |      conda_forge           3 KB  conda-forge\n",
            "    _openmp_mutex-4.5          |            2_gnu          23 KB  conda-forge\n",
            "    ca-certificates-2024.8.30  |       hbcca054_0         155 KB  conda-forge\n",
            "    certifi-2024.8.30          |     pyhd8ed1ab_0         160 KB  conda-forge\n",
            "    conda-24.7.1               |  py312h7900ff3_0         1.2 MB  conda-forge\n",
            "    libexpat-2.6.2             |       h59595ed_0          72 KB  conda-forge\n",
            "    libgcc-14.1.0              |       h77fa898_1         827 KB  conda-forge\n",
            "    libgcc-ng-14.1.0           |       h69a702a_1          51 KB  conda-forge\n",
            "    libgomp-14.1.0             |       h77fa898_1         449 KB  conda-forge\n",
            "    libnsl-2.0.1               |       hd590300_0          33 KB  conda-forge\n",
            "    libsqlite-3.46.0           |       hde9e2c9_0         845 KB  conda-forge\n",
            "    libuuid-2.38.1             |       h0b41bf4_0          33 KB  conda-forge\n",
            "    libxcrypt-4.4.36           |       hd590300_1          98 KB  conda-forge\n",
            "    libzlib-1.2.13             |       h4ab18f5_6          60 KB  conda-forge\n",
            "    ncbi-datasets-cli-16.30.1  |       ha770c72_0        16.0 MB  conda-forge\n",
            "    openssl-3.3.2              |       hb9d3cd8_0         2.8 MB  conda-forge\n",
            "    python-3.12.2              |hab00c5b_0_cpython        30.8 MB  conda-forge\n",
            "    python_abi-3.12            |          5_cp312           6 KB  conda-forge\n",
            "    zlib-1.2.13                |       h4ab18f5_6          91 KB  conda-forge\n",
            "    ------------------------------------------------------------\n",
            "                                           Total:        53.6 MB\n",
            "\n",
            "The following NEW packages will be INSTALLED:\n",
            "\n",
            "  libexpat           conda-forge/linux-64::libexpat-2.6.2-h59595ed_0 \n",
            "  libgcc             conda-forge/linux-64::libgcc-14.1.0-h77fa898_1 \n",
            "  libnsl             conda-forge/linux-64::libnsl-2.0.1-hd590300_0 \n",
            "  libsqlite          conda-forge/linux-64::libsqlite-3.46.0-hde9e2c9_0 \n",
            "  libxcrypt          conda-forge/linux-64::libxcrypt-4.4.36-hd590300_1 \n",
            "  libzlib            conda-forge/linux-64::libzlib-1.2.13-h4ab18f5_6 \n",
            "  ncbi-datasets-cli  conda-forge/linux-64::ncbi-datasets-cli-16.30.1-ha770c72_0 \n",
            "  python_abi         conda-forge/linux-64::python_abi-3.12-5_cp312 \n",
            "\n",
            "The following packages will be UPDATED:\n",
            "\n",
            "  ca-certificates    pkgs/main::ca-certificates-2024.7.2-h~ --> conda-forge::ca-certificates-2024.8.30-hbcca054_0 \n",
            "  libgcc-ng          pkgs/main::libgcc-ng-11.2.0-h1234567_1 --> conda-forge::libgcc-ng-14.1.0-h69a702a_1 \n",
            "  libgomp              pkgs/main::libgomp-11.2.0-h1234567_1 --> conda-forge::libgomp-14.1.0-h77fa898_1 \n",
            "  libuuid              pkgs/main::libuuid-1.41.5-h5eee18b_0 --> conda-forge::libuuid-2.38.1-h0b41bf4_0 \n",
            "  openssl              pkgs/main::openssl-3.0.15-h5eee18b_0 --> conda-forge::openssl-3.3.2-hb9d3cd8_0 \n",
            "  zlib                    pkgs/main::zlib-1.2.13-h5eee18b_1 --> conda-forge::zlib-1.2.13-h4ab18f5_6 \n",
            "\n",
            "The following packages will be SUPERSEDED by a higher-priority channel:\n",
            "\n",
            "  _libgcc_mutex           pkgs/main::_libgcc_mutex-0.1-main --> conda-forge::_libgcc_mutex-0.1-conda_forge \n",
            "  _openmp_mutex          pkgs/main::_openmp_mutex-5.1-1_gnu --> conda-forge::_openmp_mutex-4.5-2_gnu \n",
            "  certifi            pkgs/main/linux-64::certifi-2024.8.30~ --> conda-forge/noarch::certifi-2024.8.30-pyhd8ed1ab_0 \n",
            "  conda              pkgs/main::conda-24.7.1-py312h06a4308~ --> conda-forge::conda-24.7.1-py312h7900ff3_0 \n",
            "  python                pkgs/main::python-3.12.4-h5148396_1 --> conda-forge::python-3.12.2-hab00c5b_0_cpython \n",
            "\n",
            "\n",
            "\n",
            "Downloading and Extracting Packages:\n",
            "python-3.12.2        | 30.8 MB   | :   0% 0/1 [00:00<?, ?it/s]\n",
            "ncbi-datasets-cli-16 | 16.0 MB   | :   0% 0/1 [00:00<?, ?it/s]\u001b[A\n",
            "\n",
            "openssl-3.3.2        | 2.8 MB    | :   0% 0/1 [00:00<?, ?it/s]\u001b[A\u001b[A\n",
            "\n",
            "\n",
            "conda-24.7.1         | 1.2 MB    | :   0% 0/1 [00:00<?, ?it/s]\u001b[A\u001b[A\u001b[A\n",
            "\n",
            "\n",
            "\n",
            "libsqlite-3.46.0     | 845 KB    | :   0% 0/1 [00:00<?, ?it/s]\u001b[A\u001b[A\u001b[A\u001b[A\n",
            "\n",
            "\n",
            "\n",
            "\n",
            "libgcc-14.1.0        | 827 KB    | :   0% 0/1 [00:00<?, ?it/s]\u001b[A\u001b[A\u001b[A\u001b[A\u001b[A\n",
            "\n",
            "\n",
            "\n",
            "\n",
            "\n",
            "libgomp-14.1.0       | 449 KB    | :   0% 0/1 [00:00<?, ?it/s]\u001b[A\u001b[A\u001b[A\u001b[A\u001b[A\u001b[A\n",
            "\n",
            "\n",
            "\n",
            "\n",
            "\n",
            "\n",
            "certifi-2024.8.30    | 160 KB    | :   0% 0/1 [00:00<?, ?it/s]\u001b[A\u001b[A\u001b[A\u001b[A\u001b[A\u001b[A\u001b[A\n",
            "\n",
            "\n",
            "\n",
            "\n",
            "\n",
            "\n",
            "\n",
            "ca-certificates-2024 | 155 KB    | :   0% 0/1 [00:00<?, ?it/s]\u001b[A\u001b[A\u001b[A\u001b[A\u001b[A\u001b[A\u001b[A\u001b[A\n",
            "\n",
            "\n",
            "\n",
            "\n",
            "\n",
            "\n",
            "\n",
            "\n",
            "libxcrypt-4.4.36     | 98 KB     | :   0% 0/1 [00:00<?, ?it/s]\u001b[A\u001b[A\u001b[A\u001b[A\u001b[A\u001b[A\u001b[A\u001b[A\u001b[A\n",
            "\n",
            "\n",
            "\n",
            "\n",
            "\n",
            "\n",
            "\n",
            "\n",
            "\n",
            "zlib-1.2.13          | 91 KB     | :   0% 0/1 [00:00<?, ?it/s]\u001b[A\u001b[A\u001b[A\u001b[A\u001b[A\u001b[A\u001b[A\u001b[A\u001b[A\u001b[A\n",
            "\n",
            "\n",
            "\n",
            "\n",
            "\n",
            "\n",
            "\n",
            "\n",
            "\n",
            "\n",
            "libexpat-2.6.2       | 72 KB     | :   0% 0/1 [00:00<?, ?it/s]\u001b[A\u001b[A\u001b[A\u001b[A\u001b[A\u001b[A\u001b[A\u001b[A\u001b[A\u001b[A\u001b[A\n",
            "\n",
            "\n",
            "\n",
            "\n",
            "\n",
            "\n",
            "\n",
            "\n",
            "\n",
            "\n",
            "\n",
            "libzlib-1.2.13       | 60 KB     | :   0% 0/1 [00:00<?, ?it/s]\u001b[A\u001b[A\u001b[A\u001b[A\u001b[A\u001b[A\u001b[A\u001b[A\u001b[A\u001b[A\u001b[A\u001b[A\n",
            "\n",
            "\n",
            "\n",
            "\n",
            "\n",
            "\n",
            "\n",
            "\n",
            "\n",
            "\n",
            "\n",
            "\n",
            "libgcc-ng-14.1.0     | 51 KB     | :   0% 0/1 [00:00<?, ?it/s]\u001b[A\u001b[A\u001b[A\u001b[A\u001b[A\u001b[A\u001b[A\u001b[A\u001b[A\u001b[A\u001b[A\u001b[A\u001b[A\n",
            "\n",
            "\n",
            "\n",
            "\n",
            "\n",
            "\n",
            "\n",
            "\n",
            "\n",
            "\n",
            "\n",
            "\n",
            "\n",
            "libuuid-2.38.1       | 33 KB     | :   0% 0/1 [00:00<?, ?it/s]\u001b[A\u001b[A\u001b[A\u001b[A\u001b[A\u001b[A\u001b[A\u001b[A\u001b[A\u001b[A\u001b[A\u001b[A\u001b[A\u001b[A\n",
            "\n",
            "\n",
            "\n",
            "\n",
            "\n",
            "\n",
            "\n",
            "\n",
            "\n",
            "\n",
            "\n",
            "\n",
            "\n",
            "\n",
            "libnsl-2.0.1         | 33 KB     | :   0% 0/1 [00:00<?, ?it/s]\u001b[A\u001b[A\u001b[A\u001b[A\u001b[A\u001b[A\u001b[A\u001b[A\u001b[A\u001b[A\u001b[A\u001b[A\u001b[A\u001b[A\u001b[A\n",
            "\n",
            "\n",
            "\n",
            "\n",
            "\n",
            "\n",
            "\n",
            "\n",
            "\n",
            "\n",
            "\n",
            "\n",
            "\n",
            "\n",
            "\n",
            "_openmp_mutex-4.5    | 23 KB     | :   0% 0/1 [00:00<?, ?it/s]\u001b[A\u001b[A\u001b[A\u001b[A\u001b[A\u001b[A\u001b[A\u001b[A\u001b[A\u001b[A\u001b[A\u001b[A\u001b[A\u001b[A\u001b[A\u001b[A\n",
            "\n",
            "\n",
            "\n",
            "\n",
            "\n",
            "\n",
            "\n",
            "\n",
            "\n",
            "\n",
            "\n",
            "\n",
            "\n",
            "\n",
            "\n",
            "\n",
            "python_abi-3.12      | 6 KB      | :   0% 0/1 [00:00<?, ?it/s]\u001b[A\u001b[A\u001b[A\u001b[A\u001b[A\u001b[A\u001b[A\u001b[A\u001b[A\u001b[A\u001b[A\u001b[A\u001b[A\u001b[A\u001b[A\u001b[A\u001b[A\n",
            "\n",
            "\n",
            "\n",
            "\n",
            "\n",
            "\n",
            "\n",
            "\n",
            "\n",
            "\n",
            "\n",
            "\n",
            "\n",
            "\n",
            "\n",
            "\n",
            "\n",
            "python-3.12.2        | 30.8 MB   | :   2% 0.024338222412158265/1 [00:00<00:04,  4.16s/it]\n",
            "\n",
            "openssl-3.3.2        | 2.8 MB    | :   7% 0.06798836291306178/1 [00:00<00:01,  1.48s/it]\u001b[A\u001b[A\n",
            "\n",
            "\n",
            "conda-24.7.1         | 1.2 MB    | :  32% 0.32237214267092323/1 [00:00<00:00,  3.22it/s]\u001b[A\u001b[A\u001b[A\n",
            "ncbi-datasets-cli-16 | 16.0 MB   | :   0% 0.0009760059446768329/1 [00:00<01:50, 110.46s/it]\u001b[A\n",
            "\n",
            "\n",
            "\n",
            "python-3.12.2        | 30.8 MB   | :  12% 0.12371929726180453/1 [00:00<00:01,  1.48s/it] \n",
            "\n",
            "openssl-3.3.2        | 2.8 MB    | :  77% 0.7705347796813667/1 [00:00<00:00,  4.38it/s] \u001b[A\u001b[A\n",
            "ncbi-datasets-cli-16 | 16.0 MB   | :  16% 0.1561609511482933/1 [00:00<00:00,  1.13s/it]    \u001b[A\n",
            "\n",
            "\n",
            "\n",
            "\n",
            "libgcc-14.1.0        | 827 KB    | :   2% 0.01935773529620265/1 [00:00<00:10, 10.59s/it]\u001b[A\u001b[A\u001b[A\u001b[A\u001b[A\n",
            "\n",
            "\n",
            "\n",
            "\n",
            "\n",
            "python-3.12.2        | 30.8 MB   | :  20% 0.19521282559751943/1 [00:00<00:01,  1.45s/it]\n",
            "ncbi-datasets-cli-16 | 16.0 MB   | :  35% 0.35136214008365985/1 [00:00<00:00,  1.36it/s]\u001b[A\n",
            "\n",
            "\n",
            "\n",
            "\n",
            "\n",
            "\n",
            "certifi-2024.8.30    | 160 KB    | :  10% 0.10005373980165128/1 [00:00<00:02,  3.06s/it]\u001b[A\u001b[A\u001b[A\u001b[A\u001b[A\u001b[A\u001b[A\n",
            "\n",
            "\n",
            "\n",
            "\n",
            "\n",
            "\n",
            "\n",
            "ca-certificates-2024 | 155 KB    | :  10% 0.10304208096702577/1 [00:00<00:02,  3.17s/it]\u001b[A\u001b[A\u001b[A\u001b[A\u001b[A\u001b[A\u001b[A\u001b[A\n",
            "\n",
            "\n",
            "\n",
            "libsqlite-3.46.0     | 845 KB    | : 100% 1.0/1 [00:00<00:00,  3.07it/s]                 \u001b[A\u001b[A\u001b[A\u001b[A\n",
            "\n",
            "\n",
            "\n",
            "libsqlite-3.46.0     | 845 KB    | : 100% 1.0/1 [00:00<00:00,  3.07it/s]\u001b[A\u001b[A\u001b[A\u001b[A\n",
            "\n",
            "\n",
            "\n",
            "\n",
            "\n",
            "\n",
            "\n",
            "\n",
            "python-3.12.2        | 30.8 MB   | :  27% 0.27431204843703383/1 [00:00<00:00,  1.37s/it]\n",
            "\n",
            "\n",
            "\n",
            "\n",
            "\n",
            "\n",
            "\n",
            "\n",
            "\n",
            "zlib-1.2.13          | 91 KB     | :  18% 0.17639395799015967/1 [00:00<00:01,  2.23s/it]\u001b[A\u001b[A\u001b[A\u001b[A\u001b[A\u001b[A\u001b[A\u001b[A\u001b[A\u001b[A\n",
            "\n",
            "\n",
            "\n",
            "\n",
            "\n",
            "\n",
            "\n",
            "\n",
            "\n",
            "\n",
            "libexpat-2.6.2       | 72 KB     | :  22% 0.22221619422216193/1 [00:00<00:01,  1.79s/it]\u001b[A\u001b[A\u001b[A\u001b[A\u001b[A\u001b[A\u001b[A\u001b[A\u001b[A\u001b[A\u001b[A\n",
            "ncbi-datasets-cli-16 | 16.0 MB   | :  49% 0.49093099017244696/1 [00:00<00:00,  1.24it/s]\u001b[A\n",
            "\n",
            "\n",
            "\n",
            "\n",
            "\n",
            "\n",
            "\n",
            "\n",
            "\n",
            "\n",
            "\n",
            "libzlib-1.2.13       | 60 KB     | :  27% 0.2660992999951276/1 [00:00<00:01,  1.62s/it]\u001b[A\u001b[A\u001b[A\u001b[A\u001b[A\u001b[A\u001b[A\u001b[A\u001b[A\u001b[A\u001b[A\u001b[A\n",
            "\n",
            "\n",
            "\n",
            "\n",
            "\n",
            "\n",
            "\n",
            "\n",
            "\n",
            "\n",
            "\n",
            "\n",
            "\n",
            "libuuid-2.38.1       | 33 KB     | :  49% 0.4876045355792982/1 [00:00<00:00,  1.08it/s]\u001b[A\u001b[A\u001b[A\u001b[A\u001b[A\u001b[A\u001b[A\u001b[A\u001b[A\u001b[A\u001b[A\u001b[A\u001b[A\u001b[A\n",
            "\n",
            "\n",
            "\n",
            "\n",
            "\n",
            "\n",
            "\n",
            "\n",
            "\n",
            "\n",
            "\n",
            "\n",
            "python-3.12.2        | 30.8 MB   | :  35% 0.3473267156735086/1 [00:00<00:00,  1.39s/it] \n",
            "\n",
            "\n",
            "\n",
            "\n",
            "\n",
            "\n",
            "\n",
            "\n",
            "\n",
            "\n",
            "\n",
            "\n",
            "\n",
            "\n",
            "libnsl-2.0.1         | 33 KB     | :  49% 0.4904214559386973/1 [00:00<00:00,  1.01s/it]\u001b[A\u001b[A\u001b[A\u001b[A\u001b[A\u001b[A\u001b[A\u001b[A\u001b[A\u001b[A\u001b[A\u001b[A\u001b[A\u001b[A\u001b[A\n",
            "ncbi-datasets-cli-16 | 16.0 MB   | :  66% 0.6558759948228318/1 [00:00<00:00,  1.37it/s] \u001b[A\n",
            "\n",
            "\n",
            "\n",
            "\n",
            "\n",
            "\n",
            "\n",
            "\n",
            "\n",
            "\n",
            "\n",
            "\n",
            "\n",
            "\n",
            "\n",
            "_openmp_mutex-4.5    | 23 KB     | :  69% 0.6936200838237162/1 [00:00<00:00,  1.33it/s]\u001b[A\u001b[A\u001b[A\u001b[A\u001b[A\u001b[A\u001b[A\u001b[A\u001b[A\u001b[A\u001b[A\u001b[A\u001b[A\u001b[A\u001b[A\u001b[A\n",
            "\n",
            "\n",
            "\n",
            "\n",
            "\n",
            "\n",
            "\n",
            "\n",
            "\n",
            "\n",
            "\n",
            "\n",
            "\n",
            "\n",
            "\n",
            "\n",
            "python_abi-3.12      | 6 KB      | : 100% 1.0/1 [00:00<00:00,  1.85it/s]\u001b[A\u001b[A\u001b[A\u001b[A\u001b[A\u001b[A\u001b[A\u001b[A\u001b[A\u001b[A\u001b[A\u001b[A\u001b[A\u001b[A\u001b[A\u001b[A\u001b[A\n",
            "\n",
            "\n",
            "\n",
            "\n",
            "\n",
            "\n",
            "\n",
            "\n",
            "\n",
            "\n",
            "\n",
            "\n",
            "\n",
            "\n",
            "\n",
            "\n",
            "\n",
            "python-3.12.2        | 30.8 MB   | :  45% 0.44518665162239496/1 [00:00<00:00,  1.24s/it]\n",
            "ncbi-datasets-cli-16 | 16.0 MB   | :  81% 0.8071569162477409/1 [00:00<00:00,  1.38it/s]\u001b[A\n",
            "\n",
            "\n",
            "\n",
            "\n",
            "libgcc-14.1.0        | 827 KB    | : 100% 1.0/1 [00:00<00:00,  1.65it/s]                \u001b[A\u001b[A\u001b[A\u001b[A\u001b[A\n",
            "\n",
            "\n",
            "\n",
            "\n",
            "python-3.12.2        | 30.8 MB   | :  54% 0.5445677264720412/1 [00:00<00:00,  1.16s/it] \n",
            "python-3.12.2        | 30.8 MB   | :  63% 0.6312726438153551/1 [00:00<00:00,  1.17s/it]\n",
            "\n",
            "\n",
            "\n",
            "\n",
            "\n",
            "libgomp-14.1.0       | 449 KB    | : 100% 1.0/1 [00:00<00:00,  1.23it/s]                \u001b[A\u001b[A\u001b[A\u001b[A\u001b[A\u001b[A\n",
            "\n",
            "\n",
            "\n",
            "\n",
            "\n",
            "python-3.12.2        | 30.8 MB   | :  91% 0.9086269700539087/1 [00:01<00:00,  1.14s/it]\n",
            "\n",
            "\n",
            "conda-24.7.1         | 1.2 MB    | : 100% 1.0/1 [00:01<00:00,  1.35s/it]                \u001b[A\u001b[A\u001b[A\n",
            "\n",
            "\n",
            "python-3.12.2        | 30.8 MB   | : 100% 0.9973600725982357/1 [00:01<00:00,  1.26s/it]\n",
            "\n",
            "openssl-3.3.2        | 2.8 MB    | : 100% 1.0/1 [00:01<00:00,  4.38it/s]               \u001b[A\u001b[A\n",
            "\n",
            "\n",
            "\n",
            "\n",
            "\n",
            "\n",
            "certifi-2024.8.30    | 160 KB    | : 100% 1.0/1 [00:01<00:00,  1.33s/it]                \u001b[A\u001b[A\u001b[A\u001b[A\u001b[A\u001b[A\u001b[A\n",
            "\n",
            "\n",
            "\n",
            "\n",
            "\n",
            "\n",
            "certifi-2024.8.30    | 160 KB    | : 100% 1.0/1 [00:01<00:00,  1.33s/it]\u001b[A\u001b[A\u001b[A\u001b[A\u001b[A\u001b[A\u001b[A\n",
            "\n",
            "\n",
            "\n",
            "\n",
            "\n",
            "\n",
            "\n",
            "ca-certificates-2024 | 155 KB    | : 100% 1.0/1 [00:01<00:00,  1.36s/it]                \u001b[A\u001b[A\u001b[A\u001b[A\u001b[A\u001b[A\u001b[A\u001b[A\n",
            "\n",
            "\n",
            "\n",
            "\n",
            "\n",
            "\n",
            "\n",
            "ca-certificates-2024 | 155 KB    | : 100% 1.0/1 [00:01<00:00,  1.36s/it]\u001b[A\u001b[A\u001b[A\u001b[A\u001b[A\u001b[A\u001b[A\u001b[A\n",
            "\n",
            "\n",
            "\n",
            "\n",
            "\n",
            "\n",
            "\n",
            "\n",
            "libxcrypt-4.4.36     | 98 KB     | : 100% 1.0/1 [00:01<00:00,  1.41s/it]              \u001b[A\u001b[A\u001b[A\u001b[A\u001b[A\u001b[A\u001b[A\u001b[A\u001b[A\n",
            "\n",
            "\n",
            "\n",
            "\n",
            "\n",
            "\n",
            "\n",
            "\n",
            "libxcrypt-4.4.36     | 98 KB     | : 100% 1.0/1 [00:01<00:00,  1.41s/it]\u001b[A\u001b[A\u001b[A\u001b[A\u001b[A\u001b[A\u001b[A\u001b[A\u001b[A\n",
            "\n",
            "\n",
            "\n",
            "\n",
            "\n",
            "\n",
            "\n",
            "\n",
            "\n",
            "zlib-1.2.13          | 91 KB     | : 100% 1.0/1 [00:01<00:00,  1.43s/it]                \u001b[A\u001b[A\u001b[A\u001b[A\u001b[A\u001b[A\u001b[A\u001b[A\u001b[A\u001b[A\n",
            "\n",
            "\n",
            "\n",
            "\n",
            "\n",
            "\n",
            "\n",
            "\n",
            "\n",
            "\n",
            "libexpat-2.6.2       | 72 KB     | : 100% 1.0/1 [00:01<00:00,  1.45s/it]                \u001b[A\u001b[A\u001b[A\u001b[A\u001b[A\u001b[A\u001b[A\u001b[A\u001b[A\u001b[A\u001b[A\n",
            "\n",
            "\n",
            "\n",
            "\n",
            "\n",
            "\n",
            "\n",
            "\n",
            "\n",
            "\n",
            "libexpat-2.6.2       | 72 KB     | : 100% 1.0/1 [00:01<00:00,  1.45s/it]\u001b[A\u001b[A\u001b[A\u001b[A\u001b[A\u001b[A\u001b[A\u001b[A\u001b[A\u001b[A\u001b[A\n",
            "\n",
            "\n",
            "\n",
            "\n",
            "\n",
            "\n",
            "\n",
            "\n",
            "\n",
            "zlib-1.2.13          | 91 KB     | : 100% 1.0/1 [00:01<00:00,  1.43s/it]\u001b[A\u001b[A\u001b[A\u001b[A\u001b[A\u001b[A\u001b[A\u001b[A\u001b[A\u001b[A\n",
            "\n",
            "\n",
            "\n",
            "\n",
            "\n",
            "\n",
            "\n",
            "\n",
            "\n",
            "\n",
            "\n",
            "\n",
            "\n",
            "libuuid-2.38.1       | 33 KB     | : 100% 1.0/1 [00:01<00:00,  1.59s/it]               \u001b[A\u001b[A\u001b[A\u001b[A\u001b[A\u001b[A\u001b[A\u001b[A\u001b[A\u001b[A\u001b[A\u001b[A\u001b[A\u001b[A\n",
            "\n",
            "\n",
            "\n",
            "\n",
            "\n",
            "\n",
            "\n",
            "\n",
            "\n",
            "\n",
            "\n",
            "libzlib-1.2.13       | 60 KB     | : 100% 1.0/1 [00:01<00:00,  1.49s/it]               \u001b[A\u001b[A\u001b[A\u001b[A\u001b[A\u001b[A\u001b[A\u001b[A\u001b[A\u001b[A\u001b[A\u001b[A\n",
            "\n",
            "\n",
            "\n",
            "\n",
            "\n",
            "\n",
            "\n",
            "\n",
            "\n",
            "\n",
            "\n",
            "libzlib-1.2.13       | 60 KB     | : 100% 1.0/1 [00:01<00:00,  1.49s/it]\u001b[A\u001b[A\u001b[A\u001b[A\u001b[A\u001b[A\u001b[A\u001b[A\u001b[A\u001b[A\u001b[A\u001b[A\n",
            "\n",
            "\n",
            "\n",
            "\n",
            "\n",
            "\n",
            "\n",
            "\n",
            "\n",
            "\n",
            "\n",
            "\n",
            "\n",
            "libuuid-2.38.1       | 33 KB     | : 100% 1.0/1 [00:01<00:00,  1.59s/it]\u001b[A\u001b[A\u001b[A\u001b[A\u001b[A\u001b[A\u001b[A\u001b[A\u001b[A\u001b[A\u001b[A\u001b[A\u001b[A\u001b[A\n",
            "\n",
            "\n",
            "\n",
            "\n",
            "\n",
            "\n",
            "\n",
            "\n",
            "\n",
            "\n",
            "\n",
            "\n",
            "\n",
            "\n",
            "libnsl-2.0.1         | 33 KB     | : 100% 1.0/1 [00:01<00:00,  1.61s/it]               \u001b[A\u001b[A\u001b[A\u001b[A\u001b[A\u001b[A\u001b[A\u001b[A\u001b[A\u001b[A\u001b[A\u001b[A\u001b[A\u001b[A\u001b[A\n",
            "\n",
            "\n",
            "\n",
            "\n",
            "\n",
            "\n",
            "\n",
            "\n",
            "\n",
            "\n",
            "\n",
            "\n",
            "\n",
            "\n",
            "libnsl-2.0.1         | 33 KB     | : 100% 1.0/1 [00:01<00:00,  1.61s/it]\u001b[A\u001b[A\u001b[A\u001b[A\u001b[A\u001b[A\u001b[A\u001b[A\u001b[A\u001b[A\u001b[A\u001b[A\u001b[A\u001b[A\u001b[A\n",
            "\n",
            "\n",
            "\n",
            "\n",
            "\n",
            "\n",
            "\n",
            "\n",
            "\n",
            "\n",
            "\n",
            "\n",
            "libgcc-ng-14.1.0     | 51 KB     | : 100% 1.0/1 [00:01<00:00,  1.61s/it]                \u001b[A\u001b[A\u001b[A\u001b[A\u001b[A\u001b[A\u001b[A\u001b[A\u001b[A\u001b[A\u001b[A\u001b[A\u001b[A\n",
            "\n",
            "\n",
            "\n",
            "\n",
            "\n",
            "\n",
            "\n",
            "\n",
            "\n",
            "\n",
            "\n",
            "\n",
            "libgcc-ng-14.1.0     | 51 KB     | : 100% 1.0/1 [00:01<00:00,  1.61s/it]\u001b[A\u001b[A\u001b[A\u001b[A\u001b[A\u001b[A\u001b[A\u001b[A\u001b[A\u001b[A\u001b[A\u001b[A\u001b[A\n",
            "\n",
            "\n",
            "\n",
            "\n",
            "\n",
            "\n",
            "\n",
            "\n",
            "\n",
            "\n",
            "\n",
            "\n",
            "\n",
            "\n",
            "\n",
            "\n",
            "python_abi-3.12      | 6 KB      | : 100% 1.0/1 [00:01<00:00,  1.85it/s]\u001b[A\u001b[A\u001b[A\u001b[A\u001b[A\u001b[A\u001b[A\u001b[A\u001b[A\u001b[A\u001b[A\u001b[A\u001b[A\u001b[A\u001b[A\u001b[A\u001b[A\n",
            "\n",
            "\n",
            "\n",
            "\n",
            "\n",
            "\n",
            "\n",
            "\n",
            "\n",
            "\n",
            "\n",
            "\n",
            "\n",
            "\n",
            "\n",
            "\n",
            "\n",
            "_libgcc_mutex-0.1    | 3 KB      | : 100% 1.0/1 [00:01<00:00,  1.84it/s]\u001b[A\u001b[A\u001b[A\u001b[A\u001b[A\u001b[A\u001b[A\u001b[A\u001b[A\u001b[A\u001b[A\u001b[A\u001b[A\u001b[A\u001b[A\u001b[A\u001b[A\u001b[A\n",
            "\n",
            "\n",
            "\n",
            "\n",
            "\n",
            "\n",
            "\n",
            "\n",
            "\n",
            "\n",
            "\n",
            "\n",
            "\n",
            "\n",
            "\n",
            "_openmp_mutex-4.5    | 23 KB     | : 100% 1.0/1 [00:01<00:00,  1.86s/it]               \u001b[A\u001b[A\u001b[A\u001b[A\u001b[A\u001b[A\u001b[A\u001b[A\u001b[A\u001b[A\u001b[A\u001b[A\u001b[A\u001b[A\u001b[A\u001b[A\n",
            "\n",
            "\n",
            "\n",
            "\n",
            "\n",
            "\n",
            "\n",
            "\n",
            "\n",
            "\n",
            "\n",
            "\n",
            "\n",
            "\n",
            "\n",
            "_openmp_mutex-4.5    | 23 KB     | : 100% 1.0/1 [00:01<00:00,  1.86s/it]\u001b[A\u001b[A\u001b[A\u001b[A\u001b[A\u001b[A\u001b[A\u001b[A\u001b[A\u001b[A\u001b[A\u001b[A\u001b[A\u001b[A\u001b[A\u001b[A\n",
            "                                                                        \n",
            "                                                                        \u001b[A\n",
            "\n",
            "                                                                        \u001b[A\u001b[A\n",
            "\n",
            "\n",
            "                                                                        \u001b[A\u001b[A\u001b[A\n",
            "\n",
            "\n",
            "\n",
            "                                                                        \u001b[A\u001b[A\u001b[A\u001b[A\n",
            "\n",
            "\n",
            "\n",
            "\n",
            "                                                                        \u001b[A\u001b[A\u001b[A\u001b[A\u001b[A\n",
            "\n",
            "\n",
            "\n",
            "\n",
            "\n",
            "                                                                        \u001b[A\u001b[A\u001b[A\u001b[A\u001b[A\u001b[A\n",
            "\n",
            "\n",
            "\n",
            "\n",
            "\n",
            "\n",
            "                                                                        \u001b[A\u001b[A\u001b[A\u001b[A\u001b[A\u001b[A\u001b[A\n",
            "\n",
            "\n",
            "\n",
            "\n",
            "\n",
            "\n",
            "\n",
            "                                                                        \u001b[A\u001b[A\u001b[A\u001b[A\u001b[A\u001b[A\u001b[A\u001b[A\n",
            "\n",
            "\n",
            "\n",
            "\n",
            "\n",
            "\n",
            "\n",
            "\n",
            "                                                                        \u001b[A\u001b[A\u001b[A\u001b[A\u001b[A\u001b[A\u001b[A\u001b[A\u001b[A\n",
            "\n",
            "\n",
            "\n",
            "\n",
            "\n",
            "\n",
            "\n",
            "\n",
            "\n",
            "                                                                        \u001b[A\u001b[A\u001b[A\u001b[A\u001b[A\u001b[A\u001b[A\u001b[A\u001b[A\u001b[A\n",
            "\n",
            "\n",
            "\n",
            "\n",
            "\n",
            "\n",
            "\n",
            "\n",
            "\n",
            "\n",
            "                                                                        \u001b[A\u001b[A\u001b[A\u001b[A\u001b[A\u001b[A\u001b[A\u001b[A\u001b[A\u001b[A\u001b[A\n",
            "\n",
            "\n",
            "\n",
            "\n",
            "\n",
            "\n",
            "\n",
            "\n",
            "\n",
            "\n",
            "\n",
            "                                                                        \u001b[A\u001b[A\u001b[A\u001b[A\u001b[A\u001b[A\u001b[A\u001b[A\u001b[A\u001b[A\u001b[A\u001b[A\n",
            "\n",
            "\n",
            "\n",
            "\n",
            "\n",
            "\n",
            "\n",
            "\n",
            "\n",
            "\n",
            "\n",
            "\n",
            "                                                                        \u001b[A\u001b[A\u001b[A\u001b[A\u001b[A\u001b[A\u001b[A\u001b[A\u001b[A\u001b[A\u001b[A\u001b[A\u001b[A\n",
            "\n",
            "\n",
            "\n",
            "\n",
            "\n",
            "\n",
            "\n",
            "\n",
            "\n",
            "\n",
            "\n",
            "\n",
            "\n",
            "                                                                        \u001b[A\u001b[A\u001b[A\u001b[A\u001b[A\u001b[A\u001b[A\u001b[A\u001b[A\u001b[A\u001b[A\u001b[A\u001b[A\u001b[A\n",
            "\n",
            "\n",
            "\n",
            "\n",
            "\n",
            "\n",
            "\n",
            "\n",
            "\n",
            "\n",
            "\n",
            "\n",
            "\n",
            "\n",
            "                                                                        \u001b[A\u001b[A\u001b[A\u001b[A\u001b[A\u001b[A\u001b[A\u001b[A\u001b[A\u001b[A\u001b[A\u001b[A\u001b[A\u001b[A\u001b[A\n",
            "\n",
            "\n",
            "\n",
            "\n",
            "\n",
            "\n",
            "\n",
            "\n",
            "\n",
            "\n",
            "\n",
            "\n",
            "\n",
            "\n",
            "\n",
            "                                                                        \u001b[A\u001b[A\u001b[A\u001b[A\u001b[A\u001b[A\u001b[A\u001b[A\u001b[A\u001b[A\u001b[A\u001b[A\u001b[A\u001b[A\u001b[A\u001b[A\n",
            "\n",
            "\n",
            "\n",
            "\n",
            "\n",
            "\n",
            "\n",
            "\n",
            "\n",
            "\n",
            "\n",
            "\n",
            "\n",
            "\n",
            "\n",
            "\n",
            "                                                                        \u001b[A\u001b[A\u001b[A\u001b[A\u001b[A\u001b[A\u001b[A\u001b[A\u001b[A\u001b[A\u001b[A\u001b[A\u001b[A\u001b[A\u001b[A\u001b[A\u001b[A\n",
            "\n",
            "\n",
            "\n",
            "\n",
            "\n",
            "\n",
            "\n",
            "\n",
            "\n",
            "\n",
            "\n",
            "\n",
            "\n",
            "\n",
            "\n",
            "\n",
            "\n",
            "                                                                        \u001b[A\u001b[A\u001b[A\u001b[A\u001b[A\u001b[A\u001b[A\u001b[A\u001b[A\u001b[A\u001b[A\u001b[A\u001b[A\u001b[A\u001b[A\u001b[A\u001b[A\u001b[A\n",
            "Preparing transaction: / \b\b- \b\bdone\n",
            "Verifying transaction: | \b\b/ \b\b- \b\b\\ \b\b| \b\b/ \b\b- \b\b\\ \b\b| \b\b/ \b\b- \b\b\\ \b\b| \b\b/ \b\b- \b\b\\ \b\b| \b\bdone\n",
            "Executing transaction: - \b\b\\ \b\b| \b\b/ \b\b- \b\b\\ \b\b| \b\b/ \b\b- \b\bdone\n"
          ]
        }
      ]
    },
    {
      "cell_type": "markdown",
      "source": [
        "#### BLAST"
      ],
      "metadata": {
        "id": "QbGjbNFMRsEj"
      }
    },
    {
      "cell_type": "code",
      "source": [
        "! conda install bioconda::blast -y"
      ],
      "metadata": {
        "id": "DyY8hYi_RrUo",
        "colab": {
          "base_uri": "https://localhost:8080/"
        },
        "outputId": "5e408070-a8d6-48d2-8e52-5413727fde07"
      },
      "execution_count": null,
      "outputs": [
        {
          "output_type": "stream",
          "name": "stdout",
          "text": [
            "Channels:\n",
            " - defaults\n",
            " - bioconda\n",
            " - conda-forge\n",
            "Platform: linux-64\n",
            "Collecting package metadata (repodata.json): - \b\b\\ \b\b| \b\b/ \b\b- \b\b\\ \b\b| \b\b/ \b\b- \b\b\\ \b\b| \b\b/ \b\b- \b\bdone\n",
            "Solving environment: | \b\b/ \b\b- \b\bdone\n",
            "\n",
            "## Package Plan ##\n",
            "\n",
            "  environment location: /usr/local\n",
            "\n",
            "  added / updated specs:\n",
            "    - bioconda::blast\n",
            "\n",
            "\n",
            "The following packages will be downloaded:\n",
            "\n",
            "    package                    |            build\n",
            "    ---------------------------|-----------------\n",
            "    blast-2.16.0               |       hc155240_2       143.0 MB  bioconda\n",
            "    curl-8.7.1                 |       hdbd6064_0          86 KB\n",
            "    entrez-direct-22.4         |       he881be0_0        14.0 MB  bioconda\n",
            "    libidn2-2.3.4              |       h5eee18b_0         146 KB\n",
            "    libstdcxx-14.1.0           |       hc0a3c3a_1         3.7 MB  conda-forge\n",
            "    libstdcxx-ng-14.1.0        |       h4852527_1          51 KB  conda-forge\n",
            "    libunistring-0.9.10        |       h27cfd23_0         536 KB\n",
            "    ncbi-vdb-3.1.1             |       h4ac6f70_2        10.6 MB  bioconda\n",
            "    perl-5.32.1                | 0_h5eee18b_perl5        13.5 MB\n",
            "    perl-archive-tar-2.40      | pl5321hdfd78af_0          33 KB  bioconda\n",
            "    perl-carp-1.38             | pl5321hdfd78af_4          17 KB  bioconda\n",
            "    perl-common-sense-3.75     | pl5321hdfd78af_0          13 KB  bioconda\n",
            "    perl-compress-raw-bzip2-2.201| pl5321h87f3376_1          48 KB  bioconda\n",
            "    perl-compress-raw-zlib-2.105| pl5321h87f3376_0          75 KB  bioconda\n",
            "    perl-encode-3.19           | pl5321hec16e2b_1         2.1 MB  bioconda\n",
            "    perl-exporter-5.72         | pl5321hdfd78af_2          16 KB  bioconda\n",
            "    perl-exporter-tiny-1.002002| pl5321hdfd78af_0          25 KB  bioconda\n",
            "    perl-extutils-makemaker-7.70| pl5321hd8ed1ab_0         154 KB  conda-forge\n",
            "    perl-io-compress-2.201     | pl5321hdbdd923_2          84 KB  bioconda\n",
            "    perl-io-zlib-1.14          | pl5321hdfd78af_0          12 KB  bioconda\n",
            "    perl-json-4.10             | pl5321hdfd78af_1          56 KB  bioconda\n",
            "    perl-json-xs-4.03          | pl5321h4ac6f70_3          75 KB  bioconda\n",
            "    perl-list-moreutils-0.430  | pl5321hdfd78af_0          32 KB  bioconda\n",
            "    perl-list-moreutils-xs-0.430| pl5321h031d066_2          50 KB  bioconda\n",
            "    perl-parent-0.236          | pl5321hdfd78af_2           8 KB  bioconda\n",
            "    perl-pathtools-3.75        | pl5321hec16e2b_3          42 KB  bioconda\n",
            "    perl-scalar-list-utils-1.62| pl5321hec16e2b_1          44 KB  bioconda\n",
            "    perl-types-serialiser-1.01 | pl5321hdfd78af_0          13 KB  bioconda\n",
            "    rpsbproc-0.5.0             |       h6a68c12_0         6.1 MB  bioconda\n",
            "    wget-1.24.5                |       h251f7ec_0         825 KB\n",
            "    ------------------------------------------------------------\n",
            "                                           Total:       195.4 MB\n",
            "\n",
            "The following NEW packages will be INSTALLED:\n",
            "\n",
            "  blast              bioconda/linux-64::blast-2.16.0-hc155240_2 \n",
            "  curl               pkgs/main/linux-64::curl-8.7.1-hdbd6064_0 \n",
            "  entrez-direct      bioconda/linux-64::entrez-direct-22.4-he881be0_0 \n",
            "  libidn2            pkgs/main/linux-64::libidn2-2.3.4-h5eee18b_0 \n",
            "  libstdcxx          conda-forge/linux-64::libstdcxx-14.1.0-hc0a3c3a_1 \n",
            "  libunistring       pkgs/main/linux-64::libunistring-0.9.10-h27cfd23_0 \n",
            "  ncbi-vdb           bioconda/linux-64::ncbi-vdb-3.1.1-h4ac6f70_2 \n",
            "  perl               pkgs/main/linux-64::perl-5.32.1-0_h5eee18b_perl5 \n",
            "  perl-archive-tar   bioconda/noarch::perl-archive-tar-2.40-pl5321hdfd78af_0 \n",
            "  perl-carp          bioconda/noarch::perl-carp-1.38-pl5321hdfd78af_4 \n",
            "  perl-common-sense  bioconda/noarch::perl-common-sense-3.75-pl5321hdfd78af_0 \n",
            "  perl-compress-raw~ bioconda/linux-64::perl-compress-raw-bzip2-2.201-pl5321h87f3376_1 \n",
            "  perl-compress-raw~ bioconda/linux-64::perl-compress-raw-zlib-2.105-pl5321h87f3376_0 \n",
            "  perl-encode        bioconda/linux-64::perl-encode-3.19-pl5321hec16e2b_1 \n",
            "  perl-exporter      bioconda/noarch::perl-exporter-5.72-pl5321hdfd78af_2 \n",
            "  perl-exporter-tiny bioconda/noarch::perl-exporter-tiny-1.002002-pl5321hdfd78af_0 \n",
            "  perl-extutils-mak~ conda-forge/noarch::perl-extutils-makemaker-7.70-pl5321hd8ed1ab_0 \n",
            "  perl-io-compress   bioconda/linux-64::perl-io-compress-2.201-pl5321hdbdd923_2 \n",
            "  perl-io-zlib       bioconda/noarch::perl-io-zlib-1.14-pl5321hdfd78af_0 \n",
            "  perl-json          bioconda/noarch::perl-json-4.10-pl5321hdfd78af_1 \n",
            "  perl-json-xs       bioconda/linux-64::perl-json-xs-4.03-pl5321h4ac6f70_3 \n",
            "  perl-list-moreuti~ bioconda/noarch::perl-list-moreutils-0.430-pl5321hdfd78af_0 \n",
            "  perl-list-moreuti~ bioconda/linux-64::perl-list-moreutils-xs-0.430-pl5321h031d066_2 \n",
            "  perl-parent        bioconda/noarch::perl-parent-0.236-pl5321hdfd78af_2 \n",
            "  perl-pathtools     bioconda/linux-64::perl-pathtools-3.75-pl5321hec16e2b_3 \n",
            "  perl-scalar-list-~ bioconda/linux-64::perl-scalar-list-utils-1.62-pl5321hec16e2b_1 \n",
            "  perl-types-serial~ bioconda/noarch::perl-types-serialiser-1.01-pl5321hdfd78af_0 \n",
            "  rpsbproc           bioconda/linux-64::rpsbproc-0.5.0-h6a68c12_0 \n",
            "  wget               pkgs/main/linux-64::wget-1.24.5-h251f7ec_0 \n",
            "\n",
            "The following packages will be UPDATED:\n",
            "\n",
            "  libstdcxx-ng       pkgs/main::libstdcxx-ng-11.2.0-h12345~ --> conda-forge::libstdcxx-ng-14.1.0-h4852527_1 \n",
            "\n",
            "The following packages will be SUPERSEDED by a higher-priority channel:\n",
            "\n",
            "  certifi            conda-forge/noarch::certifi-2024.8.30~ --> pkgs/main/linux-64::certifi-2024.8.30-py312h06a4308_0 \n",
            "  conda              conda-forge::conda-24.7.1-py312h7900f~ --> pkgs/main::conda-24.7.1-py312h06a4308_0 \n",
            "\n",
            "\n",
            "\n",
            "Downloading and Extracting Packages:\n",
            "blast-2.16.0         | 143.0 MB  | :   0% 0/1 [00:00<?, ?it/s]\n",
            "entrez-direct-22.4   | 14.0 MB   | :   0% 0/1 [00:00<?, ?it/s]\u001b[A\n",
            "\n",
            "perl-5.32.1          | 13.5 MB   | :   0% 0/1 [00:00<?, ?it/s]\u001b[A\u001b[A\n",
            "\n",
            "\n",
            "ncbi-vdb-3.1.1       | 10.6 MB   | :   0% 0/1 [00:00<?, ?it/s]\u001b[A\u001b[A\u001b[A\n",
            "\n",
            "\n",
            "\n",
            "rpsbproc-0.5.0       | 6.1 MB    | :   0% 0/1 [00:00<?, ?it/s]\u001b[A\u001b[A\u001b[A\u001b[A\n",
            "\n",
            "\n",
            "\n",
            "\n",
            "libstdcxx-14.1.0     | 3.7 MB    | :   0% 0/1 [00:00<?, ?it/s]\u001b[A\u001b[A\u001b[A\u001b[A\u001b[A\n",
            "\n",
            "\n",
            "\n",
            "\n",
            "\n",
            "perl-encode-3.19     | 2.1 MB    | :   0% 0/1 [00:00<?, ?it/s]\u001b[A\u001b[A\u001b[A\u001b[A\u001b[A\u001b[A\n",
            "\n",
            "\n",
            "\n",
            "\n",
            "\n",
            "\n",
            "wget-1.24.5          | 825 KB    | :   0% 0/1 [00:00<?, ?it/s]\u001b[A\u001b[A\u001b[A\u001b[A\u001b[A\u001b[A\u001b[A\n",
            "\n",
            "\n",
            "\n",
            "\n",
            "\n",
            "\n",
            "\n",
            "libunistring-0.9.10  | 536 KB    | :   0% 0/1 [00:00<?, ?it/s]\u001b[A\u001b[A\u001b[A\u001b[A\u001b[A\u001b[A\u001b[A\u001b[A\n",
            "\n",
            "\n",
            "\n",
            "\n",
            "\n",
            "\n",
            "\n",
            "\n",
            "perl-extutils-makema | 154 KB    | :   0% 0/1 [00:00<?, ?it/s]\u001b[A\u001b[A\u001b[A\u001b[A\u001b[A\u001b[A\u001b[A\u001b[A\u001b[A\n",
            "\n",
            "\n",
            "\n",
            "\n",
            "\n",
            "\n",
            "\n",
            "\n",
            "\n",
            "libidn2-2.3.4        | 146 KB    | :   0% 0/1 [00:00<?, ?it/s]\u001b[A\u001b[A\u001b[A\u001b[A\u001b[A\u001b[A\u001b[A\u001b[A\u001b[A\u001b[A\n",
            "\n",
            "\n",
            "\n",
            "\n",
            "\n",
            "\n",
            "\n",
            "\n",
            "\n",
            "\n",
            "curl-8.7.1           | 86 KB     | :   0% 0/1 [00:00<?, ?it/s]\u001b[A\u001b[A\u001b[A\u001b[A\u001b[A\u001b[A\u001b[A\u001b[A\u001b[A\u001b[A\u001b[A\n",
            "\n",
            "\n",
            "\n",
            "\n",
            "\n",
            "\n",
            "\n",
            "\n",
            "\n",
            "\n",
            "\n",
            "perl-io-compress-2.2 | 84 KB     | :   0% 0/1 [00:00<?, ?it/s]\u001b[A\u001b[A\u001b[A\u001b[A\u001b[A\u001b[A\u001b[A\u001b[A\u001b[A\u001b[A\u001b[A\u001b[A\n",
            "\n",
            "\n",
            "\n",
            "\n",
            "\n",
            "\n",
            "\n",
            "\n",
            "\n",
            "\n",
            "\n",
            "\n",
            "perl-compress-raw-zl | 75 KB     | :   0% 0/1 [00:00<?, ?it/s]\u001b[A\u001b[A\u001b[A\u001b[A\u001b[A\u001b[A\u001b[A\u001b[A\u001b[A\u001b[A\u001b[A\u001b[A\u001b[A\n",
            "\n",
            "\n",
            "\n",
            "\n",
            "\n",
            "\n",
            "\n",
            "\n",
            "\n",
            "\n",
            "\n",
            "\n",
            "\n",
            "perl-json-xs-4.03    | 75 KB     | :   0% 0/1 [00:00<?, ?it/s]\u001b[A\u001b[A\u001b[A\u001b[A\u001b[A\u001b[A\u001b[A\u001b[A\u001b[A\u001b[A\u001b[A\u001b[A\u001b[A\u001b[A\n",
            "\n",
            "\n",
            "\n",
            "\n",
            "\n",
            "\n",
            "\n",
            "\n",
            "\n",
            "\n",
            "\n",
            "\n",
            "\n",
            "\n",
            "perl-json-4.10       | 56 KB     | :   0% 0/1 [00:00<?, ?it/s]\u001b[A\u001b[A\u001b[A\u001b[A\u001b[A\u001b[A\u001b[A\u001b[A\u001b[A\u001b[A\u001b[A\u001b[A\u001b[A\u001b[A\u001b[A\n",
            "\n",
            "\n",
            "\n",
            "\n",
            "\n",
            "\n",
            "\n",
            "\n",
            "\n",
            "\n",
            "\n",
            "\n",
            "\n",
            "\n",
            "\n",
            "libstdcxx-ng-14.1.0  | 51 KB     | :   0% 0/1 [00:00<?, ?it/s]\u001b[A\u001b[A\u001b[A\u001b[A\u001b[A\u001b[A\u001b[A\u001b[A\u001b[A\u001b[A\u001b[A\u001b[A\u001b[A\u001b[A\u001b[A\u001b[A\n",
            "\n",
            "\n",
            "\n",
            "\n",
            "\n",
            "\n",
            "\n",
            "\n",
            "\n",
            "\n",
            "\n",
            "\n",
            "\n",
            "\n",
            "\n",
            "\n",
            "perl-list-moreutils- | 50 KB     | :   0% 0/1 [00:00<?, ?it/s]\u001b[A\u001b[A\u001b[A\u001b[A\u001b[A\u001b[A\u001b[A\u001b[A\u001b[A\u001b[A\u001b[A\u001b[A\u001b[A\u001b[A\u001b[A\u001b[A\u001b[A\n",
            "\n",
            "\n",
            "\n",
            "\n",
            "\n",
            "\n",
            "\n",
            "\n",
            "\n",
            "\n",
            "\n",
            "\n",
            "\n",
            "\n",
            "\n",
            "\n",
            "\n",
            "perl-compress-raw-bz | 48 KB     | :   0% 0/1 [00:00<?, ?it/s]\u001b[A\u001b[A\u001b[A\u001b[A\u001b[A\u001b[A\u001b[A\u001b[A\u001b[A\u001b[A\u001b[A\u001b[A\u001b[A\u001b[A\u001b[A\u001b[A\u001b[A\u001b[A\n",
            "\n",
            "\n",
            "\n",
            "\n",
            "\n",
            "\n",
            "\n",
            "\n",
            "\n",
            "\n",
            "\n",
            "\n",
            "\n",
            "\n",
            "\n",
            "\n",
            "\n",
            "\n",
            "blast-2.16.0         | 143.0 MB  | :   2% 0.02032775142593644/1 [00:00<00:04,  5.02s/it]\n",
            "entrez-direct-22.4   | 14.0 MB   | :   2% 0.0200802660482732/1 [00:00<00:04,  5.08s/it]\u001b[A\n",
            "\n",
            "perl-5.32.1          | 13.5 MB   | :   4% 0.03940041009086646/1 [00:00<00:02,  2.54s/it]\u001b[A\u001b[A\n",
            "\n",
            "\n",
            "ncbi-vdb-3.1.1       | 10.6 MB   | :   1% 0.005872462999836109/1 [00:00<00:17, 17.12s/it]\u001b[A\u001b[A\u001b[A\n",
            "\n",
            "\n",
            "\n",
            "rpsbproc-0.5.0       | 6.1 MB    | :   5% 0.05346008890126391/1 [00:00<00:01,  1.89s/it]\u001b[A\u001b[A\u001b[A\u001b[A\n",
            "entrez-direct-22.4   | 14.0 MB   | :  18% 0.17737568342641327/1 [00:00<00:00,  1.00s/it]\u001b[A\n",
            "\n",
            "perl-5.32.1          | 13.5 MB   | :  24% 0.2375612961361066/1 [00:00<00:00,  1.32it/s] \u001b[A\u001b[A\n",
            "\n",
            "\n",
            "ncbi-vdb-3.1.1       | 10.6 MB   | :  23% 0.22755794124364923/1 [00:00<00:00,  1.31it/s] \u001b[A\u001b[A\u001b[A\n",
            "\n",
            "\n",
            "\n",
            "blast-2.16.0         | 143.0 MB  | :   4% 0.040327635893390036/1 [00:00<00:05,  5.86s/it]\n",
            "entrez-direct-22.4   | 14.0 MB   | :  39% 0.39156518794132744/1 [00:00<00:00,  1.50it/s]\u001b[A\n",
            "\n",
            "perl-5.32.1          | 13.5 MB   | :  41% 0.40906896359046646/1 [00:00<00:00,  1.49it/s]\u001b[A\u001b[A\n",
            "\n",
            "\n",
            "ncbi-vdb-3.1.1       | 10.6 MB   | :  45% 0.4463071879875443/1 [00:00<00:00,  1.69it/s] \u001b[A\u001b[A\u001b[A\n",
            "\n",
            "\n",
            "\n",
            "blast-2.16.0         | 143.0 MB  | :   6% 0.060764676305487424/1 [00:00<00:05,  5.44s/it]\n",
            "entrez-direct-22.4   | 14.0 MB   | :  60% 0.5968301297681201/1 [00:00<00:00,  1.71it/s] \u001b[A\n",
            "\n",
            "perl-5.32.1          | 13.5 MB   | :  67% 0.6674893003629141/1 [00:00<00:00,  1.92it/s] \u001b[A\u001b[A\n",
            "\n",
            "\n",
            "blast-2.16.0         | 143.0 MB  | :   8% 0.07999953786981438/1 [00:00<00:04,  5.35s/it] \n",
            "entrez-direct-22.4   | 14.0 MB   | :  90% 0.8980341204922182/1 [00:00<00:00,  2.17it/s]\u001b[A\n",
            "\n",
            "perl-5.32.1          | 13.5 MB   | :  89% 0.8923034049990345/1 [00:00<00:00,  1.99it/s]\u001b[A\u001b[A\n",
            "\n",
            "\n",
            "\n",
            "\n",
            "blast-2.16.0         | 143.0 MB  | :  10% 0.10349666989441833/1 [00:00<00:04,  5.08s/it]\n",
            "\n",
            "\n",
            "\n",
            "\n",
            "blast-2.16.0         | 143.0 MB  | :  15% 0.14808657624808536/1 [00:00<00:04,  4.80s/it]\n",
            "\n",
            "\n",
            "\n",
            "\n",
            "\n",
            "blast-2.16.0         | 143.0 MB  | :  17% 0.1690700615909875/1 [00:00<00:04,  4.84s/it] \n",
            "\n",
            "\n",
            "\n",
            "\n",
            "\n",
            "perl-encode-3.19     | 2.1 MB    | :  93% 0.9313454490988518/1 [00:00<00:00,  1.42it/s]   \u001b[A\u001b[A\u001b[A\u001b[A\u001b[A\u001b[A\n",
            "\n",
            "\n",
            "\n",
            "\n",
            "\n",
            "\n",
            "blast-2.16.0         | 143.0 MB  | :  19% 0.18983496896156773/1 [00:00<00:04,  5.08s/it]\n",
            "\n",
            "\n",
            "\n",
            "\n",
            "\n",
            "\n",
            "\n",
            "\n",
            "\n",
            "libidn2-2.3.4        | 146 KB    | :  11% 0.10992726979952229/1 [00:01<00:08,  9.19s/it]\u001b[A\u001b[A\u001b[A\u001b[A\u001b[A\u001b[A\u001b[A\u001b[A\u001b[A\u001b[A\n",
            "\n",
            "\n",
            "\n",
            "\n",
            "\n",
            "\n",
            "\n",
            "\n",
            "\n",
            "\n",
            "curl-8.7.1           | 86 KB     | :  19% 0.1862199086176718/1 [00:01<00:04,  5.50s/it]\u001b[A\u001b[A\u001b[A\u001b[A\u001b[A\u001b[A\u001b[A\u001b[A\u001b[A\u001b[A\u001b[A\n",
            "\n",
            "\n",
            "\n",
            "\n",
            "\n",
            "\n",
            "\n",
            "\n",
            "blast-2.16.0         | 143.0 MB  | :  22% 0.22404242162994464/1 [00:01<00:03,  4.18s/it]\n",
            "\n",
            "\n",
            "\n",
            "\n",
            "\n",
            "\n",
            "\n",
            "\n",
            "\n",
            "\n",
            "\n",
            "perl-io-compress-2.2 | 84 KB     | :  19% 0.1893666204345816/1 [00:01<00:04,  5.70s/it]\u001b[A\u001b[A\u001b[A\u001b[A\u001b[A\u001b[A\u001b[A\u001b[A\u001b[A\u001b[A\u001b[A\u001b[A\n",
            "\n",
            "\n",
            "\n",
            "\n",
            "\n",
            "\n",
            "\n",
            "libunistring-0.9.10  | 536 KB    | :   3% 0.0298742052356441/1 [00:01<00:35, 36.76s/it]\u001b[A\u001b[A\u001b[A\u001b[A\u001b[A\u001b[A\u001b[A\u001b[A\n",
            "\n",
            "\n",
            "\n",
            "\n",
            "\n",
            "\n",
            "\n",
            "\n",
            "\n",
            "\n",
            "\n",
            "\n",
            "\n",
            "perl-json-xs-4.03    | 75 KB     | :  21% 0.2136337558024305/1 [00:01<00:04,  5.22s/it]\u001b[A\u001b[A\u001b[A\u001b[A\u001b[A\u001b[A\u001b[A\u001b[A\u001b[A\u001b[A\u001b[A\u001b[A\u001b[A\u001b[A\n",
            "\n",
            "\n",
            "\n",
            "\n",
            "\n",
            "\n",
            "\n",
            "\n",
            "\n",
            "\n",
            "\n",
            "\n",
            "perl-compress-raw-zl | 75 KB     | :  21% 0.2121785076018545/1 [00:01<00:04,  5.31s/it]\u001b[A\u001b[A\u001b[A\u001b[A\u001b[A\u001b[A\u001b[A\u001b[A\u001b[A\u001b[A\u001b[A\u001b[A\u001b[A\n",
            "\n",
            "\n",
            "\n",
            "\n",
            "\n",
            "\n",
            "\n",
            "\n",
            "\n",
            "\n",
            "\n",
            "\n",
            "\n",
            "\n",
            "blast-2.16.0         | 143.0 MB  | :  27% 0.26819517203896787/1 [00:01<00:02,  3.35s/it]\n",
            "\n",
            "\n",
            "\n",
            "\n",
            "\n",
            "\n",
            "\n",
            "\n",
            "\n",
            "\n",
            "\n",
            "\n",
            "\n",
            "\n",
            "\n",
            "libstdcxx-ng-14.1.0  | 51 KB     | :  31% 0.31375552959650704/1 [00:01<00:02,  3.70s/it]\u001b[A\u001b[A\u001b[A\u001b[A\u001b[A\u001b[A\u001b[A\u001b[A\u001b[A\u001b[A\u001b[A\u001b[A\u001b[A\u001b[A\u001b[A\u001b[A\n",
            "\n",
            "\n",
            "\n",
            "\n",
            "\n",
            "\n",
            "\n",
            "\n",
            "\n",
            "\n",
            "\n",
            "\n",
            "\n",
            "\n",
            "\n",
            "\n",
            "\n",
            "perl-compress-raw-bz | 48 KB     | :  34% 0.33563453856396597/1 [00:01<00:02,  3.48s/it]\u001b[A\u001b[A\u001b[A\u001b[A\u001b[A\u001b[A\u001b[A\u001b[A\u001b[A\u001b[A\u001b[A\u001b[A\u001b[A\u001b[A\u001b[A\u001b[A\u001b[A\u001b[A\n",
            "\n",
            "\n",
            "\n",
            "\n",
            "\n",
            "\n",
            "\n",
            "\n",
            "\n",
            "\n",
            "\n",
            "\n",
            "\n",
            "\n",
            "\n",
            "\n",
            "perl-list-moreutils- | 50 KB     | :  32% 0.31824715434520806/1 [00:01<00:02,  3.70s/it]\u001b[A\u001b[A\u001b[A\u001b[A\u001b[A\u001b[A\u001b[A\u001b[A\u001b[A\u001b[A\u001b[A\u001b[A\u001b[A\u001b[A\u001b[A\u001b[A\u001b[A\n",
            "\n",
            "\n",
            "\n",
            "\n",
            "\n",
            "\n",
            "\n",
            "\n",
            "\n",
            "\n",
            "\n",
            "\n",
            "\n",
            "\n",
            "\n",
            "\n",
            "\n",
            "\n",
            "blast-2.16.0         | 143.0 MB  | :  35% 0.348741154839587/1 [00:01<00:01,  3.03s/it]  \n",
            "\n",
            "\n",
            "\n",
            "\n",
            "blast-2.16.0         | 143.0 MB  | :  99% 0.9864423890887221/1 [00:02<00:00,  2.69s/it]\n",
            "\n",
            "\n",
            "\n",
            "rpsbproc-0.5.0       | 6.1 MB    | : 100% 1.0/1 [00:04<00:00,  3.41it/s]               \u001b[A\u001b[A\u001b[A\u001b[A\n",
            "\n",
            "\n",
            "\n",
            "\n",
            "\n",
            "perl-encode-3.19     | 2.1 MB    | : 100% 1.0/1 [00:05<00:00,  1.42it/s]               \u001b[A\u001b[A\u001b[A\u001b[A\u001b[A\u001b[A\n",
            "\n",
            "\n",
            "ncbi-vdb-3.1.1       | 10.6 MB   | : 100% 1.0/1 [00:07<00:00, 11.39s/it]               \u001b[A\u001b[A\u001b[A\n",
            "\n",
            "\n",
            "ncbi-vdb-3.1.1       | 10.6 MB   | : 100% 1.0/1 [00:07<00:00, 11.39s/it]\u001b[A\u001b[A\u001b[A\n",
            "\n",
            "\n",
            "\n",
            "\n",
            "\n",
            "\n",
            "wget-1.24.5          | 825 KB    | : 100% 1.0/1 [00:07<00:00,  7.67s/it]                 \u001b[A\u001b[A\u001b[A\u001b[A\u001b[A\u001b[A\u001b[A\n",
            "\n",
            "\n",
            "\n",
            "\n",
            "\n",
            "\n",
            "wget-1.24.5          | 825 KB    | : 100% 1.0/1 [00:07<00:00,  7.67s/it]\u001b[A\u001b[A\u001b[A\u001b[A\u001b[A\u001b[A\u001b[A\n",
            "\n",
            "perl-5.32.1          | 13.5 MB   | : 100% 1.0/1 [00:09<00:00,  1.99it/s]               \u001b[A\u001b[A\n",
            "\n",
            "\n",
            "\n",
            "\n",
            "\n",
            "\n",
            "\n",
            "\n",
            "\n",
            "libidn2-2.3.4        | 146 KB    | : 100% 1.0/1 [00:09<00:00,  9.74s/it]                \u001b[A\u001b[A\u001b[A\u001b[A\u001b[A\u001b[A\u001b[A\u001b[A\u001b[A\u001b[A\n",
            "\n",
            "\n",
            "\n",
            "\n",
            "\n",
            "\n",
            "\n",
            "\n",
            "\n",
            "libidn2-2.3.4        | 146 KB    | : 100% 1.0/1 [00:09<00:00,  9.74s/it]\u001b[A\u001b[A\u001b[A\u001b[A\u001b[A\u001b[A\u001b[A\u001b[A\u001b[A\u001b[A\n",
            "\n",
            "\n",
            "\n",
            "\n",
            "\n",
            "\n",
            "\n",
            "\n",
            "\n",
            "\n",
            "curl-8.7.1           | 86 KB     | : 100% 1.0/1 [00:09<00:00,  9.98s/it]               \u001b[A\u001b[A\u001b[A\u001b[A\u001b[A\u001b[A\u001b[A\u001b[A\u001b[A\u001b[A\u001b[A\n",
            "\n",
            "\n",
            "\n",
            "\n",
            "\n",
            "\n",
            "\n",
            "\n",
            "\n",
            "\n",
            "curl-8.7.1           | 86 KB     | : 100% 1.0/1 [00:09<00:00,  9.98s/it]\u001b[A\u001b[A\u001b[A\u001b[A\u001b[A\u001b[A\u001b[A\u001b[A\u001b[A\u001b[A\u001b[A\n",
            "\n",
            "\n",
            "\n",
            "\n",
            "\n",
            "\n",
            "\n",
            "\n",
            "perl-extutils-makema | 154 KB    | : 100% 1.0/1 [00:09<00:00,  9.76s/it]                \u001b[A\u001b[A\u001b[A\u001b[A\u001b[A\u001b[A\u001b[A\u001b[A\u001b[A\n",
            "\n",
            "\n",
            "\n",
            "\n",
            "\n",
            "\n",
            "\n",
            "\n",
            "perl-extutils-makema | 154 KB    | : 100% 1.0/1 [00:09<00:00,  9.76s/it]\u001b[A\u001b[A\u001b[A\u001b[A\u001b[A\u001b[A\u001b[A\u001b[A\u001b[A\n",
            "\n",
            "\n",
            "\n",
            "\n",
            "\n",
            "\n",
            "\n",
            "\n",
            "\n",
            "\n",
            "\n",
            "perl-io-compress-2.2 | 84 KB     | : 100% 1.0/1 [00:09<00:00, 10.10s/it]               \u001b[A\u001b[A\u001b[A\u001b[A\u001b[A\u001b[A\u001b[A\u001b[A\u001b[A\u001b[A\u001b[A\u001b[A\n",
            "\n",
            "\n",
            "\n",
            "\n",
            "\n",
            "\n",
            "\n",
            "\n",
            "\n",
            "\n",
            "\n",
            "perl-io-compress-2.2 | 84 KB     | : 100% 1.0/1 [00:09<00:00, 10.10s/it]\u001b[A\u001b[A\u001b[A\u001b[A\u001b[A\u001b[A\u001b[A\u001b[A\u001b[A\u001b[A\u001b[A\u001b[A\n",
            "\n",
            "\n",
            "\n",
            "\n",
            "\n",
            "\n",
            "\n",
            "\n",
            "\n",
            "\n",
            "\n",
            "\n",
            "\n",
            "perl-json-xs-4.03    | 75 KB     | : 100% 1.0/1 [00:09<00:00, 10.21s/it]               \u001b[A\u001b[A\u001b[A\u001b[A\u001b[A\u001b[A\u001b[A\u001b[A\u001b[A\u001b[A\u001b[A\u001b[A\u001b[A\u001b[A\n",
            "\n",
            "\n",
            "\n",
            "\n",
            "\n",
            "\n",
            "\n",
            "\n",
            "\n",
            "\n",
            "\n",
            "\n",
            "\n",
            "perl-json-xs-4.03    | 75 KB     | : 100% 1.0/1 [00:09<00:00, 10.21s/it]\u001b[A\u001b[A\u001b[A\u001b[A\u001b[A\u001b[A\u001b[A\u001b[A\u001b[A\u001b[A\u001b[A\u001b[A\u001b[A\u001b[A\n",
            "\n",
            "\n",
            "\n",
            "\n",
            "\n",
            "\n",
            "\n",
            "libunistring-0.9.10  | 536 KB    | : 100% 1.0/1 [00:09<00:00,  9.68s/it]               \u001b[A\u001b[A\u001b[A\u001b[A\u001b[A\u001b[A\u001b[A\u001b[A\n",
            "\n",
            "\n",
            "\n",
            "\n",
            "\n",
            "\n",
            "\n",
            "libunistring-0.9.10  | 536 KB    | : 100% 1.0/1 [00:09<00:00,  9.68s/it]\u001b[A\u001b[A\u001b[A\u001b[A\u001b[A\u001b[A\u001b[A\u001b[A\n",
            "\n",
            "\n",
            "\n",
            "\n",
            "\n",
            "\n",
            "\n",
            "\n",
            "\n",
            "\n",
            "\n",
            "\n",
            "perl-compress-raw-zl | 75 KB     | : 100% 1.0/1 [00:09<00:00, 10.28s/it]               \u001b[A\u001b[A\u001b[A\u001b[A\u001b[A\u001b[A\u001b[A\u001b[A\u001b[A\u001b[A\u001b[A\u001b[A\u001b[A\n",
            "\n",
            "\n",
            "\n",
            "\n",
            "\n",
            "\n",
            "\n",
            "\n",
            "\n",
            "\n",
            "\n",
            "\n",
            "perl-compress-raw-zl | 75 KB     | : 100% 1.0/1 [00:09<00:00, 10.28s/it]\u001b[A\u001b[A\u001b[A\u001b[A\u001b[A\u001b[A\u001b[A\u001b[A\u001b[A\u001b[A\u001b[A\u001b[A\u001b[A\n",
            "\n",
            "\n",
            "\n",
            "\n",
            "\n",
            "\n",
            "\n",
            "\n",
            "\n",
            "\n",
            "\n",
            "\n",
            "\n",
            "\n",
            "perl-json-4.10       | 56 KB     | : 100% 1.0/1 [00:10<00:00, 10.57s/it]               \u001b[A\u001b[A\u001b[A\u001b[A\u001b[A\u001b[A\u001b[A\u001b[A\u001b[A\u001b[A\u001b[A\u001b[A\u001b[A\u001b[A\u001b[A\n",
            "\n",
            "\n",
            "\n",
            "\n",
            "\n",
            "\n",
            "\n",
            "\n",
            "\n",
            "\n",
            "\n",
            "\n",
            "\n",
            "\n",
            "perl-json-4.10       | 56 KB     | : 100% 1.0/1 [00:10<00:00, 10.57s/it]\u001b[A\u001b[A\u001b[A\u001b[A\u001b[A\u001b[A\u001b[A\u001b[A\u001b[A\u001b[A\u001b[A\u001b[A\u001b[A\u001b[A\u001b[A\n",
            "\n",
            "\n",
            "\n",
            "\n",
            "\n",
            "\n",
            "\n",
            "\n",
            "\n",
            "\n",
            "\n",
            "\n",
            "\n",
            "\n",
            "\n",
            "libstdcxx-ng-14.1.0  | 51 KB     | : 100% 1.0/1 [00:10<00:00, 10.72s/it]                \u001b[A\u001b[A\u001b[A\u001b[A\u001b[A\u001b[A\u001b[A\u001b[A\u001b[A\u001b[A\u001b[A\u001b[A\u001b[A\u001b[A\u001b[A\u001b[A\n",
            "\n",
            "\n",
            "\n",
            "\n",
            "\n",
            "\n",
            "\n",
            "\n",
            "\n",
            "\n",
            "\n",
            "\n",
            "\n",
            "\n",
            "\n",
            "libstdcxx-ng-14.1.0  | 51 KB     | : 100% 1.0/1 [00:10<00:00, 10.72s/it]\u001b[A\u001b[A\u001b[A\u001b[A\u001b[A\u001b[A\u001b[A\u001b[A\u001b[A\u001b[A\u001b[A\u001b[A\u001b[A\u001b[A\u001b[A\u001b[A\n",
            "\n",
            "\n",
            "\n",
            "\n",
            "\n",
            "\n",
            "\n",
            "\n",
            "\n",
            "\n",
            "\n",
            "\n",
            "\n",
            "\n",
            "\n",
            "\n",
            "\n",
            "perl-compress-raw-bz | 48 KB     | : 100% 1.0/1 [00:10<00:00, 10.83s/it]                \u001b[A\u001b[A\u001b[A\u001b[A\u001b[A\u001b[A\u001b[A\u001b[A\u001b[A\u001b[A\u001b[A\u001b[A\u001b[A\u001b[A\u001b[A\u001b[A\u001b[A\u001b[A\n",
            "\n",
            "\n",
            "\n",
            "\n",
            "\n",
            "\n",
            "\n",
            "\n",
            "\n",
            "\n",
            "\n",
            "\n",
            "\n",
            "\n",
            "\n",
            "\n",
            "\n",
            "perl-compress-raw-bz | 48 KB     | : 100% 1.0/1 [00:10<00:00, 10.83s/it]\u001b[A\u001b[A\u001b[A\u001b[A\u001b[A\u001b[A\u001b[A\u001b[A\u001b[A\u001b[A\u001b[A\u001b[A\u001b[A\u001b[A\u001b[A\u001b[A\u001b[A\u001b[A\n",
            "\n",
            "\n",
            "\n",
            "\n",
            "\n",
            "\n",
            "\n",
            "\n",
            "\n",
            "\n",
            "\n",
            "\n",
            "\n",
            "\n",
            "\n",
            "\n",
            "perl-list-moreutils- | 50 KB     | : 100% 1.0/1 [00:10<00:00, 10.80s/it]                \u001b[A\u001b[A\u001b[A\u001b[A\u001b[A\u001b[A\u001b[A\u001b[A\u001b[A\u001b[A\u001b[A\u001b[A\u001b[A\u001b[A\u001b[A\u001b[A\u001b[A\n",
            "\n",
            "\n",
            "\n",
            "\n",
            "\n",
            "\n",
            "\n",
            "\n",
            "\n",
            "\n",
            "\n",
            "\n",
            "\n",
            "\n",
            "\n",
            "\n",
            "perl-list-moreutils- | 50 KB     | : 100% 1.0/1 [00:10<00:00, 10.80s/it]\u001b[A\u001b[A\u001b[A\u001b[A\u001b[A\u001b[A\u001b[A\u001b[A\u001b[A\u001b[A\u001b[A\u001b[A\u001b[A\u001b[A\u001b[A\u001b[A\u001b[A\n",
            "\n",
            "\n",
            "\n",
            "\n",
            "\n",
            "\n",
            "\n",
            "\n",
            "\n",
            "\n",
            "\n",
            "\n",
            "\n",
            "\n",
            "\n",
            "\n",
            "\n",
            "\n",
            " ... (more hidden) ...\u001b[A\u001b[A\u001b[A\u001b[A\u001b[A\u001b[A\u001b[A\u001b[A\u001b[A\u001b[A\u001b[A\u001b[A\u001b[A\u001b[A\u001b[A\u001b[A\u001b[A\u001b[A\u001b[A\n",
            "\n",
            "\n",
            "\n",
            "\n",
            "\n",
            "\n",
            "\n",
            "\n",
            "\n",
            "\n",
            "\n",
            "\n",
            "\n",
            "\n",
            "\n",
            "\n",
            "\n",
            "\n",
            " ... (more hidden) ...\u001b[A\u001b[A\u001b[A\u001b[A\u001b[A\u001b[A\u001b[A\u001b[A\u001b[A\u001b[A\u001b[A\u001b[A\u001b[A\u001b[A\u001b[A\u001b[A\u001b[A\u001b[A\u001b[A\n",
            "blast-2.16.0         | 143.0 MB  | : 100% 1.0/1 [00:42<00:00,  2.69s/it]               \n",
            "\n",
            "\n",
            "\n",
            "\n",
            "\n",
            "\n",
            "\n",
            "\n",
            "\n",
            "\n",
            "\n",
            "\n",
            "\n",
            "\n",
            "\n",
            "\n",
            "\n",
            "\n",
            "                                                                        \n",
            "                                                                        \u001b[A\n",
            "\n",
            "                                                                        \u001b[A\u001b[A\n",
            "\n",
            "\n",
            "                                                                        \u001b[A\u001b[A\u001b[A\n",
            "\n",
            "\n",
            "\n",
            "                                                                        \u001b[A\u001b[A\u001b[A\u001b[A\n",
            "\n",
            "\n",
            "\n",
            "\n",
            "                                                                        \u001b[A\u001b[A\u001b[A\u001b[A\u001b[A\n",
            "\n",
            "\n",
            "\n",
            "\n",
            "\n",
            "                                                                        \u001b[A\u001b[A\u001b[A\u001b[A\u001b[A\u001b[A\n",
            "\n",
            "\n",
            "\n",
            "\n",
            "\n",
            "\n",
            "                                                                        \u001b[A\u001b[A\u001b[A\u001b[A\u001b[A\u001b[A\u001b[A\n",
            "\n",
            "\n",
            "\n",
            "\n",
            "\n",
            "\n",
            "\n",
            "                                                                        \u001b[A\u001b[A\u001b[A\u001b[A\u001b[A\u001b[A\u001b[A\u001b[A\n",
            "\n",
            "\n",
            "\n",
            "\n",
            "\n",
            "\n",
            "\n",
            "\n",
            "                                                                        \u001b[A\u001b[A\u001b[A\u001b[A\u001b[A\u001b[A\u001b[A\u001b[A\u001b[A\n",
            "\n",
            "\n",
            "\n",
            "\n",
            "\n",
            "\n",
            "\n",
            "\n",
            "\n",
            "                                                                        \u001b[A\u001b[A\u001b[A\u001b[A\u001b[A\u001b[A\u001b[A\u001b[A\u001b[A\u001b[A\n",
            "\n",
            "\n",
            "\n",
            "\n",
            "\n",
            "\n",
            "\n",
            "\n",
            "\n",
            "\n",
            "                                                                        \u001b[A\u001b[A\u001b[A\u001b[A\u001b[A\u001b[A\u001b[A\u001b[A\u001b[A\u001b[A\u001b[A\n",
            "\n",
            "\n",
            "\n",
            "\n",
            "\n",
            "\n",
            "\n",
            "\n",
            "\n",
            "\n",
            "\n",
            "                                                                        \u001b[A\u001b[A\u001b[A\u001b[A\u001b[A\u001b[A\u001b[A\u001b[A\u001b[A\u001b[A\u001b[A\u001b[A\n",
            "\n",
            "\n",
            "\n",
            "\n",
            "\n",
            "\n",
            "\n",
            "\n",
            "\n",
            "\n",
            "\n",
            "\n",
            "                                                                        \u001b[A\u001b[A\u001b[A\u001b[A\u001b[A\u001b[A\u001b[A\u001b[A\u001b[A\u001b[A\u001b[A\u001b[A\u001b[A\n",
            "\n",
            "\n",
            "\n",
            "\n",
            "\n",
            "\n",
            "\n",
            "\n",
            "\n",
            "\n",
            "\n",
            "\n",
            "\n",
            "                                                                        \u001b[A\u001b[A\u001b[A\u001b[A\u001b[A\u001b[A\u001b[A\u001b[A\u001b[A\u001b[A\u001b[A\u001b[A\u001b[A\u001b[A\n",
            "\n",
            "\n",
            "\n",
            "\n",
            "\n",
            "\n",
            "\n",
            "\n",
            "\n",
            "\n",
            "\n",
            "\n",
            "\n",
            "\n",
            "                                                                        \u001b[A\u001b[A\u001b[A\u001b[A\u001b[A\u001b[A\u001b[A\u001b[A\u001b[A\u001b[A\u001b[A\u001b[A\u001b[A\u001b[A\u001b[A\n",
            "\n",
            "\n",
            "\n",
            "\n",
            "\n",
            "\n",
            "\n",
            "\n",
            "\n",
            "\n",
            "\n",
            "\n",
            "\n",
            "\n",
            "\n",
            "                                                                        \u001b[A\u001b[A\u001b[A\u001b[A\u001b[A\u001b[A\u001b[A\u001b[A\u001b[A\u001b[A\u001b[A\u001b[A\u001b[A\u001b[A\u001b[A\u001b[A\n",
            "\n",
            "\n",
            "\n",
            "\n",
            "\n",
            "\n",
            "\n",
            "\n",
            "\n",
            "\n",
            "\n",
            "\n",
            "\n",
            "\n",
            "\n",
            "\n",
            "                                                                        \u001b[A\u001b[A\u001b[A\u001b[A\u001b[A\u001b[A\u001b[A\u001b[A\u001b[A\u001b[A\u001b[A\u001b[A\u001b[A\u001b[A\u001b[A\u001b[A\u001b[A\n",
            "\n",
            "\n",
            "\n",
            "\n",
            "\n",
            "\n",
            "\n",
            "\n",
            "\n",
            "\n",
            "\n",
            "\n",
            "\n",
            "\n",
            "\n",
            "\n",
            "\n",
            "                                                                        \u001b[A\u001b[A\u001b[A\u001b[A\u001b[A\u001b[A\u001b[A\u001b[A\u001b[A\u001b[A\u001b[A\u001b[A\u001b[A\u001b[A\u001b[A\u001b[A\u001b[A\u001b[A\n",
            "\u001b[A\n",
            "\n",
            "\u001b[A\u001b[A\n",
            "\n",
            "\n",
            "\u001b[A\u001b[A\u001b[A\n",
            "\n",
            "\n",
            "\n",
            "\u001b[A\u001b[A\u001b[A\u001b[A\n",
            "\n",
            "\n",
            "\n",
            "\n",
            "\u001b[A\u001b[A\u001b[A\u001b[A\u001b[A\n",
            "\n",
            "\n",
            "\n",
            "\n",
            "\n",
            "\u001b[A\u001b[A\u001b[A\u001b[A\u001b[A\u001b[A\n",
            "\n",
            "\n",
            "\n",
            "\n",
            "\n",
            "\n",
            "\u001b[A\u001b[A\u001b[A\u001b[A\u001b[A\u001b[A\u001b[A\n",
            "\n",
            "\n",
            "\n",
            "\n",
            "\n",
            "\n",
            "\n",
            "\u001b[A\u001b[A\u001b[A\u001b[A\u001b[A\u001b[A\u001b[A\u001b[A\n",
            "\n",
            "\n",
            "\n",
            "\n",
            "\n",
            "\n",
            "\n",
            "\n",
            "\u001b[A\u001b[A\u001b[A\u001b[A\u001b[A\u001b[A\u001b[A\u001b[A\u001b[A\n",
            "\n",
            "\n",
            "\n",
            "\n",
            "\n",
            "\n",
            "\n",
            "\n",
            "\n",
            "\u001b[A\u001b[A\u001b[A\u001b[A\u001b[A\u001b[A\u001b[A\u001b[A\u001b[A\u001b[A\n",
            "Preparing transaction: | \b\b/ \b\bdone\n",
            "Verifying transaction: \\ \b\b| \b\b/ \b\b- \b\b\\ \b\b| \b\b/ \b\b- \b\b\\ \b\b| \b\b/ \b\b- \b\b\\ \b\bdone\n",
            "Executing transaction: / \b\b- \b\b\\ \b\b| \b\bdone\n"
          ]
        }
      ]
    },
    {
      "cell_type": "markdown",
      "source": [
        "## Download coding sequences"
      ],
      "metadata": {
        "id": "4fQZCAr_eqsN"
      }
    },
    {
      "cell_type": "code",
      "source": [
        "import pandas as pd\n",
        "import subprocess\n",
        "import os\n",
        "import subprocess"
      ],
      "metadata": {
        "id": "e8Cpyz7I6Fj4"
      },
      "execution_count": null,
      "outputs": []
    },
    {
      "cell_type": "code",
      "source": [],
      "metadata": {
        "id": "T_4ng4fEbArW"
      },
      "execution_count": null,
      "outputs": []
    },
    {
      "cell_type": "code",
      "source": [],
      "metadata": {
        "id": "h3DnIehfbA_r"
      },
      "execution_count": null,
      "outputs": []
    },
    {
      "cell_type": "code",
      "source": [
        "df = pd.read_excel('Assemblies_Team_Montes_de_Oca.xlsx', index_col = 0)"
      ],
      "metadata": {
        "id": "gljUkLKr6YgD"
      },
      "execution_count": null,
      "outputs": []
    },
    {
      "cell_type": "code",
      "source": [
        "df.head(3)"
      ],
      "metadata": {
        "id": "BsOtK9zi6Y_y",
        "colab": {
          "base_uri": "https://localhost:8080/",
          "height": 143
        },
        "outputId": "6eeffb07-83a5-4869-c6aa-4fcb0197f43e"
      },
      "execution_count": null,
      "outputs": [
        {
          "output_type": "execute_result",
          "data": {
            "text/plain": [
              "    BiosampleID          Organism Antibiotic Resistance Phenotype  \\\n",
              "0  SAMN05729964  Escherichia coli  ertapenem          susceptible   \n",
              "1  SAMN10620111  Escherichia coli  ertapenem          susceptible   \n",
              "2  SAMN10620168  Escherichia coli  ertapenem          susceptible   \n",
              "\n",
              "        AssemblyID  \n",
              "0  GCA_001747365.2  \n",
              "1  GCA_004567165.1  \n",
              "2  GCA_004567315.1  "
            ],
            "text/html": [
              "\n",
              "  <div id=\"df-c79af708-7e64-466f-8ce1-a04ac9f128aa\" class=\"colab-df-container\">\n",
              "    <div>\n",
              "<style scoped>\n",
              "    .dataframe tbody tr th:only-of-type {\n",
              "        vertical-align: middle;\n",
              "    }\n",
              "\n",
              "    .dataframe tbody tr th {\n",
              "        vertical-align: top;\n",
              "    }\n",
              "\n",
              "    .dataframe thead th {\n",
              "        text-align: right;\n",
              "    }\n",
              "</style>\n",
              "<table border=\"1\" class=\"dataframe\">\n",
              "  <thead>\n",
              "    <tr style=\"text-align: right;\">\n",
              "      <th></th>\n",
              "      <th>BiosampleID</th>\n",
              "      <th>Organism</th>\n",
              "      <th>Antibiotic</th>\n",
              "      <th>Resistance Phenotype</th>\n",
              "      <th>AssemblyID</th>\n",
              "    </tr>\n",
              "  </thead>\n",
              "  <tbody>\n",
              "    <tr>\n",
              "      <th>0</th>\n",
              "      <td>SAMN05729964</td>\n",
              "      <td>Escherichia coli</td>\n",
              "      <td>ertapenem</td>\n",
              "      <td>susceptible</td>\n",
              "      <td>GCA_001747365.2</td>\n",
              "    </tr>\n",
              "    <tr>\n",
              "      <th>1</th>\n",
              "      <td>SAMN10620111</td>\n",
              "      <td>Escherichia coli</td>\n",
              "      <td>ertapenem</td>\n",
              "      <td>susceptible</td>\n",
              "      <td>GCA_004567165.1</td>\n",
              "    </tr>\n",
              "    <tr>\n",
              "      <th>2</th>\n",
              "      <td>SAMN10620168</td>\n",
              "      <td>Escherichia coli</td>\n",
              "      <td>ertapenem</td>\n",
              "      <td>susceptible</td>\n",
              "      <td>GCA_004567315.1</td>\n",
              "    </tr>\n",
              "  </tbody>\n",
              "</table>\n",
              "</div>\n",
              "    <div class=\"colab-df-buttons\">\n",
              "\n",
              "  <div class=\"colab-df-container\">\n",
              "    <button class=\"colab-df-convert\" onclick=\"convertToInteractive('df-c79af708-7e64-466f-8ce1-a04ac9f128aa')\"\n",
              "            title=\"Convert this dataframe to an interactive table.\"\n",
              "            style=\"display:none;\">\n",
              "\n",
              "  <svg xmlns=\"http://www.w3.org/2000/svg\" height=\"24px\" viewBox=\"0 -960 960 960\">\n",
              "    <path d=\"M120-120v-720h720v720H120Zm60-500h600v-160H180v160Zm220 220h160v-160H400v160Zm0 220h160v-160H400v160ZM180-400h160v-160H180v160Zm440 0h160v-160H620v160ZM180-180h160v-160H180v160Zm440 0h160v-160H620v160Z\"/>\n",
              "  </svg>\n",
              "    </button>\n",
              "\n",
              "  <style>\n",
              "    .colab-df-container {\n",
              "      display:flex;\n",
              "      gap: 12px;\n",
              "    }\n",
              "\n",
              "    .colab-df-convert {\n",
              "      background-color: #E8F0FE;\n",
              "      border: none;\n",
              "      border-radius: 50%;\n",
              "      cursor: pointer;\n",
              "      display: none;\n",
              "      fill: #1967D2;\n",
              "      height: 32px;\n",
              "      padding: 0 0 0 0;\n",
              "      width: 32px;\n",
              "    }\n",
              "\n",
              "    .colab-df-convert:hover {\n",
              "      background-color: #E2EBFA;\n",
              "      box-shadow: 0px 1px 2px rgba(60, 64, 67, 0.3), 0px 1px 3px 1px rgba(60, 64, 67, 0.15);\n",
              "      fill: #174EA6;\n",
              "    }\n",
              "\n",
              "    .colab-df-buttons div {\n",
              "      margin-bottom: 4px;\n",
              "    }\n",
              "\n",
              "    [theme=dark] .colab-df-convert {\n",
              "      background-color: #3B4455;\n",
              "      fill: #D2E3FC;\n",
              "    }\n",
              "\n",
              "    [theme=dark] .colab-df-convert:hover {\n",
              "      background-color: #434B5C;\n",
              "      box-shadow: 0px 1px 3px 1px rgba(0, 0, 0, 0.15);\n",
              "      filter: drop-shadow(0px 1px 2px rgba(0, 0, 0, 0.3));\n",
              "      fill: #FFFFFF;\n",
              "    }\n",
              "  </style>\n",
              "\n",
              "    <script>\n",
              "      const buttonEl =\n",
              "        document.querySelector('#df-c79af708-7e64-466f-8ce1-a04ac9f128aa button.colab-df-convert');\n",
              "      buttonEl.style.display =\n",
              "        google.colab.kernel.accessAllowed ? 'block' : 'none';\n",
              "\n",
              "      async function convertToInteractive(key) {\n",
              "        const element = document.querySelector('#df-c79af708-7e64-466f-8ce1-a04ac9f128aa');\n",
              "        const dataTable =\n",
              "          await google.colab.kernel.invokeFunction('convertToInteractive',\n",
              "                                                    [key], {});\n",
              "        if (!dataTable) return;\n",
              "\n",
              "        const docLinkHtml = 'Like what you see? Visit the ' +\n",
              "          '<a target=\"_blank\" href=https://colab.research.google.com/notebooks/data_table.ipynb>data table notebook</a>'\n",
              "          + ' to learn more about interactive tables.';\n",
              "        element.innerHTML = '';\n",
              "        dataTable['output_type'] = 'display_data';\n",
              "        await google.colab.output.renderOutput(dataTable, element);\n",
              "        const docLink = document.createElement('div');\n",
              "        docLink.innerHTML = docLinkHtml;\n",
              "        element.appendChild(docLink);\n",
              "      }\n",
              "    </script>\n",
              "  </div>\n",
              "\n",
              "\n",
              "<div id=\"df-c5db928d-0d09-464c-978f-e6dbd07ec6b6\">\n",
              "  <button class=\"colab-df-quickchart\" onclick=\"quickchart('df-c5db928d-0d09-464c-978f-e6dbd07ec6b6')\"\n",
              "            title=\"Suggest charts\"\n",
              "            style=\"display:none;\">\n",
              "\n",
              "<svg xmlns=\"http://www.w3.org/2000/svg\" height=\"24px\"viewBox=\"0 0 24 24\"\n",
              "     width=\"24px\">\n",
              "    <g>\n",
              "        <path d=\"M19 3H5c-1.1 0-2 .9-2 2v14c0 1.1.9 2 2 2h14c1.1 0 2-.9 2-2V5c0-1.1-.9-2-2-2zM9 17H7v-7h2v7zm4 0h-2V7h2v10zm4 0h-2v-4h2v4z\"/>\n",
              "    </g>\n",
              "</svg>\n",
              "  </button>\n",
              "\n",
              "<style>\n",
              "  .colab-df-quickchart {\n",
              "      --bg-color: #E8F0FE;\n",
              "      --fill-color: #1967D2;\n",
              "      --hover-bg-color: #E2EBFA;\n",
              "      --hover-fill-color: #174EA6;\n",
              "      --disabled-fill-color: #AAA;\n",
              "      --disabled-bg-color: #DDD;\n",
              "  }\n",
              "\n",
              "  [theme=dark] .colab-df-quickchart {\n",
              "      --bg-color: #3B4455;\n",
              "      --fill-color: #D2E3FC;\n",
              "      --hover-bg-color: #434B5C;\n",
              "      --hover-fill-color: #FFFFFF;\n",
              "      --disabled-bg-color: #3B4455;\n",
              "      --disabled-fill-color: #666;\n",
              "  }\n",
              "\n",
              "  .colab-df-quickchart {\n",
              "    background-color: var(--bg-color);\n",
              "    border: none;\n",
              "    border-radius: 50%;\n",
              "    cursor: pointer;\n",
              "    display: none;\n",
              "    fill: var(--fill-color);\n",
              "    height: 32px;\n",
              "    padding: 0;\n",
              "    width: 32px;\n",
              "  }\n",
              "\n",
              "  .colab-df-quickchart:hover {\n",
              "    background-color: var(--hover-bg-color);\n",
              "    box-shadow: 0 1px 2px rgba(60, 64, 67, 0.3), 0 1px 3px 1px rgba(60, 64, 67, 0.15);\n",
              "    fill: var(--button-hover-fill-color);\n",
              "  }\n",
              "\n",
              "  .colab-df-quickchart-complete:disabled,\n",
              "  .colab-df-quickchart-complete:disabled:hover {\n",
              "    background-color: var(--disabled-bg-color);\n",
              "    fill: var(--disabled-fill-color);\n",
              "    box-shadow: none;\n",
              "  }\n",
              "\n",
              "  .colab-df-spinner {\n",
              "    border: 2px solid var(--fill-color);\n",
              "    border-color: transparent;\n",
              "    border-bottom-color: var(--fill-color);\n",
              "    animation:\n",
              "      spin 1s steps(1) infinite;\n",
              "  }\n",
              "\n",
              "  @keyframes spin {\n",
              "    0% {\n",
              "      border-color: transparent;\n",
              "      border-bottom-color: var(--fill-color);\n",
              "      border-left-color: var(--fill-color);\n",
              "    }\n",
              "    20% {\n",
              "      border-color: transparent;\n",
              "      border-left-color: var(--fill-color);\n",
              "      border-top-color: var(--fill-color);\n",
              "    }\n",
              "    30% {\n",
              "      border-color: transparent;\n",
              "      border-left-color: var(--fill-color);\n",
              "      border-top-color: var(--fill-color);\n",
              "      border-right-color: var(--fill-color);\n",
              "    }\n",
              "    40% {\n",
              "      border-color: transparent;\n",
              "      border-right-color: var(--fill-color);\n",
              "      border-top-color: var(--fill-color);\n",
              "    }\n",
              "    60% {\n",
              "      border-color: transparent;\n",
              "      border-right-color: var(--fill-color);\n",
              "    }\n",
              "    80% {\n",
              "      border-color: transparent;\n",
              "      border-right-color: var(--fill-color);\n",
              "      border-bottom-color: var(--fill-color);\n",
              "    }\n",
              "    90% {\n",
              "      border-color: transparent;\n",
              "      border-bottom-color: var(--fill-color);\n",
              "    }\n",
              "  }\n",
              "</style>\n",
              "\n",
              "  <script>\n",
              "    async function quickchart(key) {\n",
              "      const quickchartButtonEl =\n",
              "        document.querySelector('#' + key + ' button');\n",
              "      quickchartButtonEl.disabled = true;  // To prevent multiple clicks.\n",
              "      quickchartButtonEl.classList.add('colab-df-spinner');\n",
              "      try {\n",
              "        const charts = await google.colab.kernel.invokeFunction(\n",
              "            'suggestCharts', [key], {});\n",
              "      } catch (error) {\n",
              "        console.error('Error during call to suggestCharts:', error);\n",
              "      }\n",
              "      quickchartButtonEl.classList.remove('colab-df-spinner');\n",
              "      quickchartButtonEl.classList.add('colab-df-quickchart-complete');\n",
              "    }\n",
              "    (() => {\n",
              "      let quickchartButtonEl =\n",
              "        document.querySelector('#df-c5db928d-0d09-464c-978f-e6dbd07ec6b6 button');\n",
              "      quickchartButtonEl.style.display =\n",
              "        google.colab.kernel.accessAllowed ? 'block' : 'none';\n",
              "    })();\n",
              "  </script>\n",
              "</div>\n",
              "\n",
              "    </div>\n",
              "  </div>\n"
            ],
            "application/vnd.google.colaboratory.intrinsic+json": {
              "type": "dataframe",
              "variable_name": "df",
              "summary": "{\n  \"name\": \"df\",\n  \"rows\": 163,\n  \"fields\": [\n    {\n      \"column\": \"BiosampleID\",\n      \"properties\": {\n        \"dtype\": \"string\",\n        \"num_unique_values\": 162,\n        \"samples\": [\n          \"SAMN23219802\",\n          \"SAMN04122807\",\n          \"SAMN31087255\"\n        ],\n        \"semantic_type\": \"\",\n        \"description\": \"\"\n      }\n    },\n    {\n      \"column\": \"Organism\",\n      \"properties\": {\n        \"dtype\": \"category\",\n        \"num_unique_values\": 1,\n        \"samples\": [\n          \"Escherichia coli\"\n        ],\n        \"semantic_type\": \"\",\n        \"description\": \"\"\n      }\n    },\n    {\n      \"column\": \"Antibiotic\",\n      \"properties\": {\n        \"dtype\": \"category\",\n        \"num_unique_values\": 1,\n        \"samples\": [\n          \"ertapenem\"\n        ],\n        \"semantic_type\": \"\",\n        \"description\": \"\"\n      }\n    },\n    {\n      \"column\": \"Resistance Phenotype\",\n      \"properties\": {\n        \"dtype\": \"category\",\n        \"num_unique_values\": 2,\n        \"samples\": [\n          \"resistant\"\n        ],\n        \"semantic_type\": \"\",\n        \"description\": \"\"\n      }\n    },\n    {\n      \"column\": \"AssemblyID\",\n      \"properties\": {\n        \"dtype\": \"string\",\n        \"num_unique_values\": 162,\n        \"samples\": [\n          \"GCA_020985225.1\"\n        ],\n        \"semantic_type\": \"\",\n        \"description\": \"\"\n      }\n    }\n  ]\n}"
            }
          },
          "metadata": {},
          "execution_count": 35
        }
      ]
    },
    {
      "cell_type": "code",
      "source": [
        "df.shape"
      ],
      "metadata": {
        "id": "iRuW6iRYZ5sH",
        "colab": {
          "base_uri": "https://localhost:8080/"
        },
        "outputId": "b13f6a21-3fe8-4129-8386-5c7289843310"
      },
      "execution_count": null,
      "outputs": [
        {
          "output_type": "execute_result",
          "data": {
            "text/plain": [
              "(163, 5)"
            ]
          },
          "metadata": {},
          "execution_count": 4
        }
      ]
    },
    {
      "cell_type": "code",
      "source": [
        "! mkdir cds_files"
      ],
      "metadata": {
        "id": "LRsQKGtzkpOh"
      },
      "execution_count": null,
      "outputs": []
    },
    {
      "cell_type": "code",
      "source": [
        "! mkdir ./coding_sequences"
      ],
      "metadata": {
        "id": "9Ea02oSRO20f"
      },
      "execution_count": null,
      "outputs": []
    },
    {
      "cell_type": "code",
      "source": [
        "for i in range(len(df['AssemblyID'].values)):\n",
        "    assemblyid = df['AssemblyID'].values[i]\n",
        "    subprocess.run(f'datasets download genome accession {assemblyid} --filename ./cds_files/{assemblyid}.zip --annotated --include cds', shell=True)\n",
        "    subprocess.run(f'unzip ./cds_files/{assemblyid}.zip -d ./cds_files/{assemblyid}', shell=True)\n",
        "    subprocess.run(f'mv ./cds_files/{assemblyid}/ncbi_dataset/data/{assemblyid}/cds_from_genomic.fna ./coding_sequences/cds_{assemblyid}.fasta', shell=True)\n",
        "    subprocess.run(f'rm ./cds_files/{assemblyid}.zip', shell=True)"
      ],
      "metadata": {
        "id": "9hpROWlTLTbv"
      },
      "execution_count": null,
      "outputs": []
    },
    {
      "cell_type": "markdown",
      "source": [
        "## Download IS database"
      ],
      "metadata": {
        "id": "ZybBxPkSRaPr"
      }
    },
    {
      "cell_type": "code",
      "source": [
        "! wget https://github.com/thanhleviet/ISfinder-sequences/raw/master/IS.fna"
      ],
      "metadata": {
        "id": "Ibqt0WyjPkdv",
        "colab": {
          "base_uri": "https://localhost:8080/"
        },
        "outputId": "e0d5cae5-8348-4503-bd43-041b54a77255"
      },
      "execution_count": null,
      "outputs": [
        {
          "output_type": "stream",
          "name": "stdout",
          "text": [
            "--2024-09-25 16:21:16--  https://github.com/thanhleviet/ISfinder-sequences/raw/master/IS.fna\n",
            "Resolving github.com (github.com)... 140.82.114.3\n",
            "Connecting to github.com (github.com)|140.82.114.3|:443... connected.\n",
            "HTTP request sent, awaiting response... 302 Found\n",
            "Location: https://raw.githubusercontent.com/thanhleviet/ISfinder-sequences/master/IS.fna [following]\n",
            "--2024-09-25 16:21:17--  https://raw.githubusercontent.com/thanhleviet/ISfinder-sequences/master/IS.fna\n",
            "Resolving raw.githubusercontent.com (raw.githubusercontent.com)... 185.199.109.133, 185.199.111.133, 185.199.108.133, ...\n",
            "Connecting to raw.githubusercontent.com (raw.githubusercontent.com)|185.199.109.133|:443... connected.\n",
            "HTTP request sent, awaiting response... 200 OK\n",
            "Length: 8697930 (8.3M) [text/plain]\n",
            "Saving to: ‘IS.fna’\n",
            "\n",
            "IS.fna              100%[===================>]   8.29M  --.-KB/s    in 0.05s   \n",
            "\n",
            "2024-09-25 16:21:17 (170 MB/s) - ‘IS.fna’ saved [8697930/8697930]\n",
            "\n"
          ]
        }
      ]
    },
    {
      "cell_type": "code",
      "source": [
        "! makeblastdb -dbtype nucl -in IS.fna"
      ],
      "metadata": {
        "id": "_6rpcnuvTm91",
        "colab": {
          "base_uri": "https://localhost:8080/"
        },
        "outputId": "39b59b80-4a58-4d24-e078-dba91893335e"
      },
      "execution_count": null,
      "outputs": [
        {
          "output_type": "stream",
          "name": "stdout",
          "text": [
            "\n",
            "\n",
            "Building a new DB, current time: 09/25/2024 16:37:30\n",
            "New DB name:   /content/IS.fna\n",
            "New DB title:  IS.fna\n",
            "Sequence type: Nucleotide\n",
            "Deleted existing Nucleotide BLAST database named /content/IS.fna\n",
            "Keep MBits: T\n",
            "Maximum file size: 3000000000B\n",
            "Adding sequences from FASTA; added 5970 sequences in 0.341297 seconds.\n",
            "\n",
            "\n"
          ]
        }
      ]
    },
    {
      "cell_type": "code",
      "source": [],
      "metadata": {
        "id": "l9Fz8q9IABPr"
      },
      "execution_count": null,
      "outputs": []
    },
    {
      "cell_type": "code",
      "source": [],
      "metadata": {
        "id": "xcOcX-R1_7Vg"
      },
      "execution_count": null,
      "outputs": []
    },
    {
      "cell_type": "code",
      "source": [],
      "metadata": {
        "id": "yZRsFy_y_rmN"
      },
      "execution_count": null,
      "outputs": []
    },
    {
      "cell_type": "markdown",
      "source": [
        "## Download CARD database"
      ],
      "metadata": {
        "id": "VXzwV8zjZYzR"
      }
    },
    {
      "cell_type": "code",
      "source": [
        "! wget https://card.mcmaster.ca/download/0/broadstreet-v3.3.0.tar.bz2"
      ],
      "metadata": {
        "id": "U7vuTwLqZfdC",
        "colab": {
          "base_uri": "https://localhost:8080/"
        },
        "outputId": "9dc3fc44-e322-40e8-cbe8-160365306667"
      },
      "execution_count": null,
      "outputs": [
        {
          "output_type": "stream",
          "name": "stdout",
          "text": [
            "--2024-09-25 16:33:09--  https://card.mcmaster.ca/download/0/broadstreet-v3.3.0.tar.bz2\n",
            "Resolving card.mcmaster.ca (card.mcmaster.ca)... 130.113.77.126\n",
            "Connecting to card.mcmaster.ca (card.mcmaster.ca)|130.113.77.126|:443... connected.\n",
            "HTTP request sent, awaiting response... 200 OK\n",
            "Length: 4008812 (3.8M) [application/x-bzip2]\n",
            "Saving to: ‘broadstreet-v3.3.0.tar.bz2’\n",
            "\n",
            "broadstreet-v3.3.0. 100%[===================>]   3.82M  23.2MB/s    in 0.2s    \n",
            "\n",
            "2024-09-25 16:33:09 (23.2 MB/s) - ‘broadstreet-v3.3.0.tar.bz2’ saved [4008812/4008812]\n",
            "\n"
          ]
        }
      ]
    },
    {
      "cell_type": "code",
      "source": [
        "! tar -xvjf broadstreet-v3.3.0.tar.bz2"
      ],
      "metadata": {
        "id": "NIRqLNTLb_YA",
        "colab": {
          "base_uri": "https://localhost:8080/"
        },
        "outputId": "985ab504-f942-4a0d-ad91-8c1e0e54f9c7"
      },
      "execution_count": null,
      "outputs": [
        {
          "output_type": "stream",
          "name": "stdout",
          "text": [
            "./\n",
            "./aro_categories.tsv\n",
            "./protein_fasta_protein_homolog_model.fasta\n",
            "./nucleotide_fasta_protein_homolog_model.fasta\n",
            "./protein_fasta_protein_overexpression_model.fasta\n",
            "./shortname_antibiotics.tsv\n",
            "./nucleotide_fasta_protein_overexpression_model.fasta\n",
            "./shortname_pathogens.tsv\n",
            "./protein_fasta_protein_knockout_model.fasta\n",
            "./aro_index.tsv\n",
            "./nucleotide_fasta_protein_variant_model.fasta\n",
            "./protein_fasta_protein_variant_model.fasta\n",
            "./CARD-Download-README.txt\n",
            "./aro_categories_index.tsv\n",
            "./card.json\n",
            "./nucleotide_fasta_rRNA_gene_variant_model.fasta\n",
            "./nucleotide_fasta_protein_knockout_model.fasta\n",
            "./snps.txt\n"
          ]
        }
      ]
    },
    {
      "cell_type": "code",
      "source": [
        "! makeblastdb -dbtype nucl -in nucleotide_fasta_protein_homolog_model.fasta"
      ],
      "metadata": {
        "id": "_jPcTnkVfIKz",
        "colab": {
          "base_uri": "https://localhost:8080/"
        },
        "outputId": "1d0a6208-749b-464c-e511-bcb676dbc472"
      },
      "execution_count": null,
      "outputs": [
        {
          "output_type": "stream",
          "name": "stdout",
          "text": [
            "\n",
            "\n",
            "Building a new DB, current time: 09/25/2024 16:33:22\n",
            "New DB name:   /content/nucleotide_fasta_protein_homolog_model.fasta\n",
            "New DB title:  nucleotide_fasta_protein_homolog_model.fasta\n",
            "Sequence type: Nucleotide\n",
            "Keep MBits: T\n",
            "Maximum file size: 3000000000B\n",
            "Adding sequences from FASTA; added 4840 sequences in 0.259217 seconds.\n",
            "\n",
            "\n"
          ]
        }
      ]
    },
    {
      "cell_type": "code",
      "source": [
        "! wget https://card.mcmaster.ca/download/5/ontology-v3.3.0.tar.bz2"
      ],
      "metadata": {
        "id": "ftsbNnj_8hFO",
        "colab": {
          "base_uri": "https://localhost:8080/"
        },
        "outputId": "04520104-7761-4646-9725-1cc5855f382b"
      },
      "execution_count": null,
      "outputs": [
        {
          "output_type": "stream",
          "name": "stdout",
          "text": [
            "--2024-09-25 16:33:31--  https://card.mcmaster.ca/download/5/ontology-v3.3.0.tar.bz2\n",
            "Resolving card.mcmaster.ca (card.mcmaster.ca)... 130.113.77.126\n",
            "Connecting to card.mcmaster.ca (card.mcmaster.ca)|130.113.77.126|:443... connected.\n",
            "HTTP request sent, awaiting response... 200 OK\n",
            "Length: 1001109 (978K) [application/x-bzip2]\n",
            "Saving to: ‘ontology-v3.3.0.tar.bz2’\n",
            "\n",
            "ontology-v3.3.0.tar 100%[===================>] 977.65K  --.-KB/s    in 0.1s    \n",
            "\n",
            "2024-09-25 16:33:32 (8.01 MB/s) - ‘ontology-v3.3.0.tar.bz2’ saved [1001109/1001109]\n",
            "\n"
          ]
        }
      ]
    },
    {
      "cell_type": "code",
      "source": [
        "! tar -xvjf ontology-v3.3.0.tar.bz2"
      ],
      "metadata": {
        "id": "YbrKXs0j8nPp",
        "colab": {
          "base_uri": "https://localhost:8080/"
        },
        "outputId": "49a07952-a149-48e9-8561-60200233f5cf"
      },
      "execution_count": null,
      "outputs": [
        {
          "output_type": "stream",
          "name": "stdout",
          "text": [
            "./\n",
            "./aro.tsv\n",
            "./ro.json\n",
            "./aro.owl\n",
            "./ro.obo\n",
            "./mo.obo\n",
            "./ncbi_taxonomy.obo\n",
            "./ro.tsv\n",
            "./viro.owl\n",
            "./Ontology-Download-README.txt\n",
            "./mo.json\n",
            "./mo.tsv\n",
            "./aro.obo\n",
            "./viro.obo\n",
            "./ncbi_taxonomy.tsv\n",
            "./aro.json\n",
            "./ncbi_taxonomy.json\n"
          ]
        }
      ]
    },
    {
      "cell_type": "code",
      "source": [
        "card_df = pd.read_csv('aro_index.tsv', sep = '\\t', header = 0)"
      ],
      "metadata": {
        "id": "6GrtX-y_9iw4"
      },
      "execution_count": null,
      "outputs": []
    },
    {
      "cell_type": "code",
      "source": [
        "card_df.head(1)"
      ],
      "metadata": {
        "id": "RrQvwuBb-FqR",
        "colab": {
          "base_uri": "https://localhost:8080/",
          "height": 188
        },
        "outputId": "7a6b1784-0ad4-40a3-d7af-bfcae164c237"
      },
      "execution_count": null,
      "outputs": [
        {
          "output_type": "execute_result",
          "data": {
            "text/plain": [
              "  ARO Accession  CVTERM ID  Model Sequence ID  Model ID  \\\n",
              "0   ARO:3005099      43314               6143      3831   \n",
              "\n",
              "                                          Model Name  \\\n",
              "0  23S rRNA (adenine(2058)-N(6))-methyltransferas...   \n",
              "\n",
              "                                            ARO Name Protein Accession  \\\n",
              "0  23S rRNA (adenine(2058)-N(6))-methyltransferas...        AAB60941.1   \n",
              "\n",
              "  DNA Accession                          AMR Gene Family  \\\n",
              "0    AF002716.1  Erm 23S ribosomal RNA methyltransferase   \n",
              "\n",
              "                                          Drug Class  \\\n",
              "0  lincosamide antibiotic;macrolide antibiotic;st...   \n",
              "\n",
              "           Resistance Mechanism CARD Short Name  \n",
              "0  antibiotic target alteration  Spyo_ErmA_MLSb  "
            ],
            "text/html": [
              "\n",
              "  <div id=\"df-a1af4293-fec3-4b3e-a1f4-69c3b94e7183\" class=\"colab-df-container\">\n",
              "    <div>\n",
              "<style scoped>\n",
              "    .dataframe tbody tr th:only-of-type {\n",
              "        vertical-align: middle;\n",
              "    }\n",
              "\n",
              "    .dataframe tbody tr th {\n",
              "        vertical-align: top;\n",
              "    }\n",
              "\n",
              "    .dataframe thead th {\n",
              "        text-align: right;\n",
              "    }\n",
              "</style>\n",
              "<table border=\"1\" class=\"dataframe\">\n",
              "  <thead>\n",
              "    <tr style=\"text-align: right;\">\n",
              "      <th></th>\n",
              "      <th>ARO Accession</th>\n",
              "      <th>CVTERM ID</th>\n",
              "      <th>Model Sequence ID</th>\n",
              "      <th>Model ID</th>\n",
              "      <th>Model Name</th>\n",
              "      <th>ARO Name</th>\n",
              "      <th>Protein Accession</th>\n",
              "      <th>DNA Accession</th>\n",
              "      <th>AMR Gene Family</th>\n",
              "      <th>Drug Class</th>\n",
              "      <th>Resistance Mechanism</th>\n",
              "      <th>CARD Short Name</th>\n",
              "    </tr>\n",
              "  </thead>\n",
              "  <tbody>\n",
              "    <tr>\n",
              "      <th>0</th>\n",
              "      <td>ARO:3005099</td>\n",
              "      <td>43314</td>\n",
              "      <td>6143</td>\n",
              "      <td>3831</td>\n",
              "      <td>23S rRNA (adenine(2058)-N(6))-methyltransferas...</td>\n",
              "      <td>23S rRNA (adenine(2058)-N(6))-methyltransferas...</td>\n",
              "      <td>AAB60941.1</td>\n",
              "      <td>AF002716.1</td>\n",
              "      <td>Erm 23S ribosomal RNA methyltransferase</td>\n",
              "      <td>lincosamide antibiotic;macrolide antibiotic;st...</td>\n",
              "      <td>antibiotic target alteration</td>\n",
              "      <td>Spyo_ErmA_MLSb</td>\n",
              "    </tr>\n",
              "  </tbody>\n",
              "</table>\n",
              "</div>\n",
              "    <div class=\"colab-df-buttons\">\n",
              "\n",
              "  <div class=\"colab-df-container\">\n",
              "    <button class=\"colab-df-convert\" onclick=\"convertToInteractive('df-a1af4293-fec3-4b3e-a1f4-69c3b94e7183')\"\n",
              "            title=\"Convert this dataframe to an interactive table.\"\n",
              "            style=\"display:none;\">\n",
              "\n",
              "  <svg xmlns=\"http://www.w3.org/2000/svg\" height=\"24px\" viewBox=\"0 -960 960 960\">\n",
              "    <path d=\"M120-120v-720h720v720H120Zm60-500h600v-160H180v160Zm220 220h160v-160H400v160Zm0 220h160v-160H400v160ZM180-400h160v-160H180v160Zm440 0h160v-160H620v160ZM180-180h160v-160H180v160Zm440 0h160v-160H620v160Z\"/>\n",
              "  </svg>\n",
              "    </button>\n",
              "\n",
              "  <style>\n",
              "    .colab-df-container {\n",
              "      display:flex;\n",
              "      gap: 12px;\n",
              "    }\n",
              "\n",
              "    .colab-df-convert {\n",
              "      background-color: #E8F0FE;\n",
              "      border: none;\n",
              "      border-radius: 50%;\n",
              "      cursor: pointer;\n",
              "      display: none;\n",
              "      fill: #1967D2;\n",
              "      height: 32px;\n",
              "      padding: 0 0 0 0;\n",
              "      width: 32px;\n",
              "    }\n",
              "\n",
              "    .colab-df-convert:hover {\n",
              "      background-color: #E2EBFA;\n",
              "      box-shadow: 0px 1px 2px rgba(60, 64, 67, 0.3), 0px 1px 3px 1px rgba(60, 64, 67, 0.15);\n",
              "      fill: #174EA6;\n",
              "    }\n",
              "\n",
              "    .colab-df-buttons div {\n",
              "      margin-bottom: 4px;\n",
              "    }\n",
              "\n",
              "    [theme=dark] .colab-df-convert {\n",
              "      background-color: #3B4455;\n",
              "      fill: #D2E3FC;\n",
              "    }\n",
              "\n",
              "    [theme=dark] .colab-df-convert:hover {\n",
              "      background-color: #434B5C;\n",
              "      box-shadow: 0px 1px 3px 1px rgba(0, 0, 0, 0.15);\n",
              "      filter: drop-shadow(0px 1px 2px rgba(0, 0, 0, 0.3));\n",
              "      fill: #FFFFFF;\n",
              "    }\n",
              "  </style>\n",
              "\n",
              "    <script>\n",
              "      const buttonEl =\n",
              "        document.querySelector('#df-a1af4293-fec3-4b3e-a1f4-69c3b94e7183 button.colab-df-convert');\n",
              "      buttonEl.style.display =\n",
              "        google.colab.kernel.accessAllowed ? 'block' : 'none';\n",
              "\n",
              "      async function convertToInteractive(key) {\n",
              "        const element = document.querySelector('#df-a1af4293-fec3-4b3e-a1f4-69c3b94e7183');\n",
              "        const dataTable =\n",
              "          await google.colab.kernel.invokeFunction('convertToInteractive',\n",
              "                                                    [key], {});\n",
              "        if (!dataTable) return;\n",
              "\n",
              "        const docLinkHtml = 'Like what you see? Visit the ' +\n",
              "          '<a target=\"_blank\" href=https://colab.research.google.com/notebooks/data_table.ipynb>data table notebook</a>'\n",
              "          + ' to learn more about interactive tables.';\n",
              "        element.innerHTML = '';\n",
              "        dataTable['output_type'] = 'display_data';\n",
              "        await google.colab.output.renderOutput(dataTable, element);\n",
              "        const docLink = document.createElement('div');\n",
              "        docLink.innerHTML = docLinkHtml;\n",
              "        element.appendChild(docLink);\n",
              "      }\n",
              "    </script>\n",
              "  </div>\n",
              "\n",
              "\n",
              "    </div>\n",
              "  </div>\n"
            ],
            "application/vnd.google.colaboratory.intrinsic+json": {
              "type": "dataframe",
              "variable_name": "card_df",
              "summary": "{\n  \"name\": \"card_df\",\n  \"rows\": 5227,\n  \"fields\": [\n    {\n      \"column\": \"ARO Accession\",\n      \"properties\": {\n        \"dtype\": \"string\",\n        \"num_unique_values\": 5222,\n        \"samples\": [\n          \"ARO:3006433\",\n          \"ARO:3003445\",\n          \"ARO:3005061\"\n        ],\n        \"semantic_type\": \"\",\n        \"description\": \"\"\n      }\n    },\n    {\n      \"column\": \"CVTERM ID\",\n      \"properties\": {\n        \"dtype\": \"number\",\n        \"std\": 3044,\n        \"min\": 36014,\n        \"max\": 46629,\n        \"num_unique_values\": 5222,\n        \"samples\": [\n          44895,\n          40038,\n          43265\n        ],\n        \"semantic_type\": \"\",\n        \"description\": \"\"\n      }\n    },\n    {\n      \"column\": \"Model Sequence ID\",\n      \"properties\": {\n        \"dtype\": \"number\",\n        \"std\": 2791,\n        \"min\": 1,\n        \"max\": 8887,\n        \"num_unique_values\": 5227,\n        \"samples\": [\n          7170,\n          7282,\n          1712\n        ],\n        \"semantic_type\": \"\",\n        \"description\": \"\"\n      }\n    },\n    {\n      \"column\": \"Model ID\",\n      \"properties\": {\n        \"dtype\": \"number\",\n        \"std\": 1858,\n        \"min\": 1,\n        \"max\": 6063,\n        \"num_unique_values\": 5227,\n        \"samples\": [\n          4795,\n          4907,\n          1080\n        ],\n        \"semantic_type\": \"\",\n        \"description\": \"\"\n      }\n    },\n    {\n      \"column\": \"Model Name\",\n      \"properties\": {\n        \"dtype\": \"string\",\n        \"num_unique_values\": 5222,\n        \"samples\": [\n          \"ADC-53\",\n          \"Mycobacterium tuberculosis tlyA mutations conferring resistance to aminoglycosides\",\n          \"AAC(3)-IVb\"\n        ],\n        \"semantic_type\": \"\",\n        \"description\": \"\"\n      }\n    },\n    {\n      \"column\": \"ARO Name\",\n      \"properties\": {\n        \"dtype\": \"string\",\n        \"num_unique_values\": 5222,\n        \"samples\": [\n          \"ADC-53\",\n          \"Mycobacterium tuberculosis tlyA mutations conferring resistance to aminoglycosides\",\n          \"AAC(3)-IVb\"\n        ],\n        \"semantic_type\": \"\",\n        \"description\": \"\"\n      }\n    },\n    {\n      \"column\": \"Protein Accession\",\n      \"properties\": {\n        \"dtype\": \"string\",\n        \"num_unique_values\": 5107,\n        \"samples\": [\n          \"ABC17628.1\",\n          \"ADF62940.1\",\n          \"APY23841.1\"\n        ],\n        \"semantic_type\": \"\",\n        \"description\": \"\"\n      }\n    },\n    {\n      \"column\": \"DNA Accession\",\n      \"properties\": {\n        \"dtype\": \"string\",\n        \"num_unique_values\": 4773,\n        \"samples\": [\n          \"EF614235.1\",\n          \"EU675686.1\",\n          \"EU118148.2\"\n        ],\n        \"semantic_type\": \"\",\n        \"description\": \"\"\n      }\n    },\n    {\n      \"column\": \"AMR Gene Family\",\n      \"properties\": {\n        \"dtype\": \"category\",\n        \"num_unique_values\": 515,\n        \"samples\": [\n          \"isoniazid resistant mshA\",\n          \"streptogramin vat acetyltransferase\",\n          \"SHD beta-lactamase\"\n        ],\n        \"semantic_type\": \"\",\n        \"description\": \"\"\n      }\n    },\n    {\n      \"column\": \"Drug Class\",\n      \"properties\": {\n        \"dtype\": \"category\",\n        \"num_unique_values\": 182,\n        \"samples\": [\n          \"cephalosporin;cephamycin;fluoroquinolone antibiotic;penam\",\n          \"cephalosporin;cephamycin;penam;penem\",\n          \"oxazolidinone antibiotic;phenicol antibiotic\"\n        ],\n        \"semantic_type\": \"\",\n        \"description\": \"\"\n      }\n    },\n    {\n      \"column\": \"Resistance Mechanism\",\n      \"properties\": {\n        \"dtype\": \"category\",\n        \"num_unique_values\": 15,\n        \"samples\": [\n          \"antibiotic efflux;antibiotic target alteration;reduced permeability to antibiotic\",\n          \"antibiotic efflux;reduced permeability to antibiotic\",\n          \"antibiotic target alteration\"\n        ],\n        \"semantic_type\": \"\",\n        \"description\": \"\"\n      }\n    },\n    {\n      \"column\": \"CARD Short Name\",\n      \"properties\": {\n        \"dtype\": \"string\",\n        \"num_unique_values\": 5222,\n        \"samples\": [\n          \"ADC-53\",\n          \"Mtub_tlyA_AMG\",\n          \"AAC(3)-IVb\"\n        ],\n        \"semantic_type\": \"\",\n        \"description\": \"\"\n      }\n    }\n  ]\n}"
            }
          },
          "metadata": {},
          "execution_count": 43
        }
      ]
    },
    {
      "cell_type": "code",
      "source": [
        "card_df.loc[card_df['ARO Accession'] == 'ARO:3003841']"
      ],
      "metadata": {
        "id": "SQUg-cO5-RMv",
        "colab": {
          "base_uri": "https://localhost:8080/",
          "height": 153
        },
        "outputId": "414aab66-1433-4389-e96d-01f973cc595c"
      },
      "execution_count": null,
      "outputs": [
        {
          "output_type": "execute_result",
          "data": {
            "text/plain": [
              "     ARO Accession  CVTERM ID  Model Sequence ID  Model ID Model Name  \\\n",
              "1906   ARO:3003841      40534               5205      2331       kdpE   \n",
              "\n",
              "     ARO Name Protein Accession DNA Accession AMR Gene Family  \\\n",
              "1906     kdpE        AAC73788.1      U00096.3           kdpDE   \n",
              "\n",
              "                     Drug Class Resistance Mechanism CARD Short Name  \n",
              "1906  aminoglycoside antibiotic    antibiotic efflux            kdpE  "
            ],
            "text/html": [
              "\n",
              "  <div id=\"df-2db8a1e2-b152-41e3-8151-d3545f01deba\" class=\"colab-df-container\">\n",
              "    <div>\n",
              "<style scoped>\n",
              "    .dataframe tbody tr th:only-of-type {\n",
              "        vertical-align: middle;\n",
              "    }\n",
              "\n",
              "    .dataframe tbody tr th {\n",
              "        vertical-align: top;\n",
              "    }\n",
              "\n",
              "    .dataframe thead th {\n",
              "        text-align: right;\n",
              "    }\n",
              "</style>\n",
              "<table border=\"1\" class=\"dataframe\">\n",
              "  <thead>\n",
              "    <tr style=\"text-align: right;\">\n",
              "      <th></th>\n",
              "      <th>ARO Accession</th>\n",
              "      <th>CVTERM ID</th>\n",
              "      <th>Model Sequence ID</th>\n",
              "      <th>Model ID</th>\n",
              "      <th>Model Name</th>\n",
              "      <th>ARO Name</th>\n",
              "      <th>Protein Accession</th>\n",
              "      <th>DNA Accession</th>\n",
              "      <th>AMR Gene Family</th>\n",
              "      <th>Drug Class</th>\n",
              "      <th>Resistance Mechanism</th>\n",
              "      <th>CARD Short Name</th>\n",
              "    </tr>\n",
              "  </thead>\n",
              "  <tbody>\n",
              "    <tr>\n",
              "      <th>1906</th>\n",
              "      <td>ARO:3003841</td>\n",
              "      <td>40534</td>\n",
              "      <td>5205</td>\n",
              "      <td>2331</td>\n",
              "      <td>kdpE</td>\n",
              "      <td>kdpE</td>\n",
              "      <td>AAC73788.1</td>\n",
              "      <td>U00096.3</td>\n",
              "      <td>kdpDE</td>\n",
              "      <td>aminoglycoside antibiotic</td>\n",
              "      <td>antibiotic efflux</td>\n",
              "      <td>kdpE</td>\n",
              "    </tr>\n",
              "  </tbody>\n",
              "</table>\n",
              "</div>\n",
              "    <div class=\"colab-df-buttons\">\n",
              "\n",
              "  <div class=\"colab-df-container\">\n",
              "    <button class=\"colab-df-convert\" onclick=\"convertToInteractive('df-2db8a1e2-b152-41e3-8151-d3545f01deba')\"\n",
              "            title=\"Convert this dataframe to an interactive table.\"\n",
              "            style=\"display:none;\">\n",
              "\n",
              "  <svg xmlns=\"http://www.w3.org/2000/svg\" height=\"24px\" viewBox=\"0 -960 960 960\">\n",
              "    <path d=\"M120-120v-720h720v720H120Zm60-500h600v-160H180v160Zm220 220h160v-160H400v160Zm0 220h160v-160H400v160ZM180-400h160v-160H180v160Zm440 0h160v-160H620v160ZM180-180h160v-160H180v160Zm440 0h160v-160H620v160Z\"/>\n",
              "  </svg>\n",
              "    </button>\n",
              "\n",
              "  <style>\n",
              "    .colab-df-container {\n",
              "      display:flex;\n",
              "      gap: 12px;\n",
              "    }\n",
              "\n",
              "    .colab-df-convert {\n",
              "      background-color: #E8F0FE;\n",
              "      border: none;\n",
              "      border-radius: 50%;\n",
              "      cursor: pointer;\n",
              "      display: none;\n",
              "      fill: #1967D2;\n",
              "      height: 32px;\n",
              "      padding: 0 0 0 0;\n",
              "      width: 32px;\n",
              "    }\n",
              "\n",
              "    .colab-df-convert:hover {\n",
              "      background-color: #E2EBFA;\n",
              "      box-shadow: 0px 1px 2px rgba(60, 64, 67, 0.3), 0px 1px 3px 1px rgba(60, 64, 67, 0.15);\n",
              "      fill: #174EA6;\n",
              "    }\n",
              "\n",
              "    .colab-df-buttons div {\n",
              "      margin-bottom: 4px;\n",
              "    }\n",
              "\n",
              "    [theme=dark] .colab-df-convert {\n",
              "      background-color: #3B4455;\n",
              "      fill: #D2E3FC;\n",
              "    }\n",
              "\n",
              "    [theme=dark] .colab-df-convert:hover {\n",
              "      background-color: #434B5C;\n",
              "      box-shadow: 0px 1px 3px 1px rgba(0, 0, 0, 0.15);\n",
              "      filter: drop-shadow(0px 1px 2px rgba(0, 0, 0, 0.3));\n",
              "      fill: #FFFFFF;\n",
              "    }\n",
              "  </style>\n",
              "\n",
              "    <script>\n",
              "      const buttonEl =\n",
              "        document.querySelector('#df-2db8a1e2-b152-41e3-8151-d3545f01deba button.colab-df-convert');\n",
              "      buttonEl.style.display =\n",
              "        google.colab.kernel.accessAllowed ? 'block' : 'none';\n",
              "\n",
              "      async function convertToInteractive(key) {\n",
              "        const element = document.querySelector('#df-2db8a1e2-b152-41e3-8151-d3545f01deba');\n",
              "        const dataTable =\n",
              "          await google.colab.kernel.invokeFunction('convertToInteractive',\n",
              "                                                    [key], {});\n",
              "        if (!dataTable) return;\n",
              "\n",
              "        const docLinkHtml = 'Like what you see? Visit the ' +\n",
              "          '<a target=\"_blank\" href=https://colab.research.google.com/notebooks/data_table.ipynb>data table notebook</a>'\n",
              "          + ' to learn more about interactive tables.';\n",
              "        element.innerHTML = '';\n",
              "        dataTable['output_type'] = 'display_data';\n",
              "        await google.colab.output.renderOutput(dataTable, element);\n",
              "        const docLink = document.createElement('div');\n",
              "        docLink.innerHTML = docLinkHtml;\n",
              "        element.appendChild(docLink);\n",
              "      }\n",
              "    </script>\n",
              "  </div>\n",
              "\n",
              "\n",
              "    </div>\n",
              "  </div>\n"
            ],
            "application/vnd.google.colaboratory.intrinsic+json": {
              "type": "dataframe",
              "summary": "{\n  \"name\": \"card_df\",\n  \"rows\": 1,\n  \"fields\": [\n    {\n      \"column\": \"ARO Accession\",\n      \"properties\": {\n        \"dtype\": \"string\",\n        \"num_unique_values\": 1,\n        \"samples\": [\n          \"ARO:3003841\"\n        ],\n        \"semantic_type\": \"\",\n        \"description\": \"\"\n      }\n    },\n    {\n      \"column\": \"CVTERM ID\",\n      \"properties\": {\n        \"dtype\": \"number\",\n        \"std\": null,\n        \"min\": 40534,\n        \"max\": 40534,\n        \"num_unique_values\": 1,\n        \"samples\": [\n          40534\n        ],\n        \"semantic_type\": \"\",\n        \"description\": \"\"\n      }\n    },\n    {\n      \"column\": \"Model Sequence ID\",\n      \"properties\": {\n        \"dtype\": \"number\",\n        \"std\": null,\n        \"min\": 5205,\n        \"max\": 5205,\n        \"num_unique_values\": 1,\n        \"samples\": [\n          5205\n        ],\n        \"semantic_type\": \"\",\n        \"description\": \"\"\n      }\n    },\n    {\n      \"column\": \"Model ID\",\n      \"properties\": {\n        \"dtype\": \"number\",\n        \"std\": null,\n        \"min\": 2331,\n        \"max\": 2331,\n        \"num_unique_values\": 1,\n        \"samples\": [\n          2331\n        ],\n        \"semantic_type\": \"\",\n        \"description\": \"\"\n      }\n    },\n    {\n      \"column\": \"Model Name\",\n      \"properties\": {\n        \"dtype\": \"string\",\n        \"num_unique_values\": 1,\n        \"samples\": [\n          \"kdpE\"\n        ],\n        \"semantic_type\": \"\",\n        \"description\": \"\"\n      }\n    },\n    {\n      \"column\": \"ARO Name\",\n      \"properties\": {\n        \"dtype\": \"string\",\n        \"num_unique_values\": 1,\n        \"samples\": [\n          \"kdpE\"\n        ],\n        \"semantic_type\": \"\",\n        \"description\": \"\"\n      }\n    },\n    {\n      \"column\": \"Protein Accession\",\n      \"properties\": {\n        \"dtype\": \"string\",\n        \"num_unique_values\": 1,\n        \"samples\": [\n          \"AAC73788.1\"\n        ],\n        \"semantic_type\": \"\",\n        \"description\": \"\"\n      }\n    },\n    {\n      \"column\": \"DNA Accession\",\n      \"properties\": {\n        \"dtype\": \"string\",\n        \"num_unique_values\": 1,\n        \"samples\": [\n          \"U00096.3\"\n        ],\n        \"semantic_type\": \"\",\n        \"description\": \"\"\n      }\n    },\n    {\n      \"column\": \"AMR Gene Family\",\n      \"properties\": {\n        \"dtype\": \"string\",\n        \"num_unique_values\": 1,\n        \"samples\": [\n          \"kdpDE\"\n        ],\n        \"semantic_type\": \"\",\n        \"description\": \"\"\n      }\n    },\n    {\n      \"column\": \"Drug Class\",\n      \"properties\": {\n        \"dtype\": \"string\",\n        \"num_unique_values\": 1,\n        \"samples\": [\n          \"aminoglycoside antibiotic\"\n        ],\n        \"semantic_type\": \"\",\n        \"description\": \"\"\n      }\n    },\n    {\n      \"column\": \"Resistance Mechanism\",\n      \"properties\": {\n        \"dtype\": \"string\",\n        \"num_unique_values\": 1,\n        \"samples\": [\n          \"antibiotic efflux\"\n        ],\n        \"semantic_type\": \"\",\n        \"description\": \"\"\n      }\n    },\n    {\n      \"column\": \"CARD Short Name\",\n      \"properties\": {\n        \"dtype\": \"string\",\n        \"num_unique_values\": 1,\n        \"samples\": [\n          \"kdpE\"\n        ],\n        \"semantic_type\": \"\",\n        \"description\": \"\"\n      }\n    }\n  ]\n}"
            }
          },
          "metadata": {},
          "execution_count": 44
        }
      ]
    },
    {
      "cell_type": "markdown",
      "source": [
        "## Analysis"
      ],
      "metadata": {
        "id": "r_31SXiMU-c3"
      }
    },
    {
      "cell_type": "markdown",
      "source": [
        "#### Porin genes"
      ],
      "metadata": {
        "id": "Pji9a0p1IB_K"
      }
    },
    {
      "cell_type": "code",
      "source": [
        "df = pd.read_excel('ompgenes.xlsx')\n",
        "df.head(1)"
      ],
      "metadata": {
        "id": "GfKJo4cnIFKe"
      },
      "execution_count": null,
      "outputs": []
    },
    {
      "cell_type": "code",
      "source": [
        "geneids_l = list()\n",
        "symbols_l = list()\n",
        "for i in range(len(df)):\n",
        "    row = df.iloc[i]\n",
        "    geneid = row['GeneID']\n",
        "    symbol = row['Symbol']\n",
        "    if symbol.find('omp') != -1:\n",
        "        geneids_l.append(geneid)\n",
        "        symbols_l.append(symbol)\n",
        "omp_df = pd.DataFrame(list(zip(geneids_l, symbols_l)),\n",
        "               columns =['GeneID', 'Symbol'])"
      ],
      "metadata": {
        "id": "x7OKpo6TIJlF"
      },
      "execution_count": null,
      "outputs": []
    },
    {
      "cell_type": "code",
      "source": [
        "subprocess.run(f'mkdir gene_fastas', shell=True)\n",
        "for i in range(len(omp_df)):\n",
        "    row = omp_df.iloc[i]\n",
        "    symbol = row['Symbol']\n",
        "    gene_id = row['GeneID']\n",
        "    subprocess.run(f'datasets download gene gene-id {gene_id} --include gene --filename {gene_id}.zip', shell=True)\n",
        "    subprocess.run(f'unzip ./{gene_id}.zip -d ./d_{gene_id}', shell=True)\n",
        "    subprocess.run(f'mv ./d_{gene_id}/ncbi_dataset/data/gene.fna ./gene_fastas/cds_{gene_id}_{symbol}.fasta', shell=True)\n",
        "    subprocess.run(f'rm ./{gene_id}.zip', shell=True)"
      ],
      "metadata": {
        "id": "HG3nBfk2IMCu"
      },
      "execution_count": null,
      "outputs": []
    },
    {
      "cell_type": "code",
      "source": [
        "fasta_files = os.listdir('./gene_fastas')\n",
        "records_l = list()\n",
        "for i in range(len(fasta_files)):\n",
        "    file_name = fasta_files[i]\n",
        "    dir_name = './gene_fastas/' + file_name\n",
        "    with open(dir_name) as handle:\n",
        "        for record in SeqIO.parse(handle, \"fasta\"):\n",
        "            records_l.append(record)"
      ],
      "metadata": {
        "id": "F3tj9o-BIRQ2"
      },
      "execution_count": null,
      "outputs": []
    },
    {
      "cell_type": "code",
      "source": [
        "with open(\"omp_genes.fasta\", \"w\") as output_handle:\n",
        "    SeqIO.write(records_l, output_handle, \"fasta\")"
      ],
      "metadata": {
        "id": "SnBrA51AIXvs"
      },
      "execution_count": null,
      "outputs": []
    },
    {
      "cell_type": "markdown",
      "source": [
        "#### Antibiotic resistance genes"
      ],
      "metadata": {
        "id": "OBDwe1Afc7Tl"
      }
    },
    {
      "cell_type": "code",
      "source": [
        "! mkdir ./found_ARs"
      ],
      "metadata": {
        "id": "tkUZ7Au_dAvh",
        "colab": {
          "base_uri": "https://localhost:8080/"
        },
        "outputId": "29a35805-4595-49b2-fce8-f12f10ee5b8e"
      },
      "execution_count": null,
      "outputs": [
        {
          "output_type": "stream",
          "name": "stdout",
          "text": [
            "mkdir: cannot create directory ‘./found_ARs’: File exists\n"
          ]
        }
      ]
    },
    {
      "cell_type": "code",
      "source": [
        "from Bio import SeqIO"
      ],
      "metadata": {
        "id": "o-10-tyj02iC"
      },
      "execution_count": null,
      "outputs": []
    },
    {
      "cell_type": "code",
      "source": [
        "df_AR_len = dict()\n",
        "\"\"\"\n",
        "key: record.id\n",
        "value: len(str(record.seq))\n",
        "\"\"\"\n",
        "with open(\"nucleotide_fasta_protein_homolog_model.fasta\") as handle:\n",
        "    for record in SeqIO.parse(handle, \"fasta\"):\n",
        "        key = record.id.split(' [')[0]\n",
        "        df_AR_len[key] = len(str(record.seq))"
      ],
      "metadata": {
        "id": "Oe3cOrl1f1Pp"
      },
      "execution_count": null,
      "outputs": []
    },
    {
      "cell_type": "code",
      "source": [
        "annotated_files = os.listdir('./coding_sequences')\n",
        "indir = './coding_sequences/'\n",
        "outdir = './found_ARs/'\n",
        "isolate_count = 0\n",
        "for ffn in annotated_files:\n",
        "    isolate_count += 1\n",
        "    in_name = indir + ffn\n",
        "    out_nameRAW = outdir + 'ARs_raw_' + ffn\n",
        "    out_nameRAW = out_nameRAW.replace('.fasta', '.csv')\n",
        "    subprocess.run(f'blastn -db ./nucleotide_fasta_protein_homolog_model.fasta -query {in_name} -outfmt \"6 qseqid sseqid pident ppos length qstart qend sstart send evalue qcovs\" | sort -n -r -k 10 > {out_nameRAW}', shell=True)\n",
        "    out_nameFiltered = out_nameRAW.replace('raw', 'filtered')\n",
        "    out_nameFiltered = out_nameFiltered.replace('.csv', '.xlsx')\n",
        "\n",
        "    dfRAW = pd.read_csv(out_nameRAW, sep = '\\t', names = ['qseqid', 'sseqid', 'pident', 'ppos',\n",
        "                                                          'len', 'qstart', 'qend', 'sstart',\n",
        "                                                          'send', 'evalue', 'qcov'])\n",
        "    raw_qseqid_l = list()\n",
        "    raw_sseqid_l = list()\n",
        "    raw_pident_l = list()\n",
        "    raw_ppos_l = list()\n",
        "    raw_len_l = list()\n",
        "    raw_qstart_l = list()\n",
        "    raw_qend_l = list()\n",
        "    raw_sstart_l = list()\n",
        "    raw_send_l = list()\n",
        "    raw_evalue_l = list()\n",
        "    raw_scov_l = list()\n",
        "\n",
        "    for i in range(len(dfRAW)): # Long et al 2023 evalue <= 1e-06, scov >= 80%\n",
        "        row = dfRAW.iloc[i]\n",
        "        slen = df_AR_len[row['sseqid']]\n",
        "        scov = (row['len']/slen) * 100\n",
        "\n",
        "        if (row['evalue'] <= 0.000001) and (row['pident'] >= 80) and (scov >= 80):\n",
        "            raw_qseqid_l.append(row['qseqid'])\n",
        "            raw_sseqid_l.append(row['sseqid'])\n",
        "            raw_pident_l.append(row['pident'])\n",
        "            raw_ppos_l.append(row['ppos'])\n",
        "            raw_len_l.append(row['len'])\n",
        "            raw_qstart_l.append(row['qstart'])\n",
        "            raw_qend_l.append(row['qend'])\n",
        "            raw_sstart_l.append(row['sstart'])\n",
        "            raw_send_l.append(row['send'])\n",
        "            raw_evalue_l.append(row['evalue'])\n",
        "            raw_scov_l.append(scov)\n",
        "\n",
        "    df_filtered = pd.DataFrame(list(zip(raw_qseqid_l, raw_sseqid_l, raw_pident_l, raw_ppos_l,\n",
        "                                        raw_len_l, raw_qstart_l, raw_qend_l, raw_sstart_l,\n",
        "                                        raw_send_l, raw_evalue_l, raw_scov_l)),\n",
        "                               columns =['qseqid', 'sseqid', 'pident', 'ppos',\n",
        "                                         'len', 'qstart', 'qend', 'sstart', 'send',\n",
        "                                         'evalue', 'scov'])\n",
        "\n",
        "    max_ppos = dict()\n",
        "    \"\"\"\n",
        "   # key: qseqid\n",
        "   # value: [sseqid, ppos, row]\n",
        "   # hits with the highest ppos are stored\n",
        "    \"\"\"\n",
        "    for i in range(len(df_filtered)):\n",
        "        row = df_filtered.iloc[i]\n",
        "        qseqid = row['qseqid']\n",
        "        sseqid = row['sseqid']\n",
        "        ppos = row['ppos']\n",
        "        temp_l = [sseqid, ppos, row]\n",
        "        if qseqid not in max_ppos:\n",
        "            max_ppos[qseqid] = temp_l\n",
        "        else:\n",
        "            if ppos > max_ppos[qseqid][1]:\n",
        "                max_ppos[qseqid] = temp_l\n",
        "\n",
        "    qseqid_l = list()\n",
        "    sseqid_l = list()\n",
        "    pident_l = list()\n",
        "    ppos_l = list()\n",
        "    len_l = list()\n",
        "    qstart_l = list()\n",
        "    qend_l = list()\n",
        "    sstart_l = list()\n",
        "    send_l = list()\n",
        "    evalue_l = list()\n",
        "    scov_l = list()\n",
        "\n",
        "    for key in max_ppos.keys():\n",
        "        row = max_ppos[key][2]\n",
        "\n",
        "        qseqid_l.append(row['qseqid'])\n",
        "        sseqid_l.append(row['sseqid'])\n",
        "        pident_l.append(row['pident'])\n",
        "        ppos_l.append(row['ppos'])\n",
        "        len_l.append(row['len'])\n",
        "        qstart_l.append(row['qstart'])\n",
        "        qend_l.append(row['qend'])\n",
        "        sstart_l.append(row['sstart'])\n",
        "        send_l.append(row['send'])\n",
        "        evalue_l.append(row['evalue'])\n",
        "        scov_l.append(row['scov'])\n",
        "\n",
        "    df_filtered_maxPos = pd.DataFrame(list(zip(qseqid_l, sseqid_l, pident_l, ppos_l,\n",
        "                                        len_l, qstart_l, qend_l, sstart_l,\n",
        "                                        send_l, evalue_l, scov_l)),\n",
        "                               columns =['qseqid', 'sseqid', 'pident', 'ppos',\n",
        "                                         'len', 'qstart', 'qend', 'sstart', 'send',\n",
        "                                         'evalue', 'scov'])\n",
        "\n",
        "    df_filtered_maxPos.to_excel(out_nameFiltered)\n",
        "    subprocess.run(f'rm {out_nameRAW}', shell=True)\n",
        "    print(f'isolate {ffn} ready!')\n",
        "    print(f'isolate count: {isolate_count}')"
      ],
      "metadata": {
        "id": "8ftrdymidAe6"
      },
      "execution_count": null,
      "outputs": []
    },
    {
      "cell_type": "code",
      "source": [
        "! zip -r ./found_ARs.zip ./found_ARs"
      ],
      "metadata": {
        "id": "fck-xh2Zh3kg",
        "colab": {
          "base_uri": "https://localhost:8080/"
        },
        "outputId": "a449e13d-6b10-4827-8281-ce15f6d51c74"
      },
      "execution_count": null,
      "outputs": [
        {
          "output_type": "stream",
          "name": "stdout",
          "text": [
            "updating: found_ARs/ (stored 0%)\n"
          ]
        }
      ]
    },
    {
      "cell_type": "markdown",
      "source": [
        "#### Insertion sequences"
      ],
      "metadata": {
        "id": "JCpjk5UfdBVV"
      }
    },
    {
      "cell_type": "code",
      "source": [
        "AR_files = os.listdir('./found_ARs')"
      ],
      "metadata": {
        "id": "JEB7qXKu_Hkm"
      },
      "execution_count": null,
      "outputs": []
    },
    {
      "cell_type": "code",
      "source": [
        "temp_df = pd.read_excel(f'./found_ARs/{AR_files[0]}', index_col = 0)"
      ],
      "metadata": {
        "id": "rcU1zrxs_NA_",
        "colab": {
          "base_uri": "https://localhost:8080/",
          "height": 141
        },
        "outputId": "8b7b1e7b-99cb-46d8-d89f-f7236f88e780"
      },
      "execution_count": null,
      "outputs": [
        {
          "output_type": "error",
          "ename": "IndexError",
          "evalue": "list index out of range",
          "traceback": [
            "\u001b[0;31m---------------------------------------------------------------------------\u001b[0m",
            "\u001b[0;31mIndexError\u001b[0m                                Traceback (most recent call last)",
            "\u001b[0;32m<ipython-input-51-003bde6be2a3>\u001b[0m in \u001b[0;36m<cell line: 1>\u001b[0;34m()\u001b[0m\n\u001b[0;32m----> 1\u001b[0;31m \u001b[0mtemp_df\u001b[0m \u001b[0;34m=\u001b[0m \u001b[0mpd\u001b[0m\u001b[0;34m.\u001b[0m\u001b[0mread_excel\u001b[0m\u001b[0;34m(\u001b[0m\u001b[0;34mf'./found_ARs/{AR_files[0]}'\u001b[0m\u001b[0;34m,\u001b[0m \u001b[0mindex_col\u001b[0m \u001b[0;34m=\u001b[0m \u001b[0;36m0\u001b[0m\u001b[0;34m)\u001b[0m\u001b[0;34m\u001b[0m\u001b[0;34m\u001b[0m\u001b[0m\n\u001b[0m",
            "\u001b[0;31mIndexError\u001b[0m: list index out of range"
          ]
        }
      ]
    },
    {
      "cell_type": "code",
      "source": [
        "temp_df.head(1)"
      ],
      "metadata": {
        "id": "-ufyXflh_maP",
        "colab": {
          "base_uri": "https://localhost:8080/",
          "height": 141
        },
        "outputId": "b5811273-db5a-49e1-b1f4-cd769a591724"
      },
      "execution_count": null,
      "outputs": [
        {
          "output_type": "error",
          "ename": "NameError",
          "evalue": "name 'temp_df' is not defined",
          "traceback": [
            "\u001b[0;31m---------------------------------------------------------------------------\u001b[0m",
            "\u001b[0;31mNameError\u001b[0m                                 Traceback (most recent call last)",
            "\u001b[0;32m<ipython-input-37-9507859386fa>\u001b[0m in \u001b[0;36m<cell line: 1>\u001b[0;34m()\u001b[0m\n\u001b[0;32m----> 1\u001b[0;31m \u001b[0mtemp_df\u001b[0m\u001b[0;34m.\u001b[0m\u001b[0mhead\u001b[0m\u001b[0;34m(\u001b[0m\u001b[0;36m1\u001b[0m\u001b[0;34m)\u001b[0m\u001b[0;34m\u001b[0m\u001b[0;34m\u001b[0m\u001b[0m\n\u001b[0m",
            "\u001b[0;31mNameError\u001b[0m: name 'temp_df' is not defined"
          ]
        }
      ]
    },
    {
      "cell_type": "code",
      "source": [
        "! mkdir ./found_ISs"
      ],
      "metadata": {
        "id": "XQoZpts0VgUE"
      },
      "execution_count": null,
      "outputs": []
    },
    {
      "cell_type": "code",
      "source": [
        "annotated_files = os.listdir('./coding_sequences')\n",
        "indir = './coding_sequences/'\n",
        "outdir = './found_ISs/'\n",
        "for ffn in annotated_files:\n",
        "    in_name = indir + ffn\n",
        "    out_nameRAW = outdir + 'ISs_raw_' + ffn\n",
        "    out_nameRAW = out_nameRAW.replace('.fasta', '.csv')\n",
        "    subprocess.run(f'blastn -db ./IS.fna -query {in_name} -outfmt \\\"6 qseqid sseqid pident ppos length qstart qend sstart send evalue qcovs\\\" | sort -n -r -k 10 > {out_nameRAW}', shell=True)\n",
        "    out_nameFiltered = out_nameRAW.replace('raw', 'filtered')\n",
        "    out_nameFiltered = out_nameFiltered.replace('.csv', '.xlsx')\n",
        "\n",
        "    dfRAW = pd.read_csv(out_nameRAW, sep = '\\\\t', names = ['qseqid', 'sseqid', 'pident', 'ppos',\n",
        "                                                          'len', 'qstart', 'qend', 'sstart',\n",
        "                                                          'send', 'evalue', 'qcov'])\n",
        "\n",
        "    raw_qseqid_l = list()\n",
        "    raw_sseqid_l = list()\n",
        "    raw_pident_l = list()\n",
        "    raw_ppos_l = list()\n",
        "    raw_len_l = list()\n",
        "    raw_qstart_l = list()\n",
        "    raw_qend_l = list()\n",
        "    raw_sstart_l = list()\n",
        "    raw_send_l = list()\n",
        "    raw_evalue_l = list()\n",
        "    raw_scov_l = list()\n",
        "\n",
        "    for i in range(len(dfRAW)):\n",
        "        row = dfRAW.iloc[i]\n",
        "\n",
        "        if (row['evalue'] <= 0.000001) and (row['ppos'] >= 50):\n",
        "            raw_qseqid_l.append(row['qseqid'])\n",
        "            raw_sseqid_l.append(row['sseqid'])\n",
        "            raw_pident_l.append(row['pident'])\n",
        "            raw_ppos_l.append(row['ppos'])\n",
        "            raw_len_l.append(row['len'])\n",
        "            raw_qstart_l.append(row['qstart'])\n",
        "            raw_qend_l.append(row['qend'])\n",
        "            raw_sstart_l.append(row['sstart'])\n",
        "            raw_send_l.append(row['send'])\n",
        "            raw_evalue_l.append(row['evalue'])\n",
        "\n",
        "    df_filtered = pd.DataFrame(list(zip(raw_qseqid_l, raw_sseqid_l, raw_pident_l, raw_ppos_l,\n",
        "                                        raw_len_l, raw_qstart_l, raw_qend_l, raw_sstart_l,\n",
        "                                        raw_send_l, raw_evalue_l)),\n",
        "                               columns =['qseqid', 'sseqid', 'pident', 'ppos',\n",
        "                                         'len', 'qstart', 'qend', 'sstart', 'send',\n",
        "                                         'evalue'])\n",
        "\n",
        "    min_evalue = dict()\n",
        "    \"\"\"\n",
        "    key: qseqid\n",
        "    value: [sseqid, evalue, row]\n",
        "    se almacenan hits con el sseqid de menor evalue\n",
        "    \"\"\"\n",
        "\n",
        "    for i in range(len(df_filtered)):\n",
        "        row = df_filtered.iloc[i]\n",
        "        qseqid = row['qseqid']\n",
        "        sseqid = row['sseqid']\n",
        "        evalue = float(row['evalue'])\n",
        "        temp_l = [sseqid, evalue, row]\n",
        "        if qseqid not in min_evalue:\n",
        "            min_evalue[qseqid] = temp_l\n",
        "        else:\n",
        "            if evalue < min_evalue[qseqid][1]:\n",
        "                min_evalue[qseqid] = temp_l\n",
        "\n",
        "    qseqid_l = list()\n",
        "    sseqid_l = list()\n",
        "    pident_l = list()\n",
        "    ppos_l = list()\n",
        "    len_l = list()\n",
        "    qstart_l = list()\n",
        "    qend_l = list()\n",
        "    sstart_l = list()\n",
        "    send_l = list()\n",
        "    evalue_l = list()\n",
        "\n",
        "    for key in min_evalue.keys():\n",
        "        row = min_evalue[key][2]\n",
        "\n",
        "        qseqid_l.append(row['qseqid'])\n",
        "        sseqid_l.append(row['sseqid'])\n",
        "        pident_l.append(row['pident'])\n",
        "        ppos_l.append(row['ppos'])\n",
        "        len_l.append(row['len'])\n",
        "        qstart_l.append(row['qstart'])\n",
        "        qend_l.append(row['qend'])\n",
        "        sstart_l.append(row['sstart'])\n",
        "        send_l.append(row['send'])\n",
        "        evalue_l.append(row['evalue'])\n",
        "\n",
        "        df_filtered_minEval = pd.DataFrame(list(zip(qseqid_l, sseqid_l, pident_l, ppos_l,\n",
        "                                        len_l, qstart_l, qend_l, sstart_l,\n",
        "                                        send_l, evalue_l)),\n",
        "                               columns =['qseqid', 'sseqid', 'pident', 'ppos',\n",
        "                                         'len', 'qstart', 'qend', 'sstart', 'send',\n",
        "                                         'evalue'])\n",
        "\n",
        "    df_filtered_minEval.to_excel(out_nameFiltered)\n",
        "    subprocess.run(f'rm {out_nameRAW}', shell=True)\n",
        "    print(f'isolate {ffn} ready!')"
      ],
      "metadata": {
        "id": "hXjLBYvrVGp0",
        "colab": {
          "base_uri": "https://localhost:8080/"
        },
        "outputId": "b902411d-00b8-4360-b240-30044705c473"
      },
      "execution_count": null,
      "outputs": [
        {
          "output_type": "stream",
          "name": "stderr",
          "text": [
            "<ipython-input-43-7fcb649b13fe>:12: ParserWarning: Falling back to the 'python' engine because the 'c' engine does not support regex separators (separators > 1 char and different from '\\s+' are interpreted as regex); you can avoid this warning by specifying engine='python'.\n",
            "  dfRAW = pd.read_csv(out_nameRAW, sep = '\\\\t', names = ['qseqid', 'sseqid', 'pident', 'ppos',\n",
            "<ipython-input-43-7fcb649b13fe>:12: ParserWarning: Falling back to the 'python' engine because the 'c' engine does not support regex separators (separators > 1 char and different from '\\s+' are interpreted as regex); you can avoid this warning by specifying engine='python'.\n",
            "  dfRAW = pd.read_csv(out_nameRAW, sep = '\\\\t', names = ['qseqid', 'sseqid', 'pident', 'ppos',\n"
          ]
        },
        {
          "output_type": "stream",
          "name": "stdout",
          "text": [
            "isolate cds_GCA_004566795.1.fasta ready!\n",
            "isolate cds_GCA_004566795.1.fasta ready!\n"
          ]
        },
        {
          "output_type": "stream",
          "name": "stderr",
          "text": [
            "<ipython-input-43-7fcb649b13fe>:12: ParserWarning: Falling back to the 'python' engine because the 'c' engine does not support regex separators (separators > 1 char and different from '\\s+' are interpreted as regex); you can avoid this warning by specifying engine='python'.\n",
            "  dfRAW = pd.read_csv(out_nameRAW, sep = '\\\\t', names = ['qseqid', 'sseqid', 'pident', 'ppos',\n",
            "<ipython-input-43-7fcb649b13fe>:12: ParserWarning: Falling back to the 'python' engine because the 'c' engine does not support regex separators (separators > 1 char and different from '\\s+' are interpreted as regex); you can avoid this warning by specifying engine='python'.\n",
            "  dfRAW = pd.read_csv(out_nameRAW, sep = '\\\\t', names = ['qseqid', 'sseqid', 'pident', 'ppos',\n"
          ]
        },
        {
          "output_type": "stream",
          "name": "stdout",
          "text": [
            "isolate cds_GCA_004567815.1.fasta ready!\n",
            "isolate cds_GCA_004567815.1.fasta ready!\n"
          ]
        },
        {
          "output_type": "stream",
          "name": "stderr",
          "text": [
            "<ipython-input-43-7fcb649b13fe>:12: ParserWarning: Falling back to the 'python' engine because the 'c' engine does not support regex separators (separators > 1 char and different from '\\s+' are interpreted as regex); you can avoid this warning by specifying engine='python'.\n",
            "  dfRAW = pd.read_csv(out_nameRAW, sep = '\\\\t', names = ['qseqid', 'sseqid', 'pident', 'ppos',\n",
            "<ipython-input-43-7fcb649b13fe>:12: ParserWarning: Falling back to the 'python' engine because the 'c' engine does not support regex separators (separators > 1 char and different from '\\s+' are interpreted as regex); you can avoid this warning by specifying engine='python'.\n",
            "  dfRAW = pd.read_csv(out_nameRAW, sep = '\\\\t', names = ['qseqid', 'sseqid', 'pident', 'ppos',\n"
          ]
        },
        {
          "output_type": "stream",
          "name": "stdout",
          "text": [
            "isolate cds_GCA_004567505.1.fasta ready!\n",
            "isolate cds_GCA_004567505.1.fasta ready!\n"
          ]
        },
        {
          "output_type": "stream",
          "name": "stderr",
          "text": [
            "<ipython-input-43-7fcb649b13fe>:12: ParserWarning: Falling back to the 'python' engine because the 'c' engine does not support regex separators (separators > 1 char and different from '\\s+' are interpreted as regex); you can avoid this warning by specifying engine='python'.\n",
            "  dfRAW = pd.read_csv(out_nameRAW, sep = '\\\\t', names = ['qseqid', 'sseqid', 'pident', 'ppos',\n",
            "<ipython-input-43-7fcb649b13fe>:12: ParserWarning: Falling back to the 'python' engine because the 'c' engine does not support regex separators (separators > 1 char and different from '\\s+' are interpreted as regex); you can avoid this warning by specifying engine='python'.\n",
            "  dfRAW = pd.read_csv(out_nameRAW, sep = '\\\\t', names = ['qseqid', 'sseqid', 'pident', 'ppos',\n"
          ]
        },
        {
          "output_type": "stream",
          "name": "stdout",
          "text": [
            "isolate cds_GCA_004566765.1.fasta ready!\n",
            "isolate cds_GCA_004566765.1.fasta ready!\n"
          ]
        },
        {
          "output_type": "stream",
          "name": "stderr",
          "text": [
            "<ipython-input-43-7fcb649b13fe>:12: ParserWarning: Falling back to the 'python' engine because the 'c' engine does not support regex separators (separators > 1 char and different from '\\s+' are interpreted as regex); you can avoid this warning by specifying engine='python'.\n",
            "  dfRAW = pd.read_csv(out_nameRAW, sep = '\\\\t', names = ['qseqid', 'sseqid', 'pident', 'ppos',\n",
            "<ipython-input-43-7fcb649b13fe>:12: ParserWarning: Falling back to the 'python' engine because the 'c' engine does not support regex separators (separators > 1 char and different from '\\s+' are interpreted as regex); you can avoid this warning by specifying engine='python'.\n",
            "  dfRAW = pd.read_csv(out_nameRAW, sep = '\\\\t', names = ['qseqid', 'sseqid', 'pident', 'ppos',\n"
          ]
        },
        {
          "output_type": "stream",
          "name": "stdout",
          "text": [
            "isolate cds_GCA_002055635.1.fasta ready!\n",
            "isolate cds_GCA_002055635.1.fasta ready!\n"
          ]
        },
        {
          "output_type": "stream",
          "name": "stderr",
          "text": [
            "<ipython-input-43-7fcb649b13fe>:12: ParserWarning: Falling back to the 'python' engine because the 'c' engine does not support regex separators (separators > 1 char and different from '\\s+' are interpreted as regex); you can avoid this warning by specifying engine='python'.\n",
            "  dfRAW = pd.read_csv(out_nameRAW, sep = '\\\\t', names = ['qseqid', 'sseqid', 'pident', 'ppos',\n",
            "<ipython-input-43-7fcb649b13fe>:12: ParserWarning: Falling back to the 'python' engine because the 'c' engine does not support regex separators (separators > 1 char and different from '\\s+' are interpreted as regex); you can avoid this warning by specifying engine='python'.\n",
            "  dfRAW = pd.read_csv(out_nameRAW, sep = '\\\\t', names = ['qseqid', 'sseqid', 'pident', 'ppos',\n"
          ]
        },
        {
          "output_type": "stream",
          "name": "stdout",
          "text": [
            "isolate cds_GCA_003324445.1.fasta ready!\n",
            "isolate cds_GCA_003324445.1.fasta ready!\n"
          ]
        },
        {
          "output_type": "stream",
          "name": "stderr",
          "text": [
            "<ipython-input-43-7fcb649b13fe>:12: ParserWarning: Falling back to the 'python' engine because the 'c' engine does not support regex separators (separators > 1 char and different from '\\s+' are interpreted as regex); you can avoid this warning by specifying engine='python'.\n",
            "  dfRAW = pd.read_csv(out_nameRAW, sep = '\\\\t', names = ['qseqid', 'sseqid', 'pident', 'ppos',\n",
            "<ipython-input-43-7fcb649b13fe>:12: ParserWarning: Falling back to the 'python' engine because the 'c' engine does not support regex separators (separators > 1 char and different from '\\s+' are interpreted as regex); you can avoid this warning by specifying engine='python'.\n",
            "  dfRAW = pd.read_csv(out_nameRAW, sep = '\\\\t', names = ['qseqid', 'sseqid', 'pident', 'ppos',\n"
          ]
        },
        {
          "output_type": "stream",
          "name": "stdout",
          "text": [
            "isolate cds_GCA_002056145.1.fasta ready!\n",
            "isolate cds_GCA_002056145.1.fasta ready!\n"
          ]
        },
        {
          "output_type": "stream",
          "name": "stderr",
          "text": [
            "<ipython-input-43-7fcb649b13fe>:12: ParserWarning: Falling back to the 'python' engine because the 'c' engine does not support regex separators (separators > 1 char and different from '\\s+' are interpreted as regex); you can avoid this warning by specifying engine='python'.\n",
            "  dfRAW = pd.read_csv(out_nameRAW, sep = '\\\\t', names = ['qseqid', 'sseqid', 'pident', 'ppos',\n",
            "<ipython-input-43-7fcb649b13fe>:12: ParserWarning: Falling back to the 'python' engine because the 'c' engine does not support regex separators (separators > 1 char and different from '\\s+' are interpreted as regex); you can avoid this warning by specifying engine='python'.\n",
            "  dfRAW = pd.read_csv(out_nameRAW, sep = '\\\\t', names = ['qseqid', 'sseqid', 'pident', 'ppos',\n"
          ]
        },
        {
          "output_type": "stream",
          "name": "stdout",
          "text": [
            "isolate cds_GCA_012773715.1.fasta ready!\n",
            "isolate cds_GCA_012773715.1.fasta ready!\n"
          ]
        },
        {
          "output_type": "stream",
          "name": "stderr",
          "text": [
            "<ipython-input-43-7fcb649b13fe>:12: ParserWarning: Falling back to the 'python' engine because the 'c' engine does not support regex separators (separators > 1 char and different from '\\s+' are interpreted as regex); you can avoid this warning by specifying engine='python'.\n",
            "  dfRAW = pd.read_csv(out_nameRAW, sep = '\\\\t', names = ['qseqid', 'sseqid', 'pident', 'ppos',\n",
            "<ipython-input-43-7fcb649b13fe>:12: ParserWarning: Falling back to the 'python' engine because the 'c' engine does not support regex separators (separators > 1 char and different from '\\s+' are interpreted as regex); you can avoid this warning by specifying engine='python'.\n",
            "  dfRAW = pd.read_csv(out_nameRAW, sep = '\\\\t', names = ['qseqid', 'sseqid', 'pident', 'ppos',\n"
          ]
        },
        {
          "output_type": "stream",
          "name": "stdout",
          "text": [
            "isolate cds_GCA_004566405.1.fasta ready!\n",
            "isolate cds_GCA_004566405.1.fasta ready!\n"
          ]
        },
        {
          "output_type": "stream",
          "name": "stderr",
          "text": [
            "<ipython-input-43-7fcb649b13fe>:12: ParserWarning: Falling back to the 'python' engine because the 'c' engine does not support regex separators (separators > 1 char and different from '\\s+' are interpreted as regex); you can avoid this warning by specifying engine='python'.\n",
            "  dfRAW = pd.read_csv(out_nameRAW, sep = '\\\\t', names = ['qseqid', 'sseqid', 'pident', 'ppos',\n",
            "<ipython-input-43-7fcb649b13fe>:12: ParserWarning: Falling back to the 'python' engine because the 'c' engine does not support regex separators (separators > 1 char and different from '\\s+' are interpreted as regex); you can avoid this warning by specifying engine='python'.\n",
            "  dfRAW = pd.read_csv(out_nameRAW, sep = '\\\\t', names = ['qseqid', 'sseqid', 'pident', 'ppos',\n"
          ]
        },
        {
          "output_type": "stream",
          "name": "stdout",
          "text": [
            "isolate cds_GCA_004567225.1.fasta ready!\n",
            "isolate cds_GCA_004567225.1.fasta ready!\n"
          ]
        },
        {
          "output_type": "stream",
          "name": "stderr",
          "text": [
            "<ipython-input-43-7fcb649b13fe>:12: ParserWarning: Falling back to the 'python' engine because the 'c' engine does not support regex separators (separators > 1 char and different from '\\s+' are interpreted as regex); you can avoid this warning by specifying engine='python'.\n",
            "  dfRAW = pd.read_csv(out_nameRAW, sep = '\\\\t', names = ['qseqid', 'sseqid', 'pident', 'ppos',\n",
            "<ipython-input-43-7fcb649b13fe>:12: ParserWarning: Falling back to the 'python' engine because the 'c' engine does not support regex separators (separators > 1 char and different from '\\s+' are interpreted as regex); you can avoid this warning by specifying engine='python'.\n",
            "  dfRAW = pd.read_csv(out_nameRAW, sep = '\\\\t', names = ['qseqid', 'sseqid', 'pident', 'ppos',\n"
          ]
        },
        {
          "output_type": "stream",
          "name": "stdout",
          "text": [
            "isolate cds_GCA_004566395.1.fasta ready!\n",
            "isolate cds_GCA_004566395.1.fasta ready!\n"
          ]
        },
        {
          "output_type": "stream",
          "name": "stderr",
          "text": [
            "<ipython-input-43-7fcb649b13fe>:12: ParserWarning: Falling back to the 'python' engine because the 'c' engine does not support regex separators (separators > 1 char and different from '\\s+' are interpreted as regex); you can avoid this warning by specifying engine='python'.\n",
            "  dfRAW = pd.read_csv(out_nameRAW, sep = '\\\\t', names = ['qseqid', 'sseqid', 'pident', 'ppos',\n",
            "<ipython-input-43-7fcb649b13fe>:12: ParserWarning: Falling back to the 'python' engine because the 'c' engine does not support regex separators (separators > 1 char and different from '\\s+' are interpreted as regex); you can avoid this warning by specifying engine='python'.\n",
            "  dfRAW = pd.read_csv(out_nameRAW, sep = '\\\\t', names = ['qseqid', 'sseqid', 'pident', 'ppos',\n"
          ]
        },
        {
          "output_type": "stream",
          "name": "stdout",
          "text": [
            "isolate cds_GCA_012683825.1.fasta ready!\n",
            "isolate cds_GCA_012683825.1.fasta ready!\n"
          ]
        },
        {
          "output_type": "stream",
          "name": "stderr",
          "text": [
            "<ipython-input-43-7fcb649b13fe>:12: ParserWarning: Falling back to the 'python' engine because the 'c' engine does not support regex separators (separators > 1 char and different from '\\s+' are interpreted as regex); you can avoid this warning by specifying engine='python'.\n",
            "  dfRAW = pd.read_csv(out_nameRAW, sep = '\\\\t', names = ['qseqid', 'sseqid', 'pident', 'ppos',\n",
            "<ipython-input-43-7fcb649b13fe>:12: ParserWarning: Falling back to the 'python' engine because the 'c' engine does not support regex separators (separators > 1 char and different from '\\s+' are interpreted as regex); you can avoid this warning by specifying engine='python'.\n",
            "  dfRAW = pd.read_csv(out_nameRAW, sep = '\\\\t', names = ['qseqid', 'sseqid', 'pident', 'ppos',\n"
          ]
        },
        {
          "output_type": "stream",
          "name": "stdout",
          "text": [
            "isolate cds_GCA_003031735.1.fasta ready!\n",
            "isolate cds_GCA_003031735.1.fasta ready!\n"
          ]
        },
        {
          "output_type": "stream",
          "name": "stderr",
          "text": [
            "<ipython-input-43-7fcb649b13fe>:12: ParserWarning: Falling back to the 'python' engine because the 'c' engine does not support regex separators (separators > 1 char and different from '\\s+' are interpreted as regex); you can avoid this warning by specifying engine='python'.\n",
            "  dfRAW = pd.read_csv(out_nameRAW, sep = '\\\\t', names = ['qseqid', 'sseqid', 'pident', 'ppos',\n",
            "<ipython-input-43-7fcb649b13fe>:12: ParserWarning: Falling back to the 'python' engine because the 'c' engine does not support regex separators (separators > 1 char and different from '\\s+' are interpreted as regex); you can avoid this warning by specifying engine='python'.\n",
            "  dfRAW = pd.read_csv(out_nameRAW, sep = '\\\\t', names = ['qseqid', 'sseqid', 'pident', 'ppos',\n"
          ]
        },
        {
          "output_type": "stream",
          "name": "stdout",
          "text": [
            "isolate cds_GCA_004568205.1.fasta ready!\n",
            "isolate cds_GCA_004568205.1.fasta ready!\n"
          ]
        },
        {
          "output_type": "stream",
          "name": "stderr",
          "text": [
            "<ipython-input-43-7fcb649b13fe>:12: ParserWarning: Falling back to the 'python' engine because the 'c' engine does not support regex separators (separators > 1 char and different from '\\s+' are interpreted as regex); you can avoid this warning by specifying engine='python'.\n",
            "  dfRAW = pd.read_csv(out_nameRAW, sep = '\\\\t', names = ['qseqid', 'sseqid', 'pident', 'ppos',\n",
            "<ipython-input-43-7fcb649b13fe>:12: ParserWarning: Falling back to the 'python' engine because the 'c' engine does not support regex separators (separators > 1 char and different from '\\s+' are interpreted as regex); you can avoid this warning by specifying engine='python'.\n",
            "  dfRAW = pd.read_csv(out_nameRAW, sep = '\\\\t', names = ['qseqid', 'sseqid', 'pident', 'ppos',\n"
          ]
        },
        {
          "output_type": "stream",
          "name": "stdout",
          "text": [
            "isolate cds_GCA_002180215.1.fasta ready!\n",
            "isolate cds_GCA_002180215.1.fasta ready!\n"
          ]
        },
        {
          "output_type": "stream",
          "name": "stderr",
          "text": [
            "<ipython-input-43-7fcb649b13fe>:12: ParserWarning: Falling back to the 'python' engine because the 'c' engine does not support regex separators (separators > 1 char and different from '\\s+' are interpreted as regex); you can avoid this warning by specifying engine='python'.\n",
            "  dfRAW = pd.read_csv(out_nameRAW, sep = '\\\\t', names = ['qseqid', 'sseqid', 'pident', 'ppos',\n",
            "<ipython-input-43-7fcb649b13fe>:12: ParserWarning: Falling back to the 'python' engine because the 'c' engine does not support regex separators (separators > 1 char and different from '\\s+' are interpreted as regex); you can avoid this warning by specifying engine='python'.\n",
            "  dfRAW = pd.read_csv(out_nameRAW, sep = '\\\\t', names = ['qseqid', 'sseqid', 'pident', 'ppos',\n"
          ]
        },
        {
          "output_type": "stream",
          "name": "stdout",
          "text": [
            "isolate cds_GCA_004567265.1.fasta ready!\n",
            "isolate cds_GCA_004567265.1.fasta ready!\n"
          ]
        },
        {
          "output_type": "stream",
          "name": "stderr",
          "text": [
            "<ipython-input-43-7fcb649b13fe>:12: ParserWarning: Falling back to the 'python' engine because the 'c' engine does not support regex separators (separators > 1 char and different from '\\s+' are interpreted as regex); you can avoid this warning by specifying engine='python'.\n",
            "  dfRAW = pd.read_csv(out_nameRAW, sep = '\\\\t', names = ['qseqid', 'sseqid', 'pident', 'ppos',\n",
            "<ipython-input-43-7fcb649b13fe>:12: ParserWarning: Falling back to the 'python' engine because the 'c' engine does not support regex separators (separators > 1 char and different from '\\s+' are interpreted as regex); you can avoid this warning by specifying engine='python'.\n",
            "  dfRAW = pd.read_csv(out_nameRAW, sep = '\\\\t', names = ['qseqid', 'sseqid', 'pident', 'ppos',\n"
          ]
        },
        {
          "output_type": "stream",
          "name": "stdout",
          "text": [
            "isolate cds_GCA_002192275.1.fasta ready!\n",
            "isolate cds_GCA_002192275.1.fasta ready!\n"
          ]
        },
        {
          "output_type": "stream",
          "name": "stderr",
          "text": [
            "<ipython-input-43-7fcb649b13fe>:12: ParserWarning: Falling back to the 'python' engine because the 'c' engine does not support regex separators (separators > 1 char and different from '\\s+' are interpreted as regex); you can avoid this warning by specifying engine='python'.\n",
            "  dfRAW = pd.read_csv(out_nameRAW, sep = '\\\\t', names = ['qseqid', 'sseqid', 'pident', 'ppos',\n",
            "<ipython-input-43-7fcb649b13fe>:12: ParserWarning: Falling back to the 'python' engine because the 'c' engine does not support regex separators (separators > 1 char and different from '\\s+' are interpreted as regex); you can avoid this warning by specifying engine='python'.\n",
            "  dfRAW = pd.read_csv(out_nameRAW, sep = '\\\\t', names = ['qseqid', 'sseqid', 'pident', 'ppos',\n"
          ]
        },
        {
          "output_type": "stream",
          "name": "stdout",
          "text": [
            "isolate cds_GCA_003194265.1.fasta ready!\n",
            "isolate cds_GCA_003194265.1.fasta ready!\n"
          ]
        },
        {
          "output_type": "stream",
          "name": "stderr",
          "text": [
            "<ipython-input-43-7fcb649b13fe>:12: ParserWarning: Falling back to the 'python' engine because the 'c' engine does not support regex separators (separators > 1 char and different from '\\s+' are interpreted as regex); you can avoid this warning by specifying engine='python'.\n",
            "  dfRAW = pd.read_csv(out_nameRAW, sep = '\\\\t', names = ['qseqid', 'sseqid', 'pident', 'ppos',\n",
            "<ipython-input-43-7fcb649b13fe>:12: ParserWarning: Falling back to the 'python' engine because the 'c' engine does not support regex separators (separators > 1 char and different from '\\s+' are interpreted as regex); you can avoid this warning by specifying engine='python'.\n",
            "  dfRAW = pd.read_csv(out_nameRAW, sep = '\\\\t', names = ['qseqid', 'sseqid', 'pident', 'ppos',\n"
          ]
        },
        {
          "output_type": "stream",
          "name": "stdout",
          "text": [
            "isolate cds_GCA_002056065.1.fasta ready!\n",
            "isolate cds_GCA_002056065.1.fasta ready!\n"
          ]
        },
        {
          "output_type": "stream",
          "name": "stderr",
          "text": [
            "<ipython-input-43-7fcb649b13fe>:12: ParserWarning: Falling back to the 'python' engine because the 'c' engine does not support regex separators (separators > 1 char and different from '\\s+' are interpreted as regex); you can avoid this warning by specifying engine='python'.\n",
            "  dfRAW = pd.read_csv(out_nameRAW, sep = '\\\\t', names = ['qseqid', 'sseqid', 'pident', 'ppos',\n",
            "<ipython-input-43-7fcb649b13fe>:12: ParserWarning: Falling back to the 'python' engine because the 'c' engine does not support regex separators (separators > 1 char and different from '\\s+' are interpreted as regex); you can avoid this warning by specifying engine='python'.\n",
            "  dfRAW = pd.read_csv(out_nameRAW, sep = '\\\\t', names = ['qseqid', 'sseqid', 'pident', 'ppos',\n"
          ]
        },
        {
          "output_type": "stream",
          "name": "stdout",
          "text": [
            "isolate cds_GCA_004567535.1.fasta ready!\n",
            "isolate cds_GCA_004567535.1.fasta ready!\n"
          ]
        },
        {
          "output_type": "stream",
          "name": "stderr",
          "text": [
            "<ipython-input-43-7fcb649b13fe>:12: ParserWarning: Falling back to the 'python' engine because the 'c' engine does not support regex separators (separators > 1 char and different from '\\s+' are interpreted as regex); you can avoid this warning by specifying engine='python'.\n",
            "  dfRAW = pd.read_csv(out_nameRAW, sep = '\\\\t', names = ['qseqid', 'sseqid', 'pident', 'ppos',\n",
            "<ipython-input-43-7fcb649b13fe>:12: ParserWarning: Falling back to the 'python' engine because the 'c' engine does not support regex separators (separators > 1 char and different from '\\s+' are interpreted as regex); you can avoid this warning by specifying engine='python'.\n",
            "  dfRAW = pd.read_csv(out_nameRAW, sep = '\\\\t', names = ['qseqid', 'sseqid', 'pident', 'ppos',\n"
          ]
        },
        {
          "output_type": "stream",
          "name": "stdout",
          "text": [
            "isolate cds_GCA_004566455.1.fasta ready!\n",
            "isolate cds_GCA_004566455.1.fasta ready!\n"
          ]
        },
        {
          "output_type": "stream",
          "name": "stderr",
          "text": [
            "<ipython-input-43-7fcb649b13fe>:12: ParserWarning: Falling back to the 'python' engine because the 'c' engine does not support regex separators (separators > 1 char and different from '\\s+' are interpreted as regex); you can avoid this warning by specifying engine='python'.\n",
            "  dfRAW = pd.read_csv(out_nameRAW, sep = '\\\\t', names = ['qseqid', 'sseqid', 'pident', 'ppos',\n",
            "<ipython-input-43-7fcb649b13fe>:12: ParserWarning: Falling back to the 'python' engine because the 'c' engine does not support regex separators (separators > 1 char and different from '\\s+' are interpreted as regex); you can avoid this warning by specifying engine='python'.\n",
            "  dfRAW = pd.read_csv(out_nameRAW, sep = '\\\\t', names = ['qseqid', 'sseqid', 'pident', 'ppos',\n"
          ]
        },
        {
          "output_type": "stream",
          "name": "stdout",
          "text": [
            "isolate cds_GCA_025828415.1.fasta ready!\n",
            "isolate cds_GCA_025828415.1.fasta ready!\n"
          ]
        },
        {
          "output_type": "stream",
          "name": "stderr",
          "text": [
            "<ipython-input-43-7fcb649b13fe>:12: ParserWarning: Falling back to the 'python' engine because the 'c' engine does not support regex separators (separators > 1 char and different from '\\s+' are interpreted as regex); you can avoid this warning by specifying engine='python'.\n",
            "  dfRAW = pd.read_csv(out_nameRAW, sep = '\\\\t', names = ['qseqid', 'sseqid', 'pident', 'ppos',\n",
            "<ipython-input-43-7fcb649b13fe>:12: ParserWarning: Falling back to the 'python' engine because the 'c' engine does not support regex separators (separators > 1 char and different from '\\s+' are interpreted as regex); you can avoid this warning by specifying engine='python'.\n",
            "  dfRAW = pd.read_csv(out_nameRAW, sep = '\\\\t', names = ['qseqid', 'sseqid', 'pident', 'ppos',\n"
          ]
        },
        {
          "output_type": "stream",
          "name": "stdout",
          "text": [
            "isolate cds_GCA_004567365.1.fasta ready!\n",
            "isolate cds_GCA_004567365.1.fasta ready!\n"
          ]
        },
        {
          "output_type": "stream",
          "name": "stderr",
          "text": [
            "<ipython-input-43-7fcb649b13fe>:12: ParserWarning: Falling back to the 'python' engine because the 'c' engine does not support regex separators (separators > 1 char and different from '\\s+' are interpreted as regex); you can avoid this warning by specifying engine='python'.\n",
            "  dfRAW = pd.read_csv(out_nameRAW, sep = '\\\\t', names = ['qseqid', 'sseqid', 'pident', 'ppos',\n",
            "<ipython-input-43-7fcb649b13fe>:12: ParserWarning: Falling back to the 'python' engine because the 'c' engine does not support regex separators (separators > 1 char and different from '\\s+' are interpreted as regex); you can avoid this warning by specifying engine='python'.\n",
            "  dfRAW = pd.read_csv(out_nameRAW, sep = '\\\\t', names = ['qseqid', 'sseqid', 'pident', 'ppos',\n"
          ]
        },
        {
          "output_type": "stream",
          "name": "stdout",
          "text": [
            "isolate cds_GCA_023884165.1.fasta ready!\n",
            "isolate cds_GCA_023884165.1.fasta ready!\n"
          ]
        },
        {
          "output_type": "stream",
          "name": "stderr",
          "text": [
            "<ipython-input-43-7fcb649b13fe>:12: ParserWarning: Falling back to the 'python' engine because the 'c' engine does not support regex separators (separators > 1 char and different from '\\s+' are interpreted as regex); you can avoid this warning by specifying engine='python'.\n",
            "  dfRAW = pd.read_csv(out_nameRAW, sep = '\\\\t', names = ['qseqid', 'sseqid', 'pident', 'ppos',\n",
            "<ipython-input-43-7fcb649b13fe>:12: ParserWarning: Falling back to the 'python' engine because the 'c' engine does not support regex separators (separators > 1 char and different from '\\s+' are interpreted as regex); you can avoid this warning by specifying engine='python'.\n",
            "  dfRAW = pd.read_csv(out_nameRAW, sep = '\\\\t', names = ['qseqid', 'sseqid', 'pident', 'ppos',\n"
          ]
        },
        {
          "output_type": "stream",
          "name": "stdout",
          "text": [
            "isolate cds_GCA_020985225.1.fasta ready!\n",
            "isolate cds_GCA_020985225.1.fasta ready!\n"
          ]
        },
        {
          "output_type": "stream",
          "name": "stderr",
          "text": [
            "<ipython-input-43-7fcb649b13fe>:12: ParserWarning: Falling back to the 'python' engine because the 'c' engine does not support regex separators (separators > 1 char and different from '\\s+' are interpreted as regex); you can avoid this warning by specifying engine='python'.\n",
            "  dfRAW = pd.read_csv(out_nameRAW, sep = '\\\\t', names = ['qseqid', 'sseqid', 'pident', 'ppos',\n",
            "<ipython-input-43-7fcb649b13fe>:12: ParserWarning: Falling back to the 'python' engine because the 'c' engine does not support regex separators (separators > 1 char and different from '\\s+' are interpreted as regex); you can avoid this warning by specifying engine='python'.\n",
            "  dfRAW = pd.read_csv(out_nameRAW, sep = '\\\\t', names = ['qseqid', 'sseqid', 'pident', 'ppos',\n"
          ]
        },
        {
          "output_type": "stream",
          "name": "stdout",
          "text": [
            "isolate cds_GCA_004567605.1.fasta ready!\n",
            "isolate cds_GCA_004567605.1.fasta ready!\n"
          ]
        },
        {
          "output_type": "stream",
          "name": "stderr",
          "text": [
            "<ipython-input-43-7fcb649b13fe>:12: ParserWarning: Falling back to the 'python' engine because the 'c' engine does not support regex separators (separators > 1 char and different from '\\s+' are interpreted as regex); you can avoid this warning by specifying engine='python'.\n",
            "  dfRAW = pd.read_csv(out_nameRAW, sep = '\\\\t', names = ['qseqid', 'sseqid', 'pident', 'ppos',\n",
            "<ipython-input-43-7fcb649b13fe>:12: ParserWarning: Falling back to the 'python' engine because the 'c' engine does not support regex separators (separators > 1 char and different from '\\s+' are interpreted as regex); you can avoid this warning by specifying engine='python'.\n",
            "  dfRAW = pd.read_csv(out_nameRAW, sep = '\\\\t', names = ['qseqid', 'sseqid', 'pident', 'ppos',\n"
          ]
        },
        {
          "output_type": "stream",
          "name": "stdout",
          "text": [
            "isolate cds_GCA_012774415.1.fasta ready!\n",
            "isolate cds_GCA_012774415.1.fasta ready!\n"
          ]
        },
        {
          "output_type": "stream",
          "name": "stderr",
          "text": [
            "<ipython-input-43-7fcb649b13fe>:12: ParserWarning: Falling back to the 'python' engine because the 'c' engine does not support regex separators (separators > 1 char and different from '\\s+' are interpreted as regex); you can avoid this warning by specifying engine='python'.\n",
            "  dfRAW = pd.read_csv(out_nameRAW, sep = '\\\\t', names = ['qseqid', 'sseqid', 'pident', 'ppos',\n",
            "<ipython-input-43-7fcb649b13fe>:12: ParserWarning: Falling back to the 'python' engine because the 'c' engine does not support regex separators (separators > 1 char and different from '\\s+' are interpreted as regex); you can avoid this warning by specifying engine='python'.\n",
            "  dfRAW = pd.read_csv(out_nameRAW, sep = '\\\\t', names = ['qseqid', 'sseqid', 'pident', 'ppos',\n"
          ]
        },
        {
          "output_type": "stream",
          "name": "stdout",
          "text": [
            "isolate cds_GCA_002180055.1.fasta ready!\n",
            "isolate cds_GCA_002180055.1.fasta ready!\n"
          ]
        },
        {
          "output_type": "stream",
          "name": "stderr",
          "text": [
            "<ipython-input-43-7fcb649b13fe>:12: ParserWarning: Falling back to the 'python' engine because the 'c' engine does not support regex separators (separators > 1 char and different from '\\s+' are interpreted as regex); you can avoid this warning by specifying engine='python'.\n",
            "  dfRAW = pd.read_csv(out_nameRAW, sep = '\\\\t', names = ['qseqid', 'sseqid', 'pident', 'ppos',\n",
            "<ipython-input-43-7fcb649b13fe>:12: ParserWarning: Falling back to the 'python' engine because the 'c' engine does not support regex separators (separators > 1 char and different from '\\s+' are interpreted as regex); you can avoid this warning by specifying engine='python'.\n",
            "  dfRAW = pd.read_csv(out_nameRAW, sep = '\\\\t', names = ['qseqid', 'sseqid', 'pident', 'ppos',\n"
          ]
        },
        {
          "output_type": "stream",
          "name": "stdout",
          "text": [
            "isolate cds_GCA_004566835.1.fasta ready!\n",
            "isolate cds_GCA_004566835.1.fasta ready!\n"
          ]
        },
        {
          "output_type": "stream",
          "name": "stderr",
          "text": [
            "<ipython-input-43-7fcb649b13fe>:12: ParserWarning: Falling back to the 'python' engine because the 'c' engine does not support regex separators (separators > 1 char and different from '\\s+' are interpreted as regex); you can avoid this warning by specifying engine='python'.\n",
            "  dfRAW = pd.read_csv(out_nameRAW, sep = '\\\\t', names = ['qseqid', 'sseqid', 'pident', 'ppos',\n",
            "<ipython-input-43-7fcb649b13fe>:12: ParserWarning: Falling back to the 'python' engine because the 'c' engine does not support regex separators (separators > 1 char and different from '\\s+' are interpreted as regex); you can avoid this warning by specifying engine='python'.\n",
            "  dfRAW = pd.read_csv(out_nameRAW, sep = '\\\\t', names = ['qseqid', 'sseqid', 'pident', 'ppos',\n"
          ]
        },
        {
          "output_type": "stream",
          "name": "stdout",
          "text": [
            "isolate cds_GCA_025831095.1.fasta ready!\n",
            "isolate cds_GCA_025831095.1.fasta ready!\n"
          ]
        },
        {
          "output_type": "stream",
          "name": "stderr",
          "text": [
            "<ipython-input-43-7fcb649b13fe>:12: ParserWarning: Falling back to the 'python' engine because the 'c' engine does not support regex separators (separators > 1 char and different from '\\s+' are interpreted as regex); you can avoid this warning by specifying engine='python'.\n",
            "  dfRAW = pd.read_csv(out_nameRAW, sep = '\\\\t', names = ['qseqid', 'sseqid', 'pident', 'ppos',\n",
            "<ipython-input-43-7fcb649b13fe>:12: ParserWarning: Falling back to the 'python' engine because the 'c' engine does not support regex separators (separators > 1 char and different from '\\s+' are interpreted as regex); you can avoid this warning by specifying engine='python'.\n",
            "  dfRAW = pd.read_csv(out_nameRAW, sep = '\\\\t', names = ['qseqid', 'sseqid', 'pident', 'ppos',\n"
          ]
        },
        {
          "output_type": "stream",
          "name": "stdout",
          "text": [
            "isolate cds_GCA_012707805.1.fasta ready!\n",
            "isolate cds_GCA_012707805.1.fasta ready!\n"
          ]
        },
        {
          "output_type": "stream",
          "name": "stderr",
          "text": [
            "<ipython-input-43-7fcb649b13fe>:12: ParserWarning: Falling back to the 'python' engine because the 'c' engine does not support regex separators (separators > 1 char and different from '\\s+' are interpreted as regex); you can avoid this warning by specifying engine='python'.\n",
            "  dfRAW = pd.read_csv(out_nameRAW, sep = '\\\\t', names = ['qseqid', 'sseqid', 'pident', 'ppos',\n",
            "<ipython-input-43-7fcb649b13fe>:12: ParserWarning: Falling back to the 'python' engine because the 'c' engine does not support regex separators (separators > 1 char and different from '\\s+' are interpreted as regex); you can avoid this warning by specifying engine='python'.\n",
            "  dfRAW = pd.read_csv(out_nameRAW, sep = '\\\\t', names = ['qseqid', 'sseqid', 'pident', 'ppos',\n"
          ]
        },
        {
          "output_type": "stream",
          "name": "stdout",
          "text": [
            "isolate cds_GCA_002787215.1.fasta ready!\n",
            "isolate cds_GCA_002787215.1.fasta ready!\n"
          ]
        },
        {
          "output_type": "stream",
          "name": "stderr",
          "text": [
            "<ipython-input-43-7fcb649b13fe>:12: ParserWarning: Falling back to the 'python' engine because the 'c' engine does not support regex separators (separators > 1 char and different from '\\s+' are interpreted as regex); you can avoid this warning by specifying engine='python'.\n",
            "  dfRAW = pd.read_csv(out_nameRAW, sep = '\\\\t', names = ['qseqid', 'sseqid', 'pident', 'ppos',\n",
            "<ipython-input-43-7fcb649b13fe>:12: ParserWarning: Falling back to the 'python' engine because the 'c' engine does not support regex separators (separators > 1 char and different from '\\s+' are interpreted as regex); you can avoid this warning by specifying engine='python'.\n",
            "  dfRAW = pd.read_csv(out_nameRAW, sep = '\\\\t', names = ['qseqid', 'sseqid', 'pident', 'ppos',\n"
          ]
        },
        {
          "output_type": "stream",
          "name": "stdout",
          "text": [
            "isolate cds_GCA_003204155.1.fasta ready!\n",
            "isolate cds_GCA_003204155.1.fasta ready!\n"
          ]
        },
        {
          "output_type": "stream",
          "name": "stderr",
          "text": [
            "<ipython-input-43-7fcb649b13fe>:12: ParserWarning: Falling back to the 'python' engine because the 'c' engine does not support regex separators (separators > 1 char and different from '\\s+' are interpreted as regex); you can avoid this warning by specifying engine='python'.\n",
            "  dfRAW = pd.read_csv(out_nameRAW, sep = '\\\\t', names = ['qseqid', 'sseqid', 'pident', 'ppos',\n",
            "<ipython-input-43-7fcb649b13fe>:12: ParserWarning: Falling back to the 'python' engine because the 'c' engine does not support regex separators (separators > 1 char and different from '\\s+' are interpreted as regex); you can avoid this warning by specifying engine='python'.\n",
            "  dfRAW = pd.read_csv(out_nameRAW, sep = '\\\\t', names = ['qseqid', 'sseqid', 'pident', 'ppos',\n"
          ]
        },
        {
          "output_type": "stream",
          "name": "stdout",
          "text": [
            "isolate cds_GCA_004567615.1.fasta ready!\n",
            "isolate cds_GCA_004567615.1.fasta ready!\n"
          ]
        },
        {
          "output_type": "stream",
          "name": "stderr",
          "text": [
            "<ipython-input-43-7fcb649b13fe>:12: ParserWarning: Falling back to the 'python' engine because the 'c' engine does not support regex separators (separators > 1 char and different from '\\s+' are interpreted as regex); you can avoid this warning by specifying engine='python'.\n",
            "  dfRAW = pd.read_csv(out_nameRAW, sep = '\\\\t', names = ['qseqid', 'sseqid', 'pident', 'ppos',\n",
            "<ipython-input-43-7fcb649b13fe>:12: ParserWarning: Falling back to the 'python' engine because the 'c' engine does not support regex separators (separators > 1 char and different from '\\s+' are interpreted as regex); you can avoid this warning by specifying engine='python'.\n",
            "  dfRAW = pd.read_csv(out_nameRAW, sep = '\\\\t', names = ['qseqid', 'sseqid', 'pident', 'ppos',\n"
          ]
        },
        {
          "output_type": "stream",
          "name": "stdout",
          "text": [
            "isolate cds_GCA_025828285.1.fasta ready!\n",
            "isolate cds_GCA_025828285.1.fasta ready!\n"
          ]
        },
        {
          "output_type": "stream",
          "name": "stderr",
          "text": [
            "<ipython-input-43-7fcb649b13fe>:12: ParserWarning: Falling back to the 'python' engine because the 'c' engine does not support regex separators (separators > 1 char and different from '\\s+' are interpreted as regex); you can avoid this warning by specifying engine='python'.\n",
            "  dfRAW = pd.read_csv(out_nameRAW, sep = '\\\\t', names = ['qseqid', 'sseqid', 'pident', 'ppos',\n",
            "<ipython-input-43-7fcb649b13fe>:12: ParserWarning: Falling back to the 'python' engine because the 'c' engine does not support regex separators (separators > 1 char and different from '\\s+' are interpreted as regex); you can avoid this warning by specifying engine='python'.\n",
            "  dfRAW = pd.read_csv(out_nameRAW, sep = '\\\\t', names = ['qseqid', 'sseqid', 'pident', 'ppos',\n"
          ]
        },
        {
          "output_type": "stream",
          "name": "stdout",
          "text": [
            "isolate cds_GCA_025833075.1.fasta ready!\n",
            "isolate cds_GCA_025833075.1.fasta ready!\n"
          ]
        },
        {
          "output_type": "stream",
          "name": "stderr",
          "text": [
            "<ipython-input-43-7fcb649b13fe>:12: ParserWarning: Falling back to the 'python' engine because the 'c' engine does not support regex separators (separators > 1 char and different from '\\s+' are interpreted as regex); you can avoid this warning by specifying engine='python'.\n",
            "  dfRAW = pd.read_csv(out_nameRAW, sep = '\\\\t', names = ['qseqid', 'sseqid', 'pident', 'ppos',\n",
            "<ipython-input-43-7fcb649b13fe>:12: ParserWarning: Falling back to the 'python' engine because the 'c' engine does not support regex separators (separators > 1 char and different from '\\s+' are interpreted as regex); you can avoid this warning by specifying engine='python'.\n",
            "  dfRAW = pd.read_csv(out_nameRAW, sep = '\\\\t', names = ['qseqid', 'sseqid', 'pident', 'ppos',\n"
          ]
        },
        {
          "output_type": "stream",
          "name": "stdout",
          "text": [
            "isolate cds_GCA_002157245.1.fasta ready!\n",
            "isolate cds_GCA_002157245.1.fasta ready!\n"
          ]
        },
        {
          "output_type": "stream",
          "name": "stderr",
          "text": [
            "<ipython-input-43-7fcb649b13fe>:12: ParserWarning: Falling back to the 'python' engine because the 'c' engine does not support regex separators (separators > 1 char and different from '\\s+' are interpreted as regex); you can avoid this warning by specifying engine='python'.\n",
            "  dfRAW = pd.read_csv(out_nameRAW, sep = '\\\\t', names = ['qseqid', 'sseqid', 'pident', 'ppos',\n",
            "<ipython-input-43-7fcb649b13fe>:12: ParserWarning: Falling back to the 'python' engine because the 'c' engine does not support regex separators (separators > 1 char and different from '\\s+' are interpreted as regex); you can avoid this warning by specifying engine='python'.\n",
            "  dfRAW = pd.read_csv(out_nameRAW, sep = '\\\\t', names = ['qseqid', 'sseqid', 'pident', 'ppos',\n"
          ]
        },
        {
          "output_type": "stream",
          "name": "stdout",
          "text": [
            "isolate cds_GCA_025832865.1.fasta ready!\n",
            "isolate cds_GCA_025832865.1.fasta ready!\n"
          ]
        },
        {
          "output_type": "stream",
          "name": "stderr",
          "text": [
            "<ipython-input-43-7fcb649b13fe>:12: ParserWarning: Falling back to the 'python' engine because the 'c' engine does not support regex separators (separators > 1 char and different from '\\s+' are interpreted as regex); you can avoid this warning by specifying engine='python'.\n",
            "  dfRAW = pd.read_csv(out_nameRAW, sep = '\\\\t', names = ['qseqid', 'sseqid', 'pident', 'ppos',\n",
            "<ipython-input-43-7fcb649b13fe>:12: ParserWarning: Falling back to the 'python' engine because the 'c' engine does not support regex separators (separators > 1 char and different from '\\s+' are interpreted as regex); you can avoid this warning by specifying engine='python'.\n",
            "  dfRAW = pd.read_csv(out_nameRAW, sep = '\\\\t', names = ['qseqid', 'sseqid', 'pident', 'ppos',\n"
          ]
        },
        {
          "output_type": "stream",
          "name": "stdout",
          "text": [
            "isolate cds_GCA_004569045.1.fasta ready!\n",
            "isolate cds_GCA_004569045.1.fasta ready!\n"
          ]
        },
        {
          "output_type": "stream",
          "name": "stderr",
          "text": [
            "<ipython-input-43-7fcb649b13fe>:12: ParserWarning: Falling back to the 'python' engine because the 'c' engine does not support regex separators (separators > 1 char and different from '\\s+' are interpreted as regex); you can avoid this warning by specifying engine='python'.\n",
            "  dfRAW = pd.read_csv(out_nameRAW, sep = '\\\\t', names = ['qseqid', 'sseqid', 'pident', 'ppos',\n",
            "<ipython-input-43-7fcb649b13fe>:12: ParserWarning: Falling back to the 'python' engine because the 'c' engine does not support regex separators (separators > 1 char and different from '\\s+' are interpreted as regex); you can avoid this warning by specifying engine='python'.\n",
            "  dfRAW = pd.read_csv(out_nameRAW, sep = '\\\\t', names = ['qseqid', 'sseqid', 'pident', 'ppos',\n"
          ]
        },
        {
          "output_type": "stream",
          "name": "stdout",
          "text": [
            "isolate cds_GCA_004567185.1.fasta ready!\n",
            "isolate cds_GCA_004567185.1.fasta ready!\n"
          ]
        },
        {
          "output_type": "stream",
          "name": "stderr",
          "text": [
            "<ipython-input-43-7fcb649b13fe>:12: ParserWarning: Falling back to the 'python' engine because the 'c' engine does not support regex separators (separators > 1 char and different from '\\s+' are interpreted as regex); you can avoid this warning by specifying engine='python'.\n",
            "  dfRAW = pd.read_csv(out_nameRAW, sep = '\\\\t', names = ['qseqid', 'sseqid', 'pident', 'ppos',\n",
            "<ipython-input-43-7fcb649b13fe>:12: ParserWarning: Falling back to the 'python' engine because the 'c' engine does not support regex separators (separators > 1 char and different from '\\s+' are interpreted as regex); you can avoid this warning by specifying engine='python'.\n",
            "  dfRAW = pd.read_csv(out_nameRAW, sep = '\\\\t', names = ['qseqid', 'sseqid', 'pident', 'ppos',\n"
          ]
        },
        {
          "output_type": "stream",
          "name": "stdout",
          "text": [
            "isolate cds_GCA_004566685.1.fasta ready!\n",
            "isolate cds_GCA_004566685.1.fasta ready!\n"
          ]
        },
        {
          "output_type": "stream",
          "name": "stderr",
          "text": [
            "<ipython-input-43-7fcb649b13fe>:12: ParserWarning: Falling back to the 'python' engine because the 'c' engine does not support regex separators (separators > 1 char and different from '\\s+' are interpreted as regex); you can avoid this warning by specifying engine='python'.\n",
            "  dfRAW = pd.read_csv(out_nameRAW, sep = '\\\\t', names = ['qseqid', 'sseqid', 'pident', 'ppos',\n",
            "<ipython-input-43-7fcb649b13fe>:12: ParserWarning: Falling back to the 'python' engine because the 'c' engine does not support regex separators (separators > 1 char and different from '\\s+' are interpreted as regex); you can avoid this warning by specifying engine='python'.\n",
            "  dfRAW = pd.read_csv(out_nameRAW, sep = '\\\\t', names = ['qseqid', 'sseqid', 'pident', 'ppos',\n"
          ]
        },
        {
          "output_type": "stream",
          "name": "stdout",
          "text": [
            "isolate cds_GCA_004566565.1.fasta ready!\n",
            "isolate cds_GCA_004566565.1.fasta ready!\n"
          ]
        },
        {
          "output_type": "stream",
          "name": "stderr",
          "text": [
            "<ipython-input-43-7fcb649b13fe>:12: ParserWarning: Falling back to the 'python' engine because the 'c' engine does not support regex separators (separators > 1 char and different from '\\s+' are interpreted as regex); you can avoid this warning by specifying engine='python'.\n",
            "  dfRAW = pd.read_csv(out_nameRAW, sep = '\\\\t', names = ['qseqid', 'sseqid', 'pident', 'ppos',\n",
            "<ipython-input-43-7fcb649b13fe>:12: ParserWarning: Falling back to the 'python' engine because the 'c' engine does not support regex separators (separators > 1 char and different from '\\s+' are interpreted as regex); you can avoid this warning by specifying engine='python'.\n",
            "  dfRAW = pd.read_csv(out_nameRAW, sep = '\\\\t', names = ['qseqid', 'sseqid', 'pident', 'ppos',\n"
          ]
        },
        {
          "output_type": "stream",
          "name": "stdout",
          "text": [
            "isolate cds_GCA_004566865.1.fasta ready!\n",
            "isolate cds_GCA_004566865.1.fasta ready!\n"
          ]
        },
        {
          "output_type": "stream",
          "name": "stderr",
          "text": [
            "<ipython-input-43-7fcb649b13fe>:12: ParserWarning: Falling back to the 'python' engine because the 'c' engine does not support regex separators (separators > 1 char and different from '\\s+' are interpreted as regex); you can avoid this warning by specifying engine='python'.\n",
            "  dfRAW = pd.read_csv(out_nameRAW, sep = '\\\\t', names = ['qseqid', 'sseqid', 'pident', 'ppos',\n",
            "<ipython-input-43-7fcb649b13fe>:12: ParserWarning: Falling back to the 'python' engine because the 'c' engine does not support regex separators (separators > 1 char and different from '\\s+' are interpreted as regex); you can avoid this warning by specifying engine='python'.\n",
            "  dfRAW = pd.read_csv(out_nameRAW, sep = '\\\\t', names = ['qseqid', 'sseqid', 'pident', 'ppos',\n"
          ]
        },
        {
          "output_type": "stream",
          "name": "stdout",
          "text": [
            "isolate cds_GCA_004567755.1.fasta ready!\n",
            "isolate cds_GCA_004567755.1.fasta ready!\n"
          ]
        },
        {
          "output_type": "stream",
          "name": "stderr",
          "text": [
            "<ipython-input-43-7fcb649b13fe>:12: ParserWarning: Falling back to the 'python' engine because the 'c' engine does not support regex separators (separators > 1 char and different from '\\s+' are interpreted as regex); you can avoid this warning by specifying engine='python'.\n",
            "  dfRAW = pd.read_csv(out_nameRAW, sep = '\\\\t', names = ['qseqid', 'sseqid', 'pident', 'ppos',\n",
            "<ipython-input-43-7fcb649b13fe>:12: ParserWarning: Falling back to the 'python' engine because the 'c' engine does not support regex separators (separators > 1 char and different from '\\s+' are interpreted as regex); you can avoid this warning by specifying engine='python'.\n",
            "  dfRAW = pd.read_csv(out_nameRAW, sep = '\\\\t', names = ['qseqid', 'sseqid', 'pident', 'ppos',\n"
          ]
        },
        {
          "output_type": "stream",
          "name": "stdout",
          "text": [
            "isolate cds_GCA_004567445.1.fasta ready!\n",
            "isolate cds_GCA_004567445.1.fasta ready!\n"
          ]
        },
        {
          "output_type": "stream",
          "name": "stderr",
          "text": [
            "<ipython-input-43-7fcb649b13fe>:12: ParserWarning: Falling back to the 'python' engine because the 'c' engine does not support regex separators (separators > 1 char and different from '\\s+' are interpreted as regex); you can avoid this warning by specifying engine='python'.\n",
            "  dfRAW = pd.read_csv(out_nameRAW, sep = '\\\\t', names = ['qseqid', 'sseqid', 'pident', 'ppos',\n",
            "<ipython-input-43-7fcb649b13fe>:12: ParserWarning: Falling back to the 'python' engine because the 'c' engine does not support regex separators (separators > 1 char and different from '\\s+' are interpreted as regex); you can avoid this warning by specifying engine='python'.\n",
            "  dfRAW = pd.read_csv(out_nameRAW, sep = '\\\\t', names = ['qseqid', 'sseqid', 'pident', 'ppos',\n"
          ]
        },
        {
          "output_type": "stream",
          "name": "stdout",
          "text": [
            "isolate cds_GCA_004569995.1.fasta ready!\n",
            "isolate cds_GCA_004569995.1.fasta ready!\n"
          ]
        },
        {
          "output_type": "stream",
          "name": "stderr",
          "text": [
            "<ipython-input-43-7fcb649b13fe>:12: ParserWarning: Falling back to the 'python' engine because the 'c' engine does not support regex separators (separators > 1 char and different from '\\s+' are interpreted as regex); you can avoid this warning by specifying engine='python'.\n",
            "  dfRAW = pd.read_csv(out_nameRAW, sep = '\\\\t', names = ['qseqid', 'sseqid', 'pident', 'ppos',\n",
            "<ipython-input-43-7fcb649b13fe>:12: ParserWarning: Falling back to the 'python' engine because the 'c' engine does not support regex separators (separators > 1 char and different from '\\s+' are interpreted as regex); you can avoid this warning by specifying engine='python'.\n",
            "  dfRAW = pd.read_csv(out_nameRAW, sep = '\\\\t', names = ['qseqid', 'sseqid', 'pident', 'ppos',\n"
          ]
        },
        {
          "output_type": "stream",
          "name": "stdout",
          "text": [
            "isolate cds_GCA_004567175.1.fasta ready!\n",
            "isolate cds_GCA_004567175.1.fasta ready!\n"
          ]
        },
        {
          "output_type": "stream",
          "name": "stderr",
          "text": [
            "<ipython-input-43-7fcb649b13fe>:12: ParserWarning: Falling back to the 'python' engine because the 'c' engine does not support regex separators (separators > 1 char and different from '\\s+' are interpreted as regex); you can avoid this warning by specifying engine='python'.\n",
            "  dfRAW = pd.read_csv(out_nameRAW, sep = '\\\\t', names = ['qseqid', 'sseqid', 'pident', 'ppos',\n",
            "<ipython-input-43-7fcb649b13fe>:12: ParserWarning: Falling back to the 'python' engine because the 'c' engine does not support regex separators (separators > 1 char and different from '\\s+' are interpreted as regex); you can avoid this warning by specifying engine='python'.\n",
            "  dfRAW = pd.read_csv(out_nameRAW, sep = '\\\\t', names = ['qseqid', 'sseqid', 'pident', 'ppos',\n"
          ]
        },
        {
          "output_type": "stream",
          "name": "stdout",
          "text": [
            "isolate cds_GCA_012707405.1.fasta ready!\n",
            "isolate cds_GCA_012707405.1.fasta ready!\n"
          ]
        },
        {
          "output_type": "stream",
          "name": "stderr",
          "text": [
            "<ipython-input-43-7fcb649b13fe>:12: ParserWarning: Falling back to the 'python' engine because the 'c' engine does not support regex separators (separators > 1 char and different from '\\s+' are interpreted as regex); you can avoid this warning by specifying engine='python'.\n",
            "  dfRAW = pd.read_csv(out_nameRAW, sep = '\\\\t', names = ['qseqid', 'sseqid', 'pident', 'ppos',\n",
            "<ipython-input-43-7fcb649b13fe>:12: ParserWarning: Falling back to the 'python' engine because the 'c' engine does not support regex separators (separators > 1 char and different from '\\s+' are interpreted as regex); you can avoid this warning by specifying engine='python'.\n",
            "  dfRAW = pd.read_csv(out_nameRAW, sep = '\\\\t', names = ['qseqid', 'sseqid', 'pident', 'ppos',\n"
          ]
        },
        {
          "output_type": "stream",
          "name": "stdout",
          "text": [
            "isolate cds_GCA_004567055.1.fasta ready!\n",
            "isolate cds_GCA_004567055.1.fasta ready!\n"
          ]
        },
        {
          "output_type": "stream",
          "name": "stderr",
          "text": [
            "<ipython-input-43-7fcb649b13fe>:12: ParserWarning: Falling back to the 'python' engine because the 'c' engine does not support regex separators (separators > 1 char and different from '\\s+' are interpreted as regex); you can avoid this warning by specifying engine='python'.\n",
            "  dfRAW = pd.read_csv(out_nameRAW, sep = '\\\\t', names = ['qseqid', 'sseqid', 'pident', 'ppos',\n",
            "<ipython-input-43-7fcb649b13fe>:12: ParserWarning: Falling back to the 'python' engine because the 'c' engine does not support regex separators (separators > 1 char and different from '\\s+' are interpreted as regex); you can avoid this warning by specifying engine='python'.\n",
            "  dfRAW = pd.read_csv(out_nameRAW, sep = '\\\\t', names = ['qseqid', 'sseqid', 'pident', 'ppos',\n"
          ]
        },
        {
          "output_type": "stream",
          "name": "stdout",
          "text": [
            "isolate cds_GCA_004566465.1.fasta ready!\n",
            "isolate cds_GCA_004566465.1.fasta ready!\n"
          ]
        },
        {
          "output_type": "stream",
          "name": "stderr",
          "text": [
            "<ipython-input-43-7fcb649b13fe>:12: ParserWarning: Falling back to the 'python' engine because the 'c' engine does not support regex separators (separators > 1 char and different from '\\s+' are interpreted as regex); you can avoid this warning by specifying engine='python'.\n",
            "  dfRAW = pd.read_csv(out_nameRAW, sep = '\\\\t', names = ['qseqid', 'sseqid', 'pident', 'ppos',\n",
            "<ipython-input-43-7fcb649b13fe>:12: ParserWarning: Falling back to the 'python' engine because the 'c' engine does not support regex separators (separators > 1 char and different from '\\s+' are interpreted as regex); you can avoid this warning by specifying engine='python'.\n",
            "  dfRAW = pd.read_csv(out_nameRAW, sep = '\\\\t', names = ['qseqid', 'sseqid', 'pident', 'ppos',\n"
          ]
        },
        {
          "output_type": "stream",
          "name": "stdout",
          "text": [
            "isolate cds_GCA_004566415.1.fasta ready!\n",
            "isolate cds_GCA_004566415.1.fasta ready!\n"
          ]
        },
        {
          "output_type": "stream",
          "name": "stderr",
          "text": [
            "<ipython-input-43-7fcb649b13fe>:12: ParserWarning: Falling back to the 'python' engine because the 'c' engine does not support regex separators (separators > 1 char and different from '\\s+' are interpreted as regex); you can avoid this warning by specifying engine='python'.\n",
            "  dfRAW = pd.read_csv(out_nameRAW, sep = '\\\\t', names = ['qseqid', 'sseqid', 'pident', 'ppos',\n",
            "<ipython-input-43-7fcb649b13fe>:12: ParserWarning: Falling back to the 'python' engine because the 'c' engine does not support regex separators (separators > 1 char and different from '\\s+' are interpreted as regex); you can avoid this warning by specifying engine='python'.\n",
            "  dfRAW = pd.read_csv(out_nameRAW, sep = '\\\\t', names = ['qseqid', 'sseqid', 'pident', 'ppos',\n"
          ]
        },
        {
          "output_type": "stream",
          "name": "stdout",
          "text": [
            "isolate cds_GCA_025827915.1.fasta ready!\n",
            "isolate cds_GCA_025827915.1.fasta ready!\n"
          ]
        },
        {
          "output_type": "stream",
          "name": "stderr",
          "text": [
            "<ipython-input-43-7fcb649b13fe>:12: ParserWarning: Falling back to the 'python' engine because the 'c' engine does not support regex separators (separators > 1 char and different from '\\s+' are interpreted as regex); you can avoid this warning by specifying engine='python'.\n",
            "  dfRAW = pd.read_csv(out_nameRAW, sep = '\\\\t', names = ['qseqid', 'sseqid', 'pident', 'ppos',\n",
            "<ipython-input-43-7fcb649b13fe>:12: ParserWarning: Falling back to the 'python' engine because the 'c' engine does not support regex separators (separators > 1 char and different from '\\s+' are interpreted as regex); you can avoid this warning by specifying engine='python'.\n",
            "  dfRAW = pd.read_csv(out_nameRAW, sep = '\\\\t', names = ['qseqid', 'sseqid', 'pident', 'ppos',\n"
          ]
        },
        {
          "output_type": "stream",
          "name": "stdout",
          "text": [
            "isolate cds_GCA_004567375.1.fasta ready!\n",
            "isolate cds_GCA_004567375.1.fasta ready!\n"
          ]
        },
        {
          "output_type": "stream",
          "name": "stderr",
          "text": [
            "<ipython-input-43-7fcb649b13fe>:12: ParserWarning: Falling back to the 'python' engine because the 'c' engine does not support regex separators (separators > 1 char and different from '\\s+' are interpreted as regex); you can avoid this warning by specifying engine='python'.\n",
            "  dfRAW = pd.read_csv(out_nameRAW, sep = '\\\\t', names = ['qseqid', 'sseqid', 'pident', 'ppos',\n",
            "<ipython-input-43-7fcb649b13fe>:12: ParserWarning: Falling back to the 'python' engine because the 'c' engine does not support regex separators (separators > 1 char and different from '\\s+' are interpreted as regex); you can avoid this warning by specifying engine='python'.\n",
            "  dfRAW = pd.read_csv(out_nameRAW, sep = '\\\\t', names = ['qseqid', 'sseqid', 'pident', 'ppos',\n"
          ]
        },
        {
          "output_type": "stream",
          "name": "stdout",
          "text": [
            "isolate cds_GCA_004566645.1.fasta ready!\n",
            "isolate cds_GCA_004566645.1.fasta ready!\n"
          ]
        },
        {
          "output_type": "stream",
          "name": "stderr",
          "text": [
            "<ipython-input-43-7fcb649b13fe>:12: ParserWarning: Falling back to the 'python' engine because the 'c' engine does not support regex separators (separators > 1 char and different from '\\s+' are interpreted as regex); you can avoid this warning by specifying engine='python'.\n",
            "  dfRAW = pd.read_csv(out_nameRAW, sep = '\\\\t', names = ['qseqid', 'sseqid', 'pident', 'ppos',\n",
            "<ipython-input-43-7fcb649b13fe>:12: ParserWarning: Falling back to the 'python' engine because the 'c' engine does not support regex separators (separators > 1 char and different from '\\s+' are interpreted as regex); you can avoid this warning by specifying engine='python'.\n",
            "  dfRAW = pd.read_csv(out_nameRAW, sep = '\\\\t', names = ['qseqid', 'sseqid', 'pident', 'ppos',\n"
          ]
        },
        {
          "output_type": "stream",
          "name": "stdout",
          "text": [
            "isolate cds_GCA_004566775.1.fasta ready!\n",
            "isolate cds_GCA_004566775.1.fasta ready!\n"
          ]
        },
        {
          "output_type": "stream",
          "name": "stderr",
          "text": [
            "<ipython-input-43-7fcb649b13fe>:12: ParserWarning: Falling back to the 'python' engine because the 'c' engine does not support regex separators (separators > 1 char and different from '\\s+' are interpreted as regex); you can avoid this warning by specifying engine='python'.\n",
            "  dfRAW = pd.read_csv(out_nameRAW, sep = '\\\\t', names = ['qseqid', 'sseqid', 'pident', 'ppos',\n",
            "<ipython-input-43-7fcb649b13fe>:12: ParserWarning: Falling back to the 'python' engine because the 'c' engine does not support regex separators (separators > 1 char and different from '\\s+' are interpreted as regex); you can avoid this warning by specifying engine='python'.\n",
            "  dfRAW = pd.read_csv(out_nameRAW, sep = '\\\\t', names = ['qseqid', 'sseqid', 'pident', 'ppos',\n"
          ]
        },
        {
          "output_type": "stream",
          "name": "stdout",
          "text": [
            "isolate cds_GCA_004566965.1.fasta ready!\n",
            "isolate cds_GCA_004566965.1.fasta ready!\n"
          ]
        },
        {
          "output_type": "stream",
          "name": "stderr",
          "text": [
            "<ipython-input-43-7fcb649b13fe>:12: ParserWarning: Falling back to the 'python' engine because the 'c' engine does not support regex separators (separators > 1 char and different from '\\s+' are interpreted as regex); you can avoid this warning by specifying engine='python'.\n",
            "  dfRAW = pd.read_csv(out_nameRAW, sep = '\\\\t', names = ['qseqid', 'sseqid', 'pident', 'ppos',\n",
            "<ipython-input-43-7fcb649b13fe>:12: ParserWarning: Falling back to the 'python' engine because the 'c' engine does not support regex separators (separators > 1 char and different from '\\s+' are interpreted as regex); you can avoid this warning by specifying engine='python'.\n",
            "  dfRAW = pd.read_csv(out_nameRAW, sep = '\\\\t', names = ['qseqid', 'sseqid', 'pident', 'ppos',\n"
          ]
        },
        {
          "output_type": "stream",
          "name": "stdout",
          "text": [
            "isolate cds_GCA_012587395.1.fasta ready!\n",
            "isolate cds_GCA_012587395.1.fasta ready!\n"
          ]
        },
        {
          "output_type": "stream",
          "name": "stderr",
          "text": [
            "<ipython-input-43-7fcb649b13fe>:12: ParserWarning: Falling back to the 'python' engine because the 'c' engine does not support regex separators (separators > 1 char and different from '\\s+' are interpreted as regex); you can avoid this warning by specifying engine='python'.\n",
            "  dfRAW = pd.read_csv(out_nameRAW, sep = '\\\\t', names = ['qseqid', 'sseqid', 'pident', 'ppos',\n",
            "<ipython-input-43-7fcb649b13fe>:12: ParserWarning: Falling back to the 'python' engine because the 'c' engine does not support regex separators (separators > 1 char and different from '\\s+' are interpreted as regex); you can avoid this warning by specifying engine='python'.\n",
            "  dfRAW = pd.read_csv(out_nameRAW, sep = '\\\\t', names = ['qseqid', 'sseqid', 'pident', 'ppos',\n"
          ]
        },
        {
          "output_type": "stream",
          "name": "stdout",
          "text": [
            "isolate cds_GCA_025830635.1.fasta ready!\n",
            "isolate cds_GCA_025830635.1.fasta ready!\n"
          ]
        },
        {
          "output_type": "stream",
          "name": "stderr",
          "text": [
            "<ipython-input-43-7fcb649b13fe>:12: ParserWarning: Falling back to the 'python' engine because the 'c' engine does not support regex separators (separators > 1 char and different from '\\s+' are interpreted as regex); you can avoid this warning by specifying engine='python'.\n",
            "  dfRAW = pd.read_csv(out_nameRAW, sep = '\\\\t', names = ['qseqid', 'sseqid', 'pident', 'ppos',\n",
            "<ipython-input-43-7fcb649b13fe>:12: ParserWarning: Falling back to the 'python' engine because the 'c' engine does not support regex separators (separators > 1 char and different from '\\s+' are interpreted as regex); you can avoid this warning by specifying engine='python'.\n",
            "  dfRAW = pd.read_csv(out_nameRAW, sep = '\\\\t', names = ['qseqid', 'sseqid', 'pident', 'ppos',\n"
          ]
        },
        {
          "output_type": "stream",
          "name": "stdout",
          "text": [
            "isolate cds_GCA_004566595.1.fasta ready!\n",
            "isolate cds_GCA_004566595.1.fasta ready!\n"
          ]
        },
        {
          "output_type": "stream",
          "name": "stderr",
          "text": [
            "<ipython-input-43-7fcb649b13fe>:12: ParserWarning: Falling back to the 'python' engine because the 'c' engine does not support regex separators (separators > 1 char and different from '\\s+' are interpreted as regex); you can avoid this warning by specifying engine='python'.\n",
            "  dfRAW = pd.read_csv(out_nameRAW, sep = '\\\\t', names = ['qseqid', 'sseqid', 'pident', 'ppos',\n",
            "<ipython-input-43-7fcb649b13fe>:12: ParserWarning: Falling back to the 'python' engine because the 'c' engine does not support regex separators (separators > 1 char and different from '\\s+' are interpreted as regex); you can avoid this warning by specifying engine='python'.\n",
            "  dfRAW = pd.read_csv(out_nameRAW, sep = '\\\\t', names = ['qseqid', 'sseqid', 'pident', 'ppos',\n"
          ]
        },
        {
          "output_type": "stream",
          "name": "stdout",
          "text": [
            "isolate cds_GCA_004566665.1.fasta ready!\n",
            "isolate cds_GCA_004566665.1.fasta ready!\n"
          ]
        },
        {
          "output_type": "stream",
          "name": "stderr",
          "text": [
            "<ipython-input-43-7fcb649b13fe>:12: ParserWarning: Falling back to the 'python' engine because the 'c' engine does not support regex separators (separators > 1 char and different from '\\s+' are interpreted as regex); you can avoid this warning by specifying engine='python'.\n",
            "  dfRAW = pd.read_csv(out_nameRAW, sep = '\\\\t', names = ['qseqid', 'sseqid', 'pident', 'ppos',\n",
            "<ipython-input-43-7fcb649b13fe>:12: ParserWarning: Falling back to the 'python' engine because the 'c' engine does not support regex separators (separators > 1 char and different from '\\s+' are interpreted as regex); you can avoid this warning by specifying engine='python'.\n",
            "  dfRAW = pd.read_csv(out_nameRAW, sep = '\\\\t', names = ['qseqid', 'sseqid', 'pident', 'ppos',\n"
          ]
        },
        {
          "output_type": "stream",
          "name": "stdout",
          "text": [
            "isolate cds_GCA_004567665.1.fasta ready!\n",
            "isolate cds_GCA_004567665.1.fasta ready!\n"
          ]
        },
        {
          "output_type": "stream",
          "name": "stderr",
          "text": [
            "<ipython-input-43-7fcb649b13fe>:12: ParserWarning: Falling back to the 'python' engine because the 'c' engine does not support regex separators (separators > 1 char and different from '\\s+' are interpreted as regex); you can avoid this warning by specifying engine='python'.\n",
            "  dfRAW = pd.read_csv(out_nameRAW, sep = '\\\\t', names = ['qseqid', 'sseqid', 'pident', 'ppos',\n"
          ]
        },
        {
          "output_type": "stream",
          "name": "stdout",
          "text": [
            "isolate cds_GCA_023866455.1.fasta ready!\n"
          ]
        },
        {
          "output_type": "stream",
          "name": "stderr",
          "text": [
            "<ipython-input-43-7fcb649b13fe>:12: ParserWarning: Falling back to the 'python' engine because the 'c' engine does not support regex separators (separators > 1 char and different from '\\s+' are interpreted as regex); you can avoid this warning by specifying engine='python'.\n",
            "  dfRAW = pd.read_csv(out_nameRAW, sep = '\\\\t', names = ['qseqid', 'sseqid', 'pident', 'ppos',\n"
          ]
        },
        {
          "output_type": "stream",
          "name": "stdout",
          "text": [
            "isolate cds_GCA_023866455.1.fasta ready!\n"
          ]
        },
        {
          "output_type": "stream",
          "name": "stderr",
          "text": [
            "<ipython-input-43-7fcb649b13fe>:12: ParserWarning: Falling back to the 'python' engine because the 'c' engine does not support regex separators (separators > 1 char and different from '\\s+' are interpreted as regex); you can avoid this warning by specifying engine='python'.\n",
            "  dfRAW = pd.read_csv(out_nameRAW, sep = '\\\\t', names = ['qseqid', 'sseqid', 'pident', 'ppos',\n",
            "<ipython-input-43-7fcb649b13fe>:12: ParserWarning: Falling back to the 'python' engine because the 'c' engine does not support regex separators (separators > 1 char and different from '\\s+' are interpreted as regex); you can avoid this warning by specifying engine='python'.\n",
            "  dfRAW = pd.read_csv(out_nameRAW, sep = '\\\\t', names = ['qseqid', 'sseqid', 'pident', 'ppos',\n"
          ]
        },
        {
          "output_type": "stream",
          "name": "stdout",
          "text": [
            "isolate cds_GCA_004567715.1.fasta ready!\n",
            "isolate cds_GCA_004567715.1.fasta ready!\n"
          ]
        },
        {
          "output_type": "stream",
          "name": "stderr",
          "text": [
            "<ipython-input-43-7fcb649b13fe>:12: ParserWarning: Falling back to the 'python' engine because the 'c' engine does not support regex separators (separators > 1 char and different from '\\s+' are interpreted as regex); you can avoid this warning by specifying engine='python'.\n",
            "  dfRAW = pd.read_csv(out_nameRAW, sep = '\\\\t', names = ['qseqid', 'sseqid', 'pident', 'ppos',\n",
            "<ipython-input-43-7fcb649b13fe>:12: ParserWarning: Falling back to the 'python' engine because the 'c' engine does not support regex separators (separators > 1 char and different from '\\s+' are interpreted as regex); you can avoid this warning by specifying engine='python'.\n",
            "  dfRAW = pd.read_csv(out_nameRAW, sep = '\\\\t', names = ['qseqid', 'sseqid', 'pident', 'ppos',\n"
          ]
        },
        {
          "output_type": "stream",
          "name": "stdout",
          "text": [
            "isolate cds_GCA_004567595.1.fasta ready!\n",
            "isolate cds_GCA_004567595.1.fasta ready!\n"
          ]
        },
        {
          "output_type": "stream",
          "name": "stderr",
          "text": [
            "<ipython-input-43-7fcb649b13fe>:12: ParserWarning: Falling back to the 'python' engine because the 'c' engine does not support regex separators (separators > 1 char and different from '\\s+' are interpreted as regex); you can avoid this warning by specifying engine='python'.\n",
            "  dfRAW = pd.read_csv(out_nameRAW, sep = '\\\\t', names = ['qseqid', 'sseqid', 'pident', 'ppos',\n",
            "<ipython-input-43-7fcb649b13fe>:12: ParserWarning: Falling back to the 'python' engine because the 'c' engine does not support regex separators (separators > 1 char and different from '\\s+' are interpreted as regex); you can avoid this warning by specifying engine='python'.\n",
            "  dfRAW = pd.read_csv(out_nameRAW, sep = '\\\\t', names = ['qseqid', 'sseqid', 'pident', 'ppos',\n"
          ]
        },
        {
          "output_type": "stream",
          "name": "stdout",
          "text": [
            "isolate cds_GCA_002202175.1.fasta ready!\n",
            "isolate cds_GCA_002202175.1.fasta ready!\n"
          ]
        },
        {
          "output_type": "stream",
          "name": "stderr",
          "text": [
            "<ipython-input-43-7fcb649b13fe>:12: ParserWarning: Falling back to the 'python' engine because the 'c' engine does not support regex separators (separators > 1 char and different from '\\s+' are interpreted as regex); you can avoid this warning by specifying engine='python'.\n",
            "  dfRAW = pd.read_csv(out_nameRAW, sep = '\\\\t', names = ['qseqid', 'sseqid', 'pident', 'ppos',\n",
            "<ipython-input-43-7fcb649b13fe>:12: ParserWarning: Falling back to the 'python' engine because the 'c' engine does not support regex separators (separators > 1 char and different from '\\s+' are interpreted as regex); you can avoid this warning by specifying engine='python'.\n",
            "  dfRAW = pd.read_csv(out_nameRAW, sep = '\\\\t', names = ['qseqid', 'sseqid', 'pident', 'ppos',\n"
          ]
        },
        {
          "output_type": "stream",
          "name": "stdout",
          "text": [
            "isolate cds_GCA_004568895.1.fasta ready!\n",
            "isolate cds_GCA_004568895.1.fasta ready!\n"
          ]
        },
        {
          "output_type": "stream",
          "name": "stderr",
          "text": [
            "<ipython-input-43-7fcb649b13fe>:12: ParserWarning: Falling back to the 'python' engine because the 'c' engine does not support regex separators (separators > 1 char and different from '\\s+' are interpreted as regex); you can avoid this warning by specifying engine='python'.\n",
            "  dfRAW = pd.read_csv(out_nameRAW, sep = '\\\\t', names = ['qseqid', 'sseqid', 'pident', 'ppos',\n",
            "<ipython-input-43-7fcb649b13fe>:12: ParserWarning: Falling back to the 'python' engine because the 'c' engine does not support regex separators (separators > 1 char and different from '\\s+' are interpreted as regex); you can avoid this warning by specifying engine='python'.\n",
            "  dfRAW = pd.read_csv(out_nameRAW, sep = '\\\\t', names = ['qseqid', 'sseqid', 'pident', 'ppos',\n"
          ]
        },
        {
          "output_type": "stream",
          "name": "stdout",
          "text": [
            "isolate cds_GCA_004567255.1.fasta ready!\n",
            "isolate cds_GCA_004567255.1.fasta ready!\n"
          ]
        },
        {
          "output_type": "stream",
          "name": "stderr",
          "text": [
            "<ipython-input-43-7fcb649b13fe>:12: ParserWarning: Falling back to the 'python' engine because the 'c' engine does not support regex separators (separators > 1 char and different from '\\s+' are interpreted as regex); you can avoid this warning by specifying engine='python'.\n",
            "  dfRAW = pd.read_csv(out_nameRAW, sep = '\\\\t', names = ['qseqid', 'sseqid', 'pident', 'ppos',\n",
            "<ipython-input-43-7fcb649b13fe>:12: ParserWarning: Falling back to the 'python' engine because the 'c' engine does not support regex separators (separators > 1 char and different from '\\s+' are interpreted as regex); you can avoid this warning by specifying engine='python'.\n",
            "  dfRAW = pd.read_csv(out_nameRAW, sep = '\\\\t', names = ['qseqid', 'sseqid', 'pident', 'ppos',\n"
          ]
        },
        {
          "output_type": "stream",
          "name": "stdout",
          "text": [
            "isolate cds_GCA_012765655.1.fasta ready!\n",
            "isolate cds_GCA_012765655.1.fasta ready!\n"
          ]
        },
        {
          "output_type": "stream",
          "name": "stderr",
          "text": [
            "<ipython-input-43-7fcb649b13fe>:12: ParserWarning: Falling back to the 'python' engine because the 'c' engine does not support regex separators (separators > 1 char and different from '\\s+' are interpreted as regex); you can avoid this warning by specifying engine='python'.\n",
            "  dfRAW = pd.read_csv(out_nameRAW, sep = '\\\\t', names = ['qseqid', 'sseqid', 'pident', 'ppos',\n",
            "<ipython-input-43-7fcb649b13fe>:12: ParserWarning: Falling back to the 'python' engine because the 'c' engine does not support regex separators (separators > 1 char and different from '\\s+' are interpreted as regex); you can avoid this warning by specifying engine='python'.\n",
            "  dfRAW = pd.read_csv(out_nameRAW, sep = '\\\\t', names = ['qseqid', 'sseqid', 'pident', 'ppos',\n"
          ]
        },
        {
          "output_type": "stream",
          "name": "stdout",
          "text": [
            "isolate cds_GCA_004566375.1.fasta ready!\n",
            "isolate cds_GCA_004566375.1.fasta ready!\n"
          ]
        },
        {
          "output_type": "stream",
          "name": "stderr",
          "text": [
            "<ipython-input-43-7fcb649b13fe>:12: ParserWarning: Falling back to the 'python' engine because the 'c' engine does not support regex separators (separators > 1 char and different from '\\s+' are interpreted as regex); you can avoid this warning by specifying engine='python'.\n",
            "  dfRAW = pd.read_csv(out_nameRAW, sep = '\\\\t', names = ['qseqid', 'sseqid', 'pident', 'ppos',\n",
            "<ipython-input-43-7fcb649b13fe>:12: ParserWarning: Falling back to the 'python' engine because the 'c' engine does not support regex separators (separators > 1 char and different from '\\s+' are interpreted as regex); you can avoid this warning by specifying engine='python'.\n",
            "  dfRAW = pd.read_csv(out_nameRAW, sep = '\\\\t', names = ['qseqid', 'sseqid', 'pident', 'ppos',\n"
          ]
        },
        {
          "output_type": "stream",
          "name": "stdout",
          "text": [
            "isolate cds_GCA_025827735.1.fasta ready!\n",
            "isolate cds_GCA_025827735.1.fasta ready!\n"
          ]
        },
        {
          "output_type": "stream",
          "name": "stderr",
          "text": [
            "<ipython-input-43-7fcb649b13fe>:12: ParserWarning: Falling back to the 'python' engine because the 'c' engine does not support regex separators (separators > 1 char and different from '\\s+' are interpreted as regex); you can avoid this warning by specifying engine='python'.\n",
            "  dfRAW = pd.read_csv(out_nameRAW, sep = '\\\\t', names = ['qseqid', 'sseqid', 'pident', 'ppos',\n",
            "<ipython-input-43-7fcb649b13fe>:12: ParserWarning: Falling back to the 'python' engine because the 'c' engine does not support regex separators (separators > 1 char and different from '\\s+' are interpreted as regex); you can avoid this warning by specifying engine='python'.\n",
            "  dfRAW = pd.read_csv(out_nameRAW, sep = '\\\\t', names = ['qseqid', 'sseqid', 'pident', 'ppos',\n"
          ]
        },
        {
          "output_type": "stream",
          "name": "stdout",
          "text": [
            "isolate cds_GCA_012741075.1.fasta ready!\n",
            "isolate cds_GCA_012741075.1.fasta ready!\n"
          ]
        },
        {
          "output_type": "stream",
          "name": "stderr",
          "text": [
            "<ipython-input-43-7fcb649b13fe>:12: ParserWarning: Falling back to the 'python' engine because the 'c' engine does not support regex separators (separators > 1 char and different from '\\s+' are interpreted as regex); you can avoid this warning by specifying engine='python'.\n",
            "  dfRAW = pd.read_csv(out_nameRAW, sep = '\\\\t', names = ['qseqid', 'sseqid', 'pident', 'ppos',\n",
            "<ipython-input-43-7fcb649b13fe>:12: ParserWarning: Falling back to the 'python' engine because the 'c' engine does not support regex separators (separators > 1 char and different from '\\s+' are interpreted as regex); you can avoid this warning by specifying engine='python'.\n",
            "  dfRAW = pd.read_csv(out_nameRAW, sep = '\\\\t', names = ['qseqid', 'sseqid', 'pident', 'ppos',\n"
          ]
        },
        {
          "output_type": "stream",
          "name": "stdout",
          "text": [
            "isolate cds_GCA_004567355.1.fasta ready!\n",
            "isolate cds_GCA_004567355.1.fasta ready!\n"
          ]
        },
        {
          "output_type": "stream",
          "name": "stderr",
          "text": [
            "<ipython-input-43-7fcb649b13fe>:12: ParserWarning: Falling back to the 'python' engine because the 'c' engine does not support regex separators (separators > 1 char and different from '\\s+' are interpreted as regex); you can avoid this warning by specifying engine='python'.\n",
            "  dfRAW = pd.read_csv(out_nameRAW, sep = '\\\\t', names = ['qseqid', 'sseqid', 'pident', 'ppos',\n"
          ]
        },
        {
          "output_type": "stream",
          "name": "stdout",
          "text": [
            "isolate cds_GCA_025830425.1.fasta ready!\n"
          ]
        },
        {
          "output_type": "stream",
          "name": "stderr",
          "text": [
            "<ipython-input-43-7fcb649b13fe>:12: ParserWarning: Falling back to the 'python' engine because the 'c' engine does not support regex separators (separators > 1 char and different from '\\s+' are interpreted as regex); you can avoid this warning by specifying engine='python'.\n",
            "  dfRAW = pd.read_csv(out_nameRAW, sep = '\\\\t', names = ['qseqid', 'sseqid', 'pident', 'ppos',\n"
          ]
        },
        {
          "output_type": "stream",
          "name": "stdout",
          "text": [
            "isolate cds_GCA_025830425.1.fasta ready!\n"
          ]
        },
        {
          "output_type": "stream",
          "name": "stderr",
          "text": [
            "<ipython-input-43-7fcb649b13fe>:12: ParserWarning: Falling back to the 'python' engine because the 'c' engine does not support regex separators (separators > 1 char and different from '\\s+' are interpreted as regex); you can avoid this warning by specifying engine='python'.\n",
            "  dfRAW = pd.read_csv(out_nameRAW, sep = '\\\\t', names = ['qseqid', 'sseqid', 'pident', 'ppos',\n",
            "<ipython-input-43-7fcb649b13fe>:12: ParserWarning: Falling back to the 'python' engine because the 'c' engine does not support regex separators (separators > 1 char and different from '\\s+' are interpreted as regex); you can avoid this warning by specifying engine='python'.\n",
            "  dfRAW = pd.read_csv(out_nameRAW, sep = '\\\\t', names = ['qseqid', 'sseqid', 'pident', 'ppos',\n"
          ]
        },
        {
          "output_type": "stream",
          "name": "stdout",
          "text": [
            "isolate cds_GCA_025830255.1.fasta ready!\n",
            "isolate cds_GCA_025830255.1.fasta ready!\n"
          ]
        },
        {
          "output_type": "stream",
          "name": "stderr",
          "text": [
            "<ipython-input-43-7fcb649b13fe>:12: ParserWarning: Falling back to the 'python' engine because the 'c' engine does not support regex separators (separators > 1 char and different from '\\s+' are interpreted as regex); you can avoid this warning by specifying engine='python'.\n",
            "  dfRAW = pd.read_csv(out_nameRAW, sep = '\\\\t', names = ['qseqid', 'sseqid', 'pident', 'ppos',\n",
            "<ipython-input-43-7fcb649b13fe>:12: ParserWarning: Falling back to the 'python' engine because the 'c' engine does not support regex separators (separators > 1 char and different from '\\s+' are interpreted as regex); you can avoid this warning by specifying engine='python'.\n",
            "  dfRAW = pd.read_csv(out_nameRAW, sep = '\\\\t', names = ['qseqid', 'sseqid', 'pident', 'ppos',\n"
          ]
        },
        {
          "output_type": "stream",
          "name": "stdout",
          "text": [
            "isolate cds_GCA_004567005.1.fasta ready!\n",
            "isolate cds_GCA_004567005.1.fasta ready!\n"
          ]
        },
        {
          "output_type": "stream",
          "name": "stderr",
          "text": [
            "<ipython-input-43-7fcb649b13fe>:12: ParserWarning: Falling back to the 'python' engine because the 'c' engine does not support regex separators (separators > 1 char and different from '\\s+' are interpreted as regex); you can avoid this warning by specifying engine='python'.\n",
            "  dfRAW = pd.read_csv(out_nameRAW, sep = '\\\\t', names = ['qseqid', 'sseqid', 'pident', 'ppos',\n",
            "<ipython-input-43-7fcb649b13fe>:12: ParserWarning: Falling back to the 'python' engine because the 'c' engine does not support regex separators (separators > 1 char and different from '\\s+' are interpreted as regex); you can avoid this warning by specifying engine='python'.\n",
            "  dfRAW = pd.read_csv(out_nameRAW, sep = '\\\\t', names = ['qseqid', 'sseqid', 'pident', 'ppos',\n"
          ]
        },
        {
          "output_type": "stream",
          "name": "stdout",
          "text": [
            "isolate cds_GCA_004567165.1.fasta ready!\n",
            "isolate cds_GCA_004567165.1.fasta ready!\n"
          ]
        },
        {
          "output_type": "stream",
          "name": "stderr",
          "text": [
            "<ipython-input-43-7fcb649b13fe>:12: ParserWarning: Falling back to the 'python' engine because the 'c' engine does not support regex separators (separators > 1 char and different from '\\s+' are interpreted as regex); you can avoid this warning by specifying engine='python'.\n",
            "  dfRAW = pd.read_csv(out_nameRAW, sep = '\\\\t', names = ['qseqid', 'sseqid', 'pident', 'ppos',\n",
            "<ipython-input-43-7fcb649b13fe>:12: ParserWarning: Falling back to the 'python' engine because the 'c' engine does not support regex separators (separators > 1 char and different from '\\s+' are interpreted as regex); you can avoid this warning by specifying engine='python'.\n",
            "  dfRAW = pd.read_csv(out_nameRAW, sep = '\\\\t', names = ['qseqid', 'sseqid', 'pident', 'ppos',\n"
          ]
        },
        {
          "output_type": "stream",
          "name": "stdout",
          "text": [
            "isolate cds_GCA_012769655.1.fasta ready!\n",
            "isolate cds_GCA_012769655.1.fasta ready!\n"
          ]
        },
        {
          "output_type": "stream",
          "name": "stderr",
          "text": [
            "<ipython-input-43-7fcb649b13fe>:12: ParserWarning: Falling back to the 'python' engine because the 'c' engine does not support regex separators (separators > 1 char and different from '\\s+' are interpreted as regex); you can avoid this warning by specifying engine='python'.\n",
            "  dfRAW = pd.read_csv(out_nameRAW, sep = '\\\\t', names = ['qseqid', 'sseqid', 'pident', 'ppos',\n",
            "<ipython-input-43-7fcb649b13fe>:12: ParserWarning: Falling back to the 'python' engine because the 'c' engine does not support regex separators (separators > 1 char and different from '\\s+' are interpreted as regex); you can avoid this warning by specifying engine='python'.\n",
            "  dfRAW = pd.read_csv(out_nameRAW, sep = '\\\\t', names = ['qseqid', 'sseqid', 'pident', 'ppos',\n"
          ]
        },
        {
          "output_type": "stream",
          "name": "stdout",
          "text": [
            "isolate cds_GCA_026413155.1.fasta ready!\n",
            "isolate cds_GCA_026413155.1.fasta ready!\n"
          ]
        },
        {
          "output_type": "stream",
          "name": "stderr",
          "text": [
            "<ipython-input-43-7fcb649b13fe>:12: ParserWarning: Falling back to the 'python' engine because the 'c' engine does not support regex separators (separators > 1 char and different from '\\s+' are interpreted as regex); you can avoid this warning by specifying engine='python'.\n",
            "  dfRAW = pd.read_csv(out_nameRAW, sep = '\\\\t', names = ['qseqid', 'sseqid', 'pident', 'ppos',\n",
            "<ipython-input-43-7fcb649b13fe>:12: ParserWarning: Falling back to the 'python' engine because the 'c' engine does not support regex separators (separators > 1 char and different from '\\s+' are interpreted as regex); you can avoid this warning by specifying engine='python'.\n",
            "  dfRAW = pd.read_csv(out_nameRAW, sep = '\\\\t', names = ['qseqid', 'sseqid', 'pident', 'ppos',\n"
          ]
        },
        {
          "output_type": "stream",
          "name": "stdout",
          "text": [
            "isolate cds_GCA_004569745.1.fasta ready!\n",
            "isolate cds_GCA_004569745.1.fasta ready!\n"
          ]
        },
        {
          "output_type": "stream",
          "name": "stderr",
          "text": [
            "<ipython-input-43-7fcb649b13fe>:12: ParserWarning: Falling back to the 'python' engine because the 'c' engine does not support regex separators (separators > 1 char and different from '\\s+' are interpreted as regex); you can avoid this warning by specifying engine='python'.\n",
            "  dfRAW = pd.read_csv(out_nameRAW, sep = '\\\\t', names = ['qseqid', 'sseqid', 'pident', 'ppos',\n",
            "<ipython-input-43-7fcb649b13fe>:12: ParserWarning: Falling back to the 'python' engine because the 'c' engine does not support regex separators (separators > 1 char and different from '\\s+' are interpreted as regex); you can avoid this warning by specifying engine='python'.\n",
            "  dfRAW = pd.read_csv(out_nameRAW, sep = '\\\\t', names = ['qseqid', 'sseqid', 'pident', 'ppos',\n"
          ]
        },
        {
          "output_type": "stream",
          "name": "stdout",
          "text": [
            "isolate cds_GCA_025828875.1.fasta ready!\n",
            "isolate cds_GCA_025828875.1.fasta ready!\n"
          ]
        },
        {
          "output_type": "stream",
          "name": "stderr",
          "text": [
            "<ipython-input-43-7fcb649b13fe>:12: ParserWarning: Falling back to the 'python' engine because the 'c' engine does not support regex separators (separators > 1 char and different from '\\s+' are interpreted as regex); you can avoid this warning by specifying engine='python'.\n",
            "  dfRAW = pd.read_csv(out_nameRAW, sep = '\\\\t', names = ['qseqid', 'sseqid', 'pident', 'ppos',\n",
            "<ipython-input-43-7fcb649b13fe>:12: ParserWarning: Falling back to the 'python' engine because the 'c' engine does not support regex separators (separators > 1 char and different from '\\s+' are interpreted as regex); you can avoid this warning by specifying engine='python'.\n",
            "  dfRAW = pd.read_csv(out_nameRAW, sep = '\\\\t', names = ['qseqid', 'sseqid', 'pident', 'ppos',\n"
          ]
        },
        {
          "output_type": "stream",
          "name": "stdout",
          "text": [
            "isolate cds_GCA_004567585.1.fasta ready!\n",
            "isolate cds_GCA_004567585.1.fasta ready!\n"
          ]
        },
        {
          "output_type": "stream",
          "name": "stderr",
          "text": [
            "<ipython-input-43-7fcb649b13fe>:12: ParserWarning: Falling back to the 'python' engine because the 'c' engine does not support regex separators (separators > 1 char and different from '\\s+' are interpreted as regex); you can avoid this warning by specifying engine='python'.\n",
            "  dfRAW = pd.read_csv(out_nameRAW, sep = '\\\\t', names = ['qseqid', 'sseqid', 'pident', 'ppos',\n",
            "<ipython-input-43-7fcb649b13fe>:12: ParserWarning: Falling back to the 'python' engine because the 'c' engine does not support regex separators (separators > 1 char and different from '\\s+' are interpreted as regex); you can avoid this warning by specifying engine='python'.\n",
            "  dfRAW = pd.read_csv(out_nameRAW, sep = '\\\\t', names = ['qseqid', 'sseqid', 'pident', 'ppos',\n"
          ]
        },
        {
          "output_type": "stream",
          "name": "stdout",
          "text": [
            "isolate cds_GCA_002201835.1.fasta ready!\n",
            "isolate cds_GCA_002201835.1.fasta ready!\n"
          ]
        },
        {
          "output_type": "stream",
          "name": "stderr",
          "text": [
            "<ipython-input-43-7fcb649b13fe>:12: ParserWarning: Falling back to the 'python' engine because the 'c' engine does not support regex separators (separators > 1 char and different from '\\s+' are interpreted as regex); you can avoid this warning by specifying engine='python'.\n",
            "  dfRAW = pd.read_csv(out_nameRAW, sep = '\\\\t', names = ['qseqid', 'sseqid', 'pident', 'ppos',\n"
          ]
        },
        {
          "output_type": "stream",
          "name": "stdout",
          "text": [
            "isolate cds_GCA_025828275.1.fasta ready!\n"
          ]
        },
        {
          "output_type": "stream",
          "name": "stderr",
          "text": [
            "<ipython-input-43-7fcb649b13fe>:12: ParserWarning: Falling back to the 'python' engine because the 'c' engine does not support regex separators (separators > 1 char and different from '\\s+' are interpreted as regex); you can avoid this warning by specifying engine='python'.\n",
            "  dfRAW = pd.read_csv(out_nameRAW, sep = '\\\\t', names = ['qseqid', 'sseqid', 'pident', 'ppos',\n"
          ]
        },
        {
          "output_type": "stream",
          "name": "stdout",
          "text": [
            "isolate cds_GCA_025828275.1.fasta ready!\n"
          ]
        },
        {
          "output_type": "stream",
          "name": "stderr",
          "text": [
            "<ipython-input-43-7fcb649b13fe>:12: ParserWarning: Falling back to the 'python' engine because the 'c' engine does not support regex separators (separators > 1 char and different from '\\s+' are interpreted as regex); you can avoid this warning by specifying engine='python'.\n",
            "  dfRAW = pd.read_csv(out_nameRAW, sep = '\\\\t', names = ['qseqid', 'sseqid', 'pident', 'ppos',\n",
            "<ipython-input-43-7fcb649b13fe>:12: ParserWarning: Falling back to the 'python' engine because the 'c' engine does not support regex separators (separators > 1 char and different from '\\s+' are interpreted as regex); you can avoid this warning by specifying engine='python'.\n",
            "  dfRAW = pd.read_csv(out_nameRAW, sep = '\\\\t', names = ['qseqid', 'sseqid', 'pident', 'ppos',\n"
          ]
        },
        {
          "output_type": "stream",
          "name": "stdout",
          "text": [
            "isolate cds_GCA_004566385.1.fasta ready!\n",
            "isolate cds_GCA_004566385.1.fasta ready!\n"
          ]
        },
        {
          "output_type": "stream",
          "name": "stderr",
          "text": [
            "<ipython-input-43-7fcb649b13fe>:12: ParserWarning: Falling back to the 'python' engine because the 'c' engine does not support regex separators (separators > 1 char and different from '\\s+' are interpreted as regex); you can avoid this warning by specifying engine='python'.\n",
            "  dfRAW = pd.read_csv(out_nameRAW, sep = '\\\\t', names = ['qseqid', 'sseqid', 'pident', 'ppos',\n",
            "<ipython-input-43-7fcb649b13fe>:12: ParserWarning: Falling back to the 'python' engine because the 'c' engine does not support regex separators (separators > 1 char and different from '\\s+' are interpreted as regex); you can avoid this warning by specifying engine='python'.\n",
            "  dfRAW = pd.read_csv(out_nameRAW, sep = '\\\\t', names = ['qseqid', 'sseqid', 'pident', 'ppos',\n"
          ]
        },
        {
          "output_type": "stream",
          "name": "stdout",
          "text": [
            "isolate cds_GCA_025827515.1.fasta ready!\n",
            "isolate cds_GCA_025827515.1.fasta ready!\n"
          ]
        },
        {
          "output_type": "stream",
          "name": "stderr",
          "text": [
            "<ipython-input-43-7fcb649b13fe>:12: ParserWarning: Falling back to the 'python' engine because the 'c' engine does not support regex separators (separators > 1 char and different from '\\s+' are interpreted as regex); you can avoid this warning by specifying engine='python'.\n",
            "  dfRAW = pd.read_csv(out_nameRAW, sep = '\\\\t', names = ['qseqid', 'sseqid', 'pident', 'ppos',\n",
            "<ipython-input-43-7fcb649b13fe>:12: ParserWarning: Falling back to the 'python' engine because the 'c' engine does not support regex separators (separators > 1 char and different from '\\s+' are interpreted as regex); you can avoid this warning by specifying engine='python'.\n",
            "  dfRAW = pd.read_csv(out_nameRAW, sep = '\\\\t', names = ['qseqid', 'sseqid', 'pident', 'ppos',\n"
          ]
        },
        {
          "output_type": "stream",
          "name": "stdout",
          "text": [
            "isolate cds_GCA_004569855.1.fasta ready!\n",
            "isolate cds_GCA_004569855.1.fasta ready!\n"
          ]
        },
        {
          "output_type": "stream",
          "name": "stderr",
          "text": [
            "<ipython-input-43-7fcb649b13fe>:12: ParserWarning: Falling back to the 'python' engine because the 'c' engine does not support regex separators (separators > 1 char and different from '\\s+' are interpreted as regex); you can avoid this warning by specifying engine='python'.\n",
            "  dfRAW = pd.read_csv(out_nameRAW, sep = '\\\\t', names = ['qseqid', 'sseqid', 'pident', 'ppos',\n",
            "<ipython-input-43-7fcb649b13fe>:12: ParserWarning: Falling back to the 'python' engine because the 'c' engine does not support regex separators (separators > 1 char and different from '\\s+' are interpreted as regex); you can avoid this warning by specifying engine='python'.\n",
            "  dfRAW = pd.read_csv(out_nameRAW, sep = '\\\\t', names = ['qseqid', 'sseqid', 'pident', 'ppos',\n"
          ]
        },
        {
          "output_type": "stream",
          "name": "stdout",
          "text": [
            "isolate cds_GCA_004567745.1.fasta ready!\n",
            "isolate cds_GCA_004567745.1.fasta ready!\n"
          ]
        },
        {
          "output_type": "stream",
          "name": "stderr",
          "text": [
            "<ipython-input-43-7fcb649b13fe>:12: ParserWarning: Falling back to the 'python' engine because the 'c' engine does not support regex separators (separators > 1 char and different from '\\s+' are interpreted as regex); you can avoid this warning by specifying engine='python'.\n",
            "  dfRAW = pd.read_csv(out_nameRAW, sep = '\\\\t', names = ['qseqid', 'sseqid', 'pident', 'ppos',\n",
            "<ipython-input-43-7fcb649b13fe>:12: ParserWarning: Falling back to the 'python' engine because the 'c' engine does not support regex separators (separators > 1 char and different from '\\s+' are interpreted as regex); you can avoid this warning by specifying engine='python'.\n",
            "  dfRAW = pd.read_csv(out_nameRAW, sep = '\\\\t', names = ['qseqid', 'sseqid', 'pident', 'ppos',\n"
          ]
        },
        {
          "output_type": "stream",
          "name": "stdout",
          "text": [
            "isolate cds_GCA_004567565.1.fasta ready!\n",
            "isolate cds_GCA_004567565.1.fasta ready!\n"
          ]
        },
        {
          "output_type": "stream",
          "name": "stderr",
          "text": [
            "<ipython-input-43-7fcb649b13fe>:12: ParserWarning: Falling back to the 'python' engine because the 'c' engine does not support regex separators (separators > 1 char and different from '\\s+' are interpreted as regex); you can avoid this warning by specifying engine='python'.\n",
            "  dfRAW = pd.read_csv(out_nameRAW, sep = '\\\\t', names = ['qseqid', 'sseqid', 'pident', 'ppos',\n",
            "<ipython-input-43-7fcb649b13fe>:12: ParserWarning: Falling back to the 'python' engine because the 'c' engine does not support regex separators (separators > 1 char and different from '\\s+' are interpreted as regex); you can avoid this warning by specifying engine='python'.\n",
            "  dfRAW = pd.read_csv(out_nameRAW, sep = '\\\\t', names = ['qseqid', 'sseqid', 'pident', 'ppos',\n"
          ]
        },
        {
          "output_type": "stream",
          "name": "stdout",
          "text": [
            "isolate cds_GCA_002180275.1.fasta ready!\n",
            "isolate cds_GCA_002180275.1.fasta ready!\n"
          ]
        },
        {
          "output_type": "stream",
          "name": "stderr",
          "text": [
            "<ipython-input-43-7fcb649b13fe>:12: ParserWarning: Falling back to the 'python' engine because the 'c' engine does not support regex separators (separators > 1 char and different from '\\s+' are interpreted as regex); you can avoid this warning by specifying engine='python'.\n",
            "  dfRAW = pd.read_csv(out_nameRAW, sep = '\\\\t', names = ['qseqid', 'sseqid', 'pident', 'ppos',\n",
            "<ipython-input-43-7fcb649b13fe>:12: ParserWarning: Falling back to the 'python' engine because the 'c' engine does not support regex separators (separators > 1 char and different from '\\s+' are interpreted as regex); you can avoid this warning by specifying engine='python'.\n",
            "  dfRAW = pd.read_csv(out_nameRAW, sep = '\\\\t', names = ['qseqid', 'sseqid', 'pident', 'ppos',\n"
          ]
        },
        {
          "output_type": "stream",
          "name": "stdout",
          "text": [
            "isolate cds_GCA_004567065.1.fasta ready!\n",
            "isolate cds_GCA_004567065.1.fasta ready!\n"
          ]
        },
        {
          "output_type": "stream",
          "name": "stderr",
          "text": [
            "<ipython-input-43-7fcb649b13fe>:12: ParserWarning: Falling back to the 'python' engine because the 'c' engine does not support regex separators (separators > 1 char and different from '\\s+' are interpreted as regex); you can avoid this warning by specifying engine='python'.\n",
            "  dfRAW = pd.read_csv(out_nameRAW, sep = '\\\\t', names = ['qseqid', 'sseqid', 'pident', 'ppos',\n",
            "<ipython-input-43-7fcb649b13fe>:12: ParserWarning: Falling back to the 'python' engine because the 'c' engine does not support regex separators (separators > 1 char and different from '\\s+' are interpreted as regex); you can avoid this warning by specifying engine='python'.\n",
            "  dfRAW = pd.read_csv(out_nameRAW, sep = '\\\\t', names = ['qseqid', 'sseqid', 'pident', 'ppos',\n"
          ]
        },
        {
          "output_type": "stream",
          "name": "stdout",
          "text": [
            "isolate cds_GCA_004566715.1.fasta ready!\n",
            "isolate cds_GCA_004566715.1.fasta ready!\n"
          ]
        },
        {
          "output_type": "stream",
          "name": "stderr",
          "text": [
            "<ipython-input-43-7fcb649b13fe>:12: ParserWarning: Falling back to the 'python' engine because the 'c' engine does not support regex separators (separators > 1 char and different from '\\s+' are interpreted as regex); you can avoid this warning by specifying engine='python'.\n",
            "  dfRAW = pd.read_csv(out_nameRAW, sep = '\\\\t', names = ['qseqid', 'sseqid', 'pident', 'ppos',\n",
            "<ipython-input-43-7fcb649b13fe>:12: ParserWarning: Falling back to the 'python' engine because the 'c' engine does not support regex separators (separators > 1 char and different from '\\s+' are interpreted as regex); you can avoid this warning by specifying engine='python'.\n",
            "  dfRAW = pd.read_csv(out_nameRAW, sep = '\\\\t', names = ['qseqid', 'sseqid', 'pident', 'ppos',\n"
          ]
        },
        {
          "output_type": "stream",
          "name": "stdout",
          "text": [
            "isolate cds_GCA_025827525.1.fasta ready!\n",
            "isolate cds_GCA_025827525.1.fasta ready!\n"
          ]
        },
        {
          "output_type": "stream",
          "name": "stderr",
          "text": [
            "<ipython-input-43-7fcb649b13fe>:12: ParserWarning: Falling back to the 'python' engine because the 'c' engine does not support regex separators (separators > 1 char and different from '\\s+' are interpreted as regex); you can avoid this warning by specifying engine='python'.\n",
            "  dfRAW = pd.read_csv(out_nameRAW, sep = '\\\\t', names = ['qseqid', 'sseqid', 'pident', 'ppos',\n",
            "<ipython-input-43-7fcb649b13fe>:12: ParserWarning: Falling back to the 'python' engine because the 'c' engine does not support regex separators (separators > 1 char and different from '\\s+' are interpreted as regex); you can avoid this warning by specifying engine='python'.\n",
            "  dfRAW = pd.read_csv(out_nameRAW, sep = '\\\\t', names = ['qseqid', 'sseqid', 'pident', 'ppos',\n"
          ]
        },
        {
          "output_type": "stream",
          "name": "stdout",
          "text": [
            "isolate cds_GCA_004569695.1.fasta ready!\n",
            "isolate cds_GCA_004569695.1.fasta ready!\n"
          ]
        },
        {
          "output_type": "stream",
          "name": "stderr",
          "text": [
            "<ipython-input-43-7fcb649b13fe>:12: ParserWarning: Falling back to the 'python' engine because the 'c' engine does not support regex separators (separators > 1 char and different from '\\s+' are interpreted as regex); you can avoid this warning by specifying engine='python'.\n",
            "  dfRAW = pd.read_csv(out_nameRAW, sep = '\\\\t', names = ['qseqid', 'sseqid', 'pident', 'ppos',\n",
            "<ipython-input-43-7fcb649b13fe>:12: ParserWarning: Falling back to the 'python' engine because the 'c' engine does not support regex separators (separators > 1 char and different from '\\s+' are interpreted as regex); you can avoid this warning by specifying engine='python'.\n",
            "  dfRAW = pd.read_csv(out_nameRAW, sep = '\\\\t', names = ['qseqid', 'sseqid', 'pident', 'ppos',\n"
          ]
        },
        {
          "output_type": "stream",
          "name": "stdout",
          "text": [
            "isolate cds_GCA_002180135.1.fasta ready!\n",
            "isolate cds_GCA_002180135.1.fasta ready!\n"
          ]
        },
        {
          "output_type": "stream",
          "name": "stderr",
          "text": [
            "<ipython-input-43-7fcb649b13fe>:12: ParserWarning: Falling back to the 'python' engine because the 'c' engine does not support regex separators (separators > 1 char and different from '\\s+' are interpreted as regex); you can avoid this warning by specifying engine='python'.\n",
            "  dfRAW = pd.read_csv(out_nameRAW, sep = '\\\\t', names = ['qseqid', 'sseqid', 'pident', 'ppos',\n",
            "<ipython-input-43-7fcb649b13fe>:12: ParserWarning: Falling back to the 'python' engine because the 'c' engine does not support regex separators (separators > 1 char and different from '\\s+' are interpreted as regex); you can avoid this warning by specifying engine='python'.\n",
            "  dfRAW = pd.read_csv(out_nameRAW, sep = '\\\\t', names = ['qseqid', 'sseqid', 'pident', 'ppos',\n"
          ]
        },
        {
          "output_type": "stream",
          "name": "stdout",
          "text": [
            "isolate cds_GCA_025827995.1.fasta ready!\n",
            "isolate cds_GCA_025827995.1.fasta ready!\n"
          ]
        },
        {
          "output_type": "stream",
          "name": "stderr",
          "text": [
            "<ipython-input-43-7fcb649b13fe>:12: ParserWarning: Falling back to the 'python' engine because the 'c' engine does not support regex separators (separators > 1 char and different from '\\s+' are interpreted as regex); you can avoid this warning by specifying engine='python'.\n",
            "  dfRAW = pd.read_csv(out_nameRAW, sep = '\\\\t', names = ['qseqid', 'sseqid', 'pident', 'ppos',\n",
            "<ipython-input-43-7fcb649b13fe>:12: ParserWarning: Falling back to the 'python' engine because the 'c' engine does not support regex separators (separators > 1 char and different from '\\s+' are interpreted as regex); you can avoid this warning by specifying engine='python'.\n",
            "  dfRAW = pd.read_csv(out_nameRAW, sep = '\\\\t', names = ['qseqid', 'sseqid', 'pident', 'ppos',\n"
          ]
        },
        {
          "output_type": "stream",
          "name": "stdout",
          "text": [
            "isolate cds_GCA_004567415.1.fasta ready!\n",
            "isolate cds_GCA_004567415.1.fasta ready!\n"
          ]
        },
        {
          "output_type": "stream",
          "name": "stderr",
          "text": [
            "<ipython-input-43-7fcb649b13fe>:12: ParserWarning: Falling back to the 'python' engine because the 'c' engine does not support regex separators (separators > 1 char and different from '\\s+' are interpreted as regex); you can avoid this warning by specifying engine='python'.\n",
            "  dfRAW = pd.read_csv(out_nameRAW, sep = '\\\\t', names = ['qseqid', 'sseqid', 'pident', 'ppos',\n",
            "<ipython-input-43-7fcb649b13fe>:12: ParserWarning: Falling back to the 'python' engine because the 'c' engine does not support regex separators (separators > 1 char and different from '\\s+' are interpreted as regex); you can avoid this warning by specifying engine='python'.\n",
            "  dfRAW = pd.read_csv(out_nameRAW, sep = '\\\\t', names = ['qseqid', 'sseqid', 'pident', 'ppos',\n"
          ]
        },
        {
          "output_type": "stream",
          "name": "stdout",
          "text": [
            "isolate cds_GCA_023880595.1.fasta ready!\n",
            "isolate cds_GCA_023880595.1.fasta ready!\n"
          ]
        },
        {
          "output_type": "stream",
          "name": "stderr",
          "text": [
            "<ipython-input-43-7fcb649b13fe>:12: ParserWarning: Falling back to the 'python' engine because the 'c' engine does not support regex separators (separators > 1 char and different from '\\s+' are interpreted as regex); you can avoid this warning by specifying engine='python'.\n",
            "  dfRAW = pd.read_csv(out_nameRAW, sep = '\\\\t', names = ['qseqid', 'sseqid', 'pident', 'ppos',\n",
            "<ipython-input-43-7fcb649b13fe>:12: ParserWarning: Falling back to the 'python' engine because the 'c' engine does not support regex separators (separators > 1 char and different from '\\s+' are interpreted as regex); you can avoid this warning by specifying engine='python'.\n",
            "  dfRAW = pd.read_csv(out_nameRAW, sep = '\\\\t', names = ['qseqid', 'sseqid', 'pident', 'ppos',\n"
          ]
        },
        {
          "output_type": "stream",
          "name": "stdout",
          "text": [
            "isolate cds_GCA_004567495.1.fasta ready!\n",
            "isolate cds_GCA_004567495.1.fasta ready!\n"
          ]
        },
        {
          "output_type": "stream",
          "name": "stderr",
          "text": [
            "<ipython-input-43-7fcb649b13fe>:12: ParserWarning: Falling back to the 'python' engine because the 'c' engine does not support regex separators (separators > 1 char and different from '\\s+' are interpreted as regex); you can avoid this warning by specifying engine='python'.\n",
            "  dfRAW = pd.read_csv(out_nameRAW, sep = '\\\\t', names = ['qseqid', 'sseqid', 'pident', 'ppos',\n",
            "<ipython-input-43-7fcb649b13fe>:12: ParserWarning: Falling back to the 'python' engine because the 'c' engine does not support regex separators (separators > 1 char and different from '\\s+' are interpreted as regex); you can avoid this warning by specifying engine='python'.\n",
            "  dfRAW = pd.read_csv(out_nameRAW, sep = '\\\\t', names = ['qseqid', 'sseqid', 'pident', 'ppos',\n"
          ]
        },
        {
          "output_type": "stream",
          "name": "stdout",
          "text": [
            "isolate cds_GCA_004568935.1.fasta ready!\n",
            "isolate cds_GCA_004568935.1.fasta ready!\n"
          ]
        },
        {
          "output_type": "stream",
          "name": "stderr",
          "text": [
            "<ipython-input-43-7fcb649b13fe>:12: ParserWarning: Falling back to the 'python' engine because the 'c' engine does not support regex separators (separators > 1 char and different from '\\s+' are interpreted as regex); you can avoid this warning by specifying engine='python'.\n",
            "  dfRAW = pd.read_csv(out_nameRAW, sep = '\\\\t', names = ['qseqid', 'sseqid', 'pident', 'ppos',\n",
            "<ipython-input-43-7fcb649b13fe>:12: ParserWarning: Falling back to the 'python' engine because the 'c' engine does not support regex separators (separators > 1 char and different from '\\s+' are interpreted as regex); you can avoid this warning by specifying engine='python'.\n",
            "  dfRAW = pd.read_csv(out_nameRAW, sep = '\\\\t', names = ['qseqid', 'sseqid', 'pident', 'ppos',\n"
          ]
        },
        {
          "output_type": "stream",
          "name": "stdout",
          "text": [
            "isolate cds_GCA_001747365.2.fasta ready!\n",
            "isolate cds_GCA_001747365.2.fasta ready!\n"
          ]
        },
        {
          "output_type": "stream",
          "name": "stderr",
          "text": [
            "<ipython-input-43-7fcb649b13fe>:12: ParserWarning: Falling back to the 'python' engine because the 'c' engine does not support regex separators (separators > 1 char and different from '\\s+' are interpreted as regex); you can avoid this warning by specifying engine='python'.\n",
            "  dfRAW = pd.read_csv(out_nameRAW, sep = '\\\\t', names = ['qseqid', 'sseqid', 'pident', 'ppos',\n",
            "<ipython-input-43-7fcb649b13fe>:12: ParserWarning: Falling back to the 'python' engine because the 'c' engine does not support regex separators (separators > 1 char and different from '\\s+' are interpreted as regex); you can avoid this warning by specifying engine='python'.\n",
            "  dfRAW = pd.read_csv(out_nameRAW, sep = '\\\\t', names = ['qseqid', 'sseqid', 'pident', 'ppos',\n"
          ]
        },
        {
          "output_type": "stream",
          "name": "stdout",
          "text": [
            "isolate cds_GCA_004568575.1.fasta ready!\n",
            "isolate cds_GCA_004568575.1.fasta ready!\n"
          ]
        },
        {
          "output_type": "stream",
          "name": "stderr",
          "text": [
            "<ipython-input-43-7fcb649b13fe>:12: ParserWarning: Falling back to the 'python' engine because the 'c' engine does not support regex separators (separators > 1 char and different from '\\s+' are interpreted as regex); you can avoid this warning by specifying engine='python'.\n",
            "  dfRAW = pd.read_csv(out_nameRAW, sep = '\\\\t', names = ['qseqid', 'sseqid', 'pident', 'ppos',\n",
            "<ipython-input-43-7fcb649b13fe>:12: ParserWarning: Falling back to the 'python' engine because the 'c' engine does not support regex separators (separators > 1 char and different from '\\s+' are interpreted as regex); you can avoid this warning by specifying engine='python'.\n",
            "  dfRAW = pd.read_csv(out_nameRAW, sep = '\\\\t', names = ['qseqid', 'sseqid', 'pident', 'ppos',\n"
          ]
        },
        {
          "output_type": "stream",
          "name": "stdout",
          "text": [
            "isolate cds_GCA_004569925.1.fasta ready!\n",
            "isolate cds_GCA_004569925.1.fasta ready!\n"
          ]
        },
        {
          "output_type": "stream",
          "name": "stderr",
          "text": [
            "<ipython-input-43-7fcb649b13fe>:12: ParserWarning: Falling back to the 'python' engine because the 'c' engine does not support regex separators (separators > 1 char and different from '\\s+' are interpreted as regex); you can avoid this warning by specifying engine='python'.\n",
            "  dfRAW = pd.read_csv(out_nameRAW, sep = '\\\\t', names = ['qseqid', 'sseqid', 'pident', 'ppos',\n",
            "<ipython-input-43-7fcb649b13fe>:12: ParserWarning: Falling back to the 'python' engine because the 'c' engine does not support regex separators (separators > 1 char and different from '\\s+' are interpreted as regex); you can avoid this warning by specifying engine='python'.\n",
            "  dfRAW = pd.read_csv(out_nameRAW, sep = '\\\\t', names = ['qseqid', 'sseqid', 'pident', 'ppos',\n"
          ]
        },
        {
          "output_type": "stream",
          "name": "stdout",
          "text": [
            "isolate cds_GCA_004566475.1.fasta ready!\n",
            "isolate cds_GCA_004566475.1.fasta ready!\n"
          ]
        },
        {
          "output_type": "stream",
          "name": "stderr",
          "text": [
            "<ipython-input-43-7fcb649b13fe>:12: ParserWarning: Falling back to the 'python' engine because the 'c' engine does not support regex separators (separators > 1 char and different from '\\s+' are interpreted as regex); you can avoid this warning by specifying engine='python'.\n",
            "  dfRAW = pd.read_csv(out_nameRAW, sep = '\\\\t', names = ['qseqid', 'sseqid', 'pident', 'ppos',\n",
            "<ipython-input-43-7fcb649b13fe>:12: ParserWarning: Falling back to the 'python' engine because the 'c' engine does not support regex separators (separators > 1 char and different from '\\s+' are interpreted as regex); you can avoid this warning by specifying engine='python'.\n",
            "  dfRAW = pd.read_csv(out_nameRAW, sep = '\\\\t', names = ['qseqid', 'sseqid', 'pident', 'ppos',\n"
          ]
        },
        {
          "output_type": "stream",
          "name": "stdout",
          "text": [
            "isolate cds_GCA_004568225.1.fasta ready!\n",
            "isolate cds_GCA_004568225.1.fasta ready!\n"
          ]
        },
        {
          "output_type": "stream",
          "name": "stderr",
          "text": [
            "<ipython-input-43-7fcb649b13fe>:12: ParserWarning: Falling back to the 'python' engine because the 'c' engine does not support regex separators (separators > 1 char and different from '\\s+' are interpreted as regex); you can avoid this warning by specifying engine='python'.\n",
            "  dfRAW = pd.read_csv(out_nameRAW, sep = '\\\\t', names = ['qseqid', 'sseqid', 'pident', 'ppos',\n",
            "<ipython-input-43-7fcb649b13fe>:12: ParserWarning: Falling back to the 'python' engine because the 'c' engine does not support regex separators (separators > 1 char and different from '\\s+' are interpreted as regex); you can avoid this warning by specifying engine='python'.\n",
            "  dfRAW = pd.read_csv(out_nameRAW, sep = '\\\\t', names = ['qseqid', 'sseqid', 'pident', 'ppos',\n"
          ]
        },
        {
          "output_type": "stream",
          "name": "stdout",
          "text": [
            "isolate cds_GCA_025831135.1.fasta ready!\n",
            "isolate cds_GCA_025831135.1.fasta ready!\n"
          ]
        },
        {
          "output_type": "stream",
          "name": "stderr",
          "text": [
            "<ipython-input-43-7fcb649b13fe>:12: ParserWarning: Falling back to the 'python' engine because the 'c' engine does not support regex separators (separators > 1 char and different from '\\s+' are interpreted as regex); you can avoid this warning by specifying engine='python'.\n",
            "  dfRAW = pd.read_csv(out_nameRAW, sep = '\\\\t', names = ['qseqid', 'sseqid', 'pident', 'ppos',\n",
            "<ipython-input-43-7fcb649b13fe>:12: ParserWarning: Falling back to the 'python' engine because the 'c' engine does not support regex separators (separators > 1 char and different from '\\s+' are interpreted as regex); you can avoid this warning by specifying engine='python'.\n",
            "  dfRAW = pd.read_csv(out_nameRAW, sep = '\\\\t', names = ['qseqid', 'sseqid', 'pident', 'ppos',\n"
          ]
        },
        {
          "output_type": "stream",
          "name": "stdout",
          "text": [
            "isolate cds_GCA_025830515.1.fasta ready!\n",
            "isolate cds_GCA_025830515.1.fasta ready!\n"
          ]
        },
        {
          "output_type": "stream",
          "name": "stderr",
          "text": [
            "<ipython-input-43-7fcb649b13fe>:12: ParserWarning: Falling back to the 'python' engine because the 'c' engine does not support regex separators (separators > 1 char and different from '\\s+' are interpreted as regex); you can avoid this warning by specifying engine='python'.\n",
            "  dfRAW = pd.read_csv(out_nameRAW, sep = '\\\\t', names = ['qseqid', 'sseqid', 'pident', 'ppos',\n",
            "<ipython-input-43-7fcb649b13fe>:12: ParserWarning: Falling back to the 'python' engine because the 'c' engine does not support regex separators (separators > 1 char and different from '\\s+' are interpreted as regex); you can avoid this warning by specifying engine='python'.\n",
            "  dfRAW = pd.read_csv(out_nameRAW, sep = '\\\\t', names = ['qseqid', 'sseqid', 'pident', 'ppos',\n"
          ]
        },
        {
          "output_type": "stream",
          "name": "stdout",
          "text": [
            "isolate cds_GCA_004567805.1.fasta ready!\n",
            "isolate cds_GCA_004567805.1.fasta ready!\n"
          ]
        },
        {
          "output_type": "stream",
          "name": "stderr",
          "text": [
            "<ipython-input-43-7fcb649b13fe>:12: ParserWarning: Falling back to the 'python' engine because the 'c' engine does not support regex separators (separators > 1 char and different from '\\s+' are interpreted as regex); you can avoid this warning by specifying engine='python'.\n",
            "  dfRAW = pd.read_csv(out_nameRAW, sep = '\\\\t', names = ['qseqid', 'sseqid', 'pident', 'ppos',\n",
            "<ipython-input-43-7fcb649b13fe>:12: ParserWarning: Falling back to the 'python' engine because the 'c' engine does not support regex separators (separators > 1 char and different from '\\s+' are interpreted as regex); you can avoid this warning by specifying engine='python'.\n",
            "  dfRAW = pd.read_csv(out_nameRAW, sep = '\\\\t', names = ['qseqid', 'sseqid', 'pident', 'ppos',\n"
          ]
        },
        {
          "output_type": "stream",
          "name": "stdout",
          "text": [
            "isolate cds_GCA_001874845.1.fasta ready!\n",
            "isolate cds_GCA_001874845.1.fasta ready!\n"
          ]
        },
        {
          "output_type": "stream",
          "name": "stderr",
          "text": [
            "<ipython-input-43-7fcb649b13fe>:12: ParserWarning: Falling back to the 'python' engine because the 'c' engine does not support regex separators (separators > 1 char and different from '\\s+' are interpreted as regex); you can avoid this warning by specifying engine='python'.\n",
            "  dfRAW = pd.read_csv(out_nameRAW, sep = '\\\\t', names = ['qseqid', 'sseqid', 'pident', 'ppos',\n",
            "<ipython-input-43-7fcb649b13fe>:12: ParserWarning: Falling back to the 'python' engine because the 'c' engine does not support regex separators (separators > 1 char and different from '\\s+' are interpreted as regex); you can avoid this warning by specifying engine='python'.\n",
            "  dfRAW = pd.read_csv(out_nameRAW, sep = '\\\\t', names = ['qseqid', 'sseqid', 'pident', 'ppos',\n"
          ]
        },
        {
          "output_type": "stream",
          "name": "stdout",
          "text": [
            "isolate cds_GCA_004569875.1.fasta ready!\n",
            "isolate cds_GCA_004569875.1.fasta ready!\n"
          ]
        },
        {
          "output_type": "stream",
          "name": "stderr",
          "text": [
            "<ipython-input-43-7fcb649b13fe>:12: ParserWarning: Falling back to the 'python' engine because the 'c' engine does not support regex separators (separators > 1 char and different from '\\s+' are interpreted as regex); you can avoid this warning by specifying engine='python'.\n",
            "  dfRAW = pd.read_csv(out_nameRAW, sep = '\\\\t', names = ['qseqid', 'sseqid', 'pident', 'ppos',\n",
            "<ipython-input-43-7fcb649b13fe>:12: ParserWarning: Falling back to the 'python' engine because the 'c' engine does not support regex separators (separators > 1 char and different from '\\s+' are interpreted as regex); you can avoid this warning by specifying engine='python'.\n",
            "  dfRAW = pd.read_csv(out_nameRAW, sep = '\\\\t', names = ['qseqid', 'sseqid', 'pident', 'ppos',\n"
          ]
        },
        {
          "output_type": "stream",
          "name": "stdout",
          "text": [
            "isolate cds_GCA_004567725.1.fasta ready!\n",
            "isolate cds_GCA_004567725.1.fasta ready!\n"
          ]
        },
        {
          "output_type": "stream",
          "name": "stderr",
          "text": [
            "<ipython-input-43-7fcb649b13fe>:12: ParserWarning: Falling back to the 'python' engine because the 'c' engine does not support regex separators (separators > 1 char and different from '\\s+' are interpreted as regex); you can avoid this warning by specifying engine='python'.\n",
            "  dfRAW = pd.read_csv(out_nameRAW, sep = '\\\\t', names = ['qseqid', 'sseqid', 'pident', 'ppos',\n",
            "<ipython-input-43-7fcb649b13fe>:12: ParserWarning: Falling back to the 'python' engine because the 'c' engine does not support regex separators (separators > 1 char and different from '\\s+' are interpreted as regex); you can avoid this warning by specifying engine='python'.\n",
            "  dfRAW = pd.read_csv(out_nameRAW, sep = '\\\\t', names = ['qseqid', 'sseqid', 'pident', 'ppos',\n"
          ]
        },
        {
          "output_type": "stream",
          "name": "stdout",
          "text": [
            "isolate cds_GCA_004568145.1.fasta ready!\n",
            "isolate cds_GCA_004568145.1.fasta ready!\n"
          ]
        },
        {
          "output_type": "stream",
          "name": "stderr",
          "text": [
            "<ipython-input-43-7fcb649b13fe>:12: ParserWarning: Falling back to the 'python' engine because the 'c' engine does not support regex separators (separators > 1 char and different from '\\s+' are interpreted as regex); you can avoid this warning by specifying engine='python'.\n",
            "  dfRAW = pd.read_csv(out_nameRAW, sep = '\\\\t', names = ['qseqid', 'sseqid', 'pident', 'ppos',\n",
            "<ipython-input-43-7fcb649b13fe>:12: ParserWarning: Falling back to the 'python' engine because the 'c' engine does not support regex separators (separators > 1 char and different from '\\s+' are interpreted as regex); you can avoid this warning by specifying engine='python'.\n",
            "  dfRAW = pd.read_csv(out_nameRAW, sep = '\\\\t', names = ['qseqid', 'sseqid', 'pident', 'ppos',\n"
          ]
        },
        {
          "output_type": "stream",
          "name": "stdout",
          "text": [
            "isolate cds_GCA_004681485.1.fasta ready!\n",
            "isolate cds_GCA_004681485.1.fasta ready!\n"
          ]
        },
        {
          "output_type": "stream",
          "name": "stderr",
          "text": [
            "<ipython-input-43-7fcb649b13fe>:12: ParserWarning: Falling back to the 'python' engine because the 'c' engine does not support regex separators (separators > 1 char and different from '\\s+' are interpreted as regex); you can avoid this warning by specifying engine='python'.\n",
            "  dfRAW = pd.read_csv(out_nameRAW, sep = '\\\\t', names = ['qseqid', 'sseqid', 'pident', 'ppos',\n",
            "<ipython-input-43-7fcb649b13fe>:12: ParserWarning: Falling back to the 'python' engine because the 'c' engine does not support regex separators (separators > 1 char and different from '\\s+' are interpreted as regex); you can avoid this warning by specifying engine='python'.\n",
            "  dfRAW = pd.read_csv(out_nameRAW, sep = '\\\\t', names = ['qseqid', 'sseqid', 'pident', 'ppos',\n"
          ]
        },
        {
          "output_type": "stream",
          "name": "stdout",
          "text": [
            "isolate cds_GCA_002180095.1.fasta ready!\n",
            "isolate cds_GCA_002180095.1.fasta ready!\n"
          ]
        },
        {
          "output_type": "stream",
          "name": "stderr",
          "text": [
            "<ipython-input-43-7fcb649b13fe>:12: ParserWarning: Falling back to the 'python' engine because the 'c' engine does not support regex separators (separators > 1 char and different from '\\s+' are interpreted as regex); you can avoid this warning by specifying engine='python'.\n",
            "  dfRAW = pd.read_csv(out_nameRAW, sep = '\\\\t', names = ['qseqid', 'sseqid', 'pident', 'ppos',\n",
            "<ipython-input-43-7fcb649b13fe>:12: ParserWarning: Falling back to the 'python' engine because the 'c' engine does not support regex separators (separators > 1 char and different from '\\s+' are interpreted as regex); you can avoid this warning by specifying engine='python'.\n",
            "  dfRAW = pd.read_csv(out_nameRAW, sep = '\\\\t', names = ['qseqid', 'sseqid', 'pident', 'ppos',\n"
          ]
        },
        {
          "output_type": "stream",
          "name": "stdout",
          "text": [
            "isolate cds_GCA_004566955.1.fasta ready!\n",
            "isolate cds_GCA_004566955.1.fasta ready!\n"
          ]
        },
        {
          "output_type": "stream",
          "name": "stderr",
          "text": [
            "<ipython-input-43-7fcb649b13fe>:12: ParserWarning: Falling back to the 'python' engine because the 'c' engine does not support regex separators (separators > 1 char and different from '\\s+' are interpreted as regex); you can avoid this warning by specifying engine='python'.\n",
            "  dfRAW = pd.read_csv(out_nameRAW, sep = '\\\\t', names = ['qseqid', 'sseqid', 'pident', 'ppos',\n",
            "<ipython-input-43-7fcb649b13fe>:12: ParserWarning: Falling back to the 'python' engine because the 'c' engine does not support regex separators (separators > 1 char and different from '\\s+' are interpreted as regex); you can avoid this warning by specifying engine='python'.\n",
            "  dfRAW = pd.read_csv(out_nameRAW, sep = '\\\\t', names = ['qseqid', 'sseqid', 'pident', 'ppos',\n"
          ]
        },
        {
          "output_type": "stream",
          "name": "stdout",
          "text": [
            "isolate cds_GCA_004566545.1.fasta ready!\n",
            "isolate cds_GCA_004566545.1.fasta ready!\n"
          ]
        },
        {
          "output_type": "stream",
          "name": "stderr",
          "text": [
            "<ipython-input-43-7fcb649b13fe>:12: ParserWarning: Falling back to the 'python' engine because the 'c' engine does not support regex separators (separators > 1 char and different from '\\s+' are interpreted as regex); you can avoid this warning by specifying engine='python'.\n",
            "  dfRAW = pd.read_csv(out_nameRAW, sep = '\\\\t', names = ['qseqid', 'sseqid', 'pident', 'ppos',\n",
            "<ipython-input-43-7fcb649b13fe>:12: ParserWarning: Falling back to the 'python' engine because the 'c' engine does not support regex separators (separators > 1 char and different from '\\s+' are interpreted as regex); you can avoid this warning by specifying engine='python'.\n",
            "  dfRAW = pd.read_csv(out_nameRAW, sep = '\\\\t', names = ['qseqid', 'sseqid', 'pident', 'ppos',\n"
          ]
        },
        {
          "output_type": "stream",
          "name": "stdout",
          "text": [
            "isolate cds_GCA_004566905.1.fasta ready!\n",
            "isolate cds_GCA_004566905.1.fasta ready!\n"
          ]
        },
        {
          "output_type": "stream",
          "name": "stderr",
          "text": [
            "<ipython-input-43-7fcb649b13fe>:12: ParserWarning: Falling back to the 'python' engine because the 'c' engine does not support regex separators (separators > 1 char and different from '\\s+' are interpreted as regex); you can avoid this warning by specifying engine='python'.\n",
            "  dfRAW = pd.read_csv(out_nameRAW, sep = '\\\\t', names = ['qseqid', 'sseqid', 'pident', 'ppos',\n",
            "<ipython-input-43-7fcb649b13fe>:12: ParserWarning: Falling back to the 'python' engine because the 'c' engine does not support regex separators (separators > 1 char and different from '\\s+' are interpreted as regex); you can avoid this warning by specifying engine='python'.\n",
            "  dfRAW = pd.read_csv(out_nameRAW, sep = '\\\\t', names = ['qseqid', 'sseqid', 'pident', 'ppos',\n"
          ]
        },
        {
          "output_type": "stream",
          "name": "stdout",
          "text": [
            "isolate cds_GCA_004567405.1.fasta ready!\n",
            "isolate cds_GCA_004567405.1.fasta ready!\n"
          ]
        },
        {
          "output_type": "stream",
          "name": "stderr",
          "text": [
            "<ipython-input-43-7fcb649b13fe>:12: ParserWarning: Falling back to the 'python' engine because the 'c' engine does not support regex separators (separators > 1 char and different from '\\s+' are interpreted as regex); you can avoid this warning by specifying engine='python'.\n",
            "  dfRAW = pd.read_csv(out_nameRAW, sep = '\\\\t', names = ['qseqid', 'sseqid', 'pident', 'ppos',\n",
            "<ipython-input-43-7fcb649b13fe>:12: ParserWarning: Falling back to the 'python' engine because the 'c' engine does not support regex separators (separators > 1 char and different from '\\s+' are interpreted as regex); you can avoid this warning by specifying engine='python'.\n",
            "  dfRAW = pd.read_csv(out_nameRAW, sep = '\\\\t', names = ['qseqid', 'sseqid', 'pident', 'ppos',\n"
          ]
        },
        {
          "output_type": "stream",
          "name": "stdout",
          "text": [
            "isolate cds_GCA_003288415.1.fasta ready!\n",
            "isolate cds_GCA_003288415.1.fasta ready!\n"
          ]
        },
        {
          "output_type": "stream",
          "name": "stderr",
          "text": [
            "<ipython-input-43-7fcb649b13fe>:12: ParserWarning: Falling back to the 'python' engine because the 'c' engine does not support regex separators (separators > 1 char and different from '\\s+' are interpreted as regex); you can avoid this warning by specifying engine='python'.\n",
            "  dfRAW = pd.read_csv(out_nameRAW, sep = '\\\\t', names = ['qseqid', 'sseqid', 'pident', 'ppos',\n",
            "<ipython-input-43-7fcb649b13fe>:12: ParserWarning: Falling back to the 'python' engine because the 'c' engine does not support regex separators (separators > 1 char and different from '\\s+' are interpreted as regex); you can avoid this warning by specifying engine='python'.\n",
            "  dfRAW = pd.read_csv(out_nameRAW, sep = '\\\\t', names = ['qseqid', 'sseqid', 'pident', 'ppos',\n"
          ]
        },
        {
          "output_type": "stream",
          "name": "stdout",
          "text": [
            "isolate cds_GCA_001874785.1.fasta ready!\n",
            "isolate cds_GCA_001874785.1.fasta ready!\n"
          ]
        },
        {
          "output_type": "stream",
          "name": "stderr",
          "text": [
            "<ipython-input-43-7fcb649b13fe>:12: ParserWarning: Falling back to the 'python' engine because the 'c' engine does not support regex separators (separators > 1 char and different from '\\s+' are interpreted as regex); you can avoid this warning by specifying engine='python'.\n",
            "  dfRAW = pd.read_csv(out_nameRAW, sep = '\\\\t', names = ['qseqid', 'sseqid', 'pident', 'ppos',\n",
            "<ipython-input-43-7fcb649b13fe>:12: ParserWarning: Falling back to the 'python' engine because the 'c' engine does not support regex separators (separators > 1 char and different from '\\s+' are interpreted as regex); you can avoid this warning by specifying engine='python'.\n",
            "  dfRAW = pd.read_csv(out_nameRAW, sep = '\\\\t', names = ['qseqid', 'sseqid', 'pident', 'ppos',\n"
          ]
        },
        {
          "output_type": "stream",
          "name": "stdout",
          "text": [
            "isolate cds_GCA_004566575.1.fasta ready!\n",
            "isolate cds_GCA_004566575.1.fasta ready!\n"
          ]
        },
        {
          "output_type": "stream",
          "name": "stderr",
          "text": [
            "<ipython-input-43-7fcb649b13fe>:12: ParserWarning: Falling back to the 'python' engine because the 'c' engine does not support regex separators (separators > 1 char and different from '\\s+' are interpreted as regex); you can avoid this warning by specifying engine='python'.\n",
            "  dfRAW = pd.read_csv(out_nameRAW, sep = '\\\\t', names = ['qseqid', 'sseqid', 'pident', 'ppos',\n",
            "<ipython-input-43-7fcb649b13fe>:12: ParserWarning: Falling back to the 'python' engine because the 'c' engine does not support regex separators (separators > 1 char and different from '\\s+' are interpreted as regex); you can avoid this warning by specifying engine='python'.\n",
            "  dfRAW = pd.read_csv(out_nameRAW, sep = '\\\\t', names = ['qseqid', 'sseqid', 'pident', 'ppos',\n"
          ]
        },
        {
          "output_type": "stream",
          "name": "stdout",
          "text": [
            "isolate cds_GCA_020373145.1.fasta ready!\n",
            "isolate cds_GCA_020373145.1.fasta ready!\n"
          ]
        },
        {
          "output_type": "stream",
          "name": "stderr",
          "text": [
            "<ipython-input-43-7fcb649b13fe>:12: ParserWarning: Falling back to the 'python' engine because the 'c' engine does not support regex separators (separators > 1 char and different from '\\s+' are interpreted as regex); you can avoid this warning by specifying engine='python'.\n",
            "  dfRAW = pd.read_csv(out_nameRAW, sep = '\\\\t', names = ['qseqid', 'sseqid', 'pident', 'ppos',\n",
            "<ipython-input-43-7fcb649b13fe>:12: ParserWarning: Falling back to the 'python' engine because the 'c' engine does not support regex separators (separators > 1 char and different from '\\s+' are interpreted as regex); you can avoid this warning by specifying engine='python'.\n",
            "  dfRAW = pd.read_csv(out_nameRAW, sep = '\\\\t', names = ['qseqid', 'sseqid', 'pident', 'ppos',\n"
          ]
        },
        {
          "output_type": "stream",
          "name": "stdout",
          "text": [
            "isolate cds_GCA_012707345.1.fasta ready!\n",
            "isolate cds_GCA_012707345.1.fasta ready!\n"
          ]
        },
        {
          "output_type": "stream",
          "name": "stderr",
          "text": [
            "<ipython-input-43-7fcb649b13fe>:12: ParserWarning: Falling back to the 'python' engine because the 'c' engine does not support regex separators (separators > 1 char and different from '\\s+' are interpreted as regex); you can avoid this warning by specifying engine='python'.\n",
            "  dfRAW = pd.read_csv(out_nameRAW, sep = '\\\\t', names = ['qseqid', 'sseqid', 'pident', 'ppos',\n",
            "<ipython-input-43-7fcb649b13fe>:12: ParserWarning: Falling back to the 'python' engine because the 'c' engine does not support regex separators (separators > 1 char and different from '\\s+' are interpreted as regex); you can avoid this warning by specifying engine='python'.\n",
            "  dfRAW = pd.read_csv(out_nameRAW, sep = '\\\\t', names = ['qseqid', 'sseqid', 'pident', 'ppos',\n"
          ]
        },
        {
          "output_type": "stream",
          "name": "stdout",
          "text": [
            "isolate cds_GCA_002860085.1.fasta ready!\n",
            "isolate cds_GCA_002860085.1.fasta ready!\n"
          ]
        },
        {
          "output_type": "stream",
          "name": "stderr",
          "text": [
            "<ipython-input-43-7fcb649b13fe>:12: ParserWarning: Falling back to the 'python' engine because the 'c' engine does not support regex separators (separators > 1 char and different from '\\s+' are interpreted as regex); you can avoid this warning by specifying engine='python'.\n",
            "  dfRAW = pd.read_csv(out_nameRAW, sep = '\\\\t', names = ['qseqid', 'sseqid', 'pident', 'ppos',\n",
            "<ipython-input-43-7fcb649b13fe>:12: ParserWarning: Falling back to the 'python' engine because the 'c' engine does not support regex separators (separators > 1 char and different from '\\s+' are interpreted as regex); you can avoid this warning by specifying engine='python'.\n",
            "  dfRAW = pd.read_csv(out_nameRAW, sep = '\\\\t', names = ['qseqid', 'sseqid', 'pident', 'ppos',\n"
          ]
        },
        {
          "output_type": "stream",
          "name": "stdout",
          "text": [
            "isolate cds_GCA_004567475.1.fasta ready!\n",
            "isolate cds_GCA_004567475.1.fasta ready!\n"
          ]
        },
        {
          "output_type": "stream",
          "name": "stderr",
          "text": [
            "<ipython-input-43-7fcb649b13fe>:12: ParserWarning: Falling back to the 'python' engine because the 'c' engine does not support regex separators (separators > 1 char and different from '\\s+' are interpreted as regex); you can avoid this warning by specifying engine='python'.\n",
            "  dfRAW = pd.read_csv(out_nameRAW, sep = '\\\\t', names = ['qseqid', 'sseqid', 'pident', 'ppos',\n",
            "<ipython-input-43-7fcb649b13fe>:12: ParserWarning: Falling back to the 'python' engine because the 'c' engine does not support regex separators (separators > 1 char and different from '\\s+' are interpreted as regex); you can avoid this warning by specifying engine='python'.\n",
            "  dfRAW = pd.read_csv(out_nameRAW, sep = '\\\\t', names = ['qseqid', 'sseqid', 'pident', 'ppos',\n"
          ]
        },
        {
          "output_type": "stream",
          "name": "stdout",
          "text": [
            "isolate cds_GCA_004568615.1.fasta ready!\n",
            "isolate cds_GCA_004568615.1.fasta ready!\n"
          ]
        },
        {
          "output_type": "stream",
          "name": "stderr",
          "text": [
            "<ipython-input-43-7fcb649b13fe>:12: ParserWarning: Falling back to the 'python' engine because the 'c' engine does not support regex separators (separators > 1 char and different from '\\s+' are interpreted as regex); you can avoid this warning by specifying engine='python'.\n",
            "  dfRAW = pd.read_csv(out_nameRAW, sep = '\\\\t', names = ['qseqid', 'sseqid', 'pident', 'ppos',\n",
            "<ipython-input-43-7fcb649b13fe>:12: ParserWarning: Falling back to the 'python' engine because the 'c' engine does not support regex separators (separators > 1 char and different from '\\s+' are interpreted as regex); you can avoid this warning by specifying engine='python'.\n",
            "  dfRAW = pd.read_csv(out_nameRAW, sep = '\\\\t', names = ['qseqid', 'sseqid', 'pident', 'ppos',\n"
          ]
        },
        {
          "output_type": "stream",
          "name": "stdout",
          "text": [
            "isolate cds_GCA_004567075.1.fasta ready!\n",
            "isolate cds_GCA_004567075.1.fasta ready!\n"
          ]
        },
        {
          "output_type": "stream",
          "name": "stderr",
          "text": [
            "<ipython-input-43-7fcb649b13fe>:12: ParserWarning: Falling back to the 'python' engine because the 'c' engine does not support regex separators (separators > 1 char and different from '\\s+' are interpreted as regex); you can avoid this warning by specifying engine='python'.\n",
            "  dfRAW = pd.read_csv(out_nameRAW, sep = '\\\\t', names = ['qseqid', 'sseqid', 'pident', 'ppos',\n",
            "<ipython-input-43-7fcb649b13fe>:12: ParserWarning: Falling back to the 'python' engine because the 'c' engine does not support regex separators (separators > 1 char and different from '\\s+' are interpreted as regex); you can avoid this warning by specifying engine='python'.\n",
            "  dfRAW = pd.read_csv(out_nameRAW, sep = '\\\\t', names = ['qseqid', 'sseqid', 'pident', 'ppos',\n"
          ]
        },
        {
          "output_type": "stream",
          "name": "stdout",
          "text": [
            "isolate cds_GCA_004567045.1.fasta ready!\n",
            "isolate cds_GCA_004567045.1.fasta ready!\n"
          ]
        },
        {
          "output_type": "stream",
          "name": "stderr",
          "text": [
            "<ipython-input-43-7fcb649b13fe>:12: ParserWarning: Falling back to the 'python' engine because the 'c' engine does not support regex separators (separators > 1 char and different from '\\s+' are interpreted as regex); you can avoid this warning by specifying engine='python'.\n",
            "  dfRAW = pd.read_csv(out_nameRAW, sep = '\\\\t', names = ['qseqid', 'sseqid', 'pident', 'ppos',\n",
            "<ipython-input-43-7fcb649b13fe>:12: ParserWarning: Falling back to the 'python' engine because the 'c' engine does not support regex separators (separators > 1 char and different from '\\s+' are interpreted as regex); you can avoid this warning by specifying engine='python'.\n",
            "  dfRAW = pd.read_csv(out_nameRAW, sep = '\\\\t', names = ['qseqid', 'sseqid', 'pident', 'ppos',\n"
          ]
        },
        {
          "output_type": "stream",
          "name": "stdout",
          "text": [
            "isolate cds_GCA_004567145.1.fasta ready!\n",
            "isolate cds_GCA_004567145.1.fasta ready!\n"
          ]
        },
        {
          "output_type": "stream",
          "name": "stderr",
          "text": [
            "<ipython-input-43-7fcb649b13fe>:12: ParserWarning: Falling back to the 'python' engine because the 'c' engine does not support regex separators (separators > 1 char and different from '\\s+' are interpreted as regex); you can avoid this warning by specifying engine='python'.\n",
            "  dfRAW = pd.read_csv(out_nameRAW, sep = '\\\\t', names = ['qseqid', 'sseqid', 'pident', 'ppos',\n",
            "<ipython-input-43-7fcb649b13fe>:12: ParserWarning: Falling back to the 'python' engine because the 'c' engine does not support regex separators (separators > 1 char and different from '\\s+' are interpreted as regex); you can avoid this warning by specifying engine='python'.\n",
            "  dfRAW = pd.read_csv(out_nameRAW, sep = '\\\\t', names = ['qseqid', 'sseqid', 'pident', 'ppos',\n"
          ]
        },
        {
          "output_type": "stream",
          "name": "stdout",
          "text": [
            "isolate cds_GCA_002142695.1.fasta ready!\n",
            "isolate cds_GCA_002142695.1.fasta ready!\n"
          ]
        },
        {
          "output_type": "stream",
          "name": "stderr",
          "text": [
            "<ipython-input-43-7fcb649b13fe>:12: ParserWarning: Falling back to the 'python' engine because the 'c' engine does not support regex separators (separators > 1 char and different from '\\s+' are interpreted as regex); you can avoid this warning by specifying engine='python'.\n",
            "  dfRAW = pd.read_csv(out_nameRAW, sep = '\\\\t', names = ['qseqid', 'sseqid', 'pident', 'ppos',\n",
            "<ipython-input-43-7fcb649b13fe>:12: ParserWarning: Falling back to the 'python' engine because the 'c' engine does not support regex separators (separators > 1 char and different from '\\s+' are interpreted as regex); you can avoid this warning by specifying engine='python'.\n",
            "  dfRAW = pd.read_csv(out_nameRAW, sep = '\\\\t', names = ['qseqid', 'sseqid', 'pident', 'ppos',\n"
          ]
        },
        {
          "output_type": "stream",
          "name": "stdout",
          "text": [
            "isolate cds_GCA_004569675.1.fasta ready!\n",
            "isolate cds_GCA_004569675.1.fasta ready!\n"
          ]
        },
        {
          "output_type": "stream",
          "name": "stderr",
          "text": [
            "<ipython-input-43-7fcb649b13fe>:12: ParserWarning: Falling back to the 'python' engine because the 'c' engine does not support regex separators (separators > 1 char and different from '\\s+' are interpreted as regex); you can avoid this warning by specifying engine='python'.\n",
            "  dfRAW = pd.read_csv(out_nameRAW, sep = '\\\\t', names = ['qseqid', 'sseqid', 'pident', 'ppos',\n",
            "<ipython-input-43-7fcb649b13fe>:12: ParserWarning: Falling back to the 'python' engine because the 'c' engine does not support regex separators (separators > 1 char and different from '\\s+' are interpreted as regex); you can avoid this warning by specifying engine='python'.\n",
            "  dfRAW = pd.read_csv(out_nameRAW, sep = '\\\\t', names = ['qseqid', 'sseqid', 'pident', 'ppos',\n"
          ]
        },
        {
          "output_type": "stream",
          "name": "stdout",
          "text": [
            "isolate cds_GCA_012766055.1.fasta ready!\n",
            "isolate cds_GCA_012766055.1.fasta ready!\n"
          ]
        },
        {
          "output_type": "stream",
          "name": "stderr",
          "text": [
            "<ipython-input-43-7fcb649b13fe>:12: ParserWarning: Falling back to the 'python' engine because the 'c' engine does not support regex separators (separators > 1 char and different from '\\s+' are interpreted as regex); you can avoid this warning by specifying engine='python'.\n",
            "  dfRAW = pd.read_csv(out_nameRAW, sep = '\\\\t', names = ['qseqid', 'sseqid', 'pident', 'ppos',\n",
            "<ipython-input-43-7fcb649b13fe>:12: ParserWarning: Falling back to the 'python' engine because the 'c' engine does not support regex separators (separators > 1 char and different from '\\s+' are interpreted as regex); you can avoid this warning by specifying engine='python'.\n",
            "  dfRAW = pd.read_csv(out_nameRAW, sep = '\\\\t', names = ['qseqid', 'sseqid', 'pident', 'ppos',\n"
          ]
        },
        {
          "output_type": "stream",
          "name": "stdout",
          "text": [
            "isolate cds_GCA_023881525.1.fasta ready!\n",
            "isolate cds_GCA_023881525.1.fasta ready!\n"
          ]
        },
        {
          "output_type": "stream",
          "name": "stderr",
          "text": [
            "<ipython-input-43-7fcb649b13fe>:12: ParserWarning: Falling back to the 'python' engine because the 'c' engine does not support regex separators (separators > 1 char and different from '\\s+' are interpreted as regex); you can avoid this warning by specifying engine='python'.\n",
            "  dfRAW = pd.read_csv(out_nameRAW, sep = '\\\\t', names = ['qseqid', 'sseqid', 'pident', 'ppos',\n",
            "<ipython-input-43-7fcb649b13fe>:12: ParserWarning: Falling back to the 'python' engine because the 'c' engine does not support regex separators (separators > 1 char and different from '\\s+' are interpreted as regex); you can avoid this warning by specifying engine='python'.\n",
            "  dfRAW = pd.read_csv(out_nameRAW, sep = '\\\\t', names = ['qseqid', 'sseqid', 'pident', 'ppos',\n"
          ]
        },
        {
          "output_type": "stream",
          "name": "stdout",
          "text": [
            "isolate cds_GCA_004566875.1.fasta ready!\n",
            "isolate cds_GCA_004566875.1.fasta ready!\n"
          ]
        },
        {
          "output_type": "stream",
          "name": "stderr",
          "text": [
            "<ipython-input-43-7fcb649b13fe>:12: ParserWarning: Falling back to the 'python' engine because the 'c' engine does not support regex separators (separators > 1 char and different from '\\s+' are interpreted as regex); you can avoid this warning by specifying engine='python'.\n",
            "  dfRAW = pd.read_csv(out_nameRAW, sep = '\\\\t', names = ['qseqid', 'sseqid', 'pident', 'ppos',\n",
            "<ipython-input-43-7fcb649b13fe>:12: ParserWarning: Falling back to the 'python' engine because the 'c' engine does not support regex separators (separators > 1 char and different from '\\s+' are interpreted as regex); you can avoid this warning by specifying engine='python'.\n",
            "  dfRAW = pd.read_csv(out_nameRAW, sep = '\\\\t', names = ['qseqid', 'sseqid', 'pident', 'ppos',\n"
          ]
        },
        {
          "output_type": "stream",
          "name": "stdout",
          "text": [
            "isolate cds_GCA_023870175.1.fasta ready!\n",
            "isolate cds_GCA_023870175.1.fasta ready!\n"
          ]
        },
        {
          "output_type": "stream",
          "name": "stderr",
          "text": [
            "<ipython-input-43-7fcb649b13fe>:12: ParserWarning: Falling back to the 'python' engine because the 'c' engine does not support regex separators (separators > 1 char and different from '\\s+' are interpreted as regex); you can avoid this warning by specifying engine='python'.\n",
            "  dfRAW = pd.read_csv(out_nameRAW, sep = '\\\\t', names = ['qseqid', 'sseqid', 'pident', 'ppos',\n",
            "<ipython-input-43-7fcb649b13fe>:12: ParserWarning: Falling back to the 'python' engine because the 'c' engine does not support regex separators (separators > 1 char and different from '\\s+' are interpreted as regex); you can avoid this warning by specifying engine='python'.\n",
            "  dfRAW = pd.read_csv(out_nameRAW, sep = '\\\\t', names = ['qseqid', 'sseqid', 'pident', 'ppos',\n"
          ]
        },
        {
          "output_type": "stream",
          "name": "stdout",
          "text": [
            "isolate cds_GCA_002860105.1.fasta ready!\n",
            "isolate cds_GCA_002860105.1.fasta ready!\n"
          ]
        },
        {
          "output_type": "stream",
          "name": "stderr",
          "text": [
            "<ipython-input-43-7fcb649b13fe>:12: ParserWarning: Falling back to the 'python' engine because the 'c' engine does not support regex separators (separators > 1 char and different from '\\s+' are interpreted as regex); you can avoid this warning by specifying engine='python'.\n",
            "  dfRAW = pd.read_csv(out_nameRAW, sep = '\\\\t', names = ['qseqid', 'sseqid', 'pident', 'ppos',\n",
            "<ipython-input-43-7fcb649b13fe>:12: ParserWarning: Falling back to the 'python' engine because the 'c' engine does not support regex separators (separators > 1 char and different from '\\s+' are interpreted as regex); you can avoid this warning by specifying engine='python'.\n",
            "  dfRAW = pd.read_csv(out_nameRAW, sep = '\\\\t', names = ['qseqid', 'sseqid', 'pident', 'ppos',\n"
          ]
        },
        {
          "output_type": "stream",
          "name": "stdout",
          "text": [
            "isolate cds_GCA_004567345.1.fasta ready!\n",
            "isolate cds_GCA_004567345.1.fasta ready!\n"
          ]
        },
        {
          "output_type": "stream",
          "name": "stderr",
          "text": [
            "<ipython-input-43-7fcb649b13fe>:12: ParserWarning: Falling back to the 'python' engine because the 'c' engine does not support regex separators (separators > 1 char and different from '\\s+' are interpreted as regex); you can avoid this warning by specifying engine='python'.\n",
            "  dfRAW = pd.read_csv(out_nameRAW, sep = '\\\\t', names = ['qseqid', 'sseqid', 'pident', 'ppos',\n"
          ]
        },
        {
          "output_type": "stream",
          "name": "stdout",
          "text": [
            "isolate cds_GCA_025833635.1.fasta ready!\n"
          ]
        },
        {
          "output_type": "stream",
          "name": "stderr",
          "text": [
            "<ipython-input-43-7fcb649b13fe>:12: ParserWarning: Falling back to the 'python' engine because the 'c' engine does not support regex separators (separators > 1 char and different from '\\s+' are interpreted as regex); you can avoid this warning by specifying engine='python'.\n",
            "  dfRAW = pd.read_csv(out_nameRAW, sep = '\\\\t', names = ['qseqid', 'sseqid', 'pident', 'ppos',\n"
          ]
        },
        {
          "output_type": "stream",
          "name": "stdout",
          "text": [
            "isolate cds_GCA_025833635.1.fasta ready!\n"
          ]
        },
        {
          "output_type": "stream",
          "name": "stderr",
          "text": [
            "<ipython-input-43-7fcb649b13fe>:12: ParserWarning: Falling back to the 'python' engine because the 'c' engine does not support regex separators (separators > 1 char and different from '\\s+' are interpreted as regex); you can avoid this warning by specifying engine='python'.\n",
            "  dfRAW = pd.read_csv(out_nameRAW, sep = '\\\\t', names = ['qseqid', 'sseqid', 'pident', 'ppos',\n",
            "<ipython-input-43-7fcb649b13fe>:12: ParserWarning: Falling back to the 'python' engine because the 'c' engine does not support regex separators (separators > 1 char and different from '\\s+' are interpreted as regex); you can avoid this warning by specifying engine='python'.\n",
            "  dfRAW = pd.read_csv(out_nameRAW, sep = '\\\\t', names = ['qseqid', 'sseqid', 'pident', 'ppos',\n"
          ]
        },
        {
          "output_type": "stream",
          "name": "stdout",
          "text": [
            "isolate cds_GCA_004566895.1.fasta ready!\n",
            "isolate cds_GCA_004566895.1.fasta ready!\n"
          ]
        },
        {
          "output_type": "stream",
          "name": "stderr",
          "text": [
            "<ipython-input-43-7fcb649b13fe>:12: ParserWarning: Falling back to the 'python' engine because the 'c' engine does not support regex separators (separators > 1 char and different from '\\s+' are interpreted as regex); you can avoid this warning by specifying engine='python'.\n",
            "  dfRAW = pd.read_csv(out_nameRAW, sep = '\\\\t', names = ['qseqid', 'sseqid', 'pident', 'ppos',\n",
            "<ipython-input-43-7fcb649b13fe>:12: ParserWarning: Falling back to the 'python' engine because the 'c' engine does not support regex separators (separators > 1 char and different from '\\s+' are interpreted as regex); you can avoid this warning by specifying engine='python'.\n",
            "  dfRAW = pd.read_csv(out_nameRAW, sep = '\\\\t', names = ['qseqid', 'sseqid', 'pident', 'ppos',\n"
          ]
        },
        {
          "output_type": "stream",
          "name": "stdout",
          "text": [
            "isolate cds_GCA_023885145.1.fasta ready!\n",
            "isolate cds_GCA_023885145.1.fasta ready!\n"
          ]
        },
        {
          "output_type": "stream",
          "name": "stderr",
          "text": [
            "<ipython-input-43-7fcb649b13fe>:12: ParserWarning: Falling back to the 'python' engine because the 'c' engine does not support regex separators (separators > 1 char and different from '\\s+' are interpreted as regex); you can avoid this warning by specifying engine='python'.\n",
            "  dfRAW = pd.read_csv(out_nameRAW, sep = '\\\\t', names = ['qseqid', 'sseqid', 'pident', 'ppos',\n",
            "<ipython-input-43-7fcb649b13fe>:12: ParserWarning: Falling back to the 'python' engine because the 'c' engine does not support regex separators (separators > 1 char and different from '\\s+' are interpreted as regex); you can avoid this warning by specifying engine='python'.\n",
            "  dfRAW = pd.read_csv(out_nameRAW, sep = '\\\\t', names = ['qseqid', 'sseqid', 'pident', 'ppos',\n"
          ]
        },
        {
          "output_type": "stream",
          "name": "stdout",
          "text": [
            "isolate cds_GCA_004567285.1.fasta ready!\n",
            "isolate cds_GCA_004567285.1.fasta ready!\n"
          ]
        },
        {
          "output_type": "stream",
          "name": "stderr",
          "text": [
            "<ipython-input-43-7fcb649b13fe>:12: ParserWarning: Falling back to the 'python' engine because the 'c' engine does not support regex separators (separators > 1 char and different from '\\s+' are interpreted as regex); you can avoid this warning by specifying engine='python'.\n",
            "  dfRAW = pd.read_csv(out_nameRAW, sep = '\\\\t', names = ['qseqid', 'sseqid', 'pident', 'ppos',\n",
            "<ipython-input-43-7fcb649b13fe>:12: ParserWarning: Falling back to the 'python' engine because the 'c' engine does not support regex separators (separators > 1 char and different from '\\s+' are interpreted as regex); you can avoid this warning by specifying engine='python'.\n",
            "  dfRAW = pd.read_csv(out_nameRAW, sep = '\\\\t', names = ['qseqid', 'sseqid', 'pident', 'ppos',\n"
          ]
        },
        {
          "output_type": "stream",
          "name": "stdout",
          "text": [
            "isolate cds_GCA_004567315.1.fasta ready!\n",
            "isolate cds_GCA_004567315.1.fasta ready!\n"
          ]
        },
        {
          "output_type": "stream",
          "name": "stderr",
          "text": [
            "<ipython-input-43-7fcb649b13fe>:12: ParserWarning: Falling back to the 'python' engine because the 'c' engine does not support regex separators (separators > 1 char and different from '\\s+' are interpreted as regex); you can avoid this warning by specifying engine='python'.\n",
            "  dfRAW = pd.read_csv(out_nameRAW, sep = '\\\\t', names = ['qseqid', 'sseqid', 'pident', 'ppos',\n",
            "<ipython-input-43-7fcb649b13fe>:12: ParserWarning: Falling back to the 'python' engine because the 'c' engine does not support regex separators (separators > 1 char and different from '\\s+' are interpreted as regex); you can avoid this warning by specifying engine='python'.\n",
            "  dfRAW = pd.read_csv(out_nameRAW, sep = '\\\\t', names = ['qseqid', 'sseqid', 'pident', 'ppos',\n"
          ]
        },
        {
          "output_type": "stream",
          "name": "stdout",
          "text": [
            "isolate cds_GCA_004566535.1.fasta ready!\n",
            "isolate cds_GCA_004566535.1.fasta ready!\n"
          ]
        },
        {
          "output_type": "stream",
          "name": "stderr",
          "text": [
            "<ipython-input-43-7fcb649b13fe>:12: ParserWarning: Falling back to the 'python' engine because the 'c' engine does not support regex separators (separators > 1 char and different from '\\s+' are interpreted as regex); you can avoid this warning by specifying engine='python'.\n",
            "  dfRAW = pd.read_csv(out_nameRAW, sep = '\\\\t', names = ['qseqid', 'sseqid', 'pident', 'ppos',\n",
            "<ipython-input-43-7fcb649b13fe>:12: ParserWarning: Falling back to the 'python' engine because the 'c' engine does not support regex separators (separators > 1 char and different from '\\s+' are interpreted as regex); you can avoid this warning by specifying engine='python'.\n",
            "  dfRAW = pd.read_csv(out_nameRAW, sep = '\\\\t', names = ['qseqid', 'sseqid', 'pident', 'ppos',\n"
          ]
        },
        {
          "output_type": "stream",
          "name": "stdout",
          "text": [
            "isolate cds_GCA_012765535.1.fasta ready!\n",
            "isolate cds_GCA_012765535.1.fasta ready!\n"
          ]
        },
        {
          "output_type": "stream",
          "name": "stderr",
          "text": [
            "<ipython-input-43-7fcb649b13fe>:12: ParserWarning: Falling back to the 'python' engine because the 'c' engine does not support regex separators (separators > 1 char and different from '\\s+' are interpreted as regex); you can avoid this warning by specifying engine='python'.\n",
            "  dfRAW = pd.read_csv(out_nameRAW, sep = '\\\\t', names = ['qseqid', 'sseqid', 'pident', 'ppos',\n",
            "<ipython-input-43-7fcb649b13fe>:12: ParserWarning: Falling back to the 'python' engine because the 'c' engine does not support regex separators (separators > 1 char and different from '\\s+' are interpreted as regex); you can avoid this warning by specifying engine='python'.\n",
            "  dfRAW = pd.read_csv(out_nameRAW, sep = '\\\\t', names = ['qseqid', 'sseqid', 'pident', 'ppos',\n"
          ]
        },
        {
          "output_type": "stream",
          "name": "stdout",
          "text": [
            "isolate cds_GCA_004566675.1.fasta ready!\n",
            "isolate cds_GCA_004566675.1.fasta ready!\n"
          ]
        },
        {
          "output_type": "stream",
          "name": "stderr",
          "text": [
            "<ipython-input-43-7fcb649b13fe>:12: ParserWarning: Falling back to the 'python' engine because the 'c' engine does not support regex separators (separators > 1 char and different from '\\s+' are interpreted as regex); you can avoid this warning by specifying engine='python'.\n",
            "  dfRAW = pd.read_csv(out_nameRAW, sep = '\\\\t', names = ['qseqid', 'sseqid', 'pident', 'ppos',\n",
            "<ipython-input-43-7fcb649b13fe>:12: ParserWarning: Falling back to the 'python' engine because the 'c' engine does not support regex separators (separators > 1 char and different from '\\s+' are interpreted as regex); you can avoid this warning by specifying engine='python'.\n",
            "  dfRAW = pd.read_csv(out_nameRAW, sep = '\\\\t', names = ['qseqid', 'sseqid', 'pident', 'ppos',\n"
          ]
        },
        {
          "output_type": "stream",
          "name": "stdout",
          "text": [
            "isolate cds_GCA_003031795.1.fasta ready!\n",
            "isolate cds_GCA_003031795.1.fasta ready!\n"
          ]
        },
        {
          "output_type": "stream",
          "name": "stderr",
          "text": [
            "<ipython-input-43-7fcb649b13fe>:12: ParserWarning: Falling back to the 'python' engine because the 'c' engine does not support regex separators (separators > 1 char and different from '\\s+' are interpreted as regex); you can avoid this warning by specifying engine='python'.\n",
            "  dfRAW = pd.read_csv(out_nameRAW, sep = '\\\\t', names = ['qseqid', 'sseqid', 'pident', 'ppos',\n",
            "<ipython-input-43-7fcb649b13fe>:12: ParserWarning: Falling back to the 'python' engine because the 'c' engine does not support regex separators (separators > 1 char and different from '\\s+' are interpreted as regex); you can avoid this warning by specifying engine='python'.\n",
            "  dfRAW = pd.read_csv(out_nameRAW, sep = '\\\\t', names = ['qseqid', 'sseqid', 'pident', 'ppos',\n"
          ]
        },
        {
          "output_type": "stream",
          "name": "stdout",
          "text": [
            "isolate cds_GCA_004567695.1.fasta ready!\n",
            "isolate cds_GCA_004567695.1.fasta ready!\n"
          ]
        },
        {
          "output_type": "stream",
          "name": "stderr",
          "text": [
            "<ipython-input-43-7fcb649b13fe>:12: ParserWarning: Falling back to the 'python' engine because the 'c' engine does not support regex separators (separators > 1 char and different from '\\s+' are interpreted as regex); you can avoid this warning by specifying engine='python'.\n",
            "  dfRAW = pd.read_csv(out_nameRAW, sep = '\\\\t', names = ['qseqid', 'sseqid', 'pident', 'ppos',\n",
            "<ipython-input-43-7fcb649b13fe>:12: ParserWarning: Falling back to the 'python' engine because the 'c' engine does not support regex separators (separators > 1 char and different from '\\s+' are interpreted as regex); you can avoid this warning by specifying engine='python'.\n",
            "  dfRAW = pd.read_csv(out_nameRAW, sep = '\\\\t', names = ['qseqid', 'sseqid', 'pident', 'ppos',\n"
          ]
        },
        {
          "output_type": "stream",
          "name": "stdout",
          "text": [
            "isolate cds_GCA_004566785.1.fasta ready!\n",
            "isolate cds_GCA_004566785.1.fasta ready!\n"
          ]
        },
        {
          "output_type": "stream",
          "name": "stderr",
          "text": [
            "<ipython-input-43-7fcb649b13fe>:12: ParserWarning: Falling back to the 'python' engine because the 'c' engine does not support regex separators (separators > 1 char and different from '\\s+' are interpreted as regex); you can avoid this warning by specifying engine='python'.\n",
            "  dfRAW = pd.read_csv(out_nameRAW, sep = '\\\\t', names = ['qseqid', 'sseqid', 'pident', 'ppos',\n",
            "<ipython-input-43-7fcb649b13fe>:12: ParserWarning: Falling back to the 'python' engine because the 'c' engine does not support regex separators (separators > 1 char and different from '\\s+' are interpreted as regex); you can avoid this warning by specifying engine='python'.\n",
            "  dfRAW = pd.read_csv(out_nameRAW, sep = '\\\\t', names = ['qseqid', 'sseqid', 'pident', 'ppos',\n"
          ]
        },
        {
          "output_type": "stream",
          "name": "stdout",
          "text": [
            "isolate cds_GCA_004567895.1.fasta ready!\n",
            "isolate cds_GCA_004567895.1.fasta ready!\n"
          ]
        },
        {
          "output_type": "stream",
          "name": "stderr",
          "text": [
            "<ipython-input-43-7fcb649b13fe>:12: ParserWarning: Falling back to the 'python' engine because the 'c' engine does not support regex separators (separators > 1 char and different from '\\s+' are interpreted as regex); you can avoid this warning by specifying engine='python'.\n",
            "  dfRAW = pd.read_csv(out_nameRAW, sep = '\\\\t', names = ['qseqid', 'sseqid', 'pident', 'ppos',\n",
            "<ipython-input-43-7fcb649b13fe>:12: ParserWarning: Falling back to the 'python' engine because the 'c' engine does not support regex separators (separators > 1 char and different from '\\s+' are interpreted as regex); you can avoid this warning by specifying engine='python'.\n",
            "  dfRAW = pd.read_csv(out_nameRAW, sep = '\\\\t', names = ['qseqid', 'sseqid', 'pident', 'ppos',\n"
          ]
        },
        {
          "output_type": "stream",
          "name": "stdout",
          "text": [
            "isolate cds_GCA_004564175.1.fasta ready!\n",
            "isolate cds_GCA_004564175.1.fasta ready!\n"
          ]
        },
        {
          "output_type": "stream",
          "name": "stderr",
          "text": [
            "<ipython-input-43-7fcb649b13fe>:12: ParserWarning: Falling back to the 'python' engine because the 'c' engine does not support regex separators (separators > 1 char and different from '\\s+' are interpreted as regex); you can avoid this warning by specifying engine='python'.\n",
            "  dfRAW = pd.read_csv(out_nameRAW, sep = '\\\\t', names = ['qseqid', 'sseqid', 'pident', 'ppos',\n",
            "<ipython-input-43-7fcb649b13fe>:12: ParserWarning: Falling back to the 'python' engine because the 'c' engine does not support regex separators (separators > 1 char and different from '\\s+' are interpreted as regex); you can avoid this warning by specifying engine='python'.\n",
            "  dfRAW = pd.read_csv(out_nameRAW, sep = '\\\\t', names = ['qseqid', 'sseqid', 'pident', 'ppos',\n"
          ]
        },
        {
          "output_type": "stream",
          "name": "stdout",
          "text": [
            "isolate cds_GCA_003073835.1.fasta ready!\n",
            "isolate cds_GCA_003073835.1.fasta ready!\n"
          ]
        },
        {
          "output_type": "stream",
          "name": "stderr",
          "text": [
            "<ipython-input-43-7fcb649b13fe>:12: ParserWarning: Falling back to the 'python' engine because the 'c' engine does not support regex separators (separators > 1 char and different from '\\s+' are interpreted as regex); you can avoid this warning by specifying engine='python'.\n",
            "  dfRAW = pd.read_csv(out_nameRAW, sep = '\\\\t', names = ['qseqid', 'sseqid', 'pident', 'ppos',\n",
            "<ipython-input-43-7fcb649b13fe>:12: ParserWarning: Falling back to the 'python' engine because the 'c' engine does not support regex separators (separators > 1 char and different from '\\s+' are interpreted as regex); you can avoid this warning by specifying engine='python'.\n",
            "  dfRAW = pd.read_csv(out_nameRAW, sep = '\\\\t', names = ['qseqid', 'sseqid', 'pident', 'ppos',\n"
          ]
        },
        {
          "output_type": "stream",
          "name": "stdout",
          "text": [
            "isolate cds_GCA_012642825.1.fasta ready!\n",
            "isolate cds_GCA_012642825.1.fasta ready!\n"
          ]
        },
        {
          "output_type": "stream",
          "name": "stderr",
          "text": [
            "<ipython-input-43-7fcb649b13fe>:12: ParserWarning: Falling back to the 'python' engine because the 'c' engine does not support regex separators (separators > 1 char and different from '\\s+' are interpreted as regex); you can avoid this warning by specifying engine='python'.\n",
            "  dfRAW = pd.read_csv(out_nameRAW, sep = '\\\\t', names = ['qseqid', 'sseqid', 'pident', 'ppos',\n",
            "<ipython-input-43-7fcb649b13fe>:12: ParserWarning: Falling back to the 'python' engine because the 'c' engine does not support regex separators (separators > 1 char and different from '\\s+' are interpreted as regex); you can avoid this warning by specifying engine='python'.\n",
            "  dfRAW = pd.read_csv(out_nameRAW, sep = '\\\\t', names = ['qseqid', 'sseqid', 'pident', 'ppos',\n"
          ]
        },
        {
          "output_type": "stream",
          "name": "stdout",
          "text": [
            "isolate cds_GCA_002192295.1.fasta ready!\n",
            "isolate cds_GCA_002192295.1.fasta ready!\n"
          ]
        },
        {
          "output_type": "stream",
          "name": "stderr",
          "text": [
            "<ipython-input-43-7fcb649b13fe>:12: ParserWarning: Falling back to the 'python' engine because the 'c' engine does not support regex separators (separators > 1 char and different from '\\s+' are interpreted as regex); you can avoid this warning by specifying engine='python'.\n",
            "  dfRAW = pd.read_csv(out_nameRAW, sep = '\\\\t', names = ['qseqid', 'sseqid', 'pident', 'ppos',\n",
            "<ipython-input-43-7fcb649b13fe>:12: ParserWarning: Falling back to the 'python' engine because the 'c' engine does not support regex separators (separators > 1 char and different from '\\s+' are interpreted as regex); you can avoid this warning by specifying engine='python'.\n",
            "  dfRAW = pd.read_csv(out_nameRAW, sep = '\\\\t', names = ['qseqid', 'sseqid', 'pident', 'ppos',\n"
          ]
        },
        {
          "output_type": "stream",
          "name": "stdout",
          "text": [
            "isolate cds_GCA_004567115.1.fasta ready!\n",
            "isolate cds_GCA_004567115.1.fasta ready!\n"
          ]
        },
        {
          "output_type": "stream",
          "name": "stderr",
          "text": [
            "<ipython-input-43-7fcb649b13fe>:12: ParserWarning: Falling back to the 'python' engine because the 'c' engine does not support regex separators (separators > 1 char and different from '\\s+' are interpreted as regex); you can avoid this warning by specifying engine='python'.\n",
            "  dfRAW = pd.read_csv(out_nameRAW, sep = '\\\\t', names = ['qseqid', 'sseqid', 'pident', 'ppos',\n",
            "<ipython-input-43-7fcb649b13fe>:12: ParserWarning: Falling back to the 'python' engine because the 'c' engine does not support regex separators (separators > 1 char and different from '\\s+' are interpreted as regex); you can avoid this warning by specifying engine='python'.\n",
            "  dfRAW = pd.read_csv(out_nameRAW, sep = '\\\\t', names = ['qseqid', 'sseqid', 'pident', 'ppos',\n"
          ]
        },
        {
          "output_type": "stream",
          "name": "stdout",
          "text": [
            "isolate cds_GCA_004569165.1.fasta ready!\n",
            "isolate cds_GCA_004569165.1.fasta ready!\n"
          ]
        },
        {
          "output_type": "stream",
          "name": "stderr",
          "text": [
            "<ipython-input-43-7fcb649b13fe>:12: ParserWarning: Falling back to the 'python' engine because the 'c' engine does not support regex separators (separators > 1 char and different from '\\s+' are interpreted as regex); you can avoid this warning by specifying engine='python'.\n",
            "  dfRAW = pd.read_csv(out_nameRAW, sep = '\\\\t', names = ['qseqid', 'sseqid', 'pident', 'ppos',\n",
            "<ipython-input-43-7fcb649b13fe>:12: ParserWarning: Falling back to the 'python' engine because the 'c' engine does not support regex separators (separators > 1 char and different from '\\s+' are interpreted as regex); you can avoid this warning by specifying engine='python'.\n",
            "  dfRAW = pd.read_csv(out_nameRAW, sep = '\\\\t', names = ['qseqid', 'sseqid', 'pident', 'ppos',\n"
          ]
        },
        {
          "output_type": "stream",
          "name": "stdout",
          "text": [
            "isolate cds_GCA_025830175.1.fasta ready!\n",
            "isolate cds_GCA_025830175.1.fasta ready!\n"
          ]
        },
        {
          "output_type": "stream",
          "name": "stderr",
          "text": [
            "<ipython-input-43-7fcb649b13fe>:12: ParserWarning: Falling back to the 'python' engine because the 'c' engine does not support regex separators (separators > 1 char and different from '\\s+' are interpreted as regex); you can avoid this warning by specifying engine='python'.\n",
            "  dfRAW = pd.read_csv(out_nameRAW, sep = '\\\\t', names = ['qseqid', 'sseqid', 'pident', 'ppos',\n"
          ]
        },
        {
          "output_type": "stream",
          "name": "stdout",
          "text": [
            "isolate cds_GCA_012775415.1.fasta ready!\n"
          ]
        },
        {
          "output_type": "stream",
          "name": "stderr",
          "text": [
            "<ipython-input-43-7fcb649b13fe>:12: ParserWarning: Falling back to the 'python' engine because the 'c' engine does not support regex separators (separators > 1 char and different from '\\s+' are interpreted as regex); you can avoid this warning by specifying engine='python'.\n",
            "  dfRAW = pd.read_csv(out_nameRAW, sep = '\\\\t', names = ['qseqid', 'sseqid', 'pident', 'ppos',\n"
          ]
        },
        {
          "output_type": "stream",
          "name": "stdout",
          "text": [
            "isolate cds_GCA_012775415.1.fasta ready!\n"
          ]
        },
        {
          "output_type": "stream",
          "name": "stderr",
          "text": [
            "<ipython-input-43-7fcb649b13fe>:12: ParserWarning: Falling back to the 'python' engine because the 'c' engine does not support regex separators (separators > 1 char and different from '\\s+' are interpreted as regex); you can avoid this warning by specifying engine='python'.\n",
            "  dfRAW = pd.read_csv(out_nameRAW, sep = '\\\\t', names = ['qseqid', 'sseqid', 'pident', 'ppos',\n",
            "<ipython-input-43-7fcb649b13fe>:12: ParserWarning: Falling back to the 'python' engine because the 'c' engine does not support regex separators (separators > 1 char and different from '\\s+' are interpreted as regex); you can avoid this warning by specifying engine='python'.\n",
            "  dfRAW = pd.read_csv(out_nameRAW, sep = '\\\\t', names = ['qseqid', 'sseqid', 'pident', 'ppos',\n"
          ]
        },
        {
          "output_type": "stream",
          "name": "stdout",
          "text": [
            "isolate cds_GCA_004567275.1.fasta ready!\n",
            "isolate cds_GCA_004567275.1.fasta ready!\n"
          ]
        },
        {
          "output_type": "stream",
          "name": "stderr",
          "text": [
            "<ipython-input-43-7fcb649b13fe>:12: ParserWarning: Falling back to the 'python' engine because the 'c' engine does not support regex separators (separators > 1 char and different from '\\s+' are interpreted as regex); you can avoid this warning by specifying engine='python'.\n",
            "  dfRAW = pd.read_csv(out_nameRAW, sep = '\\\\t', names = ['qseqid', 'sseqid', 'pident', 'ppos',\n",
            "<ipython-input-43-7fcb649b13fe>:12: ParserWarning: Falling back to the 'python' engine because the 'c' engine does not support regex separators (separators > 1 char and different from '\\s+' are interpreted as regex); you can avoid this warning by specifying engine='python'.\n",
            "  dfRAW = pd.read_csv(out_nameRAW, sep = '\\\\t', names = ['qseqid', 'sseqid', 'pident', 'ppos',\n"
          ]
        },
        {
          "output_type": "stream",
          "name": "stdout",
          "text": [
            "isolate cds_GCA_004566555.1.fasta ready!\n",
            "isolate cds_GCA_004566555.1.fasta ready!\n"
          ]
        },
        {
          "output_type": "stream",
          "name": "stderr",
          "text": [
            "<ipython-input-43-7fcb649b13fe>:12: ParserWarning: Falling back to the 'python' engine because the 'c' engine does not support regex separators (separators > 1 char and different from '\\s+' are interpreted as regex); you can avoid this warning by specifying engine='python'.\n",
            "  dfRAW = pd.read_csv(out_nameRAW, sep = '\\\\t', names = ['qseqid', 'sseqid', 'pident', 'ppos',\n",
            "<ipython-input-43-7fcb649b13fe>:12: ParserWarning: Falling back to the 'python' engine because the 'c' engine does not support regex separators (separators > 1 char and different from '\\s+' are interpreted as regex); you can avoid this warning by specifying engine='python'.\n",
            "  dfRAW = pd.read_csv(out_nameRAW, sep = '\\\\t', names = ['qseqid', 'sseqid', 'pident', 'ppos',\n"
          ]
        },
        {
          "output_type": "stream",
          "name": "stdout",
          "text": [
            "isolate cds_GCA_004566985.1.fasta ready!\n",
            "isolate cds_GCA_004566985.1.fasta ready!\n"
          ]
        },
        {
          "output_type": "stream",
          "name": "stderr",
          "text": [
            "<ipython-input-43-7fcb649b13fe>:12: ParserWarning: Falling back to the 'python' engine because the 'c' engine does not support regex separators (separators > 1 char and different from '\\s+' are interpreted as regex); you can avoid this warning by specifying engine='python'.\n",
            "  dfRAW = pd.read_csv(out_nameRAW, sep = '\\\\t', names = ['qseqid', 'sseqid', 'pident', 'ppos',\n",
            "<ipython-input-43-7fcb649b13fe>:12: ParserWarning: Falling back to the 'python' engine because the 'c' engine does not support regex separators (separators > 1 char and different from '\\s+' are interpreted as regex); you can avoid this warning by specifying engine='python'.\n",
            "  dfRAW = pd.read_csv(out_nameRAW, sep = '\\\\t', names = ['qseqid', 'sseqid', 'pident', 'ppos',\n"
          ]
        },
        {
          "output_type": "stream",
          "name": "stdout",
          "text": [
            "isolate cds_GCA_004570035.1.fasta ready!\n",
            "isolate cds_GCA_004570035.1.fasta ready!\n"
          ]
        },
        {
          "output_type": "stream",
          "name": "stderr",
          "text": [
            "<ipython-input-43-7fcb649b13fe>:12: ParserWarning: Falling back to the 'python' engine because the 'c' engine does not support regex separators (separators > 1 char and different from '\\s+' are interpreted as regex); you can avoid this warning by specifying engine='python'.\n",
            "  dfRAW = pd.read_csv(out_nameRAW, sep = '\\\\t', names = ['qseqid', 'sseqid', 'pident', 'ppos',\n",
            "<ipython-input-43-7fcb649b13fe>:12: ParserWarning: Falling back to the 'python' engine because the 'c' engine does not support regex separators (separators > 1 char and different from '\\s+' are interpreted as regex); you can avoid this warning by specifying engine='python'.\n",
            "  dfRAW = pd.read_csv(out_nameRAW, sep = '\\\\t', names = ['qseqid', 'sseqid', 'pident', 'ppos',\n"
          ]
        },
        {
          "output_type": "stream",
          "name": "stdout",
          "text": [
            "isolate cds_GCA_004568035.1.fasta ready!\n",
            "isolate cds_GCA_004568035.1.fasta ready!\n"
          ]
        },
        {
          "output_type": "stream",
          "name": "stderr",
          "text": [
            "<ipython-input-43-7fcb649b13fe>:12: ParserWarning: Falling back to the 'python' engine because the 'c' engine does not support regex separators (separators > 1 char and different from '\\s+' are interpreted as regex); you can avoid this warning by specifying engine='python'.\n",
            "  dfRAW = pd.read_csv(out_nameRAW, sep = '\\\\t', names = ['qseqid', 'sseqid', 'pident', 'ppos',\n",
            "<ipython-input-43-7fcb649b13fe>:12: ParserWarning: Falling back to the 'python' engine because the 'c' engine does not support regex separators (separators > 1 char and different from '\\s+' are interpreted as regex); you can avoid this warning by specifying engine='python'.\n",
            "  dfRAW = pd.read_csv(out_nameRAW, sep = '\\\\t', names = ['qseqid', 'sseqid', 'pident', 'ppos',\n"
          ]
        },
        {
          "output_type": "stream",
          "name": "stdout",
          "text": [
            "isolate cds_GCA_004567675.1.fasta ready!\n",
            "isolate cds_GCA_004567675.1.fasta ready!\n"
          ]
        }
      ]
    },
    {
      "cell_type": "code",
      "source": [
        "! zip -r ./found_ISs.zip ./found_ISs"
      ],
      "metadata": {
        "id": "T0hdDGLPQJdb",
        "colab": {
          "base_uri": "https://localhost:8080/"
        },
        "outputId": "f6e35dac-5eff-453f-c735-ff7c9bb18dcb"
      },
      "execution_count": null,
      "outputs": [
        {
          "output_type": "stream",
          "name": "stdout",
          "text": [
            "  adding: found_ISs/ (stored 0%)\n",
            "  adding: found_ISs/ISs_filtered_cds_GCA_002192295.1.xlsx (deflated 4%)\n",
            "  adding: found_ISs/ISs_filtered_cds_GCA_004567675.1.xlsx (deflated 5%)\n",
            "  adding: found_ISs/ISs_filtered_cds_GCA_001874785.1.xlsx (deflated 5%)\n",
            "  adding: found_ISs/ISs_filtered_cds_GCA_004681485.1.xlsx (deflated 4%)\n",
            "  adding: found_ISs/ISs_filtered_cds_GCA_004569045.1.xlsx (deflated 4%)\n",
            "  adding: found_ISs/ISs_filtered_cds_GCA_012707345.1.xlsx (deflated 5%)\n",
            "  adding: found_ISs/ISs_filtered_cds_GCA_012766055.1.xlsx (deflated 6%)\n",
            "  adding: found_ISs/ISs_filtered_cds_GCA_023881525.1.xlsx (deflated 6%)\n",
            "  adding: found_ISs/ISs_filtered_cds_GCA_004567175.1.xlsx (deflated 5%)\n",
            "  adding: found_ISs/ISs_filtered_cds_GCA_004569875.1.xlsx (deflated 4%)\n",
            "  adding: found_ISs/ISs_filtered_cds_GCA_004567895.1.xlsx (deflated 5%)\n",
            "  adding: found_ISs/ISs_filtered_cds_GCA_004566715.1.xlsx (deflated 7%)\n",
            "  adding: found_ISs/ISs_filtered_cds_GCA_023870175.1.xlsx (deflated 8%)\n",
            "  adding: found_ISs/ISs_filtered_cds_GCA_003288415.1.xlsx (deflated 6%)\n",
            "  adding: found_ISs/ISs_filtered_cds_GCA_012707805.1.xlsx (deflated 6%)\n",
            "  adding: found_ISs/ISs_filtered_cds_GCA_002860105.1.xlsx (deflated 4%)\n",
            "  adding: found_ISs/ISs_filtered_cds_GCA_025833635.1.xlsx (deflated 5%)\n",
            "  adding: found_ISs/ISs_filtered_cds_GCA_023884165.1.xlsx (deflated 6%)\n",
            "  adding: found_ISs/ISs_filtered_cds_GCA_002180275.1.xlsx (deflated 5%)\n",
            "  adding: found_ISs/ISs_filtered_cds_GCA_004566895.1.xlsx (deflated 4%)\n",
            "  adding: found_ISs/ISs_filtered_cds_GCA_004566955.1.xlsx (deflated 5%)\n",
            "  adding: found_ISs/ISs_filtered_cds_GCA_003031795.1.xlsx (deflated 5%)\n",
            "  adding: found_ISs/ISs_filtered_cds_GCA_003324445.1.xlsx (deflated 6%)\n",
            "  adding: found_ISs/ISs_filtered_cds_GCA_004567585.1.xlsx (deflated 5%)\n",
            "  adding: found_ISs/ISs_filtered_cds_GCA_004567445.1.xlsx (deflated 5%)\n",
            "  adding: found_ISs/ISs_filtered_cds_GCA_025833075.1.xlsx (deflated 5%)\n",
            "  adding: found_ISs/ISs_filtered_cds_GCA_004567375.1.xlsx (deflated 5%)\n",
            "  adding: found_ISs/ISs_filtered_cds_GCA_004569695.1.xlsx (deflated 5%)\n",
            "  adding: found_ISs/ISs_filtered_cds_GCA_004567075.1.xlsx (deflated 4%)\n",
            "  adding: found_ISs/ISs_filtered_cds_GCA_004566455.1.xlsx (deflated 5%)\n",
            "  adding: found_ISs/ISs_filtered_cds_GCA_002055635.1.xlsx (deflated 5%)\n",
            "  adding: found_ISs/ISs_filtered_cds_GCA_025831095.1.xlsx (deflated 6%)\n",
            "  adding: found_ISs/ISs_filtered_cds_GCA_004567805.1.xlsx (deflated 7%)\n",
            "  adding: found_ISs/ISs_filtered_cds_GCA_012774415.1.xlsx (deflated 6%)\n",
            "  adding: found_ISs/ISs_filtered_cds_GCA_004567065.1.xlsx (deflated 8%)\n",
            "  adding: found_ISs/ISs_filtered_cds_GCA_004567565.1.xlsx (deflated 4%)\n",
            "  adding: found_ISs/ISs_filtered_cds_GCA_004567165.1.xlsx (deflated 6%)\n",
            "  adding: found_ISs/ISs_filtered_cds_GCA_025828275.1.xlsx (deflated 5%)\n",
            "  adding: found_ISs/ISs_filtered_cds_GCA_004567695.1.xlsx (deflated 5%)\n",
            "  adding: found_ISs/ISs_filtered_cds_GCA_004567615.1.xlsx (deflated 5%)\n",
            "  adding: found_ISs/ISs_filtered_cds_GCA_012773715.1.xlsx (deflated 6%)\n",
            "  adding: found_ISs/ISs_filtered_cds_GCA_012683825.1.xlsx (deflated 5%)\n",
            "  adding: found_ISs/ISs_filtered_cds_GCA_004567495.1.xlsx (deflated 5%)\n",
            "  adding: found_ISs/ISs_filtered_cds_GCA_004566685.1.xlsx (deflated 6%)\n",
            "  adding: found_ISs/ISs_filtered_cds_GCA_004566375.1.xlsx (deflated 4%)\n",
            "  adding: found_ISs/ISs_filtered_cds_GCA_025827735.1.xlsx (deflated 7%)\n",
            "  adding: found_ISs/ISs_filtered_cds_GCA_025830175.1.xlsx (deflated 9%)\n",
            "  adding: found_ISs/ISs_filtered_cds_GCA_002142695.1.xlsx (deflated 4%)\n",
            "  adding: found_ISs/ISs_filtered_cds_GCA_004567225.1.xlsx (deflated 5%)\n",
            "  adding: found_ISs/ISs_filtered_cds_GCA_004566865.1.xlsx (deflated 6%)\n",
            "  adding: found_ISs/ISs_filtered_cds_GCA_004566415.1.xlsx (deflated 4%)\n",
            "  adding: found_ISs/ISs_filtered_cds_GCA_004566535.1.xlsx (deflated 5%)\n",
            "  adding: found_ISs/ISs_filtered_cds_GCA_004567815.1.xlsx (deflated 4%)\n",
            "  adding: found_ISs/ISs_filtered_cds_GCA_004568935.1.xlsx (deflated 5%)\n",
            "  adding: found_ISs/ISs_filtered_cds_GCA_004569675.1.xlsx (deflated 5%)\n",
            "  adding: found_ISs/ISs_filtered_cds_GCA_004567415.1.xlsx (deflated 5%)\n",
            "  adding: found_ISs/ISs_filtered_cds_GCA_004566905.1.xlsx (deflated 6%)\n",
            "  adding: found_ISs/ISs_filtered_cds_GCA_002056065.1.xlsx (deflated 5%)\n",
            "  adding: found_ISs/ISs_filtered_cds_GCA_004567365.1.xlsx (deflated 4%)\n",
            "  adding: found_ISs/ISs_filtered_cds_GCA_004567145.1.xlsx (deflated 5%)\n",
            "  adding: found_ISs/ISs_filtered_cds_GCA_004566795.1.xlsx (deflated 5%)\n",
            "  adding: found_ISs/ISs_filtered_cds_GCA_004568145.1.xlsx (deflated 5%)\n",
            "  adding: found_ISs/ISs_filtered_cds_GCA_020373145.1.xlsx (deflated 6%)\n",
            "  adding: found_ISs/ISs_filtered_cds_GCA_001874845.1.xlsx (deflated 5%)\n",
            "  adding: found_ISs/ISs_filtered_cds_GCA_025828875.1.xlsx (deflated 5%)\n",
            "  adding: found_ISs/ISs_filtered_cds_GCA_004567595.1.xlsx (deflated 6%)\n",
            "  adding: found_ISs/ISs_filtered_cds_GCA_025827515.1.xlsx (deflated 6%)\n",
            "  adding: found_ISs/ISs_filtered_cds_GCA_004566665.1.xlsx (deflated 5%)\n",
            "  adding: found_ISs/ISs_filtered_cds_GCA_023880595.1.xlsx (deflated 5%)\n",
            "  adding: found_ISs/ISs_filtered_cds_GCA_025827995.1.xlsx (deflated 6%)\n",
            "  adding: found_ISs/ISs_filtered_cds_GCA_004568575.1.xlsx (deflated 5%)\n",
            "  adding: found_ISs/ISs_filtered_cds_GCA_004567475.1.xlsx (deflated 5%)\n",
            "  adding: found_ISs/ISs_filtered_cds_GCA_025828285.1.xlsx (deflated 5%)\n",
            "  adding: found_ISs/ISs_filtered_cds_GCA_004566775.1.xlsx (deflated 5%)\n",
            "  adding: found_ISs/ISs_filtered_cds_GCA_012765655.1.xlsx (deflated 5%)\n",
            "  adding: found_ISs/ISs_filtered_cds_GCA_023885145.1.xlsx (deflated 6%)\n",
            "  adding: found_ISs/ISs_filtered_cds_GCA_004569855.1.xlsx (deflated 5%)\n",
            "  adding: found_ISs/ISs_filtered_cds_GCA_004567345.1.xlsx (deflated 6%)\n",
            "  adding: found_ISs/ISs_filtered_cds_GCA_004566985.1.xlsx (deflated 6%)\n",
            "  adding: found_ISs/ISs_filtered_cds_GCA_004566965.1.xlsx (deflated 4%)\n",
            "  adding: found_ISs/ISs_filtered_cds_GCA_012765535.1.xlsx (deflated 5%)\n",
            "  adding: found_ISs/ISs_filtered_cds_GCA_004567315.1.xlsx (deflated 5%)\n",
            "  adding: found_ISs/ISs_filtered_cds_GCA_020985225.1.xlsx (deflated 5%)\n",
            "  adding: found_ISs/ISs_filtered_cds_GCA_025827525.1.xlsx (deflated 5%)\n",
            "  adding: found_ISs/ISs_filtered_cds_GCA_004566595.1.xlsx (deflated 5%)\n",
            "  adding: found_ISs/ISs_filtered_cds_GCA_004569925.1.xlsx (deflated 4%)\n",
            "  adding: found_ISs/ISs_filtered_cds_GCA_025832865.1.xlsx (deflated 5%)\n",
            "  adding: found_ISs/ISs_filtered_cds_GCA_012642825.1.xlsx (deflated 5%)\n",
            "  adding: found_ISs/ISs_filtered_cds_GCA_004569165.1.xlsx (deflated 5%)\n",
            "  adding: found_ISs/ISs_filtered_cds_GCA_004566395.1.xlsx (deflated 3%)\n",
            "  adding: found_ISs/ISs_filtered_cds_GCA_025827915.1.xlsx (deflated 6%)\n",
            "  adding: found_ISs/ISs_filtered_cds_GCA_004566835.1.xlsx (deflated 4%)\n",
            "  adding: found_ISs/ISs_filtered_cds_GCA_004567745.1.xlsx (deflated 4%)\n",
            "  adding: found_ISs/ISs_filtered_cds_GCA_004567405.1.xlsx (deflated 5%)\n",
            "  adding: found_ISs/ISs_filtered_cds_GCA_012769655.1.xlsx (deflated 6%)\n",
            "  adding: found_ISs/ISs_filtered_cds_GCA_025828415.1.xlsx (deflated 4%)\n",
            "  adding: found_ISs/ISs_filtered_cds_GCA_004567665.1.xlsx (deflated 6%)\n",
            "  adding: found_ISs/ISs_filtered_cds_GCA_004566385.1.xlsx (deflated 4%)\n",
            "  adding: found_ISs/ISs_filtered_cds_GCA_004567725.1.xlsx (deflated 5%)\n",
            "  adding: found_ISs/ISs_filtered_cds_GCA_004567185.1.xlsx (deflated 4%)\n",
            "  adding: found_ISs/ISs_filtered_cds_GCA_012587395.1.xlsx (deflated 5%)\n",
            "  adding: found_ISs/ISs_filtered_cds_GCA_002180215.1.xlsx (deflated 5%)\n",
            "  adding: found_ISs/ISs_filtered_cds_GCA_004566565.1.xlsx (deflated 5%)\n",
            "  adding: found_ISs/ISs_filtered_cds_GCA_004566875.1.xlsx (deflated 4%)\n",
            "  adding: found_ISs/ISs_filtered_cds_GCA_002201835.1.xlsx (deflated 5%)\n",
            "  adding: found_ISs/ISs_filtered_cds_GCA_004566475.1.xlsx (deflated 7%)\n",
            "  adding: found_ISs/ISs_filtered_cds_GCA_026413155.1.xlsx (deflated 8%)\n",
            "  adding: found_ISs/ISs_filtered_cds_GCA_004570035.1.xlsx (deflated 5%)\n",
            "  adding: found_ISs/ISs_filtered_cds_GCA_004568205.1.xlsx (deflated 5%)\n",
            "  adding: found_ISs/ISs_filtered_cds_GCA_003073835.1.xlsx (deflated 5%)\n",
            "  adding: found_ISs/ISs_filtered_cds_GCA_025830255.1.xlsx (deflated 5%)\n",
            "  adding: found_ISs/ISs_filtered_cds_GCA_025830425.1.xlsx (deflated 5%)\n",
            "  adding: found_ISs/ISs_filtered_cds_GCA_004566555.1.xlsx (deflated 4%)\n",
            "  adding: found_ISs/ISs_filtered_cds_GCA_002202175.1.xlsx (deflated 5%)\n",
            "  adding: found_ISs/ISs_filtered_cds_GCA_003031735.1.xlsx (deflated 5%)\n",
            "  adding: found_ISs/ISs_filtered_cds_GCA_002157245.1.xlsx (deflated 5%)\n",
            "  adding: found_ISs/ISs_filtered_cds_GCA_004566645.1.xlsx (deflated 5%)\n",
            "  adding: found_ISs/ISs_filtered_cds_GCA_003194265.1.xlsx (deflated 5%)\n",
            "  adding: found_ISs/ISs_filtered_cds_GCA_004569745.1.xlsx (deflated 5%)\n",
            "  adding: found_ISs/ISs_filtered_cds_GCA_002860085.1.xlsx (deflated 4%)\n",
            "  adding: found_ISs/ISs_filtered_cds_GCA_002056145.1.xlsx (deflated 5%)\n",
            "  adding: found_ISs/ISs_filtered_cds_GCA_002192275.1.xlsx (deflated 5%)\n",
            "  adding: found_ISs/ISs_filtered_cds_GCA_002180095.1.xlsx (deflated 5%)\n",
            "  adding: found_ISs/ISs_filtered_cds_GCA_004568035.1.xlsx (deflated 5%)\n",
            "  adding: found_ISs/ISs_filtered_cds_GCA_002787215.1.xlsx (deflated 5%)\n",
            "  adding: found_ISs/ISs_filtered_cds_GCA_004567505.1.xlsx (deflated 4%)\n",
            "  adding: found_ISs/ISs_filtered_cds_GCA_004567265.1.xlsx (deflated 5%)\n",
            "  adding: found_ISs/ISs_filtered_cds_GCA_025831135.1.xlsx (deflated 7%)\n",
            "  adding: found_ISs/ISs_filtered_cds_GCA_023866455.1.xlsx (deflated 6%)\n",
            "  adding: found_ISs/ISs_filtered_cds_GCA_025830635.1.xlsx (deflated 6%)\n",
            "  adding: found_ISs/ISs_filtered_cds_GCA_004568615.1.xlsx (deflated 4%)\n",
            "  adding: found_ISs/ISs_filtered_cds_GCA_004567715.1.xlsx (deflated 5%)\n",
            "  adding: found_ISs/ISs_filtered_cds_GCA_004566545.1.xlsx (deflated 4%)\n",
            "  adding: found_ISs/ISs_filtered_cds_GCA_002180135.1.xlsx (deflated 4%)\n",
            "  adding: found_ISs/ISs_filtered_cds_GCA_004567285.1.xlsx (deflated 5%)\n",
            "  adding: found_ISs/ISs_filtered_cds_GCA_004567115.1.xlsx (deflated 6%)\n",
            "  adding: found_ISs/ISs_filtered_cds_GCA_004567275.1.xlsx (deflated 6%)\n",
            "  adding: found_ISs/ISs_filtered_cds_GCA_004568895.1.xlsx (deflated 4%)\n",
            "  adding: found_ISs/ISs_filtered_cds_GCA_012741075.1.xlsx (deflated 5%)\n",
            "  adding: found_ISs/ISs_filtered_cds_GCA_004567255.1.xlsx (deflated 4%)\n",
            "  adding: found_ISs/ISs_filtered_cds_GCA_004567535.1.xlsx (deflated 4%)\n",
            "  adding: found_ISs/ISs_filtered_cds_GCA_004566465.1.xlsx (deflated 5%)\n",
            "  adding: found_ISs/ISs_filtered_cds_GCA_004567605.1.xlsx (deflated 5%)\n",
            "  adding: found_ISs/ISs_filtered_cds_GCA_004567355.1.xlsx (deflated 4%)\n",
            "  adding: found_ISs/ISs_filtered_cds_GCA_004566675.1.xlsx (deflated 4%)\n",
            "  adding: found_ISs/ISs_filtered_cds_GCA_004564175.1.xlsx (deflated 5%)\n",
            "  adding: found_ISs/ISs_filtered_cds_GCA_001747365.2.xlsx (deflated 5%)\n",
            "  adding: found_ISs/ISs_filtered_cds_GCA_003204155.1.xlsx (deflated 4%)\n",
            "  adding: found_ISs/ISs_filtered_cds_GCA_004569995.1.xlsx (deflated 5%)\n",
            "  adding: found_ISs/ISs_filtered_cds_GCA_004566575.1.xlsx (deflated 5%)\n",
            "  adding: found_ISs/ISs_filtered_cds_GCA_004567045.1.xlsx (deflated 4%)\n",
            "  adding: found_ISs/ISs_filtered_cds_GCA_004567055.1.xlsx (deflated 4%)\n",
            "  adding: found_ISs/ISs_filtered_cds_GCA_004566405.1.xlsx (deflated 4%)\n",
            "  adding: found_ISs/ISs_filtered_cds_GCA_012775415.1.xlsx (deflated 5%)\n",
            "  adding: found_ISs/ISs_filtered_cds_GCA_004567755.1.xlsx (deflated 5%)\n",
            "  adding: found_ISs/ISs_filtered_cds_GCA_012707405.1.xlsx (deflated 5%)\n",
            "  adding: found_ISs/ISs_filtered_cds_GCA_004566785.1.xlsx (deflated 5%)\n",
            "  adding: found_ISs/ISs_filtered_cds_GCA_025830515.1.xlsx (deflated 5%)\n",
            "  adding: found_ISs/ISs_filtered_cds_GCA_004566765.1.xlsx (deflated 5%)\n",
            "  adding: found_ISs/ISs_filtered_cds_GCA_002180055.1.xlsx (deflated 5%)\n",
            "  adding: found_ISs/ISs_filtered_cds_GCA_004568225.1.xlsx (deflated 5%)\n",
            "  adding: found_ISs/ISs_filtered_cds_GCA_004567005.1.xlsx (deflated 4%)\n",
            "  adding: found_ISs/ (stored 0%)\n",
            "  adding: found_ISs/ISs_filtered_cds_GCA_002192295.1.xlsx (deflated 4%)\n",
            "  adding: found_ISs/ISs_filtered_cds_GCA_004567675.1.xlsx (deflated 5%)\n",
            "  adding: found_ISs/ISs_filtered_cds_GCA_001874785.1.xlsx (deflated 5%)\n",
            "  adding: found_ISs/ISs_filtered_cds_GCA_004681485.1.xlsx (deflated 4%)\n",
            "  adding: found_ISs/ISs_filtered_cds_GCA_004569045.1.xlsx (deflated 4%)\n",
            "  adding: found_ISs/ISs_filtered_cds_GCA_012707345.1.xlsx (deflated 5%)\n",
            "  adding: found_ISs/ISs_filtered_cds_GCA_012766055.1.xlsx (deflated 6%)\n",
            "  adding: found_ISs/ISs_filtered_cds_GCA_023881525.1.xlsx (deflated 6%)\n",
            "  adding: found_ISs/ISs_filtered_cds_GCA_004567175.1.xlsx (deflated 5%)\n",
            "  adding: found_ISs/ISs_filtered_cds_GCA_004569875.1.xlsx (deflated 4%)\n",
            "  adding: found_ISs/ISs_filtered_cds_GCA_004567895.1.xlsx (deflated 5%)\n",
            "  adding: found_ISs/ISs_filtered_cds_GCA_004566715.1.xlsx (deflated 7%)\n",
            "  adding: found_ISs/ISs_filtered_cds_GCA_023870175.1.xlsx (deflated 8%)\n",
            "  adding: found_ISs/ISs_filtered_cds_GCA_003288415.1.xlsx (deflated 6%)\n",
            "  adding: found_ISs/ISs_filtered_cds_GCA_012707805.1.xlsx (deflated 6%)\n",
            "  adding: found_ISs/ISs_filtered_cds_GCA_002860105.1.xlsx (deflated 4%)\n",
            "  adding: found_ISs/ISs_filtered_cds_GCA_025833635.1.xlsx (deflated 5%)\n",
            "  adding: found_ISs/ISs_filtered_cds_GCA_023884165.1.xlsx (deflated 6%)\n",
            "  adding: found_ISs/ISs_filtered_cds_GCA_002180275.1.xlsx (deflated 5%)\n",
            "  adding: found_ISs/ISs_filtered_cds_GCA_004566895.1.xlsx (deflated 4%)\n",
            "  adding: found_ISs/ISs_filtered_cds_GCA_004566955.1.xlsx (deflated 5%)\n",
            "  adding: found_ISs/ISs_filtered_cds_GCA_003031795.1.xlsx (deflated 5%)\n",
            "  adding: found_ISs/ISs_filtered_cds_GCA_003324445.1.xlsx (deflated 6%)\n",
            "  adding: found_ISs/ISs_filtered_cds_GCA_004567585.1.xlsx (deflated 5%)\n",
            "  adding: found_ISs/ISs_filtered_cds_GCA_004567445.1.xlsx (deflated 5%)\n",
            "  adding: found_ISs/ISs_filtered_cds_GCA_025833075.1.xlsx (deflated 5%)\n",
            "  adding: found_ISs/ISs_filtered_cds_GCA_004567375.1.xlsx (deflated 5%)\n",
            "  adding: found_ISs/ISs_filtered_cds_GCA_004569695.1.xlsx (deflated 5%)\n",
            "  adding: found_ISs/ISs_filtered_cds_GCA_004567075.1.xlsx (deflated 4%)\n",
            "  adding: found_ISs/ISs_filtered_cds_GCA_004566455.1.xlsx (deflated 5%)\n",
            "  adding: found_ISs/ISs_filtered_cds_GCA_002055635.1.xlsx (deflated 5%)\n",
            "  adding: found_ISs/ISs_filtered_cds_GCA_025831095.1.xlsx (deflated 6%)\n",
            "  adding: found_ISs/ISs_filtered_cds_GCA_004567805.1.xlsx (deflated 7%)\n",
            "  adding: found_ISs/ISs_filtered_cds_GCA_012774415.1.xlsx (deflated 6%)\n",
            "  adding: found_ISs/ISs_filtered_cds_GCA_004567065.1.xlsx (deflated 8%)\n",
            "  adding: found_ISs/ISs_filtered_cds_GCA_004567565.1.xlsx (deflated 4%)\n",
            "  adding: found_ISs/ISs_filtered_cds_GCA_004567165.1.xlsx (deflated 6%)\n",
            "  adding: found_ISs/ISs_filtered_cds_GCA_025828275.1.xlsx (deflated 5%)\n",
            "  adding: found_ISs/ISs_filtered_cds_GCA_004567695.1.xlsx (deflated 5%)\n",
            "  adding: found_ISs/ISs_filtered_cds_GCA_004567615.1.xlsx (deflated 5%)\n",
            "  adding: found_ISs/ISs_filtered_cds_GCA_012773715.1.xlsx (deflated 6%)\n",
            "  adding: found_ISs/ISs_filtered_cds_GCA_012683825.1.xlsx (deflated 5%)\n",
            "  adding: found_ISs/ISs_filtered_cds_GCA_004567495.1.xlsx (deflated 5%)\n",
            "  adding: found_ISs/ISs_filtered_cds_GCA_004566685.1.xlsx (deflated 6%)\n",
            "  adding: found_ISs/ISs_filtered_cds_GCA_004566375.1.xlsx (deflated 4%)\n",
            "  adding: found_ISs/ISs_filtered_cds_GCA_025827735.1.xlsx (deflated 7%)\n",
            "  adding: found_ISs/ISs_filtered_cds_GCA_025830175.1.xlsx (deflated 9%)\n",
            "  adding: found_ISs/ISs_filtered_cds_GCA_002142695.1.xlsx (deflated 4%)\n",
            "  adding: found_ISs/ISs_filtered_cds_GCA_004567225.1.xlsx (deflated 5%)\n",
            "  adding: found_ISs/ISs_filtered_cds_GCA_004566865.1.xlsx (deflated 6%)\n",
            "  adding: found_ISs/ISs_filtered_cds_GCA_004566415.1.xlsx (deflated 4%)\n",
            "  adding: found_ISs/ISs_filtered_cds_GCA_004566535.1.xlsx (deflated 5%)\n",
            "  adding: found_ISs/ISs_filtered_cds_GCA_004567815.1.xlsx (deflated 4%)\n",
            "  adding: found_ISs/ISs_filtered_cds_GCA_004568935.1.xlsx (deflated 5%)\n",
            "  adding: found_ISs/ISs_filtered_cds_GCA_004569675.1.xlsx (deflated 5%)\n",
            "  adding: found_ISs/ISs_filtered_cds_GCA_004567415.1.xlsx (deflated 5%)\n",
            "  adding: found_ISs/ISs_filtered_cds_GCA_004566905.1.xlsx (deflated 6%)\n",
            "  adding: found_ISs/ISs_filtered_cds_GCA_002056065.1.xlsx (deflated 5%)\n",
            "  adding: found_ISs/ISs_filtered_cds_GCA_004567365.1.xlsx (deflated 4%)\n",
            "  adding: found_ISs/ISs_filtered_cds_GCA_004567145.1.xlsx (deflated 5%)\n",
            "  adding: found_ISs/ISs_filtered_cds_GCA_004566795.1.xlsx (deflated 5%)\n",
            "  adding: found_ISs/ISs_filtered_cds_GCA_004568145.1.xlsx (deflated 5%)\n",
            "  adding: found_ISs/ISs_filtered_cds_GCA_020373145.1.xlsx (deflated 6%)\n",
            "  adding: found_ISs/ISs_filtered_cds_GCA_001874845.1.xlsx (deflated 5%)\n",
            "  adding: found_ISs/ISs_filtered_cds_GCA_025828875.1.xlsx (deflated 5%)\n",
            "  adding: found_ISs/ISs_filtered_cds_GCA_004567595.1.xlsx (deflated 6%)\n",
            "  adding: found_ISs/ISs_filtered_cds_GCA_025827515.1.xlsx (deflated 6%)\n",
            "  adding: found_ISs/ISs_filtered_cds_GCA_004566665.1.xlsx (deflated 5%)\n",
            "  adding: found_ISs/ISs_filtered_cds_GCA_023880595.1.xlsx (deflated 5%)\n",
            "  adding: found_ISs/ISs_filtered_cds_GCA_025827995.1.xlsx (deflated 6%)\n",
            "  adding: found_ISs/ISs_filtered_cds_GCA_004568575.1.xlsx (deflated 5%)\n",
            "  adding: found_ISs/ISs_filtered_cds_GCA_004567475.1.xlsx (deflated 5%)\n",
            "  adding: found_ISs/ISs_filtered_cds_GCA_025828285.1.xlsx (deflated 5%)\n",
            "  adding: found_ISs/ISs_filtered_cds_GCA_004566775.1.xlsx (deflated 5%)\n",
            "  adding: found_ISs/ISs_filtered_cds_GCA_012765655.1.xlsx (deflated 5%)\n",
            "  adding: found_ISs/ISs_filtered_cds_GCA_023885145.1.xlsx (deflated 6%)\n",
            "  adding: found_ISs/ISs_filtered_cds_GCA_004569855.1.xlsx (deflated 5%)\n",
            "  adding: found_ISs/ISs_filtered_cds_GCA_004567345.1.xlsx (deflated 6%)\n",
            "  adding: found_ISs/ISs_filtered_cds_GCA_004566985.1.xlsx (deflated 6%)\n",
            "  adding: found_ISs/ISs_filtered_cds_GCA_004566965.1.xlsx (deflated 4%)\n",
            "  adding: found_ISs/ISs_filtered_cds_GCA_012765535.1.xlsx (deflated 5%)\n",
            "  adding: found_ISs/ISs_filtered_cds_GCA_004567315.1.xlsx (deflated 5%)\n",
            "  adding: found_ISs/ISs_filtered_cds_GCA_020985225.1.xlsx (deflated 5%)\n",
            "  adding: found_ISs/ISs_filtered_cds_GCA_025827525.1.xlsx (deflated 5%)\n",
            "  adding: found_ISs/ISs_filtered_cds_GCA_004566595.1.xlsx (deflated 5%)\n",
            "  adding: found_ISs/ISs_filtered_cds_GCA_004569925.1.xlsx (deflated 4%)\n",
            "  adding: found_ISs/ISs_filtered_cds_GCA_025832865.1.xlsx (deflated 5%)\n",
            "  adding: found_ISs/ISs_filtered_cds_GCA_012642825.1.xlsx (deflated 5%)\n",
            "  adding: found_ISs/ISs_filtered_cds_GCA_004569165.1.xlsx (deflated 5%)\n",
            "  adding: found_ISs/ISs_filtered_cds_GCA_004566395.1.xlsx (deflated 3%)\n",
            "  adding: found_ISs/ISs_filtered_cds_GCA_025827915.1.xlsx (deflated 6%)\n",
            "  adding: found_ISs/ISs_filtered_cds_GCA_004566835.1.xlsx (deflated 4%)\n",
            "  adding: found_ISs/ISs_filtered_cds_GCA_004567745.1.xlsx (deflated 4%)\n",
            "  adding: found_ISs/ISs_filtered_cds_GCA_004567405.1.xlsx (deflated 5%)\n",
            "  adding: found_ISs/ISs_filtered_cds_GCA_012769655.1.xlsx (deflated 6%)\n",
            "  adding: found_ISs/ISs_filtered_cds_GCA_025828415.1.xlsx (deflated 4%)\n",
            "  adding: found_ISs/ISs_filtered_cds_GCA_004567665.1.xlsx (deflated 6%)\n",
            "  adding: found_ISs/ISs_filtered_cds_GCA_004566385.1.xlsx (deflated 4%)\n",
            "  adding: found_ISs/ISs_filtered_cds_GCA_004567725.1.xlsx (deflated 5%)\n",
            "  adding: found_ISs/ISs_filtered_cds_GCA_004567185.1.xlsx (deflated 4%)\n",
            "  adding: found_ISs/ISs_filtered_cds_GCA_012587395.1.xlsx (deflated 5%)\n",
            "  adding: found_ISs/ISs_filtered_cds_GCA_002180215.1.xlsx (deflated 5%)\n",
            "  adding: found_ISs/ISs_filtered_cds_GCA_004566565.1.xlsx (deflated 5%)\n",
            "  adding: found_ISs/ISs_filtered_cds_GCA_004566875.1.xlsx (deflated 4%)\n",
            "  adding: found_ISs/ISs_filtered_cds_GCA_002201835.1.xlsx (deflated 5%)\n",
            "  adding: found_ISs/ISs_filtered_cds_GCA_004566475.1.xlsx (deflated 7%)\n",
            "  adding: found_ISs/ISs_filtered_cds_GCA_026413155.1.xlsx (deflated 8%)\n",
            "  adding: found_ISs/ISs_filtered_cds_GCA_004570035.1.xlsx (deflated 5%)\n",
            "  adding: found_ISs/ISs_filtered_cds_GCA_004568205.1.xlsx (deflated 5%)\n",
            "  adding: found_ISs/ISs_filtered_cds_GCA_003073835.1.xlsx (deflated 5%)\n",
            "  adding: found_ISs/ISs_filtered_cds_GCA_025830255.1.xlsx (deflated 5%)\n",
            "  adding: found_ISs/ISs_filtered_cds_GCA_025830425.1.xlsx (deflated 5%)\n",
            "  adding: found_ISs/ISs_filtered_cds_GCA_004566555.1.xlsx (deflated 4%)\n",
            "  adding: found_ISs/ISs_filtered_cds_GCA_002202175.1.xlsx (deflated 5%)\n",
            "  adding: found_ISs/ISs_filtered_cds_GCA_003031735.1.xlsx (deflated 5%)\n",
            "  adding: found_ISs/ISs_filtered_cds_GCA_002157245.1.xlsx (deflated 5%)\n",
            "  adding: found_ISs/ISs_filtered_cds_GCA_004566645.1.xlsx (deflated 5%)\n",
            "  adding: found_ISs/ISs_filtered_cds_GCA_003194265.1.xlsx (deflated 5%)\n",
            "  adding: found_ISs/ISs_filtered_cds_GCA_004569745.1.xlsx (deflated 5%)\n",
            "  adding: found_ISs/ISs_filtered_cds_GCA_002860085.1.xlsx (deflated 4%)\n",
            "  adding: found_ISs/ISs_filtered_cds_GCA_002056145.1.xlsx (deflated 5%)\n",
            "  adding: found_ISs/ISs_filtered_cds_GCA_002192275.1.xlsx (deflated 5%)\n",
            "  adding: found_ISs/ISs_filtered_cds_GCA_002180095.1.xlsx (deflated 5%)\n",
            "  adding: found_ISs/ISs_filtered_cds_GCA_004568035.1.xlsx (deflated 5%)\n",
            "  adding: found_ISs/ISs_filtered_cds_GCA_002787215.1.xlsx (deflated 5%)\n",
            "  adding: found_ISs/ISs_filtered_cds_GCA_004567505.1.xlsx (deflated 4%)\n",
            "  adding: found_ISs/ISs_filtered_cds_GCA_004567265.1.xlsx (deflated 5%)\n",
            "  adding: found_ISs/ISs_filtered_cds_GCA_025831135.1.xlsx (deflated 7%)\n",
            "  adding: found_ISs/ISs_filtered_cds_GCA_023866455.1.xlsx (deflated 6%)\n",
            "  adding: found_ISs/ISs_filtered_cds_GCA_025830635.1.xlsx (deflated 6%)\n",
            "  adding: found_ISs/ISs_filtered_cds_GCA_004568615.1.xlsx (deflated 4%)\n",
            "  adding: found_ISs/ISs_filtered_cds_GCA_004567715.1.xlsx (deflated 5%)\n",
            "  adding: found_ISs/ISs_filtered_cds_GCA_004566545.1.xlsx (deflated 4%)\n",
            "  adding: found_ISs/ISs_filtered_cds_GCA_002180135.1.xlsx (deflated 4%)\n",
            "  adding: found_ISs/ISs_filtered_cds_GCA_004567285.1.xlsx (deflated 5%)\n",
            "  adding: found_ISs/ISs_filtered_cds_GCA_004567115.1.xlsx (deflated 6%)\n",
            "  adding: found_ISs/ISs_filtered_cds_GCA_004567275.1.xlsx (deflated 6%)\n",
            "  adding: found_ISs/ISs_filtered_cds_GCA_004568895.1.xlsx (deflated 4%)\n",
            "  adding: found_ISs/ISs_filtered_cds_GCA_012741075.1.xlsx (deflated 5%)\n",
            "  adding: found_ISs/ISs_filtered_cds_GCA_004567255.1.xlsx (deflated 4%)\n",
            "  adding: found_ISs/ISs_filtered_cds_GCA_004567535.1.xlsx (deflated 4%)\n",
            "  adding: found_ISs/ISs_filtered_cds_GCA_004566465.1.xlsx (deflated 5%)\n",
            "  adding: found_ISs/ISs_filtered_cds_GCA_004567605.1.xlsx (deflated 5%)\n",
            "  adding: found_ISs/ISs_filtered_cds_GCA_004567355.1.xlsx (deflated 4%)\n",
            "  adding: found_ISs/ISs_filtered_cds_GCA_004566675.1.xlsx (deflated 4%)\n",
            "  adding: found_ISs/ISs_filtered_cds_GCA_004564175.1.xlsx (deflated 5%)\n",
            "  adding: found_ISs/ISs_filtered_cds_GCA_001747365.2.xlsx (deflated 5%)\n",
            "  adding: found_ISs/ISs_filtered_cds_GCA_003204155.1.xlsx (deflated 4%)\n",
            "  adding: found_ISs/ISs_filtered_cds_GCA_004569995.1.xlsx (deflated 5%)\n",
            "  adding: found_ISs/ISs_filtered_cds_GCA_004566575.1.xlsx (deflated 5%)\n",
            "  adding: found_ISs/ISs_filtered_cds_GCA_004567045.1.xlsx (deflated 4%)\n",
            "  adding: found_ISs/ISs_filtered_cds_GCA_004567055.1.xlsx (deflated 4%)\n",
            "  adding: found_ISs/ISs_filtered_cds_GCA_004566405.1.xlsx (deflated 4%)\n",
            "  adding: found_ISs/ISs_filtered_cds_GCA_012775415.1.xlsx (deflated 5%)\n",
            "  adding: found_ISs/ISs_filtered_cds_GCA_004567755.1.xlsx (deflated 5%)\n",
            "  adding: found_ISs/ISs_filtered_cds_GCA_012707405.1.xlsx (deflated 5%)\n",
            "  adding: found_ISs/ISs_filtered_cds_GCA_004566785.1.xlsx (deflated 5%)\n",
            "  adding: found_ISs/ISs_filtered_cds_GCA_025830515.1.xlsx (deflated 5%)\n",
            "  adding: found_ISs/ISs_filtered_cds_GCA_004566765.1.xlsx (deflated 5%)\n",
            "  adding: found_ISs/ISs_filtered_cds_GCA_002180055.1.xlsx (deflated 5%)\n",
            "  adding: found_ISs/ISs_filtered_cds_GCA_004568225.1.xlsx (deflated 5%)\n",
            "  adding: found_ISs/ISs_filtered_cds_GCA_004567005.1.xlsx (deflated 4%)\n"
          ]
        }
      ]
    }
  ]
}