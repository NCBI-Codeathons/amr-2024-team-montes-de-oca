{
  "nbformat": 4,
  "nbformat_minor": 0,
  "metadata": {
    "colab": {
      "provenance": []
    },
    "kernelspec": {
      "name": "python3",
      "display_name": "Python 3"
    },
    "language_info": {
      "name": "python"
    }
  },
  "cells": [
    {
      "cell_type": "markdown",
      "source": [
        "## Tools installation"
      ],
      "metadata": {
        "id": "N6KcBVQnd9dg"
      }
    },
    {
      "cell_type": "markdown",
      "source": [
        "#### Biopython"
      ],
      "metadata": {
        "id": "RQD6ytSrX8W8"
      }
    },
    {
      "cell_type": "code",
      "source": [
        "try:\n",
        "    import google.colab\n",
        "    # Running on Google Colab, so install Biopython first\n",
        "    !pip install biopython\n",
        "except ImportError:\n",
        "    pass"
      ],
      "metadata": {
        "colab": {
          "base_uri": "https://localhost:8080/"
        },
        "id": "CyhfRBwazMyY",
        "outputId": "6932cade-4ee6-452c-a261-7e70cac06a03"
      },
      "execution_count": null,
      "outputs": [
        {
          "output_type": "stream",
          "name": "stdout",
          "text": [
            "Collecting biopython\n",
            "  Downloading biopython-1.84-cp310-cp310-manylinux_2_17_x86_64.manylinux2014_x86_64.whl.metadata (12 kB)\n",
            "Requirement already satisfied: numpy in /usr/local/lib/python3.10/dist-packages (from biopython) (1.26.4)\n",
            "Downloading biopython-1.84-cp310-cp310-manylinux_2_17_x86_64.manylinux2014_x86_64.whl (3.2 MB)\n",
            "\u001b[2K   \u001b[90m━━━━━━━━━━━━━━━━━━━━━━━━━━━━━━━━━━━━━━━━\u001b[0m \u001b[32m3.2/3.2 MB\u001b[0m \u001b[31m38.9 MB/s\u001b[0m eta \u001b[36m0:00:00\u001b[0m\n",
            "\u001b[?25hInstalling collected packages: biopython\n",
            "Successfully installed biopython-1.84\n"
          ]
        }
      ]
    },
    {
      "cell_type": "markdown",
      "source": [
        "#### Conda"
      ],
      "metadata": {
        "id": "B1Og3DfHeGvP"
      }
    },
    {
      "cell_type": "code",
      "source": [
        "!wget https://repo.anaconda.com/miniconda/Miniconda3-latest-Linux-x86_64.sh"
      ],
      "metadata": {
        "colab": {
          "base_uri": "https://localhost:8080/"
        },
        "id": "hQGi6NSUCFiA",
        "outputId": "f9afc0f3-abf5-4bfe-fd81-d10eb672463f"
      },
      "execution_count": null,
      "outputs": [
        {
          "output_type": "stream",
          "name": "stdout",
          "text": [
            "--2024-09-12 19:54:22--  https://repo.anaconda.com/miniconda/Miniconda3-latest-Linux-x86_64.sh\n",
            "Resolving repo.anaconda.com (repo.anaconda.com)... 104.16.32.241, 104.16.191.158, 2606:4700::6810:20f1, ...\n",
            "Connecting to repo.anaconda.com (repo.anaconda.com)|104.16.32.241|:443... connected.\n",
            "HTTP request sent, awaiting response... 200 OK\n",
            "Length: 148981743 (142M) [application/octet-stream]\n",
            "Saving to: ‘Miniconda3-latest-Linux-x86_64.sh’\n",
            "\n",
            "Miniconda3-latest-L 100%[===================>] 142.08M   177MB/s    in 0.8s    \n",
            "\n",
            "2024-09-12 19:54:23 (177 MB/s) - ‘Miniconda3-latest-Linux-x86_64.sh’ saved [148981743/148981743]\n",
            "\n"
          ]
        }
      ]
    },
    {
      "cell_type": "code",
      "source": [
        "!bash Miniconda3-latest-Linux-x86_64.sh -bfp /usr/local"
      ],
      "metadata": {
        "colab": {
          "base_uri": "https://localhost:8080/"
        },
        "id": "tZWhTlzACgqP",
        "outputId": "757cb60a-3f13-401f-f503-f9a9f39f78cd"
      },
      "execution_count": null,
      "outputs": [
        {
          "output_type": "stream",
          "name": "stdout",
          "text": [
            "PREFIX=/usr/local\n",
            "Unpacking payload ...\n",
            "\n",
            "Installing base environment...\n",
            "\n",
            "Preparing transaction: ...working... done\n",
            "Executing transaction: ...working... done\n",
            "installation finished.\n",
            "WARNING:\n",
            "    You currently have a PYTHONPATH environment variable set. This may cause\n",
            "    unexpected behavior when running the Python interpreter in Miniconda3.\n",
            "    For best results, please verify that your PYTHONPATH only points to\n",
            "    directories of packages that are compatible with the Python interpreter\n",
            "    in Miniconda3: /usr/local\n"
          ]
        }
      ]
    },
    {
      "cell_type": "code",
      "source": [
        "!conda update conda -y -q\n",
        "!source /usr/local/etc/profile.d/conda.sh\n",
        "!conda init\n",
        "!conda install -n root _license -y -q"
      ],
      "metadata": {
        "colab": {
          "base_uri": "https://localhost:8080/"
        },
        "id": "U10-NqNSCyAu",
        "outputId": "adfe6697-9e5b-4463-f5d0-cdf7270679ee"
      },
      "execution_count": null,
      "outputs": [
        {
          "output_type": "stream",
          "name": "stdout",
          "text": [
            "Channels:\n",
            " - defaults\n",
            "Platform: linux-64\n",
            "Collecting package metadata (repodata.json): ...working... done\n",
            "Solving environment: ...working... done\n",
            "\n",
            "## Package Plan ##\n",
            "\n",
            "  environment location: /usr/local\n",
            "\n",
            "  added / updated specs:\n",
            "    - conda\n",
            "\n",
            "\n",
            "The following packages will be downloaded:\n",
            "\n",
            "    package                    |            build\n",
            "    ---------------------------|-----------------\n",
            "    certifi-2024.8.30          |  py312h06a4308_0         163 KB\n",
            "    openssl-3.0.15             |       h5eee18b_0         5.2 MB\n",
            "    ------------------------------------------------------------\n",
            "                                           Total:         5.4 MB\n",
            "\n",
            "The following packages will be UPDATED:\n",
            "\n",
            "  certifi                          2024.7.4-py312h06a4308_0 --> 2024.8.30-py312h06a4308_0 \n",
            "  openssl                                 3.0.14-h5eee18b_0 --> 3.0.15-h5eee18b_0 \n",
            "\n",
            "\n",
            "Preparing transaction: ...working... done\n",
            "Verifying transaction: ...working... done\n",
            "Executing transaction: ...working... done\n",
            "no change     /usr/local/condabin/conda\n",
            "no change     /usr/local/bin/conda\n",
            "no change     /usr/local/bin/conda-env\n",
            "no change     /usr/local/bin/activate\n",
            "no change     /usr/local/bin/deactivate\n",
            "no change     /usr/local/etc/profile.d/conda.sh\n",
            "no change     /usr/local/etc/fish/conf.d/conda.fish\n",
            "no change     /usr/local/shell/condabin/Conda.psm1\n",
            "no change     /usr/local/shell/condabin/conda-hook.ps1\n",
            "no change     /usr/local/lib/python3.12/site-packages/xontrib/conda.xsh\n",
            "no change     /usr/local/etc/profile.d/conda.csh\n",
            "modified      /root/.bashrc\n",
            "\n",
            "==> For changes to take effect, close and re-open your current shell. <==\n",
            "\n",
            "Channels:\n",
            " - defaults\n",
            "Platform: linux-64\n",
            "Collecting package metadata (repodata.json): ...working... done\n",
            "Solving environment: ...working... failed\n",
            "\n",
            "PackagesNotFoundError: The following packages are not available from current channels:\n",
            "\n",
            "  - _license\n",
            "\n",
            "Current channels:\n",
            "\n",
            "  - defaults\n",
            "\n",
            "To search for alternate channels that may provide the conda package you're\n",
            "looking for, navigate to\n",
            "\n",
            "    https://anaconda.org\n",
            "\n",
            "and use the search bar at the top of the page.\n",
            "\n",
            "\n"
          ]
        }
      ]
    },
    {
      "cell_type": "code",
      "source": [
        "!conda --version"
      ],
      "metadata": {
        "colab": {
          "base_uri": "https://localhost:8080/"
        },
        "id": "MtyHWO1rBhrr",
        "outputId": "5910cf93-d878-479a-e656-13f362cf1586"
      },
      "execution_count": null,
      "outputs": [
        {
          "output_type": "stream",
          "name": "stdout",
          "text": [
            "conda 24.7.1\n"
          ]
        }
      ]
    },
    {
      "cell_type": "markdown",
      "source": [
        "#### NCBI-CLI"
      ],
      "metadata": {
        "id": "qz7Q9j2-rVLH"
      }
    },
    {
      "cell_type": "code",
      "source": [
        "! conda install -c conda-forge ncbi-datasets-cli -y"
      ],
      "metadata": {
        "id": "IXcSUgkYp-IZ"
      },
      "execution_count": null,
      "outputs": []
    },
    {
      "cell_type": "markdown",
      "source": [
        "#### BLAST"
      ],
      "metadata": {
        "id": "QbGjbNFMRsEj"
      }
    },
    {
      "cell_type": "code",
      "source": [
        "! conda install bioconda::blast -y"
      ],
      "metadata": {
        "id": "DyY8hYi_RrUo"
      },
      "execution_count": null,
      "outputs": []
    },
    {
      "cell_type": "markdown",
      "source": [
        "## Download coding sequences"
      ],
      "metadata": {
        "id": "4fQZCAr_eqsN"
      }
    },
    {
      "cell_type": "code",
      "source": [
        "import pandas as pd\n",
        "import subprocess\n",
        "import os",
      ],
      "metadata": {
        "id": "e8Cpyz7I6Fj4"
      },
      "execution_count": null,
      "outputs": []
    },
    {
      "cell_type": "code",
      "source": [
        "df = pd.read_excel('Assemblies_Team_Montes_de_Oca.xlsx', index_col = 0)"
      ],
      "metadata": {
        "id": "gljUkLKr6YgD"
      },
      "execution_count": null,
      "outputs": []
    },
    {
      "cell_type": "code",
      "source": [
        "df.head(3)"
      ],
      "metadata": {
        "colab": {
          "base_uri": "https://localhost:8080/",
          "height": 143
        },
        "id": "BsOtK9zi6Y_y",
        "outputId": "0f36f942-609d-4495-c8a4-7458a55fc9e6"
      },
      "execution_count": null,
      "outputs": [
        {
          "output_type": "execute_result",
          "data": {
            "text/plain": [
              "    BiosampleID          Organism Antibiotic Resistance Phenotype  \\\n",
              "0  SAMN05729964  Escherichia coli  ertapenem          susceptible   \n",
              "1  SAMN10620111  Escherichia coli  ertapenem          susceptible   \n",
              "2  SAMN10620168  Escherichia coli  ertapenem          susceptible   \n",
              "\n",
              "        AssemblyID  \n",
              "0  GCA_001747365.2  \n",
              "1  GCA_004567165.1  \n",
              "2  GCA_004567315.1  "
            ],
            "text/html": [
              "\n",
              "  <div id=\"df-9e6506c5-cff4-4e3a-84a4-ceac54eea41b\" class=\"colab-df-container\">\n",
              "    <div>\n",
              "<style scoped>\n",
              "    .dataframe tbody tr th:only-of-type {\n",
              "        vertical-align: middle;\n",
              "    }\n",
              "\n",
              "    .dataframe tbody tr th {\n",
              "        vertical-align: top;\n",
              "    }\n",
              "\n",
              "    .dataframe thead th {\n",
              "        text-align: right;\n",
              "    }\n",
              "</style>\n",
              "<table border=\"1\" class=\"dataframe\">\n",
              "  <thead>\n",
              "    <tr style=\"text-align: right;\">\n",
              "      <th></th>\n",
              "      <th>BiosampleID</th>\n",
              "      <th>Organism</th>\n",
              "      <th>Antibiotic</th>\n",
              "      <th>Resistance Phenotype</th>\n",
              "      <th>AssemblyID</th>\n",
              "    </tr>\n",
              "  </thead>\n",
              "  <tbody>\n",
              "    <tr>\n",
              "      <th>0</th>\n",
              "      <td>SAMN05729964</td>\n",
              "      <td>Escherichia coli</td>\n",
              "      <td>ertapenem</td>\n",
              "      <td>susceptible</td>\n",
              "      <td>GCA_001747365.2</td>\n",
              "    </tr>\n",
              "    <tr>\n",
              "      <th>1</th>\n",
              "      <td>SAMN10620111</td>\n",
              "      <td>Escherichia coli</td>\n",
              "      <td>ertapenem</td>\n",
              "      <td>susceptible</td>\n",
              "      <td>GCA_004567165.1</td>\n",
              "    </tr>\n",
              "    <tr>\n",
              "      <th>2</th>\n",
              "      <td>SAMN10620168</td>\n",
              "      <td>Escherichia coli</td>\n",
              "      <td>ertapenem</td>\n",
              "      <td>susceptible</td>\n",
              "      <td>GCA_004567315.1</td>\n",
              "    </tr>\n",
              "  </tbody>\n",
              "</table>\n",
              "</div>\n",
              "    <div class=\"colab-df-buttons\">\n",
              "\n",
              "  <div class=\"colab-df-container\">\n",
              "    <button class=\"colab-df-convert\" onclick=\"convertToInteractive('df-9e6506c5-cff4-4e3a-84a4-ceac54eea41b')\"\n",
              "            title=\"Convert this dataframe to an interactive table.\"\n",
              "            style=\"display:none;\">\n",
              "\n",
              "  <svg xmlns=\"http://www.w3.org/2000/svg\" height=\"24px\" viewBox=\"0 -960 960 960\">\n",
              "    <path d=\"M120-120v-720h720v720H120Zm60-500h600v-160H180v160Zm220 220h160v-160H400v160Zm0 220h160v-160H400v160ZM180-400h160v-160H180v160Zm440 0h160v-160H620v160ZM180-180h160v-160H180v160Zm440 0h160v-160H620v160Z\"/>\n",
              "  </svg>\n",
              "    </button>\n",
              "\n",
              "  <style>\n",
              "    .colab-df-container {\n",
              "      display:flex;\n",
              "      gap: 12px;\n",
              "    }\n",
              "\n",
              "    .colab-df-convert {\n",
              "      background-color: #E8F0FE;\n",
              "      border: none;\n",
              "      border-radius: 50%;\n",
              "      cursor: pointer;\n",
              "      display: none;\n",
              "      fill: #1967D2;\n",
              "      height: 32px;\n",
              "      padding: 0 0 0 0;\n",
              "      width: 32px;\n",
              "    }\n",
              "\n",
              "    .colab-df-convert:hover {\n",
              "      background-color: #E2EBFA;\n",
              "      box-shadow: 0px 1px 2px rgba(60, 64, 67, 0.3), 0px 1px 3px 1px rgba(60, 64, 67, 0.15);\n",
              "      fill: #174EA6;\n",
              "    }\n",
              "\n",
              "    .colab-df-buttons div {\n",
              "      margin-bottom: 4px;\n",
              "    }\n",
              "\n",
              "    [theme=dark] .colab-df-convert {\n",
              "      background-color: #3B4455;\n",
              "      fill: #D2E3FC;\n",
              "    }\n",
              "\n",
              "    [theme=dark] .colab-df-convert:hover {\n",
              "      background-color: #434B5C;\n",
              "      box-shadow: 0px 1px 3px 1px rgba(0, 0, 0, 0.15);\n",
              "      filter: drop-shadow(0px 1px 2px rgba(0, 0, 0, 0.3));\n",
              "      fill: #FFFFFF;\n",
              "    }\n",
              "  </style>\n",
              "\n",
              "    <script>\n",
              "      const buttonEl =\n",
              "        document.querySelector('#df-9e6506c5-cff4-4e3a-84a4-ceac54eea41b button.colab-df-convert');\n",
              "      buttonEl.style.display =\n",
              "        google.colab.kernel.accessAllowed ? 'block' : 'none';\n",
              "\n",
              "      async function convertToInteractive(key) {\n",
              "        const element = document.querySelector('#df-9e6506c5-cff4-4e3a-84a4-ceac54eea41b');\n",
              "        const dataTable =\n",
              "          await google.colab.kernel.invokeFunction('convertToInteractive',\n",
              "                                                    [key], {});\n",
              "        if (!dataTable) return;\n",
              "\n",
              "        const docLinkHtml = 'Like what you see? Visit the ' +\n",
              "          '<a target=\"_blank\" href=https://colab.research.google.com/notebooks/data_table.ipynb>data table notebook</a>'\n",
              "          + ' to learn more about interactive tables.';\n",
              "        element.innerHTML = '';\n",
              "        dataTable['output_type'] = 'display_data';\n",
              "        await google.colab.output.renderOutput(dataTable, element);\n",
              "        const docLink = document.createElement('div');\n",
              "        docLink.innerHTML = docLinkHtml;\n",
              "        element.appendChild(docLink);\n",
              "      }\n",
              "    </script>\n",
              "  </div>\n",
              "\n",
              "\n",
              "<div id=\"df-f106ceaf-4d02-48e1-906f-c3fdc8505390\">\n",
              "  <button class=\"colab-df-quickchart\" onclick=\"quickchart('df-f106ceaf-4d02-48e1-906f-c3fdc8505390')\"\n",
              "            title=\"Suggest charts\"\n",
              "            style=\"display:none;\">\n",
              "\n",
              "<svg xmlns=\"http://www.w3.org/2000/svg\" height=\"24px\"viewBox=\"0 0 24 24\"\n",
              "     width=\"24px\">\n",
              "    <g>\n",
              "        <path d=\"M19 3H5c-1.1 0-2 .9-2 2v14c0 1.1.9 2 2 2h14c1.1 0 2-.9 2-2V5c0-1.1-.9-2-2-2zM9 17H7v-7h2v7zm4 0h-2V7h2v10zm4 0h-2v-4h2v4z\"/>\n",
              "    </g>\n",
              "</svg>\n",
              "  </button>\n",
              "\n",
              "<style>\n",
              "  .colab-df-quickchart {\n",
              "      --bg-color: #E8F0FE;\n",
              "      --fill-color: #1967D2;\n",
              "      --hover-bg-color: #E2EBFA;\n",
              "      --hover-fill-color: #174EA6;\n",
              "      --disabled-fill-color: #AAA;\n",
              "      --disabled-bg-color: #DDD;\n",
              "  }\n",
              "\n",
              "  [theme=dark] .colab-df-quickchart {\n",
              "      --bg-color: #3B4455;\n",
              "      --fill-color: #D2E3FC;\n",
              "      --hover-bg-color: #434B5C;\n",
              "      --hover-fill-color: #FFFFFF;\n",
              "      --disabled-bg-color: #3B4455;\n",
              "      --disabled-fill-color: #666;\n",
              "  }\n",
              "\n",
              "  .colab-df-quickchart {\n",
              "    background-color: var(--bg-color);\n",
              "    border: none;\n",
              "    border-radius: 50%;\n",
              "    cursor: pointer;\n",
              "    display: none;\n",
              "    fill: var(--fill-color);\n",
              "    height: 32px;\n",
              "    padding: 0;\n",
              "    width: 32px;\n",
              "  }\n",
              "\n",
              "  .colab-df-quickchart:hover {\n",
              "    background-color: var(--hover-bg-color);\n",
              "    box-shadow: 0 1px 2px rgba(60, 64, 67, 0.3), 0 1px 3px 1px rgba(60, 64, 67, 0.15);\n",
              "    fill: var(--button-hover-fill-color);\n",
              "  }\n",
              "\n",
              "  .colab-df-quickchart-complete:disabled,\n",
              "  .colab-df-quickchart-complete:disabled:hover {\n",
              "    background-color: var(--disabled-bg-color);\n",
              "    fill: var(--disabled-fill-color);\n",
              "    box-shadow: none;\n",
              "  }\n",
              "\n",
              "  .colab-df-spinner {\n",
              "    border: 2px solid var(--fill-color);\n",
              "    border-color: transparent;\n",
              "    border-bottom-color: var(--fill-color);\n",
              "    animation:\n",
              "      spin 1s steps(1) infinite;\n",
              "  }\n",
              "\n",
              "  @keyframes spin {\n",
              "    0% {\n",
              "      border-color: transparent;\n",
              "      border-bottom-color: var(--fill-color);\n",
              "      border-left-color: var(--fill-color);\n",
              "    }\n",
              "    20% {\n",
              "      border-color: transparent;\n",
              "      border-left-color: var(--fill-color);\n",
              "      border-top-color: var(--fill-color);\n",
              "    }\n",
              "    30% {\n",
              "      border-color: transparent;\n",
              "      border-left-color: var(--fill-color);\n",
              "      border-top-color: var(--fill-color);\n",
              "      border-right-color: var(--fill-color);\n",
              "    }\n",
              "    40% {\n",
              "      border-color: transparent;\n",
              "      border-right-color: var(--fill-color);\n",
              "      border-top-color: var(--fill-color);\n",
              "    }\n",
              "    60% {\n",
              "      border-color: transparent;\n",
              "      border-right-color: var(--fill-color);\n",
              "    }\n",
              "    80% {\n",
              "      border-color: transparent;\n",
              "      border-right-color: var(--fill-color);\n",
              "      border-bottom-color: var(--fill-color);\n",
              "    }\n",
              "    90% {\n",
              "      border-color: transparent;\n",
              "      border-bottom-color: var(--fill-color);\n",
              "    }\n",
              "  }\n",
              "</style>\n",
              "\n",
              "  <script>\n",
              "    async function quickchart(key) {\n",
              "      const quickchartButtonEl =\n",
              "        document.querySelector('#' + key + ' button');\n",
              "      quickchartButtonEl.disabled = true;  // To prevent multiple clicks.\n",
              "      quickchartButtonEl.classList.add('colab-df-spinner');\n",
              "      try {\n",
              "        const charts = await google.colab.kernel.invokeFunction(\n",
              "            'suggestCharts', [key], {});\n",
              "      } catch (error) {\n",
              "        console.error('Error during call to suggestCharts:', error);\n",
              "      }\n",
              "      quickchartButtonEl.classList.remove('colab-df-spinner');\n",
              "      quickchartButtonEl.classList.add('colab-df-quickchart-complete');\n",
              "    }\n",
              "    (() => {\n",
              "      let quickchartButtonEl =\n",
              "        document.querySelector('#df-f106ceaf-4d02-48e1-906f-c3fdc8505390 button');\n",
              "      quickchartButtonEl.style.display =\n",
              "        google.colab.kernel.accessAllowed ? 'block' : 'none';\n",
              "    })();\n",
              "  </script>\n",
              "</div>\n",
              "\n",
              "    </div>\n",
              "  </div>\n"
            ],
            "application/vnd.google.colaboratory.intrinsic+json": {
              "type": "dataframe",
              "variable_name": "df",
              "summary": "{\n  \"name\": \"df\",\n  \"rows\": 163,\n  \"fields\": [\n    {\n      \"column\": \"BiosampleID\",\n      \"properties\": {\n        \"dtype\": \"string\",\n        \"num_unique_values\": 162,\n        \"samples\": [\n          \"SAMN23219802\",\n          \"SAMN04122807\",\n          \"SAMN31087255\"\n        ],\n        \"semantic_type\": \"\",\n        \"description\": \"\"\n      }\n    },\n    {\n      \"column\": \"Organism\",\n      \"properties\": {\n        \"dtype\": \"category\",\n        \"num_unique_values\": 1,\n        \"samples\": [\n          \"Escherichia coli\"\n        ],\n        \"semantic_type\": \"\",\n        \"description\": \"\"\n      }\n    },\n    {\n      \"column\": \"Antibiotic\",\n      \"properties\": {\n        \"dtype\": \"category\",\n        \"num_unique_values\": 1,\n        \"samples\": [\n          \"ertapenem\"\n        ],\n        \"semantic_type\": \"\",\n        \"description\": \"\"\n      }\n    },\n    {\n      \"column\": \"Resistance Phenotype\",\n      \"properties\": {\n        \"dtype\": \"category\",\n        \"num_unique_values\": 2,\n        \"samples\": [\n          \"resistant\"\n        ],\n        \"semantic_type\": \"\",\n        \"description\": \"\"\n      }\n    },\n    {\n      \"column\": \"AssemblyID\",\n      \"properties\": {\n        \"dtype\": \"string\",\n        \"num_unique_values\": 162,\n        \"samples\": [\n          \"GCA_020985225.1\"\n        ],\n        \"semantic_type\": \"\",\n        \"description\": \"\"\n      }\n    }\n  ]\n}"
            }
          },
          "metadata": {},
          "execution_count": 11
        }
      ]
    },
    {
      "cell_type": "code",
      "source": [
        "df.shape"
      ],
      "metadata": {
        "id": "iRuW6iRYZ5sH",
        "outputId": "2e53cb3e-e7be-421e-90de-04f50486b5b6",
        "colab": {
          "base_uri": "https://localhost:8080/"
        }
      },
      "execution_count": null,
      "outputs": [
        {
          "output_type": "execute_result",
          "data": {
            "text/plain": [
              "(163, 5)"
            ]
          },
          "metadata": {},
          "execution_count": 12
        }
      ]
    },
    {
      "cell_type": "code",
      "source": [
        "! mkdir cds_files"
      ],
      "metadata": {
        "id": "LRsQKGtzkpOh"
      },
      "execution_count": null,
      "outputs": []
    },
    {
      "cell_type": "code",
      "source": [
        "! mkdir ./coding_sequences"
      ],
      "metadata": {
        "id": "9Ea02oSRO20f"
      },
      "execution_count": null,
      "outputs": []
    },
    {
      "cell_type": "code",
      "source": [
        "for i in range(len(df['AssemblyID'].values)):\n",
        "    assemblyid = df['AssemblyID'].values[i]\n",
        "    subprocess.run(f'datasets download genome accession {assemblyid} --filename ./cds_files/{assemblyid}.zip --annotated --include cds', shell=True)\n",
        "    subprocess.run(f'unzip ./cds_files/{assemblyid}.zip -d ./cds_files/{assemblyid}', shell=True)\n",
        "    subprocess.run(f'mv ./cds_files/{assemblyid}/ncbi_dataset/data/{assemblyid}/cds_from_genomic.fna ./coding_sequences/cds_{assemblyid}.fasta', shell=True)\n",
        "    subprocess.run(f'rm ./cds_files/{assemblyid}.zip', shell=True)"
      ],
      "metadata": {
        "id": "9hpROWlTLTbv"
      },
      "execution_count": null,
      "outputs": []
    },
    {
      "cell_type": "markdown",
      "source": [
        "## Download IS database"
      ],
      "metadata": {
        "id": "ZybBxPkSRaPr"
      }
    },
    {
      "cell_type": "code",
      "source": [
        "! wget https://github.com/thanhleviet/ISfinder-sequences/raw/master/IS.fna"
      ],
      "metadata": {
        "colab": {
          "base_uri": "https://localhost:8080/"
        },
        "id": "Ibqt0WyjPkdv",
        "outputId": "b732de88-e6b7-482a-b4da-4bca957f89bf"
      },
      "execution_count": null,
      "outputs": [
        {
          "output_type": "stream",
          "name": "stdout",
          "text": [
            "--2024-09-12 19:59:07--  https://github.com/thanhleviet/ISfinder-sequences/raw/master/IS.fna\n",
            "Resolving github.com (github.com)... 140.82.112.4\n",
            "Connecting to github.com (github.com)|140.82.112.4|:443... connected.\n",
            "HTTP request sent, awaiting response... 302 Found\n",
            "Location: https://raw.githubusercontent.com/thanhleviet/ISfinder-sequences/master/IS.fna [following]\n",
            "--2024-09-12 19:59:08--  https://raw.githubusercontent.com/thanhleviet/ISfinder-sequences/master/IS.fna\n",
            "Resolving raw.githubusercontent.com (raw.githubusercontent.com)... 185.199.109.133, 185.199.108.133, 185.199.111.133, ...\n",
            "Connecting to raw.githubusercontent.com (raw.githubusercontent.com)|185.199.109.133|:443... connected.\n",
            "HTTP request sent, awaiting response... 200 OK\n",
            "Length: 8697930 (8.3M) [text/plain]\n",
            "Saving to: ‘IS.fna’\n",
            "\n",
            "IS.fna              100%[===================>]   8.29M  --.-KB/s    in 0.04s   \n",
            "\n",
            "2024-09-12 19:59:08 (221 MB/s) - ‘IS.fna’ saved [8697930/8697930]\n",
            "\n"
          ]
        }
      ]
    },
    {
      "cell_type": "code",
      "source": [
        "! makeblastdb -dbtype nucl -in IS.fna"
      ],
      "metadata": {
        "colab": {
          "base_uri": "https://localhost:8080/"
        },
        "id": "_6rpcnuvTm91",
        "outputId": "83a656d3-3780-495f-e4dc-3c1de1918906"
      },
      "execution_count": null,
      "outputs": [
        {
          "output_type": "stream",
          "name": "stdout",
          "text": [
            "\n",
            "\n",
            "Building a new DB, current time: 09/12/2024 19:59:13\n",
            "New DB name:   /content/IS.fna\n",
            "New DB title:  IS.fna\n",
            "Sequence type: Nucleotide\n",
            "Keep MBits: T\n",
            "Maximum file size: 3000000000B\n",
            "Adding sequences from FASTA; added 5970 sequences in 0.205369 seconds.\n",
            "\n",
            "\n"
          ]
        }
      ]
    },
    {
      "cell_type": "markdown",
      "source": [
        "## Download CARD database"
      ],
      "metadata": {
        "id": "VXzwV8zjZYzR"
      }
    },
    {
      "cell_type": "code",
      "source": [
        "! wget https://card.mcmaster.ca/download/0/broadstreet-v3.3.0.tar.bz2"
      ],
      "metadata": {
        "colab": {
          "base_uri": "https://localhost:8080/"
        },
        "id": "U7vuTwLqZfdC",
        "outputId": "df197cf9-7de2-43f6-91ca-bbe3e9c96a04"
      },
      "execution_count": null,
      "outputs": [
        {
          "output_type": "stream",
          "name": "stdout",
          "text": [
            "--2024-09-12 19:59:16--  https://card.mcmaster.ca/download/0/broadstreet-v3.3.0.tar.bz2\n",
            "Resolving card.mcmaster.ca (card.mcmaster.ca)... 130.113.77.126\n",
            "Connecting to card.mcmaster.ca (card.mcmaster.ca)|130.113.77.126|:443... connected.\n",
            "HTTP request sent, awaiting response... 200 OK\n",
            "Length: 4008812 (3.8M) [application/x-bzip2]\n",
            "Saving to: ‘broadstreet-v3.3.0.tar.bz2’\n",
            "\n",
            "broadstreet-v3.3.0. 100%[===================>]   3.82M  22.9MB/s    in 0.2s    \n",
            "\n",
            "2024-09-12 19:59:17 (22.9 MB/s) - ‘broadstreet-v3.3.0.tar.bz2’ saved [4008812/4008812]\n",
            "\n"
          ]
        }
      ]
    },
    {
      "cell_type": "code",
      "source": [
        "! tar -xvjf broadstreet-v3.3.0.tar.bz2"
      ],
      "metadata": {
        "colab": {
          "base_uri": "https://localhost:8080/"
        },
        "id": "NIRqLNTLb_YA",
        "outputId": "449b90d6-9670-4e15-cfa4-a5088ca9c69f"
      },
      "execution_count": null,
      "outputs": [
        {
          "output_type": "stream",
          "name": "stdout",
          "text": [
            "./\n",
            "./aro_categories.tsv\n",
            "./protein_fasta_protein_homolog_model.fasta\n",
            "./nucleotide_fasta_protein_homolog_model.fasta\n",
            "./protein_fasta_protein_overexpression_model.fasta\n",
            "./shortname_antibiotics.tsv\n",
            "./nucleotide_fasta_protein_overexpression_model.fasta\n",
            "./shortname_pathogens.tsv\n",
            "./protein_fasta_protein_knockout_model.fasta\n",
            "./aro_index.tsv\n",
            "./nucleotide_fasta_protein_variant_model.fasta\n",
            "./protein_fasta_protein_variant_model.fasta\n",
            "./CARD-Download-README.txt\n",
            "./aro_categories_index.tsv\n",
            "./card.json\n",
            "./nucleotide_fasta_rRNA_gene_variant_model.fasta\n",
            "./nucleotide_fasta_protein_knockout_model.fasta\n",
            "./snps.txt\n"
          ]
        }
      ]
    },
    {
      "cell_type": "code",
      "source": [
        "! makeblastdb -dbtype nucl -in nucleotide_fasta_protein_homolog_model.fasta"
      ],
      "metadata": {
        "colab": {
          "base_uri": "https://localhost:8080/"
        },
        "id": "_jPcTnkVfIKz",
        "outputId": "1216d5f2-ea9c-4011-8dc4-fe44664095c9"
      },
      "execution_count": null,
      "outputs": [
        {
          "output_type": "stream",
          "name": "stdout",
          "text": [
            "\n",
            "\n",
            "Building a new DB, current time: 09/12/2024 19:59:26\n",
            "New DB name:   /content/nucleotide_fasta_protein_homolog_model.fasta\n",
            "New DB title:  nucleotide_fasta_protein_homolog_model.fasta\n",
            "Sequence type: Nucleotide\n",
            "Keep MBits: T\n",
            "Maximum file size: 3000000000B\n",
            "Adding sequences from FASTA; added 4840 sequences in 0.240621 seconds.\n",
            "\n",
            "\n"
          ]
        }
      ]
    },
    {
      "cell_type": "code",
      "source": [
        "! wget https://card.mcmaster.ca/download/5/ontology-v3.3.0.tar.bz2"
      ],
      "metadata": {
        "colab": {
          "base_uri": "https://localhost:8080/"
        },
        "id": "ftsbNnj_8hFO",
        "outputId": "a247b01b-dfc5-48c0-c9f3-750262be3ad1"
      },
      "execution_count": null,
      "outputs": [
        {
          "output_type": "stream",
          "name": "stdout",
          "text": [
            "--2024-09-12 20:32:30--  https://card.mcmaster.ca/download/5/ontology-v3.3.0.tar.bz2\n",
            "Resolving card.mcmaster.ca (card.mcmaster.ca)... 130.113.77.126\n",
            "Connecting to card.mcmaster.ca (card.mcmaster.ca)|130.113.77.126|:443... connected.\n",
            "HTTP request sent, awaiting response... 200 OK\n",
            "Length: 1001109 (978K) [application/x-bzip2]\n",
            "Saving to: ‘ontology-v3.3.0.tar.bz2’\n",
            "\n",
            "ontology-v3.3.0.tar 100%[===================>] 977.65K  --.-KB/s    in 0.1s    \n",
            "\n",
            "2024-09-12 20:32:31 (8.15 MB/s) - ‘ontology-v3.3.0.tar.bz2’ saved [1001109/1001109]\n",
            "\n"
          ]
        }
      ]
    },
    {
      "cell_type": "code",
      "source": [
        "! tar -xvjf ontology-v3.3.0.tar.bz2"
      ],
      "metadata": {
        "id": "YbrKXs0j8nPp"
      },
      "execution_count": null,
      "outputs": []
    },
    {
      "cell_type": "code",
      "source": [
        "card_df = pd.read_csv('aro_index.tsv', sep = '\\t', header = 0)"
      ],
      "metadata": {
        "id": "6GrtX-y_9iw4"
      },
      "execution_count": null,
      "outputs": []
    },
    {
      "cell_type": "code",
      "source": [
        "card_df.head(1)"
      ],
      "metadata": {
        "colab": {
          "base_uri": "https://localhost:8080/",
          "height": 150
        },
        "id": "RrQvwuBb-FqR",
        "outputId": "5f88bbbd-69a4-454b-bcf8-b1fd36433257"
      },
      "execution_count": null,
      "outputs": [
        {
          "output_type": "execute_result",
          "data": {
            "text/plain": [
              "  ARO Accession  CVTERM ID  Model Sequence ID  Model ID  \\\n",
              "0   ARO:3005099      43314               6143      3831   \n",
              "\n",
              "                                          Model Name  \\\n",
              "0  23S rRNA (adenine(2058)-N(6))-methyltransferas...   \n",
              "\n",
              "                                            ARO Name Protein Accession  \\\n",
              "0  23S rRNA (adenine(2058)-N(6))-methyltransferas...        AAB60941.1   \n",
              "\n",
              "  DNA Accession                          AMR Gene Family  \\\n",
              "0    AF002716.1  Erm 23S ribosomal RNA methyltransferase   \n",
              "\n",
              "                                          Drug Class  \\\n",
              "0  lincosamide antibiotic;macrolide antibiotic;st...   \n",
              "\n",
              "           Resistance Mechanism CARD Short Name  \n",
              "0  antibiotic target alteration  Spyo_ErmA_MLSb  "
            ],
            "text/html": [
              "\n",
              "  <div id=\"df-ccea2b29-2165-4693-bf19-8ee1fb136cca\" class=\"colab-df-container\">\n",
              "    <div>\n",
              "<style scoped>\n",
              "    .dataframe tbody tr th:only-of-type {\n",
              "        vertical-align: middle;\n",
              "    }\n",
              "\n",
              "    .dataframe tbody tr th {\n",
              "        vertical-align: top;\n",
              "    }\n",
              "\n",
              "    .dataframe thead th {\n",
              "        text-align: right;\n",
              "    }\n",
              "</style>\n",
              "<table border=\"1\" class=\"dataframe\">\n",
              "  <thead>\n",
              "    <tr style=\"text-align: right;\">\n",
              "      <th></th>\n",
              "      <th>ARO Accession</th>\n",
              "      <th>CVTERM ID</th>\n",
              "      <th>Model Sequence ID</th>\n",
              "      <th>Model ID</th>\n",
              "      <th>Model Name</th>\n",
              "      <th>ARO Name</th>\n",
              "      <th>Protein Accession</th>\n",
              "      <th>DNA Accession</th>\n",
              "      <th>AMR Gene Family</th>\n",
              "      <th>Drug Class</th>\n",
              "      <th>Resistance Mechanism</th>\n",
              "      <th>CARD Short Name</th>\n",
              "    </tr>\n",
              "  </thead>\n",
              "  <tbody>\n",
              "    <tr>\n",
              "      <th>0</th>\n",
              "      <td>ARO:3005099</td>\n",
              "      <td>43314</td>\n",
              "      <td>6143</td>\n",
              "      <td>3831</td>\n",
              "      <td>23S rRNA (adenine(2058)-N(6))-methyltransferas...</td>\n",
              "      <td>23S rRNA (adenine(2058)-N(6))-methyltransferas...</td>\n",
              "      <td>AAB60941.1</td>\n",
              "      <td>AF002716.1</td>\n",
              "      <td>Erm 23S ribosomal RNA methyltransferase</td>\n",
              "      <td>lincosamide antibiotic;macrolide antibiotic;st...</td>\n",
              "      <td>antibiotic target alteration</td>\n",
              "      <td>Spyo_ErmA_MLSb</td>\n",
              "    </tr>\n",
              "  </tbody>\n",
              "</table>\n",
              "</div>\n",
              "    <div class=\"colab-df-buttons\">\n",
              "\n",
              "  <div class=\"colab-df-container\">\n",
              "    <button class=\"colab-df-convert\" onclick=\"convertToInteractive('df-ccea2b29-2165-4693-bf19-8ee1fb136cca')\"\n",
              "            title=\"Convert this dataframe to an interactive table.\"\n",
              "            style=\"display:none;\">\n",
              "\n",
              "  <svg xmlns=\"http://www.w3.org/2000/svg\" height=\"24px\" viewBox=\"0 -960 960 960\">\n",
              "    <path d=\"M120-120v-720h720v720H120Zm60-500h600v-160H180v160Zm220 220h160v-160H400v160Zm0 220h160v-160H400v160ZM180-400h160v-160H180v160Zm440 0h160v-160H620v160ZM180-180h160v-160H180v160Zm440 0h160v-160H620v160Z\"/>\n",
              "  </svg>\n",
              "    </button>\n",
              "\n",
              "  <style>\n",
              "    .colab-df-container {\n",
              "      display:flex;\n",
              "      gap: 12px;\n",
              "    }\n",
              "\n",
              "    .colab-df-convert {\n",
              "      background-color: #E8F0FE;\n",
              "      border: none;\n",
              "      border-radius: 50%;\n",
              "      cursor: pointer;\n",
              "      display: none;\n",
              "      fill: #1967D2;\n",
              "      height: 32px;\n",
              "      padding: 0 0 0 0;\n",
              "      width: 32px;\n",
              "    }\n",
              "\n",
              "    .colab-df-convert:hover {\n",
              "      background-color: #E2EBFA;\n",
              "      box-shadow: 0px 1px 2px rgba(60, 64, 67, 0.3), 0px 1px 3px 1px rgba(60, 64, 67, 0.15);\n",
              "      fill: #174EA6;\n",
              "    }\n",
              "\n",
              "    .colab-df-buttons div {\n",
              "      margin-bottom: 4px;\n",
              "    }\n",
              "\n",
              "    [theme=dark] .colab-df-convert {\n",
              "      background-color: #3B4455;\n",
              "      fill: #D2E3FC;\n",
              "    }\n",
              "\n",
              "    [theme=dark] .colab-df-convert:hover {\n",
              "      background-color: #434B5C;\n",
              "      box-shadow: 0px 1px 3px 1px rgba(0, 0, 0, 0.15);\n",
              "      filter: drop-shadow(0px 1px 2px rgba(0, 0, 0, 0.3));\n",
              "      fill: #FFFFFF;\n",
              "    }\n",
              "  </style>\n",
              "\n",
              "    <script>\n",
              "      const buttonEl =\n",
              "        document.querySelector('#df-ccea2b29-2165-4693-bf19-8ee1fb136cca button.colab-df-convert');\n",
              "      buttonEl.style.display =\n",
              "        google.colab.kernel.accessAllowed ? 'block' : 'none';\n",
              "\n",
              "      async function convertToInteractive(key) {\n",
              "        const element = document.querySelector('#df-ccea2b29-2165-4693-bf19-8ee1fb136cca');\n",
              "        const dataTable =\n",
              "          await google.colab.kernel.invokeFunction('convertToInteractive',\n",
              "                                                    [key], {});\n",
              "        if (!dataTable) return;\n",
              "\n",
              "        const docLinkHtml = 'Like what you see? Visit the ' +\n",
              "          '<a target=\"_blank\" href=https://colab.research.google.com/notebooks/data_table.ipynb>data table notebook</a>'\n",
              "          + ' to learn more about interactive tables.';\n",
              "        element.innerHTML = '';\n",
              "        dataTable['output_type'] = 'display_data';\n",
              "        await google.colab.output.renderOutput(dataTable, element);\n",
              "        const docLink = document.createElement('div');\n",
              "        docLink.innerHTML = docLinkHtml;\n",
              "        element.appendChild(docLink);\n",
              "      }\n",
              "    </script>\n",
              "  </div>\n",
              "\n",
              "\n",
              "    </div>\n",
              "  </div>\n"
            ],
            "application/vnd.google.colaboratory.intrinsic+json": {
              "type": "dataframe",
              "variable_name": "card_df",
              "summary": "{\n  \"name\": \"card_df\",\n  \"rows\": 5227,\n  \"fields\": [\n    {\n      \"column\": \"ARO Accession\",\n      \"properties\": {\n        \"dtype\": \"string\",\n        \"num_unique_values\": 5222,\n        \"samples\": [\n          \"ARO:3006433\",\n          \"ARO:3003445\",\n          \"ARO:3005061\"\n        ],\n        \"semantic_type\": \"\",\n        \"description\": \"\"\n      }\n    },\n    {\n      \"column\": \"CVTERM ID\",\n      \"properties\": {\n        \"dtype\": \"number\",\n        \"std\": 3044,\n        \"min\": 36014,\n        \"max\": 46629,\n        \"num_unique_values\": 5222,\n        \"samples\": [\n          44895,\n          40038,\n          43265\n        ],\n        \"semantic_type\": \"\",\n        \"description\": \"\"\n      }\n    },\n    {\n      \"column\": \"Model Sequence ID\",\n      \"properties\": {\n        \"dtype\": \"number\",\n        \"std\": 2791,\n        \"min\": 1,\n        \"max\": 8887,\n        \"num_unique_values\": 5227,\n        \"samples\": [\n          7170,\n          7282,\n          1712\n        ],\n        \"semantic_type\": \"\",\n        \"description\": \"\"\n      }\n    },\n    {\n      \"column\": \"Model ID\",\n      \"properties\": {\n        \"dtype\": \"number\",\n        \"std\": 1858,\n        \"min\": 1,\n        \"max\": 6063,\n        \"num_unique_values\": 5227,\n        \"samples\": [\n          4795,\n          4907,\n          1080\n        ],\n        \"semantic_type\": \"\",\n        \"description\": \"\"\n      }\n    },\n    {\n      \"column\": \"Model Name\",\n      \"properties\": {\n        \"dtype\": \"string\",\n        \"num_unique_values\": 5222,\n        \"samples\": [\n          \"ADC-53\",\n          \"Mycobacterium tuberculosis tlyA mutations conferring resistance to aminoglycosides\",\n          \"AAC(3)-IVb\"\n        ],\n        \"semantic_type\": \"\",\n        \"description\": \"\"\n      }\n    },\n    {\n      \"column\": \"ARO Name\",\n      \"properties\": {\n        \"dtype\": \"string\",\n        \"num_unique_values\": 5222,\n        \"samples\": [\n          \"ADC-53\",\n          \"Mycobacterium tuberculosis tlyA mutations conferring resistance to aminoglycosides\",\n          \"AAC(3)-IVb\"\n        ],\n        \"semantic_type\": \"\",\n        \"description\": \"\"\n      }\n    },\n    {\n      \"column\": \"Protein Accession\",\n      \"properties\": {\n        \"dtype\": \"string\",\n        \"num_unique_values\": 5107,\n        \"samples\": [\n          \"ABC17628.1\",\n          \"ADF62940.1\",\n          \"APY23841.1\"\n        ],\n        \"semantic_type\": \"\",\n        \"description\": \"\"\n      }\n    },\n    {\n      \"column\": \"DNA Accession\",\n      \"properties\": {\n        \"dtype\": \"string\",\n        \"num_unique_values\": 4773,\n        \"samples\": [\n          \"EF614235.1\",\n          \"EU675686.1\",\n          \"EU118148.2\"\n        ],\n        \"semantic_type\": \"\",\n        \"description\": \"\"\n      }\n    },\n    {\n      \"column\": \"AMR Gene Family\",\n      \"properties\": {\n        \"dtype\": \"category\",\n        \"num_unique_values\": 515,\n        \"samples\": [\n          \"isoniazid resistant mshA\",\n          \"streptogramin vat acetyltransferase\",\n          \"SHD beta-lactamase\"\n        ],\n        \"semantic_type\": \"\",\n        \"description\": \"\"\n      }\n    },\n    {\n      \"column\": \"Drug Class\",\n      \"properties\": {\n        \"dtype\": \"category\",\n        \"num_unique_values\": 182,\n        \"samples\": [\n          \"cephalosporin;cephamycin;fluoroquinolone antibiotic;penam\",\n          \"cephalosporin;cephamycin;penam;penem\",\n          \"oxazolidinone antibiotic;phenicol antibiotic\"\n        ],\n        \"semantic_type\": \"\",\n        \"description\": \"\"\n      }\n    },\n    {\n      \"column\": \"Resistance Mechanism\",\n      \"properties\": {\n        \"dtype\": \"category\",\n        \"num_unique_values\": 15,\n        \"samples\": [\n          \"antibiotic efflux;antibiotic target alteration;reduced permeability to antibiotic\",\n          \"antibiotic efflux;reduced permeability to antibiotic\",\n          \"antibiotic target alteration\"\n        ],\n        \"semantic_type\": \"\",\n        \"description\": \"\"\n      }\n    },\n    {\n      \"column\": \"CARD Short Name\",\n      \"properties\": {\n        \"dtype\": \"string\",\n        \"num_unique_values\": 5222,\n        \"samples\": [\n          \"ADC-53\",\n          \"Mtub_tlyA_AMG\",\n          \"AAC(3)-IVb\"\n        ],\n        \"semantic_type\": \"\",\n        \"description\": \"\"\n      }\n    }\n  ]\n}"
            }
          },
          "metadata": {},
          "execution_count": 29
        }
      ]
    },
    {
      "cell_type": "code",
      "source": [
        "card_df.loc[card_df['ARO Accession'] == 'ARO:3003841']"
      ],
      "metadata": {
        "colab": {
          "base_uri": "https://localhost:8080/",
          "height": 115
        },
        "id": "SQUg-cO5-RMv",
        "outputId": "6e227a07-0c13-4adf-c57a-ef0a2bed3348"
      },
      "execution_count": null,
      "outputs": [
        {
          "output_type": "execute_result",
          "data": {
            "text/plain": [
              "     ARO Accession  CVTERM ID  Model Sequence ID  Model ID Model Name  \\\n",
              "1906   ARO:3003841      40534               5205      2331       kdpE   \n",
              "\n",
              "     ARO Name Protein Accession DNA Accession AMR Gene Family  \\\n",
              "1906     kdpE        AAC73788.1      U00096.3           kdpDE   \n",
              "\n",
              "                     Drug Class Resistance Mechanism CARD Short Name  \n",
              "1906  aminoglycoside antibiotic    antibiotic efflux            kdpE  "
            ],
            "text/html": [
              "\n",
              "  <div id=\"df-9d431c14-d06b-4f45-9024-c900b8f31070\" class=\"colab-df-container\">\n",
              "    <div>\n",
              "<style scoped>\n",
              "    .dataframe tbody tr th:only-of-type {\n",
              "        vertical-align: middle;\n",
              "    }\n",
              "\n",
              "    .dataframe tbody tr th {\n",
              "        vertical-align: top;\n",
              "    }\n",
              "\n",
              "    .dataframe thead th {\n",
              "        text-align: right;\n",
              "    }\n",
              "</style>\n",
              "<table border=\"1\" class=\"dataframe\">\n",
              "  <thead>\n",
              "    <tr style=\"text-align: right;\">\n",
              "      <th></th>\n",
              "      <th>ARO Accession</th>\n",
              "      <th>CVTERM ID</th>\n",
              "      <th>Model Sequence ID</th>\n",
              "      <th>Model ID</th>\n",
              "      <th>Model Name</th>\n",
              "      <th>ARO Name</th>\n",
              "      <th>Protein Accession</th>\n",
              "      <th>DNA Accession</th>\n",
              "      <th>AMR Gene Family</th>\n",
              "      <th>Drug Class</th>\n",
              "      <th>Resistance Mechanism</th>\n",
              "      <th>CARD Short Name</th>\n",
              "    </tr>\n",
              "  </thead>\n",
              "  <tbody>\n",
              "    <tr>\n",
              "      <th>1906</th>\n",
              "      <td>ARO:3003841</td>\n",
              "      <td>40534</td>\n",
              "      <td>5205</td>\n",
              "      <td>2331</td>\n",
              "      <td>kdpE</td>\n",
              "      <td>kdpE</td>\n",
              "      <td>AAC73788.1</td>\n",
              "      <td>U00096.3</td>\n",
              "      <td>kdpDE</td>\n",
              "      <td>aminoglycoside antibiotic</td>\n",
              "      <td>antibiotic efflux</td>\n",
              "      <td>kdpE</td>\n",
              "    </tr>\n",
              "  </tbody>\n",
              "</table>\n",
              "</div>\n",
              "    <div class=\"colab-df-buttons\">\n",
              "\n",
              "  <div class=\"colab-df-container\">\n",
              "    <button class=\"colab-df-convert\" onclick=\"convertToInteractive('df-9d431c14-d06b-4f45-9024-c900b8f31070')\"\n",
              "            title=\"Convert this dataframe to an interactive table.\"\n",
              "            style=\"display:none;\">\n",
              "\n",
              "  <svg xmlns=\"http://www.w3.org/2000/svg\" height=\"24px\" viewBox=\"0 -960 960 960\">\n",
              "    <path d=\"M120-120v-720h720v720H120Zm60-500h600v-160H180v160Zm220 220h160v-160H400v160Zm0 220h160v-160H400v160ZM180-400h160v-160H180v160Zm440 0h160v-160H620v160ZM180-180h160v-160H180v160Zm440 0h160v-160H620v160Z\"/>\n",
              "  </svg>\n",
              "    </button>\n",
              "\n",
              "  <style>\n",
              "    .colab-df-container {\n",
              "      display:flex;\n",
              "      gap: 12px;\n",
              "    }\n",
              "\n",
              "    .colab-df-convert {\n",
              "      background-color: #E8F0FE;\n",
              "      border: none;\n",
              "      border-radius: 50%;\n",
              "      cursor: pointer;\n",
              "      display: none;\n",
              "      fill: #1967D2;\n",
              "      height: 32px;\n",
              "      padding: 0 0 0 0;\n",
              "      width: 32px;\n",
              "    }\n",
              "\n",
              "    .colab-df-convert:hover {\n",
              "      background-color: #E2EBFA;\n",
              "      box-shadow: 0px 1px 2px rgba(60, 64, 67, 0.3), 0px 1px 3px 1px rgba(60, 64, 67, 0.15);\n",
              "      fill: #174EA6;\n",
              "    }\n",
              "\n",
              "    .colab-df-buttons div {\n",
              "      margin-bottom: 4px;\n",
              "    }\n",
              "\n",
              "    [theme=dark] .colab-df-convert {\n",
              "      background-color: #3B4455;\n",
              "      fill: #D2E3FC;\n",
              "    }\n",
              "\n",
              "    [theme=dark] .colab-df-convert:hover {\n",
              "      background-color: #434B5C;\n",
              "      box-shadow: 0px 1px 3px 1px rgba(0, 0, 0, 0.15);\n",
              "      filter: drop-shadow(0px 1px 2px rgba(0, 0, 0, 0.3));\n",
              "      fill: #FFFFFF;\n",
              "    }\n",
              "  </style>\n",
              "\n",
              "    <script>\n",
              "      const buttonEl =\n",
              "        document.querySelector('#df-9d431c14-d06b-4f45-9024-c900b8f31070 button.colab-df-convert');\n",
              "      buttonEl.style.display =\n",
              "        google.colab.kernel.accessAllowed ? 'block' : 'none';\n",
              "\n",
              "      async function convertToInteractive(key) {\n",
              "        const element = document.querySelector('#df-9d431c14-d06b-4f45-9024-c900b8f31070');\n",
              "        const dataTable =\n",
              "          await google.colab.kernel.invokeFunction('convertToInteractive',\n",
              "                                                    [key], {});\n",
              "        if (!dataTable) return;\n",
              "\n",
              "        const docLinkHtml = 'Like what you see? Visit the ' +\n",
              "          '<a target=\"_blank\" href=https://colab.research.google.com/notebooks/data_table.ipynb>data table notebook</a>'\n",
              "          + ' to learn more about interactive tables.';\n",
              "        element.innerHTML = '';\n",
              "        dataTable['output_type'] = 'display_data';\n",
              "        await google.colab.output.renderOutput(dataTable, element);\n",
              "        const docLink = document.createElement('div');\n",
              "        docLink.innerHTML = docLinkHtml;\n",
              "        element.appendChild(docLink);\n",
              "      }\n",
              "    </script>\n",
              "  </div>\n",
              "\n",
              "\n",
              "    </div>\n",
              "  </div>\n"
            ],
            "application/vnd.google.colaboratory.intrinsic+json": {
              "type": "dataframe",
              "summary": "{\n  \"name\": \"card_df\",\n  \"rows\": 1,\n  \"fields\": [\n    {\n      \"column\": \"ARO Accession\",\n      \"properties\": {\n        \"dtype\": \"string\",\n        \"num_unique_values\": 1,\n        \"samples\": [\n          \"ARO:3003841\"\n        ],\n        \"semantic_type\": \"\",\n        \"description\": \"\"\n      }\n    },\n    {\n      \"column\": \"CVTERM ID\",\n      \"properties\": {\n        \"dtype\": \"number\",\n        \"std\": null,\n        \"min\": 40534,\n        \"max\": 40534,\n        \"num_unique_values\": 1,\n        \"samples\": [\n          40534\n        ],\n        \"semantic_type\": \"\",\n        \"description\": \"\"\n      }\n    },\n    {\n      \"column\": \"Model Sequence ID\",\n      \"properties\": {\n        \"dtype\": \"number\",\n        \"std\": null,\n        \"min\": 5205,\n        \"max\": 5205,\n        \"num_unique_values\": 1,\n        \"samples\": [\n          5205\n        ],\n        \"semantic_type\": \"\",\n        \"description\": \"\"\n      }\n    },\n    {\n      \"column\": \"Model ID\",\n      \"properties\": {\n        \"dtype\": \"number\",\n        \"std\": null,\n        \"min\": 2331,\n        \"max\": 2331,\n        \"num_unique_values\": 1,\n        \"samples\": [\n          2331\n        ],\n        \"semantic_type\": \"\",\n        \"description\": \"\"\n      }\n    },\n    {\n      \"column\": \"Model Name\",\n      \"properties\": {\n        \"dtype\": \"string\",\n        \"num_unique_values\": 1,\n        \"samples\": [\n          \"kdpE\"\n        ],\n        \"semantic_type\": \"\",\n        \"description\": \"\"\n      }\n    },\n    {\n      \"column\": \"ARO Name\",\n      \"properties\": {\n        \"dtype\": \"string\",\n        \"num_unique_values\": 1,\n        \"samples\": [\n          \"kdpE\"\n        ],\n        \"semantic_type\": \"\",\n        \"description\": \"\"\n      }\n    },\n    {\n      \"column\": \"Protein Accession\",\n      \"properties\": {\n        \"dtype\": \"string\",\n        \"num_unique_values\": 1,\n        \"samples\": [\n          \"AAC73788.1\"\n        ],\n        \"semantic_type\": \"\",\n        \"description\": \"\"\n      }\n    },\n    {\n      \"column\": \"DNA Accession\",\n      \"properties\": {\n        \"dtype\": \"string\",\n        \"num_unique_values\": 1,\n        \"samples\": [\n          \"U00096.3\"\n        ],\n        \"semantic_type\": \"\",\n        \"description\": \"\"\n      }\n    },\n    {\n      \"column\": \"AMR Gene Family\",\n      \"properties\": {\n        \"dtype\": \"string\",\n        \"num_unique_values\": 1,\n        \"samples\": [\n          \"kdpDE\"\n        ],\n        \"semantic_type\": \"\",\n        \"description\": \"\"\n      }\n    },\n    {\n      \"column\": \"Drug Class\",\n      \"properties\": {\n        \"dtype\": \"string\",\n        \"num_unique_values\": 1,\n        \"samples\": [\n          \"aminoglycoside antibiotic\"\n        ],\n        \"semantic_type\": \"\",\n        \"description\": \"\"\n      }\n    },\n    {\n      \"column\": \"Resistance Mechanism\",\n      \"properties\": {\n        \"dtype\": \"string\",\n        \"num_unique_values\": 1,\n        \"samples\": [\n          \"antibiotic efflux\"\n        ],\n        \"semantic_type\": \"\",\n        \"description\": \"\"\n      }\n    },\n    {\n      \"column\": \"CARD Short Name\",\n      \"properties\": {\n        \"dtype\": \"string\",\n        \"num_unique_values\": 1,\n        \"samples\": [\n          \"kdpE\"\n        ],\n        \"semantic_type\": \"\",\n        \"description\": \"\"\n      }\n    }\n  ]\n}"
            }
          },
          "metadata": {},
          "execution_count": 30
        }
      ]
    },
    {
      "cell_type": "markdown",
      "source": [
        "## Analysis"
      ],
      "metadata": {
        "id": "r_31SXiMU-c3"
      }
    },
    {
      "cell_type": "markdown",
      "source": [
        "#### Antibiotic resistance genes"
      ],
      "metadata": {
        "id": "OBDwe1Afc7Tl"
      }
    },
    {
      "cell_type": "code",
      "source": [
        "! mkdir ./found_ARs"
      ],
      "metadata": {
        "id": "tkUZ7Au_dAvh"
      },
      "execution_count": null,
      "outputs": []
    },
    {
      "cell_type": "code",
      "source": [
        "from Bio import SeqIO"
      ],
      "metadata": {
        "id": "o-10-tyj02iC"
      },
      "execution_count": null,
      "outputs": []
    },
    {
      "cell_type": "code",
      "source": [
        "df_AR_len = dict()\n",
        "\"\"\"\n",
        "key: record.id\n",
        "value: len(str(record.seq))\n",
        "\"\"\"\n",
        "with open(\"nucleotide_fasta_protein_homolog_model.fasta\") as handle:\n",
        "    for record in SeqIO.parse(handle, \"fasta\"):\n",
        "        key = record.id.split(' [')[0]\n",
        "        df_AR_len[key] = len(str(record.seq))"
      ],
      "metadata": {
        "id": "Oe3cOrl1f1Pp"
      },
      "execution_count": null,
      "outputs": []
    },
    {
      "cell_type": "code",
      "source": [
        "annotated_files = os.listdir('./coding_sequences')\n",
        "indir = './coding_sequences/'\n",
        "outdir = './found_ARs/'\n",
        "isolate_count = 0\n",
        "for ffn in annotated_files:\n",
        "    isolate_count += 1\n",
        "    in_name = indir + ffn\n",
        "    out_nameRAW = outdir + 'ARs_raw_' + ffn\n",
        "    out_nameRAW = out_nameRAW.replace('.fasta', '.csv')\n",
        "    subprocess.run(f'blastn -db ./nucleotide_fasta_protein_homolog_model.fasta -query {in_name} -outfmt \"6 qseqid sseqid pident ppos length qstart qend sstart send evalue qcovs\" | sort -n -r -k 10 > {out_nameRAW}', shell=True)\n",
        "    out_nameFiltered = out_nameRAW.replace('raw', 'filtered')\n",
        "    out_nameFiltered = out_nameFiltered.replace('.csv', '.xlsx')\n",
        "\n",
        "    dfRAW = pd.read_csv(out_nameRAW, sep = '\\t', names = ['qseqid', 'sseqid', 'pident', 'ppos',\n",
        "                                                          'len', 'qstart', 'qend', 'sstart',\n",
        "                                                          'send', 'evalue', 'qcov'])\n",
        "    raw_qseqid_l = list()\n",
        "    raw_sseqid_l = list()\n",
        "    raw_pident_l = list()\n",
        "    raw_ppos_l = list()\n",
        "    raw_len_l = list()\n",
        "    raw_qstart_l = list()\n",
        "    raw_qend_l = list()\n",
        "    raw_sstart_l = list()\n",
        "    raw_send_l = list()\n",
        "    raw_evalue_l = list()\n",
        "    raw_scov_l = list()\n",
        "\n",
        "    for i in range(len(dfRAW)): # Long et al 2023 evalue <= 1e-06, scov >= 80%\n",
        "        row = dfRAW.iloc[i]\n",
        "        slen = df_AR_len[row['sseqid']]\n",
        "        scov = (row['len']/slen) * 100\n",
        "\n",
        "        if (row['evalue'] <= 0.000001) and (row['pident'] >= 80) and (scov >= 80):\n",
        "            raw_qseqid_l.append(row['qseqid'])\n",
        "            raw_sseqid_l.append(row['sseqid'])\n",
        "            raw_pident_l.append(row['pident'])\n",
        "            raw_ppos_l.append(row['ppos'])\n",
        "            raw_len_l.append(row['len'])\n",
        "            raw_qstart_l.append(row['qstart'])\n",
        "            raw_qend_l.append(row['qend'])\n",
        "            raw_sstart_l.append(row['sstart'])\n",
        "            raw_send_l.append(row['send'])\n",
        "            raw_evalue_l.append(row['evalue'])\n",
        "            raw_scov_l.append(scov)\n",
        "\n",
        "    df_filtered = pd.DataFrame(list(zip(raw_qseqid_l, raw_sseqid_l, raw_pident_l, raw_ppos_l,\n",
        "                                        raw_len_l, raw_qstart_l, raw_qend_l, raw_sstart_l,\n",
        "                                        raw_send_l, raw_evalue_l, raw_scov_l)),\n",
        "                               columns =['qseqid', 'sseqid', 'pident', 'ppos',\n",
        "                                         'len', 'qstart', 'qend', 'sstart', 'send',\n",
        "                                         'evalue', 'scov'])\n",
        "\n",
        "    max_ppos = dict()\n",
        "    \"\"\"\n",
        "   # key: qseqid\n",
        "   # value: [sseqid, ppos, row]\n",
        "   # hits with the highest ppos are stored\n",
        "    \"\"\"\n",
        "    for i in range(len(df_filtered)):\n",
        "        row = df_filtered.iloc[i]\n",
        "        qseqid = row['qseqid']\n",
        "        sseqid = row['sseqid']\n",
        "        ppos = row['ppos']\n",
        "        temp_l = [sseqid, ppos, row]\n",
        "        if qseqid not in max_ppos:\n",
        "            max_ppos[qseqid] = temp_l\n",
        "        else:\n",
        "            if ppos > max_ppos[qseqid][1]:\n",
        "                max_ppos[qseqid] = temp_l\n",
        "\n",
        "    qseqid_l = list()\n",
        "    sseqid_l = list()\n",
        "    pident_l = list()\n",
        "    ppos_l = list()\n",
        "    len_l = list()\n",
        "    qstart_l = list()\n",
        "    qend_l = list()\n",
        "    sstart_l = list()\n",
        "    send_l = list()\n",
        "    evalue_l = list()\n",
        "    scov_l = list()\n",
        "\n",
        "    for key in max_ppos.keys():\n",
        "        row = max_ppos[key][2]\n",
        "\n",
        "        qseqid_l.append(row['qseqid'])\n",
        "        sseqid_l.append(row['sseqid'])\n",
        "        pident_l.append(row['pident'])\n",
        "        ppos_l.append(row['ppos'])\n",
        "        len_l.append(row['len'])\n",
        "        qstart_l.append(row['qstart'])\n",
        "        qend_l.append(row['qend'])\n",
        "        sstart_l.append(row['sstart'])\n",
        "        send_l.append(row['send'])\n",
        "        evalue_l.append(row['evalue'])\n",
        "        scov_l.append(row['scov'])\n",
        "\n",
        "    df_filtered_maxPos = pd.DataFrame(list(zip(qseqid_l, sseqid_l, pident_l, ppos_l,\n",
        "                                        len_l, qstart_l, qend_l, sstart_l,\n",
        "                                        send_l, evalue_l, scov_l)),\n",
        "                               columns =['qseqid', 'sseqid', 'pident', 'ppos',\n",
        "                                         'len', 'qstart', 'qend', 'sstart', 'send',\n",
        "                                         'evalue', 'scov'])\n",
        "\n",
        "    df_filtered_maxPos.to_excel(out_nameFiltered)\n",
        "    subprocess.run(f'rm {out_nameRAW}', shell=True)\n",
        "    print(f'isolate {ffn} ready!')\n",
        "    print(f'isolate count: {isolate_count}')"
      ],
      "metadata": {
        "id": "8ftrdymidAe6"
      },
      "execution_count": null,
      "outputs": []
    },
    {
      "cell_type": "code",
      "source": [
        "! zip -r ./found_ARs.zip ./found_ARs"
      ],
      "metadata": {
        "id": "fck-xh2Zh3kg"
      },
      "execution_count": null,
      "outputs": []
    },
    {
      "cell_type": "markdown",
      "source": [
        "#### Insertion sequences"
      ],
      "metadata": {
        "id": "JCpjk5UfdBVV"
      }
    },
    {
      "cell_type": "code",
      "source": [
        "AR_files = os.listdir('./found_ARs')"
      ],
      "metadata": {
        "id": "JEB7qXKu_Hkm"
      },
      "execution_count": null,
      "outputs": []
    },
    {
      "cell_type": "code",
      "source": [
        "temp_df = pd.read_excel(f'./found_ARs/{AR_files[0]}', index_col = 0)"
      ],
      "metadata": {
        "id": "rcU1zrxs_NA_"
      },
      "execution_count": null,
      "outputs": []
    },
    {
      "cell_type": "code",
      "source": [
        "temp_df.head(1)"
      ],
      "metadata": {
        "colab": {
          "base_uri": "https://localhost:8080/",
          "height": 81
        },
        "id": "-ufyXflh_maP",
        "outputId": "36930e75-d9ac-4345-f4fa-633c01093067"
      },
      "execution_count": null,
      "outputs": [
        {
          "output_type": "execute_result",
          "data": {
            "text/plain": [
              "                                   qseqid  \\\n",
              "0  lcl|RZAH01000003.1_cds_TFS78035.1_2787   \n",
              "\n",
              "                                        sseqid  pident   ppos  len  qstart  \\\n",
              "0  gb|Z11877.1|+|485-818|ARO:3004039|Ecol_emrE  91.892  91.89  333       1   \n",
              "\n",
              "   qend  sstart  send         evalue   scov  \n",
              "0   333       1   333  5.380000e-132  100.0  "
            ],
            "text/html": [
              "\n",
              "  <div id=\"df-d21f5299-2add-4053-90b5-979587f56e2c\" class=\"colab-df-container\">\n",
              "    <div>\n",
              "<style scoped>\n",
              "    .dataframe tbody tr th:only-of-type {\n",
              "        vertical-align: middle;\n",
              "    }\n",
              "\n",
              "    .dataframe tbody tr th {\n",
              "        vertical-align: top;\n",
              "    }\n",
              "\n",
              "    .dataframe thead th {\n",
              "        text-align: right;\n",
              "    }\n",
              "</style>\n",
              "<table border=\"1\" class=\"dataframe\">\n",
              "  <thead>\n",
              "    <tr style=\"text-align: right;\">\n",
              "      <th></th>\n",
              "      <th>qseqid</th>\n",
              "      <th>sseqid</th>\n",
              "      <th>pident</th>\n",
              "      <th>ppos</th>\n",
              "      <th>len</th>\n",
              "      <th>qstart</th>\n",
              "      <th>qend</th>\n",
              "      <th>sstart</th>\n",
              "      <th>send</th>\n",
              "      <th>evalue</th>\n",
              "      <th>scov</th>\n",
              "    </tr>\n",
              "  </thead>\n",
              "  <tbody>\n",
              "    <tr>\n",
              "      <th>0</th>\n",
              "      <td>lcl|RZAH01000003.1_cds_TFS78035.1_2787</td>\n",
              "      <td>gb|Z11877.1|+|485-818|ARO:3004039|Ecol_emrE</td>\n",
              "      <td>91.892</td>\n",
              "      <td>91.89</td>\n",
              "      <td>333</td>\n",
              "      <td>1</td>\n",
              "      <td>333</td>\n",
              "      <td>1</td>\n",
              "      <td>333</td>\n",
              "      <td>5.380000e-132</td>\n",
              "      <td>100.0</td>\n",
              "    </tr>\n",
              "  </tbody>\n",
              "</table>\n",
              "</div>\n",
              "    <div class=\"colab-df-buttons\">\n",
              "\n",
              "  <div class=\"colab-df-container\">\n",
              "    <button class=\"colab-df-convert\" onclick=\"convertToInteractive('df-d21f5299-2add-4053-90b5-979587f56e2c')\"\n",
              "            title=\"Convert this dataframe to an interactive table.\"\n",
              "            style=\"display:none;\">\n",
              "\n",
              "  <svg xmlns=\"http://www.w3.org/2000/svg\" height=\"24px\" viewBox=\"0 -960 960 960\">\n",
              "    <path d=\"M120-120v-720h720v720H120Zm60-500h600v-160H180v160Zm220 220h160v-160H400v160Zm0 220h160v-160H400v160ZM180-400h160v-160H180v160Zm440 0h160v-160H620v160ZM180-180h160v-160H180v160Zm440 0h160v-160H620v160Z\"/>\n",
              "  </svg>\n",
              "    </button>\n",
              "\n",
              "  <style>\n",
              "    .colab-df-container {\n",
              "      display:flex;\n",
              "      gap: 12px;\n",
              "    }\n",
              "\n",
              "    .colab-df-convert {\n",
              "      background-color: #E8F0FE;\n",
              "      border: none;\n",
              "      border-radius: 50%;\n",
              "      cursor: pointer;\n",
              "      display: none;\n",
              "      fill: #1967D2;\n",
              "      height: 32px;\n",
              "      padding: 0 0 0 0;\n",
              "      width: 32px;\n",
              "    }\n",
              "\n",
              "    .colab-df-convert:hover {\n",
              "      background-color: #E2EBFA;\n",
              "      box-shadow: 0px 1px 2px rgba(60, 64, 67, 0.3), 0px 1px 3px 1px rgba(60, 64, 67, 0.15);\n",
              "      fill: #174EA6;\n",
              "    }\n",
              "\n",
              "    .colab-df-buttons div {\n",
              "      margin-bottom: 4px;\n",
              "    }\n",
              "\n",
              "    [theme=dark] .colab-df-convert {\n",
              "      background-color: #3B4455;\n",
              "      fill: #D2E3FC;\n",
              "    }\n",
              "\n",
              "    [theme=dark] .colab-df-convert:hover {\n",
              "      background-color: #434B5C;\n",
              "      box-shadow: 0px 1px 3px 1px rgba(0, 0, 0, 0.15);\n",
              "      filter: drop-shadow(0px 1px 2px rgba(0, 0, 0, 0.3));\n",
              "      fill: #FFFFFF;\n",
              "    }\n",
              "  </style>\n",
              "\n",
              "    <script>\n",
              "      const buttonEl =\n",
              "        document.querySelector('#df-d21f5299-2add-4053-90b5-979587f56e2c button.colab-df-convert');\n",
              "      buttonEl.style.display =\n",
              "        google.colab.kernel.accessAllowed ? 'block' : 'none';\n",
              "\n",
              "      async function convertToInteractive(key) {\n",
              "        const element = document.querySelector('#df-d21f5299-2add-4053-90b5-979587f56e2c');\n",
              "        const dataTable =\n",
              "          await google.colab.kernel.invokeFunction('convertToInteractive',\n",
              "                                                    [key], {});\n",
              "        if (!dataTable) return;\n",
              "\n",
              "        const docLinkHtml = 'Like what you see? Visit the ' +\n",
              "          '<a target=\"_blank\" href=https://colab.research.google.com/notebooks/data_table.ipynb>data table notebook</a>'\n",
              "          + ' to learn more about interactive tables.';\n",
              "        element.innerHTML = '';\n",
              "        dataTable['output_type'] = 'display_data';\n",
              "        await google.colab.output.renderOutput(dataTable, element);\n",
              "        const docLink = document.createElement('div');\n",
              "        docLink.innerHTML = docLinkHtml;\n",
              "        element.appendChild(docLink);\n",
              "      }\n",
              "    </script>\n",
              "  </div>\n",
              "\n",
              "\n",
              "    </div>\n",
              "  </div>\n"
            ],
            "application/vnd.google.colaboratory.intrinsic+json": {
              "type": "dataframe",
              "variable_name": "temp_df",
              "summary": "{\n  \"name\": \"temp_df\",\n  \"rows\": 50,\n  \"fields\": [\n    {\n      \"column\": \"qseqid\",\n      \"properties\": {\n        \"dtype\": \"string\",\n        \"num_unique_values\": 50,\n        \"samples\": [\n          \"lcl|RZAH01000006.1_cds_TFS74412.1_3892\",\n          \"lcl|RZAH01000001.1_cds_TFS81028.1_1342\",\n          \"lcl|RZAH01000002.1_cds_TFS79149.1_2184\"\n        ],\n        \"semantic_type\": \"\",\n        \"description\": \"\"\n      }\n    },\n    {\n      \"column\": \"sseqid\",\n      \"properties\": {\n        \"dtype\": \"string\",\n        \"num_unique_values\": 46,\n        \"samples\": [\n          \"gb|CP000800.1|-|1191727-1192954|ARO:3001329|mdtG\",\n          \"gb|U00096.1|-|2098446-2099613|ARO:3003577|ugd\",\n          \"gb|U00096.1|+|2154015-2155263|ARO:3000792|mdtA\"\n        ],\n        \"semantic_type\": \"\",\n        \"description\": \"\"\n      }\n    },\n    {\n      \"column\": \"pident\",\n      \"properties\": {\n        \"dtype\": \"number\",\n        \"std\": 2.9180535533824887,\n        \"min\": 83.94,\n        \"max\": 100.0,\n        \"num_unique_values\": 45,\n        \"samples\": [\n          83.94,\n          89.601,\n          95.753\n        ],\n        \"semantic_type\": \"\",\n        \"description\": \"\"\n      }\n    },\n    {\n      \"column\": \"ppos\",\n      \"properties\": {\n        \"dtype\": \"number\",\n        \"std\": 2.918104640666191,\n        \"min\": 83.94,\n        \"max\": 100.0,\n        \"num_unique_values\": 44,\n        \"samples\": [\n          98.37,\n          98.96,\n          89.6\n        ],\n        \"semantic_type\": \"\",\n        \"description\": \"\"\n      }\n    },\n    {\n      \"column\": \"len\",\n      \"properties\": {\n        \"dtype\": \"number\",\n        \"std\": 842,\n        \"min\": 333,\n        \"max\": 3594,\n        \"num_unique_values\": 43,\n        \"samples\": [\n          1071,\n          952,\n          1248\n        ],\n        \"semantic_type\": \"\",\n        \"description\": \"\"\n      }\n    },\n    {\n      \"column\": \"qstart\",\n      \"properties\": {\n        \"dtype\": \"number\",\n        \"std\": 33,\n        \"min\": 1,\n        \"max\": 218,\n        \"num_unique_values\": 3,\n        \"samples\": [\n          1,\n          218,\n          109\n        ],\n        \"semantic_type\": \"\",\n        \"description\": \"\"\n      }\n    },\n    {\n      \"column\": \"qend\",\n      \"properties\": {\n        \"dtype\": \"number\",\n        \"std\": 840,\n        \"min\": 333,\n        \"max\": 3594,\n        \"num_unique_values\": 42,\n        \"samples\": [\n          1248,\n          1032,\n          663\n        ],\n        \"semantic_type\": \"\",\n        \"description\": \"\"\n      }\n    },\n    {\n      \"column\": \"sstart\",\n      \"properties\": {\n        \"dtype\": \"number\",\n        \"std\": 31,\n        \"min\": 1,\n        \"max\": 218,\n        \"num_unique_values\": 4,\n        \"samples\": [\n          7,\n          55,\n          1\n        ],\n        \"semantic_type\": \"\",\n        \"description\": \"\"\n      }\n    },\n    {\n      \"column\": \"send\",\n      \"properties\": {\n        \"dtype\": \"number\",\n        \"std\": 840,\n        \"min\": 333,\n        \"max\": 3594,\n        \"num_unique_values\": 42,\n        \"samples\": [\n          1248,\n          1032,\n          663\n        ],\n        \"semantic_type\": \"\",\n        \"description\": \"\"\n      }\n    },\n    {\n      \"column\": \"evalue\",\n      \"properties\": {\n        \"dtype\": \"number\",\n        \"std\": 7.608468965567253e-133,\n        \"min\": 0.0,\n        \"max\": 5.38e-132,\n        \"num_unique_values\": 3,\n        \"samples\": [\n          5.38e-132,\n          2.36e-170,\n          0.0\n        ],\n        \"semantic_type\": \"\",\n        \"description\": \"\"\n      }\n    },\n    {\n      \"column\": \"scov\",\n      \"properties\": {\n        \"dtype\": \"number\",\n        \"std\": 2.676180385458907,\n        \"min\": 81.57669237360754,\n        \"max\": 100.0608272506083,\n        \"num_unique_values\": 8,\n        \"samples\": [\n          99.56331877729258,\n          100.0608272506083,\n          100.0\n        ],\n        \"semantic_type\": \"\",\n        \"description\": \"\"\n      }\n    }\n  ]\n}"
            }
          },
          "metadata": {},
          "execution_count": 37
        }
      ]
    },
    {
      "cell_type": "code",
      "source": [
        "! mkdir ./found_ISs"
      ],
      "metadata": {
        "id": "XQoZpts0VgUE"
      },
      "execution_count": null,
      "outputs": []
    },
    {
      "cell_type": "code",
      "source": [
        "annotated_files = os.listdir('./coding_sequences')\n",
        "indir = './coding_sequences/'\n",
        "outdir = './found_ISs/'\n",
        "for ffn in annotated_files:\n",
        "    in_name = indir + ffn\n",
        "    out_nameRAW = outdir + 'ISs_raw_' + ffn\n",
        "    out_nameRAW = out_nameRAW.replace('.fasta', '.csv')\n",
        "    subprocess.run(f'blastn -db ./IS.fna -query {in_name} -outfmt \\\"6 qseqid sseqid pident ppos length qstart qend sstart send evalue qcovs\\\" | sort -n -r -k 10 > {out_nameRAW}', shell=True)\n",
        "    out_nameFiltered = out_nameRAW.replace('raw', 'filtered')\n",
        "    out_nameFiltered = out_nameFiltered.replace('.csv', '.xlsx')\n",
        "\n",
        "    dfRAW = pd.read_csv(out_nameRAW, sep = '\\\\t', names = ['qseqid', 'sseqid', 'pident', 'ppos',\n",
        "                                                          'len', 'qstart', 'qend', 'sstart',\n",
        "                                                          'send', 'evalue', 'qcov'])\n",
        "\n",
        "    raw_qseqid_l = list()\n",
        "    raw_sseqid_l = list()\n",
        "    raw_pident_l = list()\n",
        "    raw_ppos_l = list()\n",
        "    raw_len_l = list()\n",
        "    raw_qstart_l = list()\n",
        "    raw_qend_l = list()\n",
        "    raw_sstart_l = list()\n",
        "    raw_send_l = list()\n",
        "    raw_evalue_l = list()\n",
        "    raw_scov_l = list()\n",
        "\n",
        "    for i in range(len(dfRAW)):\n",
        "        row = dfRAW.iloc[i]\n",
        "\n",
        "        if (row['evalue'] <= 0.000001) and (row['ppos'] >= 50):\n",
        "            raw_qseqid_l.append(row['qseqid'])\n",
        "            raw_sseqid_l.append(row['sseqid'])\n",
        "            raw_pident_l.append(row['pident'])\n",
        "            raw_ppos_l.append(row['ppos'])\n",
        "            raw_len_l.append(row['len'])\n",
        "            raw_qstart_l.append(row['qstart'])\n",
        "            raw_qend_l.append(row['qend'])\n",
        "            raw_sstart_l.append(row['sstart'])\n",
        "            raw_send_l.append(row['send'])\n",
        "            raw_evalue_l.append(row['evalue'])\n",
        "\n",
        "    df_filtered = pd.DataFrame(list(zip(raw_qseqid_l, raw_sseqid_l, raw_pident_l, raw_ppos_l,\n",
        "                                        raw_len_l, raw_qstart_l, raw_qend_l, raw_sstart_l,\n",
        "                                        raw_send_l, raw_evalue_l)),\n",
        "                               columns =['qseqid', 'sseqid', 'pident', 'ppos',\n",
        "                                         'len', 'qstart', 'qend', 'sstart', 'send',\n",
        "                                         'evalue'])\n",
        "\n",
        "    min_evalue = dict()\n",
        "    \"\"\"\n",
        "    key: qseqid\n",
        "    value: [sseqid, evalue, row]\n",
        "    se almacenan hits con el sseqid de menor evalue\n",
        "    \"\"\"\n",
        "\n",
        "    for i in range(len(df_filtered)):\n",
        "        row = df_filtered.iloc[i]\n",
        "        qseqid = row['qseqid']\n",
        "        sseqid = row['sseqid']\n",
        "        evalue = float(row['evalue'])\n",
        "        temp_l = [sseqid, evalue, row]\n",
        "        if qseqid not in min_evalue:\n",
        "            min_evalue[qseqid] = temp_l\n",
        "        else:\n",
        "            if evalue < min_evalue[qseqid][1]:\n",
        "                min_evalue[qseqid] = temp_l\n",
        "\n",
        "    qseqid_l = list()\n",
        "    sseqid_l = list()\n",
        "    pident_l = list()\n",
        "    ppos_l = list()\n",
        "    len_l = list()\n",
        "    qstart_l = list()\n",
        "    qend_l = list()\n",
        "    sstart_l = list()\n",
        "    send_l = list()\n",
        "    evalue_l = list()\n",
        "\n",
        "    for key in min_evalue.keys():\n",
        "        row = min_evalue[key][2]\n",
        "\n",
        "        qseqid_l.append(row['qseqid'])\n",
        "        sseqid_l.append(row['sseqid'])\n",
        "        pident_l.append(row['pident'])\n",
        "        ppos_l.append(row['ppos'])\n",
        "        len_l.append(row['len'])\n",
        "        qstart_l.append(row['qstart'])\n",
        "        qend_l.append(row['qend'])\n",
        "        sstart_l.append(row['sstart'])\n",
        "        send_l.append(row['send'])\n",
        "        evalue_l.append(row['evalue'])\n",
        "\n",
        "        df_filtered_minEval = pd.DataFrame(list(zip(qseqid_l, sseqid_l, pident_l, ppos_l,\n",
        "                                        len_l, qstart_l, qend_l, sstart_l,\n",
        "                                        send_l, evalue_l)),\n",
        "                               columns =['qseqid', 'sseqid', 'pident', 'ppos',\n",
        "                                         'len', 'qstart', 'qend', 'sstart', 'send',\n",
        "                                         'evalue'])\n",
        "\n",
        "    df_filtered_minEval.to_excel(out_nameFiltered)\n",
        "    subprocess.run(f'rm {out_nameRAW}', shell=True)\n",
        "    print(f'isolate {ffn} ready!')"
      ],
      "metadata": {
        "id": "hXjLBYvrVGp0"
      },
      "execution_count": null,
      "outputs": []
    },
    {
      "cell_type": "code",
      "source": [
        "! zip -r ./found_ISs.zip ./found_ISs"
      ],
      "metadata": {
        "id": "T0hdDGLPQJdb"
      },
      "execution_count": null,
      "outputs": []
    }
  ]
}
